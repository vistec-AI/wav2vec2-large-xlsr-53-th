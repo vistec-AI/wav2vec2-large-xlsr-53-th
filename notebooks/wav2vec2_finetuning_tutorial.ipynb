{
 "cells": [
  {
   "cell_type": "markdown",
   "metadata": {},
   "source": [
    "# Finetune `wav2vec2` for Thai"
   ]
  },
  {
   "cell_type": "markdown",
   "metadata": {},
   "source": [
    "This notebook is adapted from [Fine-tuning Wav2Vec2 for English ASR](https://colab.research.google.com/github/patrickvonplaten/notebooks/blob/master/Fine_tuning_Wav2Vec2_for_English_ASR.ipynb) to train Thai ASR using [Common Voice Corpus 7.0](https://commonvoice.mozilla.org/en/datasets)."
   ]
  },
  {
   "cell_type": "markdown",
   "metadata": {},
   "source": [
    "## What is `wav2vec2`"
   ]
  },
  {
   "cell_type": "markdown",
   "metadata": {},
   "source": [
    "Wav2Vec2 is a pretrained model for Automatic Speech Recognition (ASR) and was released in [September 2020](https://ai.facebook.com/blog/wav2vec-20-learning-the-structure-of-speech-from-raw-audio/) by Alexei Baevski, Michael Auli, and Alex Conneau.\n",
    "\n",
    "Using a novel contrastive pretraining objective, Wav2Vec2 learns powerful speech representations from more than 50.000 hours of unlabeled speech. Similar, to [BERT's masked language modeling](http://jalammar.github.io/illustrated-bert/), the model learns contextualized speech representations by randomly masking feature vectors before passing them to a transformer network.\n",
    "\n",
    "![wav2vec2_structure](https://raw.githubusercontent.com/patrickvonplaten/scientific_images/master/wav2vec2.png)\n",
    "\n",
    "For the first time, it has been shown that pretraining, followed by fine-tuning on very little labeled speech data achieves competitive results to state-of-the-art ASR systems. Using as little as 10 minutes of labeled data, Wav2Vec2 yields a word error rate (WER) of less than 5% on the clean test set of [LibriSpeech](https://huggingface.co/datasets/librispeech_asr) - *cf.* with Table 9 of the [paper](https://arxiv.org/pdf/2006.11477.pdf)."
   ]
  },
  {
   "cell_type": "markdown",
   "metadata": {},
   "source": [
    "## Installs and Imports"
   ]
  },
  {
   "cell_type": "markdown",
   "metadata": {},
   "source": [
    "We use SageMaker Studio `Python 3 (Data Science)` image as base."
   ]
  },
  {
   "cell_type": "code",
   "execution_count": null,
   "metadata": {},
   "outputs": [],
   "source": [
    "# !curl -s https://packagecloud.io/install/repositories/github/git-lfs/script.rpm.sh | sudo bash\n",
    "# !sudo yum install git-lfs -y\n",
    "# !git lfs install"
   ]
  },
  {
   "cell_type": "code",
   "execution_count": 2,
   "metadata": {},
   "outputs": [],
   "source": [
    "%%capture\n",
    "!apt-get update\n",
    "!apt-get install --reinstall build-essential --yes"
   ]
  },
  {
   "cell_type": "code",
   "execution_count": 1,
   "metadata": {},
   "outputs": [],
   "source": [
    "%%capture\n",
    "%pip install torch==1.9.0+cpu torchvision==0.10.0+cpu torchaudio==0.9.0 -f https://download.pytorch.org/whl/torch_stable.html\n",
    "# %pip install torch==1.9.0+cu111 torchvision==0.10.0+cu111 torchaudio==0.9.0 -f https://download.pytorch.org/whl/torch_stable.html\n",
    "%pip install datasets==1.11.0\n",
    "%pip install transformers==4.9.1\n",
    "%pip install jiwer\n",
    "%pip install ipywidgets\n",
    "%pip install pythainlp==2.3.1"
   ]
  },
  {
   "cell_type": "code",
   "execution_count": 2,
   "metadata": {},
   "outputs": [],
   "source": [
    "from functools import partial\n",
    "import pandas as pd\n",
    "import numpy as np\n",
    "from datasets import (\n",
    "    load_dataset, \n",
    "    load_from_disk,\n",
    "    load_metric,)\n",
    "from datasets.filesystems import S3FileSystem\n",
    "from transformers import (\n",
    "    Wav2Vec2CTCTokenizer, \n",
    "    Wav2Vec2FeatureExtractor,\n",
    "    Wav2Vec2Processor,\n",
    "    Wav2Vec2ForCTC,\n",
    "    TrainingArguments,\n",
    "    Trainer,\n",
    ")\n",
    "import torchaudio\n",
    "import re\n",
    "import json\n",
    "from pythainlp.tokenize import word_tokenize, syllable_tokenize"
   ]
  },
  {
   "cell_type": "code",
   "execution_count": 3,
   "metadata": {},
   "outputs": [
    {
     "name": "stdout",
     "output_type": "stream",
     "text": [
      "Filesystem      Size  Used Avail Use% Mounted on\n",
      "devtmpfs         16G   76K   16G   1% /dev\n",
      "tmpfs            16G   84K   16G   1% /dev/shm\n",
      "/dev/nvme0n1p1  104G   89G   15G  87% /\n",
      "/dev/nvme1n1     98G   84M   93G   1% /home/ec2-user/SageMaker\n"
     ]
    }
   ],
   "source": [
    "!df -h"
   ]
  },
  {
   "cell_type": "markdown",
   "metadata": {},
   "source": [
    "## Data Preparation"
   ]
  },
  {
   "cell_type": "markdown",
   "metadata": {},
   "source": [
    "### Download"
   ]
  },
  {
   "cell_type": "markdown",
   "metadata": {},
   "source": [
    "Download and extract to `data/cv-corpus-7.0-2021-07-21-th/th`"
   ]
  },
  {
   "cell_type": "code",
   "execution_count": 5,
   "metadata": {},
   "outputs": [],
   "source": [
    "# !wget https://voice-prod-bundler-ee1969a6ce8178826482b88e843c335139bd3fb4.s3.amazonaws.com/cv-corpus-7.0-2021-07-21/cv-corpus-7.0-2021-07-21-th.tar.gz\n",
    "# !tar -xvf cv-corpus-7.0-2021-07-21-th.tar.gz --no-same-owner"
   ]
  },
  {
   "cell_type": "markdown",
   "metadata": {},
   "source": [
    "### Clean"
   ]
  },
  {
   "cell_type": "markdown",
   "metadata": {},
   "source": [
    "Clean the datasets as described in `cv-preprocess.ipynb` by [@tann9949](https://github.com/tann9949)."
   ]
  },
  {
   "cell_type": "markdown",
   "metadata": {},
   "source": [
    "### Load Dataset"
   ]
  },
  {
   "cell_type": "markdown",
   "metadata": {},
   "source": [
    "We use the [Common Voice Corpus 7.0](https://commonvoice.mozilla.org/en/datasets) which contains 133 validated hours of Thai (255 total hours) at 5GB. We pre-tokenize with `pythainlp.tokenize.word_tokenize`."
   ]
  },
  {
   "cell_type": "code",
   "execution_count": 3,
   "metadata": {},
   "outputs": [
    {
     "name": "stderr",
     "output_type": "stream",
     "text": [
      "Reusing dataset common_voice (/home/ec2-user/.cache/huggingface/datasets/common_voice/th/7.0.0/14bf435a174687b310ed94f56abf0198f6cc7efb5a5d945c22c83113eab67701)\n"
     ]
    },
    {
     "data": {
      "text/plain": [
       "DatasetDict({\n",
       "    train: Dataset({\n",
       "        features: ['path', 'sentence'],\n",
       "        num_rows: 86586\n",
       "    })\n",
       "    test: Dataset({\n",
       "        features: ['path', 'sentence'],\n",
       "        num_rows: 2502\n",
       "    })\n",
       "    validation: Dataset({\n",
       "        features: ['path', 'sentence'],\n",
       "        num_rows: 3027\n",
       "    })\n",
       "})"
      ]
     },
     "execution_count": 3,
     "metadata": {},
     "output_type": "execute_result"
    }
   ],
   "source": [
    "datasets = load_dataset(\"../scripts/th_common_voice_70.py\", \"th\")\n",
    "datasets"
   ]
  },
  {
   "cell_type": "code",
   "execution_count": 4,
   "metadata": {},
   "outputs": [
    {
     "data": {
      "application/vnd.jupyter.widget-view+json": {
       "model_id": "e10cb291959d4dddb26f7b8f1c6ad223",
       "version_major": 2,
       "version_minor": 0
      },
      "text/plain": [
       "  0%|          | 0/86586 [00:00<?, ?ex/s]"
      ]
     },
     "metadata": {},
     "output_type": "display_data"
    },
    {
     "data": {
      "application/vnd.jupyter.widget-view+json": {
       "model_id": "a4ff02950bd142bdad5d4039506c2d8d",
       "version_major": 2,
       "version_minor": 0
      },
      "text/plain": [
       "  0%|          | 0/2502 [00:00<?, ?ex/s]"
      ]
     },
     "metadata": {},
     "output_type": "display_data"
    },
    {
     "data": {
      "application/vnd.jupyter.widget-view+json": {
       "model_id": "765ec8de4d9343058313b5051322f1c9",
       "version_major": 2,
       "version_minor": 0
      },
      "text/plain": [
       "  0%|          | 0/3027 [00:00<?, ?ex/s]"
      ]
     },
     "metadata": {},
     "output_type": "display_data"
    }
   ],
   "source": [
    "def preprocess_data(example, tok_func = word_tokenize):\n",
    "    example['sentence'] = ' '.join(tok_func(example['sentence']))\n",
    "    return example\n",
    "\n",
    "datasets = datasets.map(preprocess_data)"
   ]
  },
  {
   "cell_type": "markdown",
   "metadata": {},
   "source": [
    "### Exploration"
   ]
  },
  {
   "cell_type": "markdown",
   "metadata": {},
   "source": [
    "#### `sentence`; transcripts"
   ]
  },
  {
   "cell_type": "code",
   "execution_count": 5,
   "metadata": {},
   "outputs": [
    {
     "data": {
      "text/html": [
       "<table border=\"1\" class=\"dataframe\">\n",
       "  <thead>\n",
       "    <tr style=\"text-align: right;\">\n",
       "      <th></th>\n",
       "      <th>sentence</th>\n",
       "    </tr>\n",
       "  </thead>\n",
       "  <tbody>\n",
       "    <tr>\n",
       "      <th>0</th>\n",
       "      <td>รายงาน สอง แผ่น นี้ ถูก เขียน ด้วย คน เดียวกัน ใช่ไหม</td>\n",
       "    </tr>\n",
       "    <tr>\n",
       "      <th>1</th>\n",
       "      <td>เดี๋ยวนี้ ฉัน พูด น้อยกว่า แต่ก่อน</td>\n",
       "    </tr>\n",
       "    <tr>\n",
       "      <th>2</th>\n",
       "      <td>มี ขาย ไหม นะ</td>\n",
       "    </tr>\n",
       "    <tr>\n",
       "      <th>3</th>\n",
       "      <td>ข้อความ นี้ มี เป้าหมาย ที่จะ รวบรวม คำศัพท์ ที่ หลากหลาย</td>\n",
       "    </tr>\n",
       "    <tr>\n",
       "      <th>4</th>\n",
       "      <td>นี่ จะ ไม่ มี วัน สำเร็จ</td>\n",
       "    </tr>\n",
       "    <tr>\n",
       "      <th>5</th>\n",
       "      <td>ปัญหา ใหม่   เตะ พร้อม</td>\n",
       "    </tr>\n",
       "    <tr>\n",
       "      <th>6</th>\n",
       "      <td>ข้าวเหนียว</td>\n",
       "    </tr>\n",
       "    <tr>\n",
       "      <th>7</th>\n",
       "      <td>บริษัท   ทวน ทอง เซอร์วิส   จำกัด</td>\n",
       "    </tr>\n",
       "    <tr>\n",
       "      <th>8</th>\n",
       "      <td>การเมือง ไม่ เจริญ สักที</td>\n",
       "    </tr>\n",
       "    <tr>\n",
       "      <th>9</th>\n",
       "      <td>เรา มา เริ่ม กัน ใหม่ อีกครั้ง แล้ว เป็นไง บ้าง</td>\n",
       "    </tr>\n",
       "    <tr>\n",
       "      <th>10</th>\n",
       "      <td>หนี้เกลื่อนกลืนกัน</td>\n",
       "    </tr>\n",
       "    <tr>\n",
       "      <th>11</th>\n",
       "      <td>คณบดี วิจิตร   ก็ ร่วมกับ มิตร ก่อตั้ง   มหาวิทยาลัย เที่ยงคืน   ศิษย์เก่า ศิลปากร ทั้งสอง</td>\n",
       "    </tr>\n",
       "    <tr>\n",
       "      <th>12</th>\n",
       "      <td>มัน เร็ว เกินไป ที่จะ บอก ได้ ว่า กลยุทธ์ นี้ จะ ได้ผล หรือไม่</td>\n",
       "    </tr>\n",
       "    <tr>\n",
       "      <th>13</th>\n",
       "      <td>ไม่ ใช่ คุณ ที่ โยน น้ำส้ม ออก ไป ใช่ไหม</td>\n",
       "    </tr>\n",
       "    <tr>\n",
       "      <th>14</th>\n",
       "      <td>การผลิต เพิ่มขึ้น เป็น สองเท่า และ เพิ่มขึ้น เป็น สี่ เท่า</td>\n",
       "    </tr>\n",
       "    <tr>\n",
       "      <th>15</th>\n",
       "      <td>ก็ ไม่ ใช่ เรื่อง ของ พวกคุณ นะ</td>\n",
       "    </tr>\n",
       "    <tr>\n",
       "      <th>16</th>\n",
       "      <td>ราชอาณาจักร ไทย</td>\n",
       "    </tr>\n",
       "    <tr>\n",
       "      <th>17</th>\n",
       "      <td>สาธุชน นั้น แล้   เลิศ ด้วย ดวงใจ</td>\n",
       "    </tr>\n",
       "    <tr>\n",
       "      <th>18</th>\n",
       "      <td>คนเรา ไม่ ควร หลงเชื่อ อะไร ง่าย   ง่าย</td>\n",
       "    </tr>\n",
       "    <tr>\n",
       "      <th>19</th>\n",
       "      <td>เขา ยังคง คิดถึง เธอ ใน เวลา ตอนเช้า</td>\n",
       "    </tr>\n",
       "  </tbody>\n",
       "</table>"
      ],
      "text/plain": [
       "<IPython.core.display.HTML object>"
      ]
     },
     "metadata": {},
     "output_type": "display_data"
    }
   ],
   "source": [
    "#show random sentences\n",
    "from datasets import ClassLabel\n",
    "import random\n",
    "import pandas as pd\n",
    "from IPython.display import display, HTML\n",
    "\n",
    "def show_random_elements(dataset, num_examples=10):\n",
    "    assert num_examples <= len(dataset), \"Can't pick more elements than there are in the dataset.\"\n",
    "    picks = []\n",
    "    for _ in range(num_examples):\n",
    "        pick = random.randint(0, len(dataset)-1)\n",
    "        while pick in picks:\n",
    "            pick = random.randint(0, len(dataset)-1)\n",
    "        picks.append(pick)\n",
    "    \n",
    "    df = pd.DataFrame(dataset[picks])\n",
    "    display(HTML(df.to_html()))\n",
    "    \n",
    "show_random_elements(datasets[\"train\"].remove_columns([\"path\"]), num_examples=20)"
   ]
  },
  {
   "cell_type": "code",
   "execution_count": 15,
   "metadata": {},
   "outputs": [
    {
     "data": {
      "text/plain": [
       "<AxesSubplot:>"
      ]
     },
     "execution_count": 15,
     "metadata": {},
     "output_type": "execute_result"
    },
    {
     "data": {
      "image/png": "[encoded data removed]",
      "text/plain": [
       "<Figure size 432x288 with 1 Axes>"
      ]
     },
     "metadata": {
      "needs_background": "light"
     },
     "output_type": "display_data"
    }
   ],
   "source": [
    "train_df = pd.DataFrame({'sentence':datasets['train']['sentence']})\n",
    "train_df['nb_words'] = train_df.sentence.map(lambda x: len(x.split()))\n",
    "train_df.nb_words.hist(bins=30)"
   ]
  },
  {
   "cell_type": "code",
   "execution_count": 19,
   "metadata": {},
   "outputs": [
    {
     "data": {
      "text/plain": [
       "<AxesSubplot:>"
      ]
     },
     "execution_count": 19,
     "metadata": {},
     "output_type": "execute_result"
    },
    {
     "data": {
      "image/png": "[encoded data removed]",
      "text/plain": [
       "<Figure size 432x288 with 1 Axes>"
      ]
     },
     "metadata": {
      "needs_background": "light"
     },
     "output_type": "display_data"
    }
   ],
   "source": [
    "validation_df = pd.DataFrame({'sentence':datasets['validation']['sentence']})\n",
    "validation_df['nb_words'] = validation_df.sentence.map(lambda x: len(x.split()))\n",
    "validation_df.nb_words.hist(bins=30)"
   ]
  },
  {
   "cell_type": "code",
   "execution_count": 20,
   "metadata": {},
   "outputs": [
    {
     "data": {
      "text/plain": [
       "<AxesSubplot:>"
      ]
     },
     "execution_count": 20,
     "metadata": {},
     "output_type": "execute_result"
    },
    {
     "data": {
      "image/png": "[encoded data removed]",
      "text/plain": [
       "<Figure size 432x288 with 1 Axes>"
      ]
     },
     "metadata": {
      "needs_background": "light"
     },
     "output_type": "display_data"
    }
   ],
   "source": [
    "test_df = pd.DataFrame({'sentence':datasets['test']['sentence']})\n",
    "test_df['nb_words'] = test_df.sentence.map(lambda x: len(x.split()))\n",
    "test_df.nb_words.hist(bins=30)"
   ]
  },
  {
   "cell_type": "markdown",
   "metadata": {},
   "source": [
    "#### `path`; mp3 files"
   ]
  },
  {
   "cell_type": "code",
   "execution_count": 50,
   "metadata": {},
   "outputs": [
    {
     "data": {
      "text/plain": [
       "<matplotlib.axes._subplots.AxesSubplot at 0x7f8ea4b21250>"
      ]
     },
     "execution_count": 50,
     "metadata": {},
     "output_type": "execute_result"
    },
    {
     "data": {
      "image/png": "[encoded data removed]",
      "text/plain": [
       "<Figure size 432x288 with 1 Axes>"
      ]
     },
     "metadata": {
      "needs_background": "light"
     },
     "output_type": "display_data"
    }
   ],
   "source": [
    "train_df = pd.DataFrame({'path':datasets['train']['path']})\n",
    "train_df['sample_rate'] = train_df.path.map(lambda x: torchaudio.info(x).sample_rate)\n",
    "train_df['num_frames'] = train_df.path.map(lambda x: torchaudio.info(x).num_frames)\n",
    "train_df['seconds'] = train_df.num_frames / train_df.sample_rate\n",
    "train_df.seconds.hist(bins=30)"
   ]
  },
  {
   "cell_type": "code",
   "execution_count": 51,
   "metadata": {},
   "outputs": [
    {
     "data": {
      "text/plain": [
       "<matplotlib.axes._subplots.AxesSubplot at 0x7f8ea4a5d210>"
      ]
     },
     "execution_count": 51,
     "metadata": {},
     "output_type": "execute_result"
    },
    {
     "data": {
      "image/png": "[encoded data removed]",
      "text/plain": [
       "<Figure size 432x288 with 1 Axes>"
      ]
     },
     "metadata": {
      "needs_background": "light"
     },
     "output_type": "display_data"
    }
   ],
   "source": [
    "validation_df = pd.DataFrame({'path':datasets['validation']['path']})\n",
    "validation_df['sample_rate'] = validation_df.path.map(lambda x: torchaudio.info(x).sample_rate)\n",
    "validation_df['num_frames'] = validation_df.path.map(lambda x: torchaudio.info(x).num_frames)\n",
    "validation_df['seconds'] = validation_df.num_frames / validation_df.sample_rate\n",
    "validation_df.seconds.hist(bins=30)"
   ]
  },
  {
   "cell_type": "code",
   "execution_count": 52,
   "metadata": {},
   "outputs": [
    {
     "data": {
      "text/plain": [
       "<matplotlib.axes._subplots.AxesSubplot at 0x7f8e9839a810>"
      ]
     },
     "execution_count": 52,
     "metadata": {},
     "output_type": "execute_result"
    },
    {
     "data": {
      "image/png": "[encoded data removed]",
      "text/plain": [
       "<Figure size 432x288 with 1 Axes>"
      ]
     },
     "metadata": {
      "needs_background": "light"
     },
     "output_type": "display_data"
    }
   ],
   "source": [
    "test_df = pd.DataFrame({'path':datasets['test']['path']})\n",
    "test_df['sample_rate'] = test_df.path.map(lambda x: torchaudio.info(x).sample_rate)\n",
    "test_df['num_frames'] = test_df.path.map(lambda x: torchaudio.info(x).num_frames)\n",
    "test_df['seconds'] = test_df.num_frames / test_df.sample_rate\n",
    "test_df.seconds.hist(bins=30)"
   ]
  },
  {
   "cell_type": "markdown",
   "metadata": {},
   "source": [
    "### Create Wav2Vec2CTCTokenizer"
   ]
  },
  {
   "cell_type": "markdown",
   "metadata": {},
   "source": [
    "[Connectionist Temporal Classification (CTC)](https://distill.pub/2017/ctc/) tokenizer is a character-level tokenizer. We uses space (denoted as `|` token) as word delimiter token and `[PAD]` as blank token. "
   ]
  },
  {
   "cell_type": "code",
   "execution_count": 22,
   "metadata": {},
   "outputs": [
    {
     "data": {
      "application/vnd.jupyter.widget-view+json": {
       "model_id": "3be5483b068f489fb84567e08aa88e21",
       "version_major": 2,
       "version_minor": 0
      },
      "text/plain": [
       "  0%|          | 0/1 [00:00<?, ?ba/s]"
      ]
     },
     "metadata": {},
     "output_type": "display_data"
    },
    {
     "data": {
      "application/vnd.jupyter.widget-view+json": {
       "model_id": "8bcffba9203b45a5ab43a18c963db8b5",
       "version_major": 2,
       "version_minor": 0
      },
      "text/plain": [
       "  0%|          | 0/1 [00:00<?, ?ba/s]"
      ]
     },
     "metadata": {},
     "output_type": "display_data"
    },
    {
     "data": {
      "application/vnd.jupyter.widget-view+json": {
       "model_id": "2922ac77498e49fdb77ac5f6ebd6e102",
       "version_major": 2,
       "version_minor": 0
      },
      "text/plain": [
       "  0%|          | 0/1 [00:00<?, ?ba/s]"
      ]
     },
     "metadata": {},
     "output_type": "display_data"
    },
    {
     "data": {
      "text/plain": [
       "(62,\n",
       " {'ฉ': 0,\n",
       "  'ฏ': 1,\n",
       "  'ศ': 2,\n",
       "  'ช': 3,\n",
       "  'ย': 4,\n",
       "  'ฝ': 5,\n",
       "  '๋': 6,\n",
       "  'พ': 7,\n",
       "  'ข': 8,\n",
       "  'ฐ': 9,\n",
       "  'ต': 10,\n",
       "  'โ': 11,\n",
       "  'อ': 12,\n",
       "  'ฑ': 13,\n",
       "  '้': 14,\n",
       "  'ท': 15,\n",
       "  'ฒ': 16,\n",
       "  'ร': 17,\n",
       "  'ถ': 18,\n",
       "  'ป': 19,\n",
       "  'า': 20,\n",
       "  'ื': 21,\n",
       "  'ก': 22,\n",
       "  '๊': 23,\n",
       "  'ม': 24,\n",
       "  'เ': 25,\n",
       "  'ฟ': 26,\n",
       "  'ภ': 27,\n",
       "  '็': 28,\n",
       "  'ุ': 29,\n",
       "  'ห': 30,\n",
       "  'ี': 31,\n",
       "  'ณ': 32,\n",
       "  ' ': 33,\n",
       "  'ั': 34,\n",
       "  'ซ': 35,\n",
       "  'ล': 36,\n",
       "  'ง': 37,\n",
       "  'ู': 38,\n",
       "  'ว': 39,\n",
       "  'ธ': 40,\n",
       "  '่': 41,\n",
       "  'ฮ': 42,\n",
       "  'น': 43,\n",
       "  'ไ': 44,\n",
       "  'ใ': 45,\n",
       "  'ิ': 46,\n",
       "  'ด': 47,\n",
       "  '์': 48,\n",
       "  'ฬ': 49,\n",
       "  'ค': 50,\n",
       "  'ึ': 51,\n",
       "  'ผ': 52,\n",
       "  'บ': 53,\n",
       "  'ฤ': 54,\n",
       "  'จ': 55,\n",
       "  'ษ': 56,\n",
       "  'ส': 57,\n",
       "  'ำ': 58,\n",
       "  'แ': 59,\n",
       "  'ะ': 60,\n",
       "  'ญ': 61})"
      ]
     },
     "execution_count": 22,
     "metadata": {},
     "output_type": "execute_result"
    }
   ],
   "source": [
    "def extract_all_chars(batch, text_col = \"sentence\"):\n",
    "    all_text = \" \".join(batch[text_col])\n",
    "    vocab = list(set(all_text))\n",
    "    return {\"vocab\": [vocab], \"all_text\": [all_text]}\n",
    "\n",
    "vocabs = datasets.map(extract_all_chars, \n",
    "                   batched=True, \n",
    "                   batch_size=-1, \n",
    "                   keep_in_memory=True, \n",
    "                   remove_columns=datasets.column_names[\"train\"])\n",
    "\n",
    "vocab_list = list(set(vocabs[\"train\"][\"vocab\"][0]) | set(vocabs[\"validation\"][\"vocab\"][0]) |set(vocabs[\"test\"][\"vocab\"][0]))\n",
    "# vocab_list = list(set(vocabs[\"train\"][\"vocab\"][0])) #strictly no leakage\n",
    "vocab_dict = {v: k for k, v in enumerate(vocab_list)}\n",
    "len(vocab_dict), vocab_dict"
   ]
  },
  {
   "cell_type": "code",
   "execution_count": 23,
   "metadata": {},
   "outputs": [],
   "source": [
    "#make space = |\n",
    "vocab_dict[\"|\"] = vocab_dict[\" \"]\n",
    "del vocab_dict[\" \"]"
   ]
  },
  {
   "cell_type": "code",
   "execution_count": 24,
   "metadata": {},
   "outputs": [
    {
     "data": {
      "text/plain": [
       "(64,\n",
       " {'ฉ': 0,\n",
       "  'ฏ': 1,\n",
       "  'ศ': 2,\n",
       "  'ช': 3,\n",
       "  'ย': 4,\n",
       "  'ฝ': 5,\n",
       "  '๋': 6,\n",
       "  'พ': 7,\n",
       "  'ข': 8,\n",
       "  'ฐ': 9,\n",
       "  'ต': 10,\n",
       "  'โ': 11,\n",
       "  'อ': 12,\n",
       "  'ฑ': 13,\n",
       "  '้': 14,\n",
       "  'ท': 15,\n",
       "  'ฒ': 16,\n",
       "  'ร': 17,\n",
       "  'ถ': 18,\n",
       "  'ป': 19,\n",
       "  'า': 20,\n",
       "  'ื': 21,\n",
       "  'ก': 22,\n",
       "  '๊': 23,\n",
       "  'ม': 24,\n",
       "  'เ': 25,\n",
       "  'ฟ': 26,\n",
       "  'ภ': 27,\n",
       "  '็': 28,\n",
       "  'ุ': 29,\n",
       "  'ห': 30,\n",
       "  'ี': 31,\n",
       "  'ณ': 32,\n",
       "  'ั': 34,\n",
       "  'ซ': 35,\n",
       "  'ล': 36,\n",
       "  'ง': 37,\n",
       "  'ู': 38,\n",
       "  'ว': 39,\n",
       "  'ธ': 40,\n",
       "  '่': 41,\n",
       "  'ฮ': 42,\n",
       "  'น': 43,\n",
       "  'ไ': 44,\n",
       "  'ใ': 45,\n",
       "  'ิ': 46,\n",
       "  'ด': 47,\n",
       "  '์': 48,\n",
       "  'ฬ': 49,\n",
       "  'ค': 50,\n",
       "  'ึ': 51,\n",
       "  'ผ': 52,\n",
       "  'บ': 53,\n",
       "  'ฤ': 54,\n",
       "  'จ': 55,\n",
       "  'ษ': 56,\n",
       "  'ส': 57,\n",
       "  'ำ': 58,\n",
       "  'แ': 59,\n",
       "  'ะ': 60,\n",
       "  'ญ': 61,\n",
       "  '|': 33,\n",
       "  '[UNK]': 62,\n",
       "  '[PAD]': 63})"
      ]
     },
     "execution_count": 24,
     "metadata": {},
     "output_type": "execute_result"
    }
   ],
   "source": [
    "#padding token serves as blank token\n",
    "vocab_dict[\"[UNK]\"] = len(vocab_dict)\n",
    "vocab_dict[\"[PAD]\"] = len(vocab_dict)\n",
    "len(vocab_dict), vocab_dict"
   ]
  },
  {
   "cell_type": "code",
   "execution_count": 30,
   "metadata": {},
   "outputs": [],
   "source": [
    "# #save as json; create tokenizer for the first time and upload to hugginface hub\n",
    "# with open('../data/vocab.json', 'w') as vocab_file:\n",
    "#     json.dump(vocab_dict, vocab_file)\n",
    "# tokenizer = Wav2Vec2CTCTokenizer(\"../data/vocab.json\", \n",
    "#                                  unk_token=\"[UNK]\", \n",
    "#                                  pad_token=\"[PAD]\", \n",
    "#                                  word_delimiter_token=\"|\")\n",
    "# tokenizer.save_pretrained('../wav2vec2-large-xlsr-53-th')"
   ]
  },
  {
   "cell_type": "code",
   "execution_count": 48,
   "metadata": {},
   "outputs": [
    {
     "data": {
      "application/vnd.jupyter.widget-view+json": {
       "model_id": "0418cb6e9b5a44c7987144bb84bdebf2",
       "version_major": 2,
       "version_minor": 0
      },
      "text/plain": [
       "Downloading:   0%|          | 0.00/762 [00:00<?, ?B/s]"
      ]
     },
     "metadata": {},
     "output_type": "display_data"
    },
    {
     "data": {
      "application/vnd.jupyter.widget-view+json": {
       "model_id": "c8db0c2ef65d4bd8a98657d4cc27ce41",
       "version_major": 2,
       "version_minor": 0
      },
      "text/plain": [
       "Downloading:   0%|          | 0.00/181 [00:00<?, ?B/s]"
      ]
     },
     "metadata": {},
     "output_type": "display_data"
    },
    {
     "data": {
      "application/vnd.jupyter.widget-view+json": {
       "model_id": "2b78652aaa4c47db8a8b21ef7d93e954",
       "version_major": 2,
       "version_minor": 0
      },
      "text/plain": [
       "Downloading:   0%|          | 0.00/85.0 [00:00<?, ?B/s]"
      ]
     },
     "metadata": {},
     "output_type": "display_data"
    },
    {
     "name": "stderr",
     "output_type": "stream",
     "text": [
      "Special tokens have been added in the vocabulary, make sure the associated word embeddings are fine-tuned or trained.\n"
     ]
    }
   ],
   "source": [
    "tokenizer = Wav2Vec2CTCTokenizer.from_pretrained(\"airesearch/wav2vec2-large-xlsr-53-th\")"
   ]
  },
  {
   "cell_type": "code",
   "execution_count": 49,
   "metadata": {},
   "outputs": [
    {
     "data": {
      "text/plain": [
       "'ใคร เป็น ผู้รับ'"
      ]
     },
     "execution_count": 49,
     "metadata": {},
     "output_type": "execute_result"
    }
   ],
   "source": [
    "datasets['train'][0]['sentence']"
   ]
  },
  {
   "cell_type": "code",
   "execution_count": 50,
   "metadata": {},
   "outputs": [
    {
     "data": {
      "text/plain": [
       "{'input_ids': [12, 46, 41, 42, 28, 31, 25, 62, 42, 57, 60, 7, 41, 45, 33], 'attention_mask': [1, 1, 1, 1, 1, 1, 1, 1, 1, 1, 1, 1, 1, 1, 1]}"
      ]
     },
     "execution_count": 50,
     "metadata": {},
     "output_type": "execute_result"
    }
   ],
   "source": [
    "tokenizer(datasets['train'][0]['sentence'])"
   ]
  },
  {
   "cell_type": "code",
   "execution_count": 51,
   "metadata": {},
   "outputs": [
    {
     "data": {
      "text/plain": [
       "'ใคร เป็น ผู้รับ'"
      ]
     },
     "execution_count": 51,
     "metadata": {},
     "output_type": "execute_result"
    }
   ],
   "source": [
    "tokenizer.decode(tokenizer(datasets['train'][0]['sentence']).input_ids)"
   ]
  },
  {
   "cell_type": "code",
   "execution_count": 52,
   "metadata": {},
   "outputs": [
    {
     "data": {
      "text/plain": [
       "70"
      ]
     },
     "execution_count": 52,
     "metadata": {},
     "output_type": "execute_result"
    }
   ],
   "source": [
    "tokenizer.vocab_size"
   ]
  },
  {
   "cell_type": "markdown",
   "metadata": {},
   "source": [
    "### Create Wav2Vec2 Feature Extractor"
   ]
  },
  {
   "cell_type": "markdown",
   "metadata": {},
   "source": [
    "Wav2Vec2 was pretrained on the audio data of [LibriSpeech](https://huggingface.co/datasets/librispeech_asr) and LibriVox which both were sampling with 16kHz. [Common Voice Corpus 7.0](https://commonvoice.mozilla.org/en/datasets) has 32kHz sampling rate.\n",
    "\n",
    "A Wav2Vec2 feature extractor object requires the following parameters to be instantiated:\n",
    "\n",
    "- `feature_size`: Speech models take a sequence of feature vectors as an input. While the length of this sequence obviously varies, the feature size should not. In the case of Wav2Vec2, the feature size is 1 because the model was trained on the raw speech signal ${}^2$.\n",
    "- `sampling_rate`: The sampling rate at which the model is trained on.\n",
    "- `padding_value`: For batched inference, shorter inputs need to be padded with a specific value\n",
    "- `do_normalize`: Whether the input should be *zero-mean-unit-variance* normalized or not. Usually, speech models perform better when normalizing the input\n",
    "- `return_attention_mask`: Whether the model should make use of an `attention_mask` for batched inference. In general, models should **always** make use of the `attention_mask` to mask padded tokens. However, due to a very specific design choice of `Wav2Vec2`'s \"base\" checkpoint, better results are achieved when using no `attention_mask`. This is **not** recommended for other speech models. For more information, one can take a look at [this](https://github.com/pytorch/fairseq/issues/3227) issue. **Important** If you want to use this notebook to fine-tune [large-lv60](https://huggingface.co/facebook/wav2vec2-large-lv60), this parameter should be set to `True`."
   ]
  },
  {
   "cell_type": "code",
   "execution_count": 9,
   "metadata": {},
   "outputs": [],
   "source": [
    "feature_extractor = Wav2Vec2FeatureExtractor(feature_size=1, \n",
    "                                             sampling_rate=16000, \n",
    "                                             padding_value=0.0, \n",
    "                                             do_normalize=True, \n",
    "                                             return_attention_mask=False)"
   ]
  },
  {
   "cell_type": "code",
   "execution_count": 10,
   "metadata": {},
   "outputs": [],
   "source": [
    "processor = Wav2Vec2Processor(feature_extractor=feature_extractor, tokenizer=tokenizer)"
   ]
  },
  {
   "cell_type": "markdown",
   "metadata": {},
   "source": [
    "### Preprocess Data"
   ]
  },
  {
   "cell_type": "markdown",
   "metadata": {},
   "source": [
    "We resample to 16kHz with which `wav2vec2` was pretrained on."
   ]
  },
  {
   "cell_type": "code",
   "execution_count": 11,
   "metadata": {},
   "outputs": [],
   "source": [
    "def speech_file_to_array_fn(batch, \n",
    "                            text_col=\"sentence\", \n",
    "                            fname_col=\"path\",\n",
    "                            resampling_to=16000):\n",
    "    speech_array, sampling_rate = torchaudio.load(batch[fname_col])\n",
    "    resampler=torchaudio.transforms.Resample(sampling_rate, resampling_to)\n",
    "    batch[\"speech\"] = resampler(speech_array)[0].numpy()\n",
    "    batch[\"sampling_rate\"] = resampling_to\n",
    "    batch[\"target_text\"] = batch[text_col]\n",
    "    return batch"
   ]
  },
  {
   "cell_type": "code",
   "execution_count": 12,
   "metadata": {},
   "outputs": [
    {
     "name": "stderr",
     "output_type": "stream",
     "text": [
      "Loading cached processed dataset at /root/.cache/huggingface/datasets/common_voice/th/7.0.0/14bf435a174687b310ed94f56abf0198f6cc7efb5a5d945c22c83113eab67701/cache-f5e3fd6d91d946ed.arrow\n",
      "Loading cached processed dataset at /root/.cache/huggingface/datasets/common_voice/th/7.0.0/14bf435a174687b310ed94f56abf0198f6cc7efb5a5d945c22c83113eab67701/cache-a168c1d71b35662f.arrow\n",
      "Loading cached processed dataset at /root/.cache/huggingface/datasets/common_voice/th/7.0.0/14bf435a174687b310ed94f56abf0198f6cc7efb5a5d945c22c83113eab67701/cache-38dd70eaadaccf26.arrow\n"
     ]
    },
    {
     "data": {
      "text/plain": [
       "DatasetDict({\n",
       "    train: Dataset({\n",
       "        features: ['speech', 'sampling_rate', 'target_text'],\n",
       "        num_rows: 23332\n",
       "    })\n",
       "    test: Dataset({\n",
       "        features: ['speech', 'sampling_rate', 'target_text'],\n",
       "        num_rows: 9709\n",
       "    })\n",
       "    validation: Dataset({\n",
       "        features: ['speech', 'sampling_rate', 'target_text'],\n",
       "        num_rows: 9711\n",
       "    })\n",
       "})"
      ]
     },
     "execution_count": 12,
     "metadata": {},
     "output_type": "execute_result"
    }
   ],
   "source": [
    "speech_datasets = datasets.map(speech_file_to_array_fn, \n",
    "                                   remove_columns=datasets.column_names[\"train\"])\n",
    "speech_datasets"
   ]
  },
  {
   "cell_type": "code",
   "execution_count": 13,
   "metadata": {},
   "outputs": [
    {
     "name": "stdout",
     "output_type": "stream",
     "text": [
      "คุณ กำลัง เดิน ขา เป๋ ด้วย ไม้เท้า\n"
     ]
    },
    {
     "data": {
      "text/html": [
       "\n",
       "                <audio  controls=\"controls\" autoplay=\"autoplay\">\n",
       "                    <source src=\"data:audio/wav;base64,UklGRiSwAQBXQVZFZm10IBAAAAABAAEAgD4AAAB9AAACABAAZGF0YQCwAQAAAAAAAAAAAAAAAAAAAAAAAAAAAAAAAAAAAAAAAAAAAAAAAAAAAAAAAAAAAAAAAAAAAAAAAAAAAAAAAAAAAAAAAAAAAAAAAAAAAAAAAAAAAAAAAAAAAAAAAAAAAAAAAAAAAAAAAAAAAAAAAAAAAAAAAAAAAAAAAAAAAAAAAAAAAAAAAAAAAAAAAAAAAAAAAAAAAAAAAAAAAAAAAAAAAAAAAAAAAAAAAAAAAAAAAAAAAAAAAAAAAAAAAAAAAAAAAAAAAAAAAAAAAAAAAAAAAAAAAAAAAAAAAAAAAAAAAAAAAAAAAAAAAAAAAAAAAAAAAAAAAAAAAAAAAAAAAAAAAAAAAAAAAAAAAAAAAAAAAAAAAAAAAAAAAAAAAAAAAAAAAAAAAAAAAAAAAAAAAAAAAAAAAAAAAAAAAAAAAAAAAAAAAAAAAAAAAAAAAAAAAAAAAAAAAAAAAAAAAAAAAAAAAAAAAAAAAAAAAAAAAAAAAAAAAAAAAAAAAAAAAAAAAAAAAAAAAAAAAAAAAAAAAAAAAAAAAAAAAAAAAAAAAAAAAAAAAAAAAAAAAAAAAAAAAAAAAAAAAAAAAAAAAAAAAAAAAAAAAAAAAAAAAAAAAAAAAAAAAAAAAAAAAAAAAAAAAAAAAAAAAAAAAAAAAAAAAAAAAAAAAAAAAAAAAAAAAAAAAAAAAAAAAAAAAAAAAAAAAAAAAAAAAAAAAAAAAAAAAAAAAAAAAAAAAAAAAAAAAAAAAAAAAAAAAAAAAAAAAAAAAAAAAAAAAAAAAAAAAAAAAAAAAAAAAAAAAAAAAAAAAAAAAAAAAAAAAAAAAAAAAAAAAAAAAAAAAAAAAAAAAAAAAAAAAAAAAAAAAAAAAAAAAAAAAAAAAAAAAAAAAAAAAAAAAAAAAAAAAAAAAAAAAAAAAAAAAAAAAAAAAAAAAAAAAAAAAAAAAAAAAAAAAAAAAAAAAAAAAAAAAAAAAAAAAAAAAAAAAAAAAAAAAAAAAAAAAAAAAAAAAAAAAAAAAAAAAAAAAAAAAAAAAAAAAAAAAAAAAAAAAAAAAAAAAAAAAAAAAAAAAAAAAAAAAAAAAAAAAAAAAAAAAAAAAAAAAAAAAAAAAAAAAAAAAAAAAAAAAAAAAAAAAAAAAAAAAAAAAAAAAAAAAAAAAAAAAAAAAAAAAAAAAAAAAAAAAAAAAAAAAAAAAAAAAAAAAAAAAAAAAAAAAAAAAAAAAAAAAAAAAAAAAAAAAAAAAAAAAAAAAAAAAAAAAAAAAAAAAAAAAAAAAAAAAAAAAAAAAAAAAAAAAAAAAAAAAAAAAAAAAAAAAAAAAAAAAAAAAAAAAAAAAAAAAAAAAAAAAAAAAAAAAAAAAAAAAAAAAAAAAAAAAAAAAAAAAAAAAAAAAAAAAAAAAAAAAAAAAAAAAAAAAAAAAAAAAAAAAAAAAAAAAAAAAAAAAAAAAAAAAAAAAAAAAAAAAAAAAAAAAAAAAAAAAAAAAAAAAAAAAAAAAAAAAAAAAAAAAAAAAAAAAAAAAAAAAAAAAAAAAAAAAAAAAAAAAAAAAAAAAAAAAAAAAAAAAAAAAAAAAAAAAAAAAAAAAAAAAAAAAAAAAAAAAAAAAAAAAAAAAAAAAAAAAAAAAAAAAAAAAAAAAAAAAAAAAAAAAAAAAAAAAAAAAAAAAAAAAAAAAAAAAAAAAAAAAAAAAAAAAAAAAAAAAAAAAAAAAAAAAAAAAAAAAAAAAAAAAAAAAAAAAAAAAAAAAAAAAAAAAAAAAAAAAAAAAAAAAAAAAAAAAAAAAAAAAAAAAAAAAAAAAAAAAAAAAAAAAAAAAAAAAAAAAAAAAAAAAAAAAAAAAAAAAAAAAAAAAAAAAAAAAAAAAAAAAAAAAAAAAAAAAAAAAAAAAAAAAAAAAAAAAAAAAAAAAAAAAAAAAAAAAAAAAAAAAAAAAAAAAAAAAAAAAAAAAAAAAAAAAAAAAAAAAAAAAAAAAAAAAAAAAAAAAAAAAAAAAAAAAAAAAAAAAAAAAAAAAAAAAAAAAAAAAAAAAAAAAAAAAAAAAAAAAAAAAAAAAAAAAAAAAAAAAAAAAAAAAAAAAAAAAAAAAAAAAAAAAAAAAAAAAAAAAAAAAAAAAAAAAAAAAAAAAAAAAAAAAAAAAAAAAAAAAAAAAAAAAAAAAAAAAAAAAAAAAAAAAAAAAAAAAAAAAAAAAAAAAAAAAAAAAAAAAAAAAAAAAAAAAAAAAAAAAAAAAAAAAAAAAAAAAAAAAAAAAAAAAAAAAAAAAAAAAAAAAAAAAAAAAAAAAAAAAAAAAAAAAAAAAAAAAAAAAAAAAAAAAAAAAAAAAAAAAAAAAAAAAAAAAAAAAAAAAAAAAAAAAAAAAAAAAAAAAAAAAAAAAAAAAAAAAAAAAAAAAAAAAAAAAAAAAAAAAAAAAAAAAAAAAAAAAAAAAAAAAAAAAAAAAAAAAAAAAAAAAAAAAAAAAAAAAAAAAAAAAAAAAAAAAAAAAAAAAAAAAAAAAAAAAAAAAAAAAAAAAAAAAAAAAAAAAAAAAAAAAAAAAAAAAAAAAAAAAAAAAAAAAAAAAAAAAAAAAAAAAAAAAAAAAAAAAAAAAAAAAAAAAAAAAAAAAAAAAAAAAAAAAAAAAAAAAAAAAAAAAAAAAAAAAAAAAAAAAAAAAAAAAAAAAAAAAAAAAAAAAAAAAAAAAAAAAAAAAAAAAAAAAAAAAAAAAAAAAAAAAAAAAAAAAAAAAAAAAAAAAAAAAAAAAAAAAAAAAAAAAAAAAAAAAAAAAAAAAAAAAAAAAAAAAAAAAAAAAAAAAAAAAAAAAAAAAAAAAAAAAAAAAAAAAAAAAAAAAAAAAAAAAAAAAAAAAAAAAAAAAAAAAAAAAAAAAAAAAAAAAAAAAAAAAAAAAAAAAAAAAAAAAAAAAAAAAAAAAAAAAAAAAAAAAAAAAAAAAAAAAAAAAAAAAAAAAQAAAAAAAAAAAAAAAQABAAAAAAAAAAAAAAABAAEAAAABAAEAAAAAAAAAAAAAAAAA/////wIA/v///wEA/f8AAP7//v8BAPz///8BAP3//v/+/////v////7//f8AAAAA//8AAAAAAAD//wAA/f/+/wEAAAAAAAEAAAD9/wMAAQAAAAIAAAACAAIA/f////z//f8AAP//AQAAAAIAAwACAAQAAAABAAAAAAACAP//BAAAAAIAAgAAAAQA/P8GAP7/AwD//wEA//8CAAAABgADAAAABQABAAMAAAADAAIA//8CAP//AwABAP7/+//+/wEAAAAAAAIA/v8AAAAAAAAEAP//AAABAP//AAAAAAUA//8DAP//AAAAAAAAAwAAAAAA//8AAP3///8AAAAAAAD+/wAA/f/8//7//f/z/w4Aw//N/tn+yP7W/sv+yv69/rb+wP7I/s/+1v7V/tb+6v4H/yr/KP8q/yD/Jv8w/yL/If8q/0H/VP9S/17/d/+K/6X/k/+j/73/0//p//j/CgAaACEAGgAoADUASwBaADkAQwBBADsAQwBBAD4ANQAuACkAOwAvABsADgAeABMAEAAOABMA4//B/7v/u//W/+f/6P/u//T/9f8IAA0AFgAqADkAQQBUAGcAYABmAHgAhgCZALQA0QDhANgA3gDdAPUAGgEUASIBJAEcARABHgEdASEBJgEdARoB8AD0AOQA2gDpAPIA6ADSALsAlgB2AGkAWwBNACoAEAD6/+H/z/+v/5P/fv+F/4H/av9q/03/If8Q/x7/Lv9D/zf/Hf8U//7+//7r/uf+7/71/gf/Dv8V/yL/Nv83/0b/Wf9b/2j/Xv9e/4T/ev9v/3v/if+P/5H/lf+q/8D/3//z/xMAHAAeACkAMQA2ADMARABNAFIATgA7AEsATABFAFAAVwA7AEEARQAyAB8AIQAsACgAEwD7///////q/+n/4f/P/7//w//P/83/1f/O/8P/rP+t/6P/gv+S/7n/y//T/8//uf/N/9X/7f/v/+X/4f/m/+T/6v8OACQALQA5AEsATQBGAFIARABBADsAGwAVABcAHQAtAEAAVQBGAFMARwA5ADoATgBXAF0AcQBpAGQAPwAeABoAFgAgABgADAAAAPf/8//8/wsAGQAiACoAPQA8ADIAKwAiACoANAAsADUARQA+AEwANwAqACEAGgAkACgAQgBWAEsAQQAzAC0AMgA5ADwAPQA2AD0AMAAcABcAGgAXAC0AQQBCAEcASgBRAFAASABIAFgAXQA+AC4ANgA5AEYAOAAwADIANgBBAEUATwBBAEgAOgA1ADsAMwArABIABQABAPH/6f/n/9H/u/+w/7P/vv+y/6f/n/+l/6P/oP+e/5r/mv+Y/4b/fP92/2D/Tv9f/4L/i/97/3r/e/+F/4r/g/99/2v/X/9i/1X/U/9e/1r/Zf9x/3f/ef+U/6r/sP+8/7P/lf+F/47/kf+y/8X/x//S/9H/z//F/7v/vv/R/+v/9f8WABEADgASACkARABaAHIAhwCNAI0AnwCnALcAwwDQAM4AxQC4AMEAxwDNANgA3QDFALAArACYAIAAYQBeAGgAZABeAFsASAA6AC8AIAAqABoA7v/C/5r/i/+X/6j/sf+s/6n/tv+3/5z/i/+U/4H/gf+L/5f/nf+R/4f/jv+Z/63/t/+g/6P/k/+C/2r/X/9h/2b/Zv99/6H/r/+0/8H/xv++/8b/zv/f/+T/1//n//X/CwAYABUADQAPAB0AIQAnACcALwAuABwAEgAkAEAAVgBFADsAMgA4AD8ARQBSAFIAWwBRAEEAHgAPABAAFgAiADAAPAA/AD0APABBAFMAZgBcAEoARQA0AC4ASABXAHMAgACEAGoAVQBKAEYATQBHAD4ANQA+AEIAQgBFADQAJAAjABsABQD7//z/+P/x//j/AQDx/+//6v/a/9X/4v/l/+7/6v/g/9P/uP/B/77/xP+2/7T/vf/B/73/tv/I/9D/uv+6/7X/vf+7/6j/pv+q/7z/vv/B/6r/n/+T/5X/l/+U/5r/kP+K/5T/rf/G/8H/tf+v/7T/0//s/+//AAAiADQAQABQAGMAbgBvAIIAjgCiAKEAsgC3ALoA1ADhAN0AzwC3AKsAsAClAJgAlQCOAJUAmwCKAI4AowC3ALsAxgDIAL4AtQCGAFYAQgA/AEEAQABNAEAAKwAuABkAAwD0//b/5v/O/7f/qf+S/2f/TP87/z7/Rf9A/zr/N/8r/yn/L/83/zf/Lf8y/zb/K/8u/yH/H/8z/zj/NP8k/wD/9/7//gb/DP8O/xj/Ef8M/wj/HP9B/1H/Z/+H/4//l/+q/8f/3f///xsAJgAnACQAFwAmADQAIwAmADgARABJAFIAYwB0AI0ArwDBAM8A3gDaAN4A1ADBALUAsAC7AMMAwQDXAOcA4QDjANsA2ADnAOQA2QC/AKgAoQCmAMgA5wDlAN4A0gDPAL8AuACjAJsAnQCMAHoAbwBgAFAARwA9AEYAPgAyACMAHgAdABYAHQAOAAIA+P/y//X//P/z/+j/7//l/9L/zf+4/7P/uP+8/6//l/+D/3b/cP90/3j/X/9M/1H/UP9J/z//P/8+/z7/PP9K/0r/SP9B/1P/U/9O/07/W/9X/0z/U/9Y/1T/RP9L/1H/Uf9V/2L/Z/9k/2b/fv+M/4f/if+R/6H/s//C/83/xP/D/87/3v/i//T/9//v//v/AAD6//j//f8AAAwAEgAPABgAGAAdACQALQAuAC0ANQA7AD4ARgBOAFoAXQBZAGIAaQBuAHIAeAB7AHwAeABmAFYAVABVAGUAawBxAG0AZgBpAGwAaQBoAFoAUwBWAFIATABMAFYAWwBWAFYAVABLAEYAPAAsACQAIAAaABMAEgANAAYABgAPAAkABAAGAAwACAAEAP7/9P/t/+f/5P/g/97/1f/O/8v/wv/E/8T/y//K/8r/yv/J/8n/yf/Q/9f/2//h/9r/1f/a/97/4v/g/9//5P/j/+P/6P/n/+n/6v/u/+//7v/t//D/+P/4//v/////////AAAAAAAAAAADAAEAAAAAAAEAAAABAAMAAwACAAAAAAD//wAAAAAAAAMAAwAAAAAAAAD//wEAAAAAAAAA//8AAAAA/v///wEAAQAAAAAAAQAAAAIAAAAAAAEAAAACAAAAAAAAAAAAAAABAAAAAAABAAAAAAAAAAAAAAAAAAAAAAAAAAAAAAAAAAAAAAAAAAAAAAAAAAAAAAAAAAAAAAAAAAAAAAAAAAAAAAAAAAAAAAAAAAAAAAAAAAAAAAAAAAAAAAAAAAAAAAAAAAAAAAAAAAAAAAAAAAAAAAAAAAAAAAAAAAAAAAAAAAAAAAAAAAAAAAAAAAAAAAAAAAAAAAAAAAAAAAAAAAAAAAAAAAAAAAAAAAAAAAAAAAAAAAAAAAAAAAAAAAAAAAAAAAAAAAAAAAAAAAAAAAAAAAAAAAAAAAAAAAAAAAAAAAAAAAAAAAAAAAAAAAAAAAAAAAAAAAAAAAAAAAAAAAAAAAAAAAAAAAAAAAAAAAAAAAAAAAAAAAAAAAAAAAAAAAAAAAAAAAAAAAAAAAAAAAAAAAAAAAAAAAAAAAAAAAAAAAAAAAAAAAAAAAAAAAAAAAAAAAAAAAAAAAAAAAAAAAAAAAAAAAAAAAAAAAAAAAAAAAAAAAAAAAAAAAAAAAAAAAAAAAAAAAAAAAAAAAAAAAAAAAAAAAAAAAAAAAAAAAAAAAAAAAAAAAAAAAAAAAAAAAAAAAAAAAAAAAAAAAAAAAAAAAAAAAAAAAAAAAAAAAAAAAAAAAAAAAAAAQAAAAAAAAABAAAAAQABAAAAAAAAAP//AAAAAAAAAAAAAAAAAAAAAAEA//8AAAAAAAD/////AAAAAAAAAAD//wAAAAABAAIAAQAAAAAAAAAAAAAAAAD+//////8AAP3/AAAAAAAA//////7///8AAAEA///9//7///8AAAEAAAAAAAIA/////wIAAwAAAAQAAQABAAIAAgACAAEAAAAAAAAAAAABAAAAAgADAAIAAABMAG8AUAAyACQAFwAIAAgABgDg/87/zf/R/7//sP+p/5n/mv+j/7b/0//d/9f/3v/i/+f/7f/9//H/0P++/8r/xf+x/7D/u//F/8j/0//s/wIA//8BAP//9P/3/wYACQDx/9T/tP+t/5v/jP+q/8T/3P/q/9//3//m/9j/zv/f/+f/5f/g/9D/t/+s/7X/uf/D/9f/8v/+//v/4f/D/8D/xf/O/9T/4//o/9L/u//B/9X/+P8NACYARwBOAFEAbACLAJ4AjgB0AF4ARgA+AE0AWwBlAGEAXABaAFYAWABbAG8AiACQAJAAiwCPAI0AiwCIAH0AZwBPAEwAWQBQAD0APAA4ACQAHQAfACIAFwASABEABAABABQAHAAMAPr/7P/d/8f/r/+q/6b/nf+e/63/uv+q/5P/ef9u/4f/qf+v/6v/nv+E/2T/W/9c/2H/bP+D/5D/gf96/3z/h/+W/6n/wf/c/+T/yf/G/9r/9f8GABcALgAnACkASwBKADIAOQA4ADcARwBhAGkAZgBtAHYAfwCJAIEAdQBZAEUAUQBYAEgATgBUAF4AgACXAKAAmAB6AGkAcQCIAJUAoQCpAKMAoACTAJQAlwByADsAKwA1ACoAFwAUAP//5f/q////CQDy/9P/1v/z//P/6//1/97/wf/A/8v/sP+k/6b/jv98/47/vP/O/8z/xf+7/7L/lf96/4j/i/9x/2X/Yf9Z/13/Y/9e/1v/ZP94/4L/nf+v/7D/qP+c/4b/ff9v/1f/aP+M/5//of+1/8f/uP+w/7//yf/X/9b/5P8BABMAMwA5ABwA+P/k/+L/7P/i/97/2//c/9P/2f/g/+r//f8FABsAJAAdAAMA7f/3//j//P8IAA4ADgABAPv/EAAjAB4AGwAiADMARwBdAF8APQAwAFMAYwBwAIAAjACIAIAAgACAAHMAdACIAJ0AwQDOAN4A4wDSAKgAmQCeAIIAWABYAEMAFQAGABIAHgAWACAALwAnAAwADQDr/8z/x/+p/3D/Uv9l/3P/fv+D/37/kf+G/2X/UP9L/z7/M/85/0f/UP87/zX/Pf9F/2L/fP+U/5v/p/+t/9j//f////T/8f/3//X/AQAdACEALgBDAEcAUABzAIIAfgCBAI0AowClAKEAlwCgAJcAigCrANEAzwCyALQAzwDCAJ0AngCqAJEAgQCmAK4AhwBqAF8AUQBBADUALQAnADAAPAAoABEAAAAMABkAEgAaABgA9v/H/7D/yv/O/8z/zf/W/8n/u//I/8X/vf+0/7D/z//i/8//vv/E/7T/sP/P/+r/2f+x/6n/p/+s/8T/1f/i/+n/7v/y//X/+f/6/+X/3v/j/93/5v/w//v/5P+//5z/mf+d/5z/nf+3/8X/vP/E/8f/tP+p/6X/vP/U/+X/6P/d/9X/wv+6/8v/4v/U/63/o/+q/6r/qP+o/6j/sP+z/8P/1//o/+j/4f/1/wgA/v8JACQAIwAUABcAFwAZAA0A/f/w/+7/9/8aAEoAUgBAADEAKwAdABQAIQAxAEkARwA7AEsAWgBmAHYAfwBgAD8APgBDAEkAVQBJADgALQAbABQAHgAPAAIAAgALAAcADwAhABgAFQAeABQA6//M/8v/yP/U/+//5//E/6H/hP92/3f/kv+M/4v/rP/S/+v/7v///yEARwBOADQADgAEAP7/8f/q//P/+//q/+j/3P/J/83/4P/w/wEABgAFAPb/4v/d//j/EwADAOz/8/8KACMAKAAHAOz/5v/s/+P/AwA/AEcAKQAnADgANwBAAGwAigCVAKMAkgBuAFMALgANABIAKwAqADIAbACKAHgAegCaAI8AaQBcAGcAUAAnADYAUgA6ACYAXACNAHUAZQCSALIAkgBYAEQATwA2ABsANgBPABcA7f/y/wAA3v/P/9v/y/+p/6f/0f/H/4n/af9v/1T/Wv+R/7//tP+Y/5n/lv97/27/kf+d/5f/yf8aAB8A9//s/+X/uv+l/7P/0P/B/7r/y//Q/+D/5P/a/8D/0//8/x4ADAD2//X/8P/U/77/2//s/7f/nv/B/8//n/94/43/dP89/zX/a/+V/5b/pv/Q//j//v8DAAAA5//a//D/GQAmABkAAADu//7/GwAxAEoAWgBsAIQAgwBbAFEAUAA7ADsAYwCFAHMAcQCHAH8AbQCMAJMAdwBrAIAAggBwAHEAdAB9AGcAPAA0ADcABQDP/8D/uf+W/4f/j/9u/yz/Df8G/wz/IP8j/yr/Mv9A/1H/ef+e/5n/gf+J/4v/kP+7/9L/rv+X/6r/r/+9/9j/7f/4////+v8QABoADQD+//3//v8GAEQAbQBwAG0AYwBZAHQAbQBSAF8AnACzALcA1QDGAJUAkgC8ANkA1QDGAMYAuACwALcAmQBuAF0ATwA6AD0AKAAUAAcA4v+x/6//xf+7/7X/zf/f/9j/3P/E/7b/xP/J/8b/xP/m/w0A6//E/9r/9P/j/9X/2v/2//T/4//i/+n/6v/Y/+r////1/+f//v8TAOX/ov+l/7r/pf+v/wAAPABAACgALABEAGgAVwBFADoADADk/+v/8f/W/+n/+P/X/7j/sv+r/53/mv+s/67/tv+6/9H/4//q/+3/9v/3/+b/4/8BABQACADz////FAAbABQABAAbACYAIQAYABEAAADv/9H/1P/n/wIAMwBrAFcAGwAUAFAAZwBRAFsAdgCGAGgAgAC8AMkAoQCJAJgAowCeAKsAvwClAHIAdgCIAGwANwAqACoANQAvACsAJAD8/8v/qv+j/5T/iP9t/2z/ef9s/23/dP90/2X/cP+M/43/c/9W/17/aP96/3r/cP90/3v/ff+P/5f/iP+W/73/yP+q/6P/s/+4/7//1//g/9D/vv+2/7r/0f/k/+X/4f/3//H/2f/m/xMAIgARAP//7P/F/6j/uv/n/wcA8P/r//7/CQAUAFoAhwBeADgAZgCHAIAAsADQAKgAZABfAIkAsQDVAPAAJAETAeYA0gDpAO4AsgB4AE8AIAAGADUAZgB3AHIAawBHAP//4f/R/7f/rv/D/8n/pP+M/3n/b/+h/9z/xv+e/7H/x//Z//3/9//e/+L/7P/U/9b/y/+u/6//uP+g/3P/df+F/2X/cv+u/8P/zv/h/8z/nf99/5z/y//W/93/x/+O/1T/Rf9X/3v/oP+H/0//Rv9W/2H/bP+A/4r/e/+L/7j/0v/z/xQAJgA0ABIA+/8MAAoA/P8JAB8AFgAXAB0ABwDy/y8AUgAjABUAPQB+AHUAbACHAJEAiABlAFUAfgC5AL4AlQBmAEgASAB7ALcA6AD/APsA9ADzAOgA7gAYAVoBdgFTAVIBjQGaAYsBigF7AUcBCQH6AAsBFAEbARcB/wC3AG8AWABMADAAJgA1AEIAIgD0/+f/1f/A/8D/wP+e/43/kv9y/yD/A/8O//b+p/54/nr+cv5k/nP+jP6Q/n3+bv5l/nj+hv61/tD+tP6I/l3+gP6v/rr+u/7O/rb+r/7w/hn/9v7h/gH/If8+/0P/SP+A/9X/8f8KACoALAAUABIATwCKAMkAyABuADcAcACmALMAwgCuAJUApQCrAJ0AmACnAJsAnQC1ALcAuwDyABUBAAECAfMArAB7AGYAPgBVAH0AXQASAPr//f/h/8H/rv/M/+z//v/4/+f/0//c/+//1//A/9b/1P/Z/wEABwD6/wAA///K/7z/5v/r/+z/LABmAEIAJwA8ADcADwDi/9v/+v8AAM7/wP/t/9v/nf+C/5r/zP/y//n/7//U/7z/2f/l/8n/q/+2/7H/p//G/93/6P/b/4v/df9//1X/Rv+S/8b/yP/U/6//dP9v/6v/5/8kAFoAQADw/7//xv/2/x4AGgAsAGQAngDAAAQBSAFnAVQBLwEiAR8BPAFFAUQBgwGQAUIBMAE/ASABCwFdAbIBtAF+AR0B6QABARwB5gDCAMQAqQCoALQAnABcAD4AGgDS/+v/MwAjAAMA3v+e/3j/j//A/8L/xP/Z/9j/2v+p/1H/U/9c/yr/5/4A/1X/f/9r/0f/A/+d/lr+jf7c/g//Kf8//0j/OP8f/wP/C/8f//f++P6M//v/zP93/4D/mf+W/7P/+P8aAP3/3P8QAFEALwDv/+H/7P/p/8L/0P/o/8j/w//7/xIA9P+Z/yj/Bv8W/0f/jv+W/3n/if+w/8f/yP+n/2T/Nf9L/37/1v/y/7P/kv95/zL/Hf9m/5n/df9i/5P/2v/m/8r/sv+5/7r/yP8QAEIAJwAkAEIASAAOAO7/GQA9AEMANABOAG0AUwAyADgAZQCEAIsAbQBOAB4AGQAlAGIAtwDKAIgAVQCAAMcABAEjARAB0gB/AEsAgADRAP4AwwBOACsAZgCOAJ8ArwCkAJAAmgDKALYAgAB5AIwAngCxANMAwQCCAFsAUwA7ADgADwDX/+7/LQBjAG4ATgAVAMb/kP9+/8v/RAAmAML/0v/W/6X/7P9BABMACwB7AMsAuwCfAKkAiQBsAD4AGAAAAPP/8f8kACQA7P/i/wAAFwDz/xgAdACIAFMAWgCLAKUAugC3AHIAIQAMABMAHwAAAOD/xf+v/4j/Pv9p/9j/rP9R/2r/t/+z/3j/N/8M//X+I/9E/zX//v6q/qj+6P4S//P+5v4n/0D/FP8t/1v/Sf8C/97++/4G/xv/Qf8V/9f+1P7n/iL/W/9Y/0X/Mf8e/2T/BwBAAOT/s//n/wQA/v8CABEAOgBbAEEASgCrAAUB2wC1AKQAUgA5AIUAmwCCAIgAhACQAI4AeABkAHkAfQBeAIoAxgCuAGgAjQDjAP4AAQERAfQAvgCoANMADgEBAdsAvwC0ALYAwADrAPAA/QDuAM4A0AAPAQoB0wCpAKIAnQB1AFwAXAA2ADkAeABpAP//+v8vAEIACAD3/+f/w//X/+T/3v8QAB4A2/+a/5D/qP+3/6j/if9N/y3/Lv82/2b/fP9n/0X/L/8a/xj/DP8J/wX/wP6e/pn+if5Q/m3+lv6E/mv+gv5+/nL+fP5f/k7+ZP50/ob+nf6j/qb+2v6l/j/+Lf56/rb+/v4y/yH/Qf9O/0X/hv8bAC0A8/8KADcAXwCLAAMBLgHtAOgAQwF3AYMBdQFxAZQBmQGmAc4B/wEfAs4BmQGXAYEBTgFQAa8BywFZAR0BCwG6AHQAeADQAPMAwQDKADUBOwG7AJIA9AASAeoAIwFxASIBbgAFAPf/rf9s/4T/s/+c/7H/OgCLAC8A9P9kAMgA+AB4ARYCGwLzASgCDgKZAaUB+gGbAQ4BQwGcAVYB3wCsAGgAJQAGAMv/jv95/yb/2f4D/yH/xf6P/rD+l/5W/oL+wP7q/kj/mv8KAJYAiwAWABkAlgC7AKcAuwDEAD4Adf/1/mP+bP3H/JL8Dfxv+2n7ePsC+336aPrf+m77xft6/M39wf4+/4//4/9tADIBOAGrAAABUAImAhwBdAHuAfoA/f8jABUAL//Z/rn/SABv/+H+6v/mAAMAMv8lALsAHQAZABwBPwGPAEAAZwCHAFMAKgBsAIQA0f9+/zwATwBp/0j/mP/6/ib+Wf6l/n/+gv7j/vL+uv6H/qP+Cv8v/yv/z/+xAJUARADgAIABbQFrAccBHAIjAv4BQQK4Ag8D9QKWAlICDQL6AS4CYgJPAkkCSgI2AugBrgGiAYwBjgHWAfwBsgGBAY4BRwEcAS4BZQHFAcoBeAE0AkQDIQNGAi8CxgLxAtUC/AJNA14D9AJpArgCKQNdAk4BcgHqAYQB+ADRAGcA4/+N/yj/zf5u/tn9Af5g/oH9Ff3//fD9k/x//Df97fxM/Hr8fvxF/Hj8Q/zw+x/8Dvz2+2L8DfwS+5X7i/wO/G77z/vT+577I/xq/FL8iPxV/Of7dvz8/NP8YP3n/RH94vwb/nP+0/0l/tr+vf6V/uf+ef9QAJMAPAA4AKEAsgA4AeABvwGuAU0CggJGArACTgN+A6MD0QPHA/8DYgQfBNUD7AOxA3sDYAM1AzIDZwNVAxwD1QK1AsgC7wJ2AqsB6AEeAlwBpwC7AMUAxgCiAHMAhABmAFoAnADRAFcAqwBGAX8A1P/wAH4BWQC6/xIAZQBYAA4A4/9EAFEAjP+D/zsAqP+//oL/BgAc/xP/5f+r/+b+6v4Z/0b/OP+g/iT+rP7s/n3+jv7J/mH+Bf7H/YL9wv3W/XP9pP37/W79Ev2T/fD9Vv3+/M79dv4g/iT+7f4k/zj+tf0G/+//Tf9V/2gAaADU/yMAuwCRAO7/9P9/APUA8gBtARMCWwF9AIgB6gE2APH/NwEtAZoA+AD+AKwAwwB/AHkAgQGZAUUANADDAD4AkwDiATEB/v+/AEcB1gDmAJoARQBeATEBpP9+ADQC1wBj/5QAewEEAfoA6wDcAJEBNAFiADsBWgH5/5gA6QGHAIz/ywDMAJr/KgC8AC8AZgBNAFn/7//eAN//Vv8BAN3/a//n//P/vP8AAJz/2P5E/5b/7/4R/6r/HP+b/lb/x/8g/6D+7/5I/wD/x/6P/1MAoP+Y/hn/AAB+/5H+3P6u/93/iv+k/1QAFwAr//n+Vv9T/z3/MP9Q/7L/yv/9/wsAfP/b/n3/UADU/5P/wwDyAP//VADkABcAuv9WALYAfQBCABsAOQAsAGj/av+pAHsA6/5y/4oA5v9P/9H/vv82/y3/MP83/2D/Tf9O/7f/uv8e/2n/0f9l/zH/nf+L/3T/AQD3/5H/tf/d/0f/4P4m/7P/zv+5/7j/qP+2/zAAXQDo/xoAtwDwAKsAcACVAD4BMwE2AGwAOgGhAPn/lwC/ABAAPAC1AHsAQgBkALAA0gB+ANf/HADeANQAPQDu/xoAJwDr//z/qAA8AbcAyf8LAPUAhwCI/2z/ff9m/6L/+f8uAEUA2/9g/73/WABpAGEAUgD7/z8A2wCUABQAEwDU/2P/DQD0AOgAZQA9ABIA9P92AAEBFQHGAF4AkgCcAQYCKgEdAbUBcAE5AcoB7gFGAXcADADgAMkBfwERAf0AbgDV/0gA+ACuALD/Qv/8/9MArwAPAMv/Yv8c/6z/lQC8AAMAFv/n/lP/S//+/sv+gv47/mX+9P73/gX+Rf2S/Rb+nv5M/zb/rP57/lj+kf43/+n+wv3i/d7+K/9b/5L/2/7o/Rj+OP89AAAA4/4J/yAAOAAJAJwA8gAhAEH/Z/94AAYBVgDd/1EAqAB5ANsAIwE0AMb/VABhAFMA6gCyABcAyAApAXYAbADXAL0A0gAbAccA4gAEAREAu/+lAJIArP8sAJMA1P/t/6sADACC/1IAqgAsAEwAfgAuACIAOABUAHYAGgDb/x8BsgG6/9z+DQG0AWH/D/8MAeIAtf6A/lUARAEdACz/2v8qAFn/yP/7AGMAJ/9m/1EA1gCKAOP/LABBAH3/3f8OASwASv8bACgAff+iAFUB6P9x/4gA3AC4AJQA4v+2/08ALADr/6IAYAD7/k//ugBPAHj/o/+q/1r/jP8cAIoAKgAa/+b+f//V/5z/fv8t/2z+wf6j/4D/5f4g/3L/ff9M/1n/6v+2/xD/fP8iANn/g//T/9T/i/8RALsASQCi/+f/PABgAIkA3QCgAPT/OABBAZsBPgHcAHUANQCw/wkAWAFMAeL/5v8yAWcBVADZ/0sAGwBw/6L/eQAeAeMAx/+y/44AUQCE/xcAgQC2/1z/4P8qABYAc/+c/ir/BQB7/w//oP/P/6v/vv+F/5n/sf8M/8P+nv8sAAAAJQAXAMD/yv/9/+z/SgBfAF//Pf9mAHcAkf+S//n/6v/f/xkArwAuAYIAwf9YAOIAQQAEAHwAHwCy/yYAhgB+AHMAOADz/yMAPAB0AL0AeAAjAHcAfADm/87/0v9j/4L/IgAeAO3/EwDh/8D/KABmADcAKQAQAPD/TACiALUAjwAPAFv/e//T/87//P8EAHb/hP88ABMAtf8EAMv/6v7u/oj/4f8eAN//xP9QACIAOf+Z/2gA5/+w/3AAYQCe/97/PwDp/+T/v/9t/wkAzQB8AI0ABgGWABYAkwC4AHMAigBTABQAmwClAMr/9/8xAJn/4v+yAAsAWP/P/8j/Qf+u/9j/EP/O/ij/+f4n/1L/df5w/mD/5f4z/mf/5v+N/kn+J/8Y/xr/0v+S/wT/Tv9v/4T/CQDL//v+gf8eAJv/wv+7AGIA8P8iAeIBOgH5AD8BBAEFAZ8BywFrAewAzgBbAawBFAEKAY4BBAFEAOoAgQHyAFAAWgCMAKgArQBhACwANAAXAA8A+v9H/wD/fP9q/wn/UP9q/8z+t/4E/8P+kP4P/y//Af8U/wD/5/7h/pD+NP6I/gP/5/78/oL/if8A/wX/h/9y/xP/T/8CACMA9f8jAD8AxP90/8n/HAA1ACAAIABvAMIAigCIABIBJAHgAH4B9wFoARABPAEaATQBtwGUAfUAAgFpAT8BFgFTAWABKgFBAZ0BwwFMAZwArAD+AL0AuAAwAR4BZwDc//b/YgAnAGv/ef82AP7/Yv/6/1sAV//c/pb/BwDe/3r/F/8i/2j/IP/6/nL/I/82/rb+tf+O/zb/Tf8v/2j/zf9j/zj/5P+D/6L+Tv9ZAPr/M/8H/zP/0f8MAFj/H/+7/1b/3/4EAKwAlP8I/+v/dQBZABgAv/+k/8D/rP/+/8cAmQCw/6L/DAALABEANQD0/9X/OQCMAFAA8P/K/87/CgAyAFcAiABBAOr/VACGAOr/hv/K/8b/f//V/4IASABw/xL/gv8mADsA/P/2/yAA0f+a/87/yf+I/7r/GQATAO7/AwAUAMj/rv8CAGAAeABFAFoAxADlAIsAMAA3AJ4A5ADTAMMAzwC/AHQANgBnALUArgCjANUA6gCtAIMAkQBVAK7/w/93AKYAbAB6AKsAuQB0ACIAPABlACAA+/9gAIsAFgDw/xwA5P+R/6L/p/+l/+P/9//C/7H/iP97/8X/wf/E/ycAQgD0/ygAggBFAD4AoABsABsAaACeAHUAggBvAEQAaABXAPP/OACgAPL/jf8hACcAof/J/x4A/f/i/+b/AABGAFYAEgAzAFgA6f+6/+T/u/9q/5r/tf+A/1L/Rv8c/+X+if5z/sL+sf5X/p7+FP+7/nD+vf6x/jD+Qf6i/qX+h/6X/rr+yP6W/kb+jP71/vH+Bf9b/2X/Bf/9/lr/m//I//r/DADt/wIAKgA/AFEAfQC2ANQA7QAfAWIBfwFjAVUBcQGLAbABtgGoAXEBVQF0AWcBGQEBARoBFwHnAKYAjwBPAOf/x//t/+v/uv+S/23/Q/8j/w3/BP/9/u7+yf7L/uf+4v7P/uD+6P7g/g3/L/8j/yD/P/8u/zX/VP9t/7j/DAD4/57/v/8DADYAbQCcAKgArgDOAKoAawCAAL8A7wA2AWQBXgF5Ac0B/AH5AQwC8gG3AakBxQHBAZ4BhwFgATwBRgFTAV4BegF4AUoBRQFDATQBFgH7AMMAYQBDAG4AOAC6/5L/pP+e/3r/W/9T/0L/Rf9N/xH/zf7b/gX/A/8L/x//Lf8O/+T+7f4t/3D/jP9u/1z/Vf9u/5r/sP/F/+X/6f8WAEkAcwCGAIAAXgA+AFgAkADGAL0AkQBtAGoAagBmAG4AWwAbAPb//v8MAOb/xP+i/5P/mv+h/6X/o/+E/1T/Nv8i/wL/+v4L/xL/If8o/+j+uP6+/rn+r/7M/gP/Bv/o/tP+uf7L/gH/LP8s/yj/PP8q/xP/HP88/z//F/8G/zH/VP98/7H/wv/L/wEAPABXAGAAiACpAMoA+QAAAd8A3QDpAOUA9gAkAWgBmAGHAVcBOAE8ATEBLAExASUBKAE4AToBHgENAfEA0wCsAJIAyADtALsAmACWAG4AKQD5/+z/6v/j/+7/4v/b/+T/6v/J/5r/kP+c/6L/pP/D/9L/lP9H/zz/Of8q/0n/X/9I/z//Jf8R/yH/Fv8F/x7/J/8z/1L/bP+O/7D/zP/S/+3/CgAGAAQA//8GACkAOgA7AFYAfAB0AG8AuAD5AO8A1gDOALYAtgDKAMEArwCbAIoAlgCvAKEAiACTAJ0AnACwAKwAdQBSAEAAIQD5/8v/t/+t/43/Xf9e/3L/a/9I/z7/RP89/zr/Lf8c//z+vf5q/lP+av5p/l3+df6S/qH+pf6e/of+jP6e/qX+wv72/hn/J/9Q/3b/rP/R/9P/5v8aAGMAkgDNAAABBQEOASYBOAE5ATsBVQFjAWcBWwE+ASwBNAFBATQBJgEVAREBGwEVAfoAAwEKAQwBHgEsAR0B6gC9AKMAiAB4AHYAVABCAD0AIADw/7z/jf91/2b/Qf8u/zv/Sv9J/zv/Ov89/0P/TP9p/6L/u/+u/6f/0v8IAD0AjgDMAPYACwEnAVABbgFfAT0BPwFZAXUBlQGxAb0BqwGAAWwBXQFXAVgBVQFMAUABIwH3AOAAuQCAAIMAfABaADAADQDb/5n/ff9v/0z/C//V/rv+pf5c/iD+Cf4E/vb97v0H/vn9v/2N/W79Xv1e/Wf9bv10/Y39rP2+/b39qP2q/b794v0E/hz+P/5t/or+mv61/sv+9f5D/37/qf/h////BgAKABwAQQBXAHQAjwC0ANMA7AD+AA4BEQEnAUYBVAFdAXgBigGMAYUBgAF+AXoBdAFjAVIBNgERAQYB/ADXAMcAuQChAIwAbgBhAGEAYwBQACoA/v/e/7X/l/+R/5v/tv+8/6//mf97/2r/dv91/2r/Wv9h/2v/Yf9R/0z/UP9a/4X/yv/v/wgAGwALAPT/CAArAEsAawB8AIYAhgCGAIwAogC9AMMA4QD8APcA8gDyAP0ACgEIATkBawFJATYBbAGPAU0BJgEoASUBGQEaARkBDwH3AL4AlQCUAI0AfwCIAHwATgA8ADwAGgD2/+f/w/+d/3T/Vv9Z/2T/av9m/2j/Xf9J/07/Qf8Y/xz/Of9D/1L/af9z/2r/cP9o/2T/a/+J/7H/zv/c/8z/z//l//H/6//f/8j/xP/M/+L/5//h/+f/2P/P/8H/x//d/+v/8P/k/9f/2P/Q/7P/qf+r/7D/rP+k/6P/pP+p/67/qf+n/5b/i/+V/5f/qv/Q/9v/1P/Z/9L/xP+9/9D/1//R/83/0//c/9v/2v/V/9f/2P/T/73/uf+6/7D/rv/C/9z/6P/v/+n/1f/b/+X/7f8LADcATwBJAFIAYwCBAIoAewB/AH0AbABxAH0AfACIAJYAqACqAJUAgAB0AHMAagB2AIIAeQBpAFsASwBMAEIAFQDn/73/oP+B/2D/W/9M/zf/M/8p/xf/DP8I//n+6P7e/s7+wv6z/qT+mf6f/rH+o/6b/qj+v/7b/uz+Af8W/xv/IP83/2D/jf+u/9j/AQAlAD4AWgCGALEA3wAPAToBVAF1AYoBjgGeAbMBzQHhAeQB4wHlAfAB5AHxAQUC+wH1AfIB6QHXAbIBjgGCAWsBUgE9AScBAQHtANYAvACQAGMAOAAaAAcA+P/v/9P/sf+R/2j/Tv86/zX/Of8+/z3/Mf8R/+7+2/7G/rT+tf65/qv+of6X/pf+qf7L/tD+0f7U/sj+y/7X/tH+0/7m/uv+8/4P/zX/av+N/67/1f/h/+///v8KAC0ANQA7AFkAZwBqAG4AhwCWAKwAtwC5ALEAqQC4AL4AxQDAAL4ArQCfAJkAhwCCAIAAiwCTAI8AeQBSADIAKAArABQA+f/x/+7/5v/U/8H/wv/G/83/0P+9/7n/w//B/7//v//O/87/uf+i/5P/mP+Z/6b/qv+i/53/pv+w/7b/tP+4/8H/x//d/wEAFQAkACwANgA6AD0AQABEAFkAYABSAEgASwBHAD0AOQBEAEsATABRAFMAUQBLADIALQBCAFEARQAwACMAGgAQAA0AGwAwAEUAPwA0AC4AGgANABEABwD1//H/6P/X/8T/sP+g/6T/nv+d/6L/o/+o/6//rv+t/7H/vf+f/4n/jP+v/9j/AAAaACkAHQAXACEALQA5AFEAagCCAIQAegCPAK8AxADQANAAzQDLAM4AyAC4AKEAigB8AG4AbABlAFcAQQA1ADsARABGADIAGgAPAPb/3f/N/7f/nP+E/4D/gv97/2D/Qf9C/03/VP9V/0f/Nv82/zr/N/81/zn/Nf8o/yL/MP9P/3T/dv9y/3//iP+U/63/uv+t/6X/nP+Z/6D/oP+h/7X/wv/V/+n/8v/0//r/CwAiACkAIgAuADoATQBZAGMAawBwAG4AewCMAJIAmACSAIcAiAClAKYAigB1AHEAcwB3AGsARgA0ACAA+P/Q/6r/l/+W/6X/l/+H/4f/iv+J/43/gv96/3j/ef97/33/ev+D/5b/oP+x/8f/0P/Q/9b/6f/z/+j/3//i//f/BwALABwAKwBAAEsAVQBVAEwASQA5ADMAOQBGAFIAYQBlAGgAYwBkAHsAnwDDAMsAwQCnAJQAnQCvALMAvgDfAOEAxQCrAJkAmACcAJsAkgCBAGwAbgB2AHcAXgA+ACoABgDd/9P/1//g/+r/+P/l/8P/qf+P/4z/lP+H/4j/iP+K/5D/lP+k/6r/uf/J/8f/2//n/+P/5//4/wsAGQAjAB0AKwA7AEYAXQBTAE0AXgBlAGoAYABbAFkAVABWAFsAUQBKAE4ATAA7ACIABgDs/+P/zf/D/9L/1v+//7b/qv+y/7f/qP+m/6D/lv+I/33/av9c/2X/Yv9T/1X/Xv9d/1v/b/92/2v/W/9K/1z/hf+Q/4b/h/+c/7n/y//L/73/xv/Y/93/6f8CAB4ANQBGAEsATQBiAGoAZABjAFQARgA/AE4AYwBoAGEAXwBXAE4ATABJAEEAIQAGAP7/6P/W/8//x//H/9r/0f+x/6L/pf+m/5j/k/+A/3L/dv97/3j/ef+E/5v/vP+8/73/sf+s/7b/u/+0/7T/tv/C/7//3f/5/wcABgAPABEAHQAqACsAIAAVABsAQQBlAIoAngCdAJMAlwCOAJgAmwC0AMgA1ADJAMIAvgDJANEAxADBAL4ApwCUAHsAggB9AGwAXQBMADAALAApACEAFQAMAP3/5//W/83/xP+3/7P/rP+f/4n/cf9t/3L/f/+L/57/oP+t/6H/oP+3/7v/wf/J/9r/2P/b/+b/5//2/wMAAAD6//P/7f/z/wEABAARACcAIAAlADsASQBZAGIAYABhAGwAbABxAHcAdQBxAHYAeQByAG4AWgBNAEkARABEAEwAWgBYAFYATwBBAEQANAAnACYAHQAGAOL/xP+//77/sv+g/4f/iP+M/4//e/9k/2P/Xv9p/3b/hf9+/33/kP+V/5n/mv+M/4D/g/+O/5n/l/+W/5D/g/95/4j/jv+b/5//r//L/9f/5//x/+T/5//5/w0AEAAJABAAFgAeAB4AGQAbACcAOwBTAGoAWQBNAEQAQQBDAD8APQA6AFIAbAB0AHsAewB+AJgAsgCyAKUAkQB9AHkAhgCUAH0AbQBbAE4ARwA5ADYANAA5ADYAJQAYAAoABQDx/9D/vv+o/4r/fv98/2v/av9v/2v/XP9g/2j/cP97/37/ff95/3b/gf+M/5b/nP+m/6n/t//L/9f/5/8AABcAHwAZAA8ADgAqADsATQBOAEQANwAyADUASABeAGEAYgBXAFsAZwBvAHUAeABwAFYATwBWAFsAUgBZAFQAUAA6ACAAFwAMAPX/2//X/83/yf+1/5L/g/+D/4r/fP9//37/eP9+/4b/jf+l/6b/nf+i/6j/vf/N/9T/u/+j/57/ov+1/8r/2f/c/+z/8f/6/w8AHwAqADoASgBPAEgAMQAWAAIADgArADsAPgBKAFEAUABYAGsAdgBxAGYAWgBTAE0AawCAAHcAZQBQAFAAPgA0ACYAHgAoAC4AMAAkABMABAD+/w4AHAAcAAoAAAD1//X/7P/x////BQAAAOL/1P+1/6v/vv/H/7n/pv+m/77/2P/g/+v/8v/h/9T/xv/A/7//w//b/9v/2f/1/wMADgAUACUAMgAnAB4AGQAJAAAA9//i/9P/wP++/7f/yf/T/83/yv/U/9P/yv/C/9D/1f/O/7n/nf+N/4X/iv+X/6D/pP+v/7f/sP/M/+7/AAARABgAFAADAP///f///wIACAAOACMAMQA0ACgAHwAtAC4AEQAaAC8ANQBAAGIAfwCVAKcApwClAK4AtgCnAJMAhgCLAJQAlwCkAKkAlgB8AG4AYABOAE4AUABIADsAIQADAPD/8P/9/wgABwAOACEAHgAVAA8A8//U/9r/xP+W/4v/mP+a/4n/g/90/23/bv95/3f/Z/9k/1n/Xf9q/3z/lf+s/7D/t/+l/6j/xv/S/+f/BAALAAsAFAAqAEMAWABJADgAKwAiADgAXQBdAE8AaACJAIMAlACNAHQAdwBtAGEAYABhAGkAWQA5AEgAWABMAFMAWgBdAFQAMgAeAAEA5P/m/+7/9v/5/+n/1f/Y/9H/vP+f/3f/a/92/2f/Vv9S/1L/Xf92/3//fv94/3//nP+I/2n/Zf9i/27/f/+D/3L/Yf9z/6b/s/+v/6r/vv/N/8j/1f/f/9P/wP/M/+r/8//2//3/AAASADoAPgBFAFoAZgB3AKQAxgC9AK8AsgCqALYAqwCnAMcAywDMANoA1wDQAMUAsQCZAHcARQAkABwAEwDu/8j/w//P/+P/5P/Z/+f//v/4//n/3f+o/4j/hf97/4L/gv9f/0//Zv+I/5X/k/+U/5H/lv+4/9H/xv/C/8T/zf/j//L/CgARACAALQAxADgALwAvAEoAdwCNAIUAeQBwAHEAbQBvAHMAcAB7AG8ASgApAA4ABAALAA4AGgAhABcAFQAXAP//6P/Y/73/s/+z/6v/nP+I/37/fP92/3f/b/9z/4X/nv+3/8j/0P/Q/9n/2v/S/8L/v//F/8X/2P/y//j/CwAWACEANQAgAAYA+/8FAA4AIgA9ADwAOgAyABIABQAEAA0AGgAxAD4AOQAuACUAGQAQAB8AHQAhACwALAAvADoASABGADkAOwBAAEUAUAA5ACEAIwAnAC8AMgAwACMAJwAoAB0AFwAJAP//9f/3/+z/7f/x/+3/0P/F/8n/2v/c/9L/0//a/8n/xf/a//H/EAAdADEASQBdAGIAaQBhAF4AdQBzAFoAUgBdAGAAYgBfAFgARAAwADYALAAkAB4AHgAaAAkAAwAMAPb/4P/d/9L/yP/K/8j/xP/F/7//s/+3/7//x//G/8j/u/+o/5D/iP+P/5z/rf+m/53/ov+g/67/rv+X/3r/af9r/2H/W/9d/33/hv9+/4z/if+D/3//kv+3/8H/xv/J/9b/9f8EABgAPABaAGUAawBgAFwAYwBqAGoAUgBIAFAAXgBnAIQAlACWAIQAbABXAFwAbQB1AIIAZABPAEcAMgAmACAAGgD//+T/yf+0/6r/ov+O/4z/kv+b/6r/tv/A/7T/pP+l/5H/gf99/3T/f/+d/63/oP+c/6P/s/+2/7j/sP+//9v/+P8SAC8ARgBIAEcAYgB2AHYAawBRADgAOABDAE8AaACEAJIAqgDSANMAzwDBALsAzgDaANkA4ADxAAIBDAH4ANoAwQCzAKsArQCgAJAAegBvAF4AVABTAFUAWwBRADwALAAZAP//6//p/9n/vP+l/5P/fP9q/3L/aP9N/0T/UP9s/4r/ov+j/4f/ef98/3//kP+h/6v/uP/H/8T/vf+9/8f/wf+9/8j/zf/J/9f/3//6/wYADAAaAEEAVQBaAFwAYgBaAFkAYwBpAGUAZgBxAHIAYgBQAEoARQBJAD8AJgAUACQAIgASAA0AAADg/8L/tP+n/5r/iP+C/3v/YP9A/zH/L/8w/yX/KP8n/zT/U/9j/23/c/99/4v/j/+d/6H/pP+r/7X/t/+9/8P/xf/E/9L/2//M/9T/7v8AAPv/AgAJABsAJwAkACcAMwAzADIARABHAFYAWABPAEkAQwBOAFYAYAB1AHsAbABbAEwAQwBAABsA+f/g/8v/xP+w/6D/lv+D/3n/X/9J/0r/U/9U/1n/aP9h/07/T/9A/0n/a/+M/5L/g/90/3X/iP+h/7H/wv/W/+D/0//M/9H/y//k/wMAKAA+AFYAYQByAI4AlwCUAI4AgQBuAGwAdABwAGkAcwCNAJwAoQCuAK0AqQCvAMEAygDLAMYAtACtAKcAswDMANwA2AC8AJEAjACUAIsAiQB9AGwAWABIADUAJQAMAPH/6P/g/+b/8f/0//X/6v/U/77/rf+1/9L/4v/W/+b/7v/e/+H/6v/j//n/FgAkACAANQBHADwANwA7AFMAawB+AIwAewCKAJgAmgCaAJUAkQCGAHcAZwBoAGoAYABbAFkAaABqAG4AbgBbAEkANAAvABwACQDv/9r/0f+0/57/kf96/2P/Tf9O/1z/aP9o/1X/SP83/yv/IP8h/xX/B//7/vH+BP8M/wz/Gv8m/zL/QP9W/27/f/+X/6n/p/+j/6H/qv+u/8r/5v/p/+7/9P8AABMAKABVAGwAfwCPAJAAmgCgAK4AwwDUANgA4ADfAMwAzADCAL4AswCoAK4AtgCqAIsAfgBjAE8ASQA7ACkABADj/9L/xP++/7j/qv+k/6n/pP+h/5n/iv98/2n/ZP9Z/1f/X/9g/2j/af90/3r/dP9x/2v/Yv9c/1f/V/9S/1T/bf94/3r/fP+Q/7H/u/+4/6//qP+t/7T/yf/e/93/1v/H/67/sv/H/9P/1//c/9D/0//Z/9X/1//e/+T/8v8HACcAPAA5ADwAOwA3ADkAPQAxABcA7//b/8j/uf+1/6b/lf+N/5P/rf/E/9j/4//j/+n/5//j//n/AgD9//b/9P/1/wsAOgBVAFMAXQB7AKMA6QAmAUkBXgFXAVkBZwFYAUgBSAE8ATYBLQEgAR8BHQEeASoBLQEkASIBJwE3AUsBYAFwAXgBeQF6AYMBcAE+AQgBvQBsACwA7v+2/6L/gP9t/2z/cP9y/43/sv/a/93/y/+0/37/P/8D/8L+ef5W/jr+Kf4b/h7+DP4O/hL+Kv5F/n3+of65/sf+1P7H/sD+0P7B/sX+3v7//hn/YP+g/wgAUQCsAPQAIQEhASIB1wBoAMb/If93/s39Vv1U/XX9CP74/vL//QCGAuEDvARmBYcFrAQxA8kBk/8q/WL7Sfr1+Mf4tvkI+3z8Ef/CAYgDXwUgB7sHNQcKB+cF0gOyAUMAM/7X/JD8qvzA/Lr9bv9ZAKAB+QLPA58D0gM2Az4CGAGsAGj/Ov8R/6//DwClAb0CIARJBWkGjAZ/BjIGDgWJAw8CkwDK/r/9Gf13/Hf8SP0W/u3+QQBBAeQBIAJsAn4BmABA/zj+VPwr+zX63Plb+fT5zvq2+8L8VP5Y/+L/QwBWAOH/6v4v/qT8z/tA+gT6VfmA+Wz5J/ok+/v7+Pze/Qf/Mf/N/00AhwCn/08AYQDN/z7/GgCD/6r+NP+h/8j+nf7H/4f/6f7K/6MALAB5ADoCIAJEAkYDcATsA2ME4QSjBCUEMgT+A00D6QKxAq8CqQKeAgcDwAMiBOEDogQjBbAEeARhBeMErAPPAw0EmAIYAhQD9gLMAWsCIQM0AowBbALwAYsAcQCuAFf/L/5a/uX9z/yr/Ev9LP0u/b39bf5v/nv+yP7q/kT+zf1w/RD9Tfyh+7n7qvt4+5v7ePzF/Bv9uP3I/sn+uv7f/uf+2v1V/QT9e/x3+5v7vvut+7L72vxa/bX9cP5x/33/Yv/a/37/k/7u/R3+J/3J/O38uf08/ff9K/8FADAAZQFGAicC/QG+ArEC6AHIARwCfgHgAE4BeQEhAUIBQwI+AjgCoAJ2A+gC+QIEAyUDLQJQAlkCMAJ4AekBFQLtAeEBhAKcAk8CdALTAo8CKgJoAnUC0gGcAdkBfAEVATYBdgH/ANoANwEPAakAzADfACsA5P/e/+//cP+9/4T/jf9P/8D/Ov+A/2X/Tv/g/oH/Dv+w/s3+ov+h/qv+e/8VANH+cf9AAMH/g/6y//3/l/5e/oj/Tf8j/un+1P9b/6H+4/8tAKr/NP8MAKP/Jv/4/t//jf8u/1D/VgABALv/TwBhAbQApACLAdIBlwCRADoBlgBy/ywA4QDR/4j/vQAMAQcAqQDMAUUBXQBqAfwBqwAcACUBswA9/5X/uwCn/9z+AAAFAWr/fP/EAJMA0/6P/10AH/+v/ZD+1f5l/dL8bf50/mf9yv2O/zv/o/6v/ygBJgAK/xkAaAB+/oH98v7i/Vb80/yF/kr9I/3I/iMAAP/m/zcB9gCn/58AXABx/8f+Vv9t/lz+f/7u/gf/vv8jAJwAFgE+ARYBSQFmAe4AbwCjACIAjf8MACoA2v9UAIIBKAGiARwCngL9AaACPQLtAUABXAF9AFIARAA7AAAA6ADbAJsAYQFCAjwBUQEaAjABdv/y/+z/X/7p/UH/z/4G/iP/hAC+/wgAjgHqARABggHOAeIA8f+s/yr/eP7c/ff9H/42/hj+Gv/1/yoAYwB/Ad0BAgEQAVEBfAAG/0n/wv61/Vb9Nf71/SH+F/89AE8A5ACbAdUBRAE+ASYBlgDM/5j/h/8P/8D+YP/h/4X/t///ABsBSQDHAIwBUQA//woA3v8R/gL+pP82/zr+sv9xAW0ANwAGArEC0QDkAPgBEgGy/m3/dQAw/+X9DwBYAUcAhgA8A3ID5QGPAhYEVgKOAFIBogFY/6T+p/+O/yj+y/4IAEcA9f/IAHMBYwG4AJ8AhgC9/17+Nf5r/s39Lv0X/sP+bP6A/qT/4/+D/77/OACv/yj/l/77/UD9Av2M/Mv8Jv1M/U/9hv4M/73+v/69/5H/2v4+/8P/3/4Q/sL+nP65/aj92P7c/qX+XP+sALIAywDQAYICnQFeAR8CxAFwAHsAJgFXAIj/iwB+AZkA5QDDAvYCwgHcAigE3wKIAdYC2QJzAMz/dQG3ALr+4P+eASsAg/+rAagCDQFhARIDCgMFAR8B3gHAAH7+q/6k/4b+Iv14/kYA3/57/hoB0ALHALABSgThA0EB2QIsBCUCAwCIAW8Bq/5r/e3+Nv4U/LL80v5s/sv9FgCBAjMCYQLiBNMFIgTwA54EmQLl/2P/ov4o/Pz6kPvk+9/7hf2o/9sAvQE7A7YD6QIiAjsBj/82/dL7rPqg+d/4wvlR+hj7rPyF/vj+bv8+AKf/k/4J/i/9Yvv4+vX6afqc+jn8Iv17/Yz/5ADcAAgBRgI7AScA5/+t//D9qf32/c/9hf08/hv/sf8PAJcAXwG0AaEBrgFbAvwBFwEeAWEBLQCo//P/ov+n/iD/BQBoAPQALwIMA54DUARcBEUEIwTbA6QCUgIJAiIBWQAIATcBxwAiAZ0CAQOZAkwDJQQpA/UBqgEqAWX/Gv70/dj99PwC/Sv+Kf8O/6P/bgEHAgIBEQEVAtQAvP7+/oL/xv0z/Qn/3/9I/7gA8QJeA+QC3wP3AxIDuAEDAWIAcv8K/ub9Bv/c/gH/rQAHA6AClgOFBT4GeASyBJ0EjQKaAC0AkP8m/gL+BP6z/u7+ff9LANQB1wFYAQgCMQI+ABv/h/8x/i78ifzW/Hr7Q/uq/JH8WfxL/TL+8/0S/lH+EP7o/ar9Mf0J/aT8Jvwr/JX86vv4+7j8Dv0B/Vf+Pf/W/jX/CADn/5f/AAAMABD/yP4U//z+wv5W/9H/HgBpAKAAIAFbATwBUAHSAVAB0ADwAPUAVgAAAGYALgD//8j/mQCaAP8AMQHDAcoB4wHLAR8CtwELAekAzADO/17/bf81/9/+Hf9j/03/K/9J/0z/Hf+s/uf+zf6d/pj+Hf98/4P/1P+eALMAowBlAaEB5QDdADMBqAADAIIAIgG2AI4AZgECAsoB3gFyAmgClAEyAVkBAQEcAC8AAgHAAK4AfwGwAqEC3QLZAycEhQP+AogD1ALgASYBZAGrANf/LgDBAMkA3QDLAWkCiAKJAtUCtwL0AUEBjgDr/83+N/76/eX9Z/3E/V7+nf4I//T/cQDZ/97/xf8P///97f1l/WP8UPyz/Gj8pfwN/Rb9Pv1O/Yn9R/2N/e78rPyv/HX86/tS/CX9k/xp/Sr+Ef/f/tf/WwBGAJEAWQBiALn/wf/c/iH/hf4//hP+yv7Q/qj+0//l/zIAx/+XAAMApP8y/+P+Yv6r/cX9IP27/Vz9RP4C/7v/LgCxAFkB4gAPAeQA1wD//wQA5P+2/wcAYAAaAXYBRgKRAoADrAMMBAkEFgRFBOMDhASGBDEFeQW1BkUHYggiCZMJsglBCSwJzAe7BuAEoANdAdr/Fv7b/HH7Y/qS+SL5N/me+If5Rvk2+iT6FPsx+/v75Pt0/J38Cf0M/TL9X/01/Sf9uf3c/cz9Cv6k/p/+j/7m/jf/q/6l/lD+ff5f/pz+9v7i/5YASwF5AlIDNgSGBDIFTAUnBc8EBwVFBD8ErgTABNcEzQX9BmUHVwgQCb4JiQlaCbAIYgdkBm4EzQJqAS0ATf7R/Yz9p/yQ/GL8rPzf+yb8r/sI+/T5m/mR+M33Nvf89h73RPcb+N/4KfrT+qj7uvyL/Ub9mP2t/Yz9vvzb/L783Px4/Ez91f1e/rb+LP/m/1b/nv+m/gL/vv2r/QD9hv0I/dn9Tv4y/1kA+gAqArcCnAODA7kDcwOEA3ACPwKzAaUBLQFcAXEB8AFfAQIChwG0Ae4AOAAl/0X+/fza+1L7Rfr1+ez5U/pf+gv7Efxv/F39lf2A/u79xv7c/rj/GwCNAYwCZgR0BhkIXQoDDOUNmQ4OEAQRABFAEc8QMRGgD28QsA5HD00Niw2JCt4J1gb4BGoBuP5b+8r3CfRk8Hft4ekl5+rjbeLm39ndIdzH2/7acNqt263dAeCL49LoiO4w9VD8DwShDNATchtgIssoLS5FM8Y3SDxGP6dB3EQNRhhHH0ZWREdAzjoHM3Qq0B/2E2MHAvu87mPi6tdwzmfFUL0NuOSyca6hqtuoZaYMpTyk8aRmpaumRqoZrrK0S7zwxojSvuDe8lUI4RxGMZNG+VgpaRNz43z/f5B+gHnOcw9s5mKPV/BOaEaOOosw4CY2HA8PPgI69gfo4dqJz9DEQrtPtNOtXaqRqTWp46lQq0CufK+5sl60ULVstTS34rkPv6/H+M1m29jvXgUUFr0suEK4U05e1GlUcQxvLWu2ZuphRljETTRFN0AlNiEtNyYOIaAX0w53CW4C2/fo8QjvC+ur5mfkN+V75QPlmeT54vfdGdbj0NTMT8ZmvsG8Fr58vVW+NMJhxb/ED8f2yVjMYMms0Afd4+lx9NsFtRr5K7I5vUlPV2NaHFwTXjBf6lfFTsdJPkS1O4gzGzCkLLYmRCEHINYZRxASCeoAzvhm7cnluN682RzUN9FYzvnJF8SSwQXCJL1ou6u6iLyfuhm8r704v1/AFMROxlLOt93V64T54Qo/HuUtJDqYRvpOt1DGUBJR2VBoTl5II0XcQYw8djXwMVsryiMWHfsYuBJBC30HjwPYAEz9tfyB+jn7Kvnq9onyF+3e5Rrc+tQizc3GBsLTwFjAfsGUwGzASMERwQTBUL5MvbrGstFv3k3rAACzEiQjKTDZQHVHYUinR6hHlUaKPZ04VTTmMBwpKieBJF8hnBuPF6wVxA7SCqQF8QO//zz+IP4dAWcBxv8LAFz7EPc87Rflc9qE0SfKgMZ5xOfCr8K4wE7CnMBpwVa/uLm6vozKwNcc4g/0AgjDGpUnaDeHQ7hFwUbnRKBHSkOFPEM4DTayMJArnyodJnkjGBzrGcAUtRBrDfgIBwgdBvQHBwibDH4J4QipA+P8UPRz6GLdH9E7yjDFwMQywvHCB8EOv8e+Q70QvIu0EbZ5wTrQGd097hYD1BVHJcoxpD68P1g+KzszOiY58TFELncrfSnBJJsl1CHaHWEZGRONES8MOQzwCD0KBwsiEBsTdhjmGZ8UUhIRBxj/TPLo5ObXLNB1y0zKjclGyMjHJsHev3+77rWisMSncLC9vgnSTeAI94MLOyCmKv02SD7uN8E2lS8LM1Av6i4GLCUtrCqPKdAneSHRIfUVKROuDIwNCg8rEGkTVRmBH/Eh2yZqIW0elRB8BMv4jOp53afU3s++zyvQDswdy+DDab3+tq+utamnoE+l87TGzF/eTPMNBX8aaSYaLaQxcS3zKQgjGiPZJp8pBCkWKeYoWCjgJ10eCxzSFOkPiQxvDVwUHxtSH5YlWC5fMAMyiyu5IsUXDArh/NjutuPr2tnVAdUb1iDSP8udw1+6GbYQrd6nv6BAosez9cp65qr1BAlHFQMmWCgkLBQo3iH4HyQdDycyKnIw+iutKmkmgiRSHFURWw5HCFYLbwwwFWIfYicFLBAxzTMTMlouPCC5FRkLdwBQ953qOeII3FPZANYy0pbJV74isoaoVaTAn3aeq5hzpY65utnJ7OH6eQXqEjMcbCBIItYcqiFdIWUp+DAiNuE4STJFLLokAiJUF2ETDA82Ek8YGB4YJ7Is7DGnM50zEC63Kisj1Bk+EEUGXQBC+MbtpuSk3DnY2NMCyyu/CrSXqrilq6Ijokygy6I6sJjHq9/g7mH3SACPCucSbhsgGj0ZOB0HJDMvazJaNLQw+CvnJNchqBsqFLMTAxN1GuYhYStVMQw11zQVNyo4xTEWLXYjohvnFmwQGQnp/t70iuqi5AjcANZWzI3DkLqnsHOs16h1qsemQ6e0rYe84ND/4d3q9+779Tv+wQuoEXoR4BLZFiMkVC9TMdAqPiZ3IpUmkCYjIMkaIxh9HswkfSgjKAUnPCQUKG8pVST8HmkY7RVxFT0U2xNbEQYP5w9tD4MLoAZn/6H1f+mp3ADSlMdfv1e5crTSsHyx27D5sbK06bYJuW+7lL8HyLTU0t/H6+31KAFqDxoahCGiJawn7ioIMfI1WTjxOJw8HkLxRadICEYvQg1Cl0FIPy84BS/mKtYotyPxH0oYlQ8jDHwIsQKz+D/vCudE3fTUFs0KxAi/c7pBtkWyOKoQq5OxC7H7sp21Hba2wpPRSdvJ4srkq+5u/+0Ifw98E2sTYBvjKHIwYzBEL/Ax9TfRPZpDi0IkQMM/eUIDRXdApDqONzswmSuPLaYoAiKNHC8U9QucBND9wfVr6jrgm9mX0sjMMMY/vga1660+re6p3aYLrKewaLQ8vL7AfMcT08Ld1uem7mr1xgObD8IWxB4lIpUkXi3tNAA4kzjtObk/xkQgR0lIjUSZPm0/ZkH1PB42TzFMLUEqfScwIV0Y5g+UCcYFbf5y9Fnugecs3YjWK8/VxVK/a7oktQax2qyQqyqvirLRtci63r22wt/NWdkI4cnn5e0299ECWAvoERwWLxiQHmEnICxSLmIvuTFlNms67zy0PPw49TdaOmU5VjXMMJksNSmBJnIiqRxiFY0OLQkTA677IvXt7r7mQd5N2DTSjcvzxXbAArvTuJ22+bX4uJC8usC2xmHKodB02j/kt+wK8zP4OgKYDKEU1BrFHYggySb4LTszpTOvM7M3dDwdP3VBPz9PO+U60zw/Owc2ljDhK4Uo2yT8H3QZNBF7CUMFZ/+y9hfw/ugB4MTYs9J3yxfE6r5xuk62yLOtsfWwM7X5uQW/YMWPyJLO2Nnh4g7rSvJU9tH/XgvXEgQZgxwrHlQkpSv9L6Iw2zAiNfk5xj2KP6Q8VDlAOeQ5kzixMv8reCmTJbAgwBtPE54KEgUlAID5l/GE6tzkZ91K1kLQrcmPw2e/E7z0t0e1DrVotaO4a75hw9bID86806rdG+en7vL1DPv0AsEOBRdZHAYgYyJOJ0kuDTMLNH80CDlDPqVB/UI9QDU9rjxLPMY6MjWKLrUrUih+IkQcDBSCC/oE3P9g+cfws+mX4yPcNtU+zuXHrcKgvau6PLhLtcm0eLUpuC6+zcP4yZjPY9Q83W3nde9+9n77cQImDCoUsRrpHkYg1yTuKzIxBjNPNBs4iTzIP0xBET80O1Y6NzuFObAzIy76KhQnACKnGw8T+AlxA+b+UfgA8HnpkON/3MPVZ89lyZ7Dar/kvDy5jbaJthS3nrnZvtvD3slrz7bUlNz55VTuFfZN/MgCsQuCFNgarB/EItwlvSzkMrU0jzeiO60+SUL9QmVA3j2ZO/k6qzlQM8wthCpbJUkfdhiSD+kGOAAw+wH1Je1+5kjgF9m40fPKt8XjwJq8OroMt160GrU8tky4Rb2BwjjJWtDU1UPdcubV7lr3Tv60BBkNwhVMHfki2CXaKGguPzRJN7I5IT3GP31CK0QAQsU+FDweOr84RDMwLakp1yMgHUcX4A3xBJX+kfjz8gPsp+T83jjYRtHay4PG0cFyvj68Oro2uHq4dbkVu4PAQsYhzH3T7Nh+323p5/GQ+WIA/wVmDl8XbB4lJAsnKSkfL4Q1ITgHOlE9tT+PQkZEuUG+PVg6nzgZOKIy4ivyJ98hlBsaFhgNngOW/Iv3JPOQ7OLl+d/H2OzR+ctbxhDBlbz8uoW5Orejt5W4R7mzvY7Dvcm30MTWAN5353bwAflxAEEGFQ36FcAd/iLvJjMqGS4lNCw4JzpQPWU/n0GiQyVB+z1oO/s3tDbEMvUrkif4IY4byxXpDEgEMP3w9uHyK+365fvf0Nga0urMxscdw6O+DLyeu/a6dbtdvF+8l78lxmfNn9RD2v/fi+hU8s77OQNAB4EMDxVLHYsjhycJKaorhTHzNio5fDoPPA4+SkDpP+A8MjldNfwzPzK6K50lnyAqGn8UNw5jBdT8ePaf8i/u0+cV4frZn9OozinK28UUwGC8xLxhvCa81LyZu5S9m8S7y67SINg/3HjkUO+7+GIAxwSvCEIR8xrWIYsmKCjcKQkwRDaDOK85jDrmO44/6kA+Pkw6lDVgM+gynC39JmUh9xmGFJwPBgcO/mL2AfG37YLo++F1203UAM+9y6zHGcLsvcu87Lz3vQW/i75Lv8PDK8tg00nZON4Y5f/tZ/gZAv4HhQsIEXQZcCEvJ1YqYisxLsgzNziQOgw7+DpJPTI/QD7YO+I2FDLhMNctKigfIn4aOxSnD/oISgGo+Brxbu3n6fjk2t701iLRwM2nyiDHpcF2vQ69D75FwCvBob/hwW3IV9AK2cTePeIn6RHzrP2MBpUK1A2RFLwcGSUhK94rKCyXMFw2jjrfPFw8hjuDPW4/1j55Oxw13jBhL0YrniZtIPAWeRDlCwEFvf0u9abtYOn75GvgjdoV0gXMvshaxZ7BRb3cuQ25aLr1vOS9sL0fwWnIHtFt2U7fDOQC60H1qwCjCIcM0BBdF8QfSyg8LdctES7kMSg4oDwkPn89jTxjPUE/dT9JO9M0DDE5LqQqhCbrHkwW5Q9/CokFE/679JHumOlH5djhf9rP0VDM3sjkxkXEsL9tvGW77Lw4wCvBUMHvxGnLBtTk3JHi9uaw7Sz3vwFNCYYNmRElFwofjCc9LMUsXS3xMAU2Pjp/PHU7KDpcO748kjz8OAYzTi9WLIAolCRNHYsUig4nCUcDAvxc88Xs/OeI43ffxdiK0GLLYsi/xarCLL6xugK6cLt6vsm/vL+qw87KR9Np3KPiMOeK7nv4IAM4C6cPshMnGbMg7yi1LVEu3i4OMsY2SDvZPcw8GzuZO788ezz5OLgzaS8CK8wnNSRqHGYU0w11B3MC2fvm87Dttefl47/gp9mG0pbNX8kdx53EcsBCvQ68mL2fwNbByMJZxinMKdTz3Dzj7+eY7vn3EQLcCeAO5xJsF10egiZpK2YsIC0BMD00ZjhNO7M6yzh3OQ07TDu7OMozjC+sKx4oRiV6Hr4VuA87CqcEkP6r9q7v/Ol05Qni7NsW1LPOIMsjyDnFZMGRvXS7PLwAv47AoMAewwLJYtDO2FfgQ+Xt6v7zv/6XB/wMghHbFhgdRSU8LHMu6y68MVM2NzrfPNs9Xzy2O489PD5/O9c2mTIdL1ErvycYIhsZ3hF+DXMImQF9+Q/yNezF5xflw9/N1h/Qmcz2yZTHtsPqvpm7cruhvtHAAMBdwCLEmso808Lb/eCm5I/r3vW2/yQHGwwTEBUVthzBJd0qYCuwLAwwMTSUOO86Njp7OEI5CTyeO/g36jN9LycsDipEJmAfCxdSEZYNMAjVAY/6PPJG7OPoGOWt3rvWuNDLzA7K/MchxPO+ObxbvQTAXMEPwmfDxsbSzVPWM91m4mLn9+6C+HcBAAn3DeYROxhFIGQnnitaLS0vvTJoN786fDucOt05LTuXPCs7kjd/Mhwu8SsQKTMkGx3cFJIP0wtoBpv/7Pai7svpneYU4yrdNdVAz+rL38lYyNrEV8CFvrS/fsLwxALGPMf4ycXPddiu34Tkvelg8O347QEFCXEOERPKGBcgByauKqkuFDB0MJ4y/jZjOxY8zTmiOBk5xTi1NRswUivrKJYmfyL2HF4WGhD4Cd8CIvz99evv6Opc5nfiA9/I2f/TEs8ny0jJA8huxpDFZ8WIxg3I4cg9yjzMks/N1Jfa6+A35zntSfPA+IX++wTACo8QqhZkHOohJiezK4Yuvi/QMVk1VDjKOX86eToeOTQ3UzUsM0UwnCsEJkMhWx2HGbcTkwskBDv+5Pj887ruL+m645ve3trb127UrdAszS/LPst+y8bKJcoCy/PMIs/A0ezUqNjE3CHhEuZZ66vw3PXO+k4AKQZOC/8P0hToGYUe3iHJJMcnnCppLYYvXjB8MAwwhS/aLlotyipSJ54jgSAxHeAYvBMtDsQIGAQBAKn7vfbr8bXtOupa52TkLOFU3m3cg9sD247aVNpT2rbauttX3Snf4OAd4wjmHul+7KPvX/Ki9T/5w/wiAEMDqgYnCnsN7BDTEyAWVxhmGmEcIB6OH3ogzSAuIQwhIiAMH3IdhRt+GREXjhSnEXkOigs1CLsEnQGK/mz7Pvg69a/yTPAm7g/s7elU6CnnGOZc5frkzuTJ5ETlT+Y15xfokekz6+fs9+7E8HvyyvRI98z5Svyl/vUABgNjBSIISgoTDPANxA+5EX8TyBSnFSAWRRZgFoIWZhbTFeoU4BO5EkERpw8ODh4MHgpmCOAGRQVNA2EBr//j/VD8z/o7+SD4L/cv9jX1JPRH867yQPI+8kjy7fH08Yjyx/IV87Xzz/Mj9A71x/W49rv3ivh4+Tb6LftT/BP9F/4U/9b/8QDZAaYCZAOnAz0E3gQKBYkFygXVBU8GdQZfBjcG5QUdBigGtgWZBSoF0gQoBRUFrQQ6BJEDSAM0AwYD1AJfAhwCDQK4AWoBOwEDAbAAXAA7AC0ADwDe/8X/zv+I/0z/Uf9s/8f/tv9S/13/lf/3/zYAIQAuAPn/yf8HABEAGwAWANT/4v/g/6T/e/8t/+/+yP6T/n/+Rf7Q/WX9G/0H/fP8nPxO/CT89PvW+7j7Z/sh+y77Tfs7++f6kvq2+iv7h/uv+877UPwX/aL9C/5y/s/+cv9xAF4B2AH8AU4C/QLYA50E2wTfBD4FywWABk4H2AchCDAISgihCN0I6AiFCN8HqAeZB3MHKAdfBpcFAwVaBNMDWwO6Av4BUwHaAFEAof+9/qD9uPwS/FH7kvr++Wf5x/hG+Lv3Mffs9q72avZA9hr2H/ZQ9n/2l/aa9tf2QPeY9xT4o/hE+ST68/qc+178P/0u/ij/QABnAXYCgQOlBKsFbAZDBzEI9wiqCRcKXgrBCvoKHAssCwQL0wqCCi4K6QluCdYIIAhfB6YGygUHBTgEJQMbAh4BHwAU/wH+Lv13/J/7jvqF+dj4LPiD9/f2MvaC9SD19vQG9ef0qPSQ9Mb0gfU/9sD2S/fp98j42fkX+3T8cP1T/pL/8wBhAr4D4ATkBQkHUQhXCQgKhgrjCmoL8QsaDPgLuwuQC2MLAQtuCqcJ1QggCHUHpQaJBVsERgM2Ai0BCgDN/or9O/wT+x36P/lY+Fv3hvbz9YX1G/Wo9FD0K/RB9Gj0e/TO9Gr1AvaP9kH3I/gD+fn5Mftn/Jv90P70/0kBoQKqA5wEogW5BqsHVwjtCGgJ1wlNCokKigp2ClYKIArACV8J6AgOCBoHWAaWBbsEwAOdAn8BcgBb/zj+Lf1A/Er7ZPq4+Rf5cvjX90v3+vbg9tr22vb49mz3CPiI+BH5svlc+hj78fvY/Lb9fv41//3/8wDGAT4CmwIeA7EDPQTCBEIFmgXaBQwGLgYkBgQG8QXLBYQFZQUxBcIESQTIAxwDXQLBAVEBsQAhAND/av/F/h/+jv0k/bf8c/wx/Pr75/sO/Cv8Yfw2/AX8P/z2/Gj93v0y/p3+9/6s/0EAygDqACwBlAGAAuAC+QIRA3wDfwO8A8MDwAOOA6QDoAPoA9oDiQMSA/8CswJUAuoBfgH+AMAAeQDg/zz/kv4Z/sX9aP3G/Gb88PuF+zb7WPtK+yD7Dfua+xT8UvxL/LX8B/0n/Zj9Y/6b/vr+/f+sAOYAfAEQAgwCTQK7AiUDTwM3BIYEJAW3BLsEXwT7AwYDHQOOAhsCggLiAmYCoAF1AW0Am/9v/13/AP++/mf+3P0K/XX8hvz6+0X7+PqS+wj8nfuU+yL8WPxS/PH8Xv1O/fT8Rf1g/av9oP4w/5L/NAAJAB4AUgB1AY0BLAJ3AuQBLQFZA9AB0v4hAZcGyQY0B4cKCwvEBegDxgFP/iX80/59AWsH6glQCG8AtPuf9jXyU+90+AACawW9BO0GWf4D7tHmY+mA6ejwOf83B3oGoQceBOz4DvOn92/5GPyXBSQO8AxwC9YK8QWbAJYC2QTgBmUKmg1fCtYMfwynBiD68/um+1D5BfjAAav+sP5tBJgKv/1P+RP8s/tl9jz+qwKY/if99QTQAVH5zfjy/k78Rv7NAyEEJf3M/5ABDP19+Kn9q/3o+93+SQIh/iL8ngAKAeT+AwBWA4UAJgHSA7EDRv8+AN0BkgHRAE0ECwXYBTcGdgghBhQGKgRxBAMDFwX1AvkDSQQXBpoCQAJtALn/Wf29/k3+U/7W/ED+5/0d/LL5bvqr+Ir42PmK+hf5bfr/+vX4RfgU+rX5DPmR+/f8Z/xR/DT+CP4l/VX/gAPqA5MEswUIBa0CmgGHACr/CgDaASsDGwROAxQBMwCv/gj9zfxc/mgAZwJzBJ8EXAMjAoAAEv+a/tz+EAE2BFkFjAU3BRgDygAp/qP9Rvyv+8L9UwCiAPYA0wDo//r8Fvuh+zL73vwh/lcBxQEgAjoBuAKEANz/vv7kAH0AewENA/YDPALPAfkBIgFWAAD/ef9C/sf+9P5OATQBYgI3AecBEgAeAEf/aABO/wUA/f/3/73/3/8UAH3/BQA3/5D/ev4zAF3/8/9Z/vn+bf0q/mr+lP/P/hX/LgCGAA0B+ABsAVj/Xv9K//P/KP+IANMAIgF5AA8CigFaAKP/Df6G/Fz7kvsN/Xf9Uf3M/dj9uf2G/Kn8zPz5/F/9BgBIAYQBDQH/Aq4D5QQ+BT0HEgeZB6AGEwh0B+UFbwRKBRMEbgSPBHkHewejBq8FbQXJAiIB+v/9//b+UP0a/jj/Bv44+2/6GPeR8hTtbeyX6Q7nauaf5zjnSOcI6ZHsSO7N8BP2/vpm/4YC9gaEC7UOehIRF3waVRssHvYgnSIEInki4h+7G7cVaRLuDrsLagm4CAcGlgLk/93+U/wS+Rz4Zvl0+Rb5afnm9yDxhOxv6nzoHuRI3yDcbtq11Y7TKdO70zzTD9Wt2j3hcOYQ9soM5yCqLZM5v0HqP/s4qjbdMX8oBiCDG3YV3AmTAaL7YvEb5h/iCOji87X/OQ2cGD4e3h+RIc8iDx4NFawPOw0nCeUCPPzC8YThTNIWzTPM7czyzfvQG9Ml0v/OxM4EzcHK48oP0sndV+qp/G4UeSnhM385RTxwOtoygS5RKgQnQCJjILsckxQ1CGD9wPMy61Hlc+YJ8kkC0hKdIZUvqjahN9kzPC7qJXgfMRsDGAsQ4wO99yLrMNwry4m8TreRuYC/AslI0IPRCczGxoDDTMAgv3PEzczX2xrx+g2SKPs4SD4kPWk4RjQwL2criihZI2oguh7WG4MSgQTt9Ejnbd0u3gDn6fNbAb0RxCXJN+lDykeVQx06PS/iJ+8jSx3+EjkGpfgJ7EzffdP2x4285LYTuSfC3suG0YHS8c9ty7/HxsRrxFbGP8vt2D3tMwhzIQo0ET3cPtk5qDXtLqMoOCJUHeIbnBtnGMoQpwQk90PsM+TU4+Xp+/SsAiETtSZyOB5El0ipRTA8YjA5JfwdBhY5C0IAFPbw7HjiANguzdHCCLl4uEa/hsifzZDQr8/vy8HGOcSsxKfFl8qJ1+nsFwcnIqw220K1RFxALDrdM6Us5CNTG0sVHxGdDWAJZwH390nuCOm+6AftAvX4/wsN9CAuNbxGflEQUyZMxD+JMDYksxdsClf+rfJ/6ofjVtxP1AfK3L2ot7m4o79bxcjIccrXyTvI3sdVyAzJzsqg0Vvhq/gOE40qnjrYQttCnD5xN5YvICSlGLwNRgeWBIAEfAGa/N/05+1y7OztD/QK+0QF1BTmKcM95E7cVEVTE0t2PN8uByExE0UD1vWH69Pm5eBi3kbXRM1Gw9W+28CJxEnGAsbgxMHDh8XFxknL5sxO0GzZGO3EBfEeMC+DO+Y//kCBPS84Li4WImoTrAk3BEUBO/8++4L2SvBw7zbxrPeJ+yMC6goQHKMuyEFtTXNS5U8+Rxc8ri0lHVQKQfnM6Zjg1tgb1Z7QzMu+xcDBFMLQxQrIX8hYyEPG+8T8w8vGm8uh0V3ZbOew+oURKSZ8NWw/pUG4P+k7DDf0LUMjQBbFDAwF0QA3/p360PXW8SLx9/I5+OP7XAP3CkAYOCeoOLBEgEssSl5FqTwYMLQgDg/X/VbtD+K32aXVCtHWzIfIFcbqxI/GF8c1xwDHkMWAxbfGJ8mFzW/SCNpg5u314wiVG6QpqjTkOas7HjqmNRsuSSUvGvYRoQo+BfoAaPwJ+T/39vYw+KP72f6tA+MIzxE1HZkoVzHMN8Q70DxqOjsyuibqGKEKFv278MLlFd6z2BnVodNW0VjQAtBEzwnPts6AzenMCsyXzNrPntM02Yng9Ogp9W8Cfg82GoUhCSXhJ90nOyeoI8ceBhrCFfoR8A7+Cw8JDwfhBOQELwVABvYGbAhuC5oQ4hWoGkkeaSG1JBQm9iRqIaMbExVZDlQHDgHN+lH1VPGG7sLrSukm5X/ioOBu3z7ePtwJ2XzWCdWi1NPVldWT1p7YV9274zTrLvGI9s76Ev8uBPMHjwoRDHMNRw8JEhcUlhUsF40YUxuEHTkfPR9SHrkc6ByQHDgd3R36HQQeAR5AHZUcARpoFhITEg/yC6kIeQQ2AYX+bvtJ+Tf1B/J/7+zso+rK50DjC+Ab3HTY0NXa0obRC9GD0PDQ39GS02HYud1R40zoUuxp8Az1j/lh/tECawbXCscPlRXwGtgfwyKzJdUnZSo/LIotviwULK8rkyzkLaUsKik+JbAhHB+QHWAZHRUZEOELWgl0BukBz/09+PjzWfG/7SnrBuca4cbbTtej01/R28w9yK7EssK2w3DFJcZAx0LKvs8713PdoeHF5eTq2PGy+cj/7ASbCkoReRl5ISMnVyzpLyw0NjinOhE8UDzZO/I7Vzt0OhE5ejUFMiYt3ChxJQIhVxz0FtoQTAyGBxwC+fw69ujwTuzu5wrkfN/A2bLUSc+0ynzG2MF2vee5yLd8t+O4OLqjvFfAacb2zSbWhdwH43XpofGJ+hUCBQirDZQU6ByqJQ8s0jCxNAI6kj+SRMFFGkUrRLhDX0QTQ68+eTk+NKYwAy+2KscltB/nGVsWGxIEDFAFKv2u9tDxEOzB5kTgLNo91QjQZcr1xES/ILvLt6u0ZrIjsV+xErNLtWO4lr2+xIvNo9Zx3ojmmO+i+cIDIAvDEHcW+BwUJSUsajB4NEk4Wz6fRLpHskhhSIJIPUudS1BJUETHPSQ6TDfdMtYsLCSOHPIX4BK5Da0FqPz/9dTwBOxt5i7ez9am0AfLJsbov0+5pLRNsaevuq4irSKtbq68sFS1M7uLwpPLCdR23Bjlsu2o9ycB3QgBEIsWKB5+JlMtLTKsNSg5HT7IQudF8EYmR0VIIkqgSwRKmkWVQB087zhRNQYv/CdRINEZNBXZDkAHBf+w9irxZexV5nXgQ9k5073ObMk/xO2+/7mvtyK2o7S9s8yytrO1tUa4FrxywcfIkNEY2gXipelO8jn8iwWYDZwTrRkTIZMo0C6RMmI0ODcQOwU/10G7QUlBxkFjQ+BEn0NmP5s6aDadMzIwOiqlIocaYxRJD6oJdQIb+obymO1W6STlmt8u2VHUfdCCzXHKesbHwqTAvb4OvgO9VLyfvNq9XsAsxVXLCtNi28viUOpM8gP7ogP+Ck0QmRVAGxkiXCiyLBkvWzGcNH44QDsXPJU7XzvRPDo+pz5JPJc4RDV6MpEvZytXJN0ctxVeD3EKLQQ1/bf2qfAz7JPoreMg3wTaRNVc0QzNn8idxNjACr68u9a5Drk2uYu607x/wBfG1M0c1zzggeho8GL4PQHTCYgQsxUeGlgf3SUwK5guTzBvMQc0gjfYOYU6bjmXOHc5ljpqOuE3tzMgMMEtcCufJ1YhHRpvE1oOwAmsAwH8IfSG7RzpIOWm4H3bJdZS0m3PgMw+yf7E/sBwvne85LuSu4a76LzIv4DEsMvK063cpOV37rL38QCvCQ4R8BbsG40gICUUKdMr9i2wL+4xezQzNlU3WDfVNsE2hjYXNqo0wTG7LqYr6ShAJh4i1BzYFloRGw1GCFwCQft68zzt5ufQ4srdMti709DQAs6Dy0HIs8QSwqG/Ar3QujW5dbkXvFTAa8ZJz8vZi+WK8X/7igQXDeYTbxrRHukgkiMOJt8obSwtLvAvUjJANLw2mjdSNh00wDGeLxMu3yulKD4lTyMXIush3iAIHTkZdBRpD8YK5QJF+UnwpuYg4GbaHtS5z2zLnsiOxwfFVcLDvpC6ubfetHuzUbOqtLS52cBDyzbY8OTa8k//LgruFD0ctCGjJX8mnyh6Kngski8/MUEz9DV5Nzs5tzhFNiQz6S7DK9AoHCY+JBkisCENIisiuSKAIO8cxhjuEZwL9AOm+q3yrune4a3cQdc01ODRds77y+TH7cJfvhu4W7LErWKqzqo6rni0Qr4SylrXtOWq8ir+2wenD/0VxBt6HyMj6ybuKh0waDXKOEI7GTv/OHY2ADIZLT4o4SOPItMk1Si3LacwZTEUMO8syydqIIUXhg50B3oD8wAG/wX8RvbE7mXlfdqX0IvHzMBYvbO7m7suvBy7j7jctFawAK4or2m0hb7GzEncpezs+q0F1g1+E8gXDR1oIo4oti8fNZ056DunOnU2FzCzKFgjqSCcIAMiUSOpJAUnSCqyLLUtIyylKAImwSPzIMYdKBg0EkgNzwfIAtz7f/HZ5n7bL9HOyvfFncMUw9/B98Clvui5BbVcrwSs16w9sa65ysQX0eHe/Or/9bb/iwc2EB4ZHyFrKVQvgTMgN9w3VTgLOGQ1EzIRLQQn1CLbH6oeLR85H38hCCXOKDIrEioZJ0EjVCBUHxgeRhvwF4sRZQtnA8H5X/D15dLbLNWbzkbLjckrxkTDOL8DuqC20bIIsH2w57Fntn+9i8T2zXLZ5uUC88r/jgo/FAYd0CM0Kr8uIDLSNfI4dTlAOrM3jDKeLWMnkiKaIB8f0B+nIHkgyyLmJa0nHSoqKpYolCdsJcgiqR+LGlMUQg6IBmf/vvfU7YzjetmNz9zJc8b9w5HCab8Vu3639bIosBuvta4/smW3Y708xqvPvNr55qHy7v7ZCkEUbh2sIyEoES3DMOU07TeTOA44ujXLMPArNyY5IsEgiiCFIVQivCLhJNwnPyuoLZUtkiunJ3IjQCBkHDsYPxNJDAQFwfs78TfmVdoN0NHJeMXrxFrEzMEZv627r7d4tfKyH7KLs3W2DrzHwwPMTddC5DXwJvy+Bo8PTBeeH58m6CvQLuAwHTOyM8sykDLRL7EqMiehJAgipCLZIzAmRihUKYItzjLENHo2TjXrLiopNCOMHNIWBA+JB0oA9/QJ63zjcto40yvNd8fmxVjHPcpgzQrKYcNVvKi0yq+0rTGszq1RtFS+fcwY3ITtg/1hCZ4SpxuaI+MrNDPoNaUxNSp+JEsg7BzhG9QZcBV0EXsSNhdcHn8mlS4lMtY0Iz3KR0ROMU5FR5U4wyW0FpcLpgIM+fzxheh53u/WxNUn1VjTnNA9zB7K88/j2areMtkbzGm9rLBqqgOrn6+ctTXAX81j2lvrCP2CEJMehy1vNmY7FT25OuI0zCZ6HYkRRA9/CXML4QkmCXAMohIjHdkkGzDRM8A7LEIGTsJVN1MwS8g5WifQFDgIzfg48Jjlu9/h2vLVrNHg0cLQu9GB0ffOYtKW2VXfUeAY2ZnJ2brXsMat3LD7tUK+JskQ1fDkHvXqBUsVjCbwM0o+AT+GPLw0GCnRG78RHQgdBOoCmAQHB1IKYg3MFN0d7yUKLxI0Xzm8QLJI0kybSFA+8C6rH9kNYgH/87nq2OO43srbc9hB1SHV0dWs1CzVhNOa0t3Ygd1a3pbamc5Uw4K65rYaubq/XsUX0cjcGene+KUI6hhUKzw4IEPdQkg/mTWjLOsbRRQDC4sIpgk5CzsOSg45EYIUWyCjJqQy9jaMPuRFYUy1SkJEWTd0J6YWIQbp+srwCOgG4/HeqtiH0xTOv81Z0M/TN9TO05PTdtkH3RHcWNQ1yMK6SbN4sSO3Rr7Oxt3Sq90X6pD4yAnvGsYv3j4dSK5HJ0DZNnwpzxp0DhcJWgf/CSEM6g5jEJISvxeSHponPzBgNe08nUfkTKRMZ0MuNbkkPBTMAjj5dO8K58jiot9s3DXXstE1zz3SHtO4053Se9Xp2sPcq9uv1kLKVr+bt5q21LsCwTDH7dQv3g7oXPWGBa0ZJzB2PgVIwEjZP380syc2Gy4R5QroBt4KJQyHDiEOnhGYFV0bpSGBLUkzwTmSQeJD40KfO1MufCE1FA4C5Pea7hjnJeMz3yHYptM/0L7PYNT81+HWj9Mh09HXVN4C3tjYSMz0wQ25MbhTuyTEHcl31D7eueYU9ooELBgvLZg/3UOYSQZA5DnpK0sfLxQ+Ek8PThChEp0RdBJyECcXYRugJc0r6DOrO+lFZUfzQ+89DTHAJJYV8Aen/Vr2uey45pXiZNpk1fDSPNSP1x/aetd+1GTWANkZ3sDd29dCywC/jbWCsh+1obdev0jLvdhM4mnv8f2dDH0guC/gPPZBcz7BMx0qgBybEPAL2AlBDYMNmRDHEdIU4Bg0G1MhgCi4LkY2B0R8R7pIpkJ+OGovVSAPEN0DyvtX9G7wWOun5rHfcdrB2incyN4t3LTYVto83azhQ+Lg3RvRjsQwtxyzHrRjt5i8gse50xrcIerv9JsEPxMbI54w6T5QPy86qy1+IcASBwomBkEGSQleDMgOghITGKkW+hzXIOgpmC93PchGcEomRjk7ly06IK8QGgPV/+/30vJz78HohuKV2QTWq9bU2YjaMtm22qrd4OCQ36Hdf9CBxDa5l7QgttO4R7+txVTSwNbo4EzumP5/Eh4lYTYXP8VDVzjKLzogDRbjDXYLnQ7oDj4TiRHmFI0UFRm9GmMj0C6WN7NDa0rbTRhIakHBMt4meRdKB5v/MfYv8iDrP+fp3xDbONXU1jzZrdso253XNdni2d/aAdjg0E3FPbsQtLSzurVgutq/uMuQ1CTg9e7J/qIPwiCqLt858D+FOhMzKCcgHaYVwhGXEuEQNRJoEgwUzhbTG88ffSjYMto5RkSKSrZOxUtARyU7ky6GIMgS4wj2/jH2J+486gjkZd6J2Z3Y9Nm43HXciNYO1XbSzNVO1inTU8gOv+m0jbHFsJaxGbcjvtvK+tIW4q/t6QCQEEcjKCxuM0Yx0CoKJDYcQRaBDmgOEAsdDaUL/gswDwcVgRgNH9MoMDBaOTtAGEXGR3tEHUDXNsAs8Ry2D24ERP3R9AbulOn34Sbfktvk3Gbfnt9P2jfZ8dlK3Obg+N4v2MnMfsAvuqG56rwVwQ7HdM+D2dTk9fHkAOMOnSALLGo15DnlNVMu/SQGHpMVXRQVEN8TQBRmFaEUcBa/GdEbJCMhKjY1VTkpQuJD4UXjQfQ3OyuVHvwPpwNh/Zz0o++j6Mzhw9xQ19PVDddG2KnX3NTV0rzVGNiz14fV3Mn/wLS5r7esuKq75b7wxfLPZdkd50TyUQE9EGsiEC8qNkA1QzBPKQ4gthmHFFsTqRFSE9gU3xdCGXEb6x4oJFYqHDNdO+JCKEd+RzxFeUCZNfYptButDQsE5/gt8V/qJuRv3MTYB9T01XXW+NZS1dbSXNJ80qPVeNR9zxvEcLobtDmztrQ6uOa+TMi50jvb/+jc9kMF4RdKJzEzFTc+M8QtwChXIBYa9hYuFY4VMBQXFnsWkRe7GRUfXidbMBY5Zz6ORJhGP0enRYBBfzecK8ccEw8+Ben7dfPK7Pfm+eD63ZbcGd6p3sfdfdoU2OLWDdi511nWhNCuxyG/XrrPtt22V7n9vczI1NHp2wbny/PhAGER9yDoLBQyYTFzLSgnnyAvGqIWYhTFEsgS/RONFDEWfhhtHCIi5ijPMIE3zjyfQcRCWEHFO/gw+CWXFy0Kc/+E9vjut+m+44je2dpY2DDZdNld2aLWFNUq1UfWpdf31RrPEsbFvba4SrdkuIK8NsMtyxjSO9p25hXzCwFUEiIh+ytKMO0wly4uKTohQxt/GfEXCxd5F10ZBxjHGcAcnCKpKCIvAzetPZxDK0UtSGJGMUF+N4ss8B+aEhoH9/0G9rbtZecX4TjfZd0/21Lbzdg11YHT1tER1JXT1tCyzL7Dvroitq2xCbQCt8q7hcbczB7XTeJ98Bn++w6rHEQpTS6WLlktxCcaJP0dqBvLGWsZKBgwGbsXXxnGGzUgfScsLkE3+TzBQi9GYkckRfk+ajYGLNQgMBMjCoH/gPVG7grlG+Cc22vZqtrF2jXZMNeI1LPSw9IB063R7M2+xfW9rbhrtTO0JbcouzjDnMmA0m7g6e3F/dcMGBwbJlksQC6VL0EtZijxJbEheCDmG2IZGxgKFg8ZgRvSIt4nrSzeM2A6lz8ZRNZFx0YAQ+06XDOOKIUbUA8mBDD6xPGG6PfiWt7c2s3Z4NhC1ubTHNARz1DPSdAD0G/N7Md3wGG6pLbFtA+2krpAwebHJtAI2rPmevSFAMgRZRytJT4r9ixGLakpdibkJDkhGB03G84YuRiEGh4cAyEBJa0omjCPNvE6DkDlQU9DjUJRPO81bSxvHy0UDQugAGX6HfE56vvk2d6n3FPbGdgH1qzSSs95z47OF85dzMPHdcJVvdK5qbiJuOG7ocDcxgTMnNU7377s+vcKB84VjR78JlMpBSzeKacoPCdhJ8wj4yAhIHod6B4FHV4gUSQFKF8uYTX+Obo7dj8hQGpCCz7YOBwz0ygNHRAVQQvJAJX4Ku6R6ZjjGN4I3ezZpNQO0+TNPs02ze/KPcxbydTE5L9luzW3XLbrtjC8f8HpwxvL2tNB35Tpe/gyBnMSJRvKIcQoJihLJ7In3CgrJykm0CNbI2QhSh9sIockYibRKoUwdDYCOY472T+wQRw/qzvjOBsxxCZIHTcVUwswAMH2JvCr6Obhlt5f3BPXltJlzgDM28piylPLU8pcyBTEtcBRveG6tbncuzDAysRgyYvP89kL45vs7/hHBokQrxc/IGAnUSksKb4qNix0KYUmtCaKJu0jSyIQJVAnIyk1KwAzYjU6NgA6BD1GQJY7xjgFN6IvBiTKHmYWRgxZAYD3AvQq6xfjoeAq3aXWhNNl0f/Qc87OzK3Nis1eyknHoMWIwra/nL7UwHDCjcTbxWXOCtcJ3nPo4PMRAL8IYBHIGy4jQCPgJjMqxCpuKUwn/ScYJUoh/yF1JIEkHSUCKO8sDy7wLz005DYzN601dTWGMykrxCEzHBsTRwqhADH5aPKx6Cjidd6P2eTTV9Gsz33ODMyJzJfNVcwPywvJHscfxL3BocLNwnfDcMXgyLXOAdYh3X3mhfGA/JIHVg+hGBQf7iLHJnQrAC4JLswtWS6OLYcqYisaLNMsXC1mMAA09jSLNWA4Izp8Ock6CzppNzgwsCgvI+UbfBLKCXcB4/ez8HvpU+Sv3fXWUdMP0BPNp8vCy9rK2spFyXPHR8RwwJa/rL4hvv2+s8HHw67IY86W1PrcjObl8b37EQSfDJwVJBoQH/gjPCZrJ78oIyqQKqUpnykcLIEssiyFL0MyVzMsNRM3KDiNOEo4nDglNscuGyn3JBMeOxafDaoEgvx99Inuium24XfbENiL1MfRjM+izoDNNcyhyrbIrcVNw0PCmMGmwEfApcJJxXPJUc7I0zHb2eQQ77D4cAHnCXkSiRkFHwMkoCeoKU4soC6pLsMuci+9MAsyEDJEM3Y10zWBNyg5Cjn2OF45pDl2NyIynyzpJ88g8BllEncKXwE1+X7ygeuV49fcEdiB01fPisx+y9vJ9cdGxoPE0sGRv0y+Mr0YuxO6QbtZvj3Bs8RbyWfPctc64Z/rZvXL/ewFrA5fFhId/CENJqMphSz7LucwBTLpMgY0lzVYN4o4GTrqOpw7lTxBPX0+Sj6tPKE5ojRhL5kqDSTsHNYUVQySBEX8ivSP7PHjMd0u2NHTRM8RyyrIgcVfw+HB5r4evDC627gXubq3yLdBuoa81MD2xsPLJ9PC2xzl4O8x+HAAGApcEY4YLCAWJdEpzC24MLwzjDU5N7s6kTxLPco+U0BmQT9CRUIkQmVBqkA5QPs9Ajk6M1ouCCl/IlMbuhMbC2YD/Ps79M/ruuOO3VbYiNJrzWzJkcUVww3BPr7LujG4z7bMtc60FLRWtIq1Nrh2vP3AfMXby/3TiNwC5pnvgfiSAGgIOhB9F4UdqSJJJ8kqVy6GMjM2lDhOOqk7Oj0YP8dAvEGlQTxBz0BxQFw/aDxfOIwzRS6xKRgkch1rFs8NlQVi/m/2Su8d6Lzg5do21a7QR81vyVnGq8P5wES/z73cvOa7sroDuwy8p76gwlTG2Mrsz47Wm9+O6Ffx3fklAWoJiBHCGDgfjyO9JzgsIzAsNLo2bzhHOmg7AD1lPsc+Dz9kPsA9Wj3PO2s6+DcQNLUv3ypDJlchBxuEFDkNbAUx/q/28+4P56DfgtnY02jOk8l0xV/CJMB+vpe8c7peuRy5Yrn/uR26B7tcvcXAvcWDyj7PuNWO3armlPA5+doAfghCENEYUiAAJnkqlS5PMpM2AjrgO7M8hj2qPvk/0ECHQM8/vT7BPd08bjtzODM1LjF5LC4oPSM6HR8XsQ/iB7sAxvht8XXqgOLo2xnWPND6y/DHBcSvwS6/F73eu0e6lbnfuSS64rpqvMa+fsJAx0jMltER2I/fJui+8eX5fQF+Cd8QyRg6IE0lGCpELuUxiTaVOWI7Iz3hPc8+L0BFQBRAQz/XPY089DrkOFw2DzMtL5Eq2CUHIYcbiRWBDsMGov9Y+ArxLup94jPbP9XBzz7LaMdAw3LAX757vI27srreuSe6w7q2u069oL/lwvfGvcvY0KvWo90P5Y3tEPZA/UAFIQ0mFNgb2iGlJtgrpS/UM+s3xTnEOyU9jT3vPlY/8D5IPqo8djtTOrA4ojZaM90vBCy+J54jGR4qGC0SPgsJBTz+ePad71roreEt3BHW2dBmzC3IlcU3w93AW7/hvUe9lr0Mvga/Y8Aywh3F/ciCzZ3SCNjS3ZTkUuxD9Hn8xgNyCo0RVBjxHuIkGynkLJEw6DOUN9c5wDplO887ZjzBPB48iTp7OLM23zTSMhUwLCybKKYkDCD4G60W1hClCw0F2P6w+DjxDOvf5Bje1dhT00jO68pKx4jErMKBwHa/Gb+wvt2+fr9iwPzBh8R4xzHL0M991BzaueAu5xHvV/es/psG1g14FNob4SEzJyQsGi9jMkM28DiHO7s8Pjw+PBc89zu8O+M5STe0NPox1S8oLW4pQiV+IO4bZxd9Eh4N3wblAJD7V/UE77Xo+eFS3FHX49Jtz1jLlccuxUDDicJ4wu7BHsLLwonDfsUjyELLOM+b0yjYyNyE4R/nB+619Vf93ANOCfIOdhVAHEMiPCfzKpIttTCENCU3qTiQOcs5aTp0OrI58DgtN3w1UDSzMbIukyuQJ0kklyDGG/wWWRHBC78GBQEO+7/0L+5x6MziIN3q17PSOM6XypLHAsVqwnjAVb+4vge/wr9UwJvBu8PAxsHK7s6L08LYK96o5O3r/fKc+iIC5QjyD3gWzhxGI0sovSyFMBAzMTYsORk7oDxmPLM7rDsZO506FTn6NR0zSDC0LTIrPSduImEdmRjCFHkQQQtYBRX/uPnn9BPwsep95M3eJNoh1oTSc85cykbHI8UHxAHDrMH7wDHBn8L/xErHpsmkzIvQvdV129rglOak7FjzF/ucAooJKhAPFkUcqiL1JwstBjHCM+k2fzl6OwY99jx+POo7wjoEOmw4fDWAMiov4Su1KNEkUCBUG0MWmBELDQgIpwIt/bf3pPLP7aLojeOf3tfZy9Xn0XTOfMtmyATGGsSXwvjBisG5wX/CjMPCxXzIu8vTz/fTF9mh3mzkT+vN8bj4MwDlBhUOyhTCGkghhSZXKxswQjO2NqA5NTv1PHk9bT1nPTY8+DowOWg2ujNhMLQsDCnSJHsgnBuFFpYRcQyOB4QCLv3q94Dymu346Bnkjd/v2o7W1dJYz3bMyclKx4XFHcRpw2DDssOjxPfF+MfTyiDOKdKF1hnbXOD45SPspfIa+en/pAYzDdIT+xnZH3IlaioTLzIzljaKOc07cz2mPg4/zD4QPp48tzpyOJ41ejLjLtIqqiYtIlYddhhMEwQO3wiSAzf+3Ph/837upOmt5OvfWtvx1iHTu8+CzMPJWMdkxSTEHsOSwrHCDcM/xCnGV8g/y4TOP9LQ1qDb8+C65obszvJV+e7/swYlDWETZxkcH7QkyilRLlcywDXMODM74zz/PTs+9z1BPdI77zlWNyk0zzD2LNkogSSgH58aiRVcEEcL/QWVAGL7RvZL8XzsvOcs4+be4NpD1wrUBdF3zl3Mi8o+yU7IusfKx0rIPsmwynXM3s7m0UbVA9n13DfhCuY966fwMfaw+zkBAAf3DOESdhh5HTUiBieiK9UvbTMYNjU4ATpmO008LjwjO7s5ADgbNs4zozDaLLookCR9IAEc8RaCEeMLhgZ6AUr84/Zj8QfsSOf94uneBNsf177TQNFGz7vNPMzIygzKAsqnyq/Lo8z5zd/PddK+1QXZUNzT367jVOhQ7SXy0/Zj+1UAtwUdCzgQvhQCGW8d8iFRJg0q7yw7L10xfTMkNfA10jX/NBs0LjPCMZMvbizTKFQluiHWHVEZDBS3Dp0JuwTy/7b6PPUN8FLrPudi427ftttq2PDVPdS00kzRFtBXz3PPHdAY0TbSVdP41F7XONo/3TXgO+Op5o7qxe4B8wn3APsi/4MDBghLDDIQ7BOWF1UbBh82IugkQydjKXUrOC1tLg8vKS8JL6gu0y2HLI0qBShHJUMi7h4tG/MWfhLqDVQJpAS+/+H6DvZs8SjtEulL5cbhfd7a263Z29eB1mDVuNSh1OjUpdWp1u/Xq9m62xjeuuCG447mwukX7ZrwMfSw9yj7r/43AroFDAklDCkP+BGlFDgXgRmSG1sd3R4+IFkhKyKnIsciuCJaIq4huSBJH5QduRufGVMXuxTTEdAOvQuMCEMF7QGN/jH7+ffz9BnyYe/R7Hfqbei65jvl/uMU42jiGuIv4nji/+LI49bkQObb55Ppget77Zfv+PFg9L/2EvlN+6D96/8NAhsECQbuB9IJlAs0DaUO7Q8aETASLhPuE3wU4hQXFTAVGhXcFIUU8RMrE1ASZhFjECcPwQ1DDL8KPwmbB9kFBwQnAlkAnP7m/C77afm991D2HPX289Xy3fEK8WXwAfC674Tveu+e7/XvffAj8ebxzPK+89P0E/Zb96z49vkv+3r80f0T/zYASQFeAmoDYAQ5BfQFlAYiB6UHGQhxCKwIwAjCCMUItgiSCF8IDwixB00H5QZtBusFdQX0BGEE1wNKA7YCIgKQAQYBdgDj/2b/8/59/gz+mf03/ef8mPxU/CD89fvL+6r7lPuC+3/7efto+2f7hPuy+9T7+vsv/GP8mPzc/CX9df2//Qj+YP67/hD/ZP+u/wYAVQCUAOAAIwFaAZgBzQEDAjMCTgJcAmoCeAKIApECkgKdAqgCnAKJAn0CawJXAkYCJQL+Ad8BuAGLAVwBNgEUAfcA3gC4AJMAbAA8ABIA7f/C/5H/Uv8j/wL/2v6v/oX+Y/5Y/kn+MP4e/hL+CP76/fP9/P0F/hP+Jv43/k3+a/59/pP+uf7h/gb/Mf9e/4f/tP/f/woANwBfAHkAlgC9AOoAGwFSAX8BlQGyAdUB7QH/ARQCHwIkAiYCHAIcAiMCIAIbAhcCAQLuAeABywG4AaMBgAFYATYBEQHuAMUAkwBgAD8AGADe/6D/a/80//j+xP6R/ln+Kf7//cP9lP13/VX9Pv0x/Sf9L/03/TL9Q/1U/WX9fv2u/eP9Dv4s/lv+kP7M/hr/ZP+g/9f/DwBXAJ0A2wAKAUEBfgG/Ae0BHQI9Al0CeQKOAqUCvAK8AqQChwJ+AoUCewJWAiEC6wHBAXwBLwESAQIBxgBtABkAzf9x/xz/w/59/lL+Mf76/cf9iv1d/UD9If0U/Sf9Mv0Y/ez89/wV/TD9Nv1b/W79j/2+/QL+Z/7k/iv/V//M/wQA9P8rAO8AqgEDAkMCmgLQAsYCgwLOAjwDdANWA4wDlQMeA8gCvQLGAsMC+gIeA4ADdwPrAkMCLwLnAQ8BjACbABMACf92/mT+rf0Y/aL8gvxj/Cn8qvs0/LT95P54//z/K/+f/jUAXABA/R0DJBDdD00CgP5ABM3/KPhsARYRdQ0O/bnz+/Ac68jpE/Sk//8ABvqq8ZLsQupu7Vb34wS9DEUNVQkrBTYCEANBBmEM0hbiHn0byhPlDIQEc/vi/NkEXgkVCNgD7vgw6xvjhOLk59vxSfoB/H33xvBr6Xnpv/NyAYMLphGvEsMLqwP8As4Hxw3FFaobvxcCDYYDHP5d+439gAPOBIr/Vvlz81Xtb+rb7iP2efpX/Pr8LfrG9kD4a/7DBIwKAg/BD+ALagjuBhcI+AqzDj0PGwtdBRoAzvtE+5X8Nv3v+4v6n/cw86/wrfIx9hX5Mvyq/AP7g/p4/Av/uwA4BOMHFAmFB8wF/wTrBGwGQQgiCUsHTQSIAdL/0v4B/jz+Lv4m/d77Q/ol+c33W/ch+X36N/sX+yv6kvlz+fr5Tvss/K79/f7D/tr+0f25/ZL+7gDgA1gFJwVcBCoDKwQ+BsQI9QqGC6UL1AoPCggKdAp0C5oM0QsyCqUHlAV5BGYDTQPQAg0BHP8Y/Tj8L/sV+t/56fhN92/1rPPx8Tjw8u757Z3rhul/53XlQuQV5DDlMOZ956vqs+6w8kz2gvsHAtUJyRD0GAAhYSZsKkkuyzKDNCk2CzVbMREqHCMmH8IY7BDPCLYAnveB8Q3tturA5jrkOeWq5erlXuf06bTtXvAX8SfwW+4U8Hnz5PMI8lLsOei/5S7l1uOJ4MXcqd1Y4OPjpOTb4lDnyvRKCqwZOh6oHCAccyRSMZo9zEDSPbs5QzhlM9UqriFUGhYYfBXrDmwBs/IG7HzsL/Jz81HwSetg6DbsBPNP9/b8I/8PAdUDnAIhAN791vyqAAQAo/q79M/qguRI5KLjJ+RJ4bHewdxR1UjSUNJ91MrZdt985Nvn9+up9kwCOAwdGI4i1irJMQw3LjwTPgpAxEJ8Q3o+mjjYL6ImRB92GRIU/QpFAo34oPSA8efuuO9R7cntdvDD8IP1Cvh9+RwAdgGqAJkACv4W/pj8LvlJ91Xw4OYE4t3d6dlm2mrZytWgztnHb8iFyHbLYdF41mPaGN9X6lj0mAAvDmEcUSY1LOIzLjrfPqxBT0WOQ0E/KTm7Mt8qYyBEGdMRrAmIAa75y/Ab69fnO+rS8FXxI/O68+XzA/xdAcgIuw72DDUPixCODEYKCgbdAmQBxfmp9QPuN+Il3KrYR9WF1ETT9NN/z8jIs8h9ynHMGdQ92/3hrOVo7DX35gE2DEocNSipLo00PzgAPgxA10PzRe5BcDk1MWkpeyDTF9MQ7wgGAHz5QvS67iztY+p58Yf22viS/5j/JgM1CcULzxOsFSYTxRYUEtALugifAbX/qfk88UXtuOH312vVO9IUz1DOUMxYy5LFNMPGxtLHR8pO0orZ49/k58Lxkf0UBhkUGyGBLI8xNzgiPUU+4ED1QNA/rjk6M+cq4SMYGfkPngnzANn7e/eT8pzvvu3Q7U33bvqy/ioEyQOQCewN7xAaF2oVYxWVF2MQlwsaBX/8afpc8yfvLOmS3ebVudAKzD/OPM/uz6rNc8ZNxaDFNcmY0ALZKN7A42TpefMx/xoLaRsIJ94tWjPDOBI+jkEXQ/xDsj/hOAgzoimLIX4XTRAjChwDGvwP9lfvXexC7QbvV/gN/fr/kgOmBHkJ3A94EmMZUBm9FRsXiQ86CuYEWPzo+YLyF+v45XrbetQ00PvKXMvUzDjNGsyFx7DFNsaGyETOntb328ThfOsQ9n0AIgtKGNAkxy3fM8U73z4MQLRC9kI8QDY5ojI4K70iyRhOEUMJ9AGr/EP3fvMk7pHtWu5H9Fv8P/+6AwgGdAivDrIR9BXbGFQUsxRnEZ4JcwW//Mb3+vOj6qXlx9yC0zzPnMo6yRHLo8pXywTJMsVgxUvHWc1V1TDcBuGE6WnywP95CoAWNSPdK+I0KjwJQQJDwEMmRPtESz46OeAxyiY3HiUVEg1HB7r/7Po29u3u8Owy7SXuJvbv+5j+xQNiBN8IgQ0tD0MUJhS9EOoRvQz1BqEBCPpC9W/vXegz5APbANL3zfXIqscByTDKgsqHxz7E+8ZvyOjNntfw3oXlIO3Q9X0CJQsFGJUlkS0vNAg67D7eQddCK0QVQ4I82zbGMMUnex4mFgEOaQd3AEH7vvbr72ftV+6T75L2XvzH/8AEUQUiCuIOfhAWFUYVshH5EEALQQaEAZ755PM/7pXlteL12q7TSNAZy4bKGc4gz4rP4szGyGbM38yi0xnc6uIc6APxQfkUBK8NOho7JwUvmzXZO0xA1kEWRFpDJ0EbPI02VzH4JjkdShRZC2kE5f299/nzCe1t6pXrfewO8kT5l/0pAzoD2gZpDBwN2g+ZEyIPHQ1JCJUCLf6D9Z/vGexv4TLdu9h90KXMo8hyx67KSMx+zu3McMjHynvON9Tp3AXll+lb8Pr5xAVLD28bVSfmMDo2hTz0QaNCBEO+Q7lBBTwQNiQvOCaMGj0T4As+BBn++Pjb9NTv8OtG7ULvT/Je/FgBSAbQBwkKTQ+5EvASxBfGE4oQrw2VBzwBrPj87x/tLOZS4K/bz9IfzfDIwcebyb7MRs4mzxbMl8z4zOXQb9ij4Obn9u2Z95oBLwvhFSMj3ys+NEc6Q0BZQl1Cv0OHQpg+4jmmNMEsmiKHGUsStAkyBE3/uflW9WjwIPAx8rfyg/lk/94C6gY9Ca8Ljg91DroRIhLKDSsL7wWU/m/2Se4R6NDiY9os1pvP9cghxAXC88FTxAzJ5stny7XJ0cpezgrVwN3a5ffrhPMOAJoJCRPeHIAoHzLXOZtAM0RgQ49DxUTIQu484TQlLhImjhxLFncMGAS//Tz5T/ZE80TvN/FW8vj2EAC0BEsJIQxlDlQSAxXcE/cVLREoDpkJkQFq+QXyIer05Hfeh9at0dfJAcd2xafEfsalyonMqc2/zWvNZdAs1fne/+bo7E7zDP65B4ARORyuJ+Ev7TZNPTlBM0H1QI1A0z/UOpU0UC3+JIEbZxQrDD4Eav799yb0DvFU7qfuEfLO83/6FgH9BkoNqw54EKcT7RMLFGgVrQ8hDI4FaP3H9T/tM+WL4MTaqdVG0UfJBMbrxJfHh8v4z+PQ/s/DzrzQh9Uh3VrlFuuc7+z2YAAlC5ASjx6+J20whzRDOm87Jj38PII+/TtmNWIvAykFItoYsBFHCsQDA//A+hz4k/J+8AbxVvUG9/X+CQQcCQsLhAxqD60RdRHmEjISAQ1KCeYBjvro8sfsLecO4sba79Zz0OLKNMkryXnLts6k0jfTw9O/0eHUptdx3qblTuzf8CD5QQISCvETGh9nKO8v7DQ/OVg7OzsNO+Q7IjhPMpwtJSWsHQ0WDhB9CEIDTf2p+vv3wPQw9dP2APme/DIFwwr3D14QpRC2EcESgBJ9ExsQswmiBQL+7fYr7r7nSOHc3fnX1NSNzZXHE8dPyELMIs8Y0ubPedAYz3PTn9di3uDkguqz8PH4LQOFCe8UFCB5KRAwKDQsN/M40TqgOyQ7wjWCLp0pmyJuG+QULA4NCDMCsf9z+9/5m/V39qH5K/1BAjkKUA7KD+0QqhLTFJoVBBNJEr8MJAfNAaT7evPF68Dl598L3HrXHNXSz67L8Mkky1vP7tLF1pvViNVp1OLYNt6g5izsGfGB96j/RgqyETwd0ySpLH0wvDVZOAQ4lDhONus1OC/8KTYjehxXFNENugm4Alj/zPpn+Bz13PLo9Dv5FfybABwIpAvnDQgPSBFFEp4S0hECEo4NVgj5Aq39R/ZJ7xHqpOQ039jZodWF0DTN/MrWzZXQpdM71YjU69La0jzXQN4O5TPqze3s9Ff79QXhDDMYTiD6JnYs2S9uMtkxmzPRMsExzSxuJpwhDhnNELwKXwViAPH7z/m99enzHvJ/9Rz6Nv1QA7IJOA6dD3ASPhXzFVMXrxUoFRwP3Am3Arz93fUr7hvqB+Qy4LXan9dD03bQd9BN09DXkdla25var9ny2Tze7uMM6TjuhfJi+WX/PgnnDl0bwSJtKyowmDHbNGcyUDlrNXg4zy0tKTcihxtfFrkM8Qk0AJ3/vPkK+EX0lPHX9B33Zv1a/w0Hogl5DYcOWw/mD7gOtQ+CDcMKvQKR+970FO6J6JjiTd7i2K3UWtH6zZzLDsskzr/TLNgX29jYR9gu2ELdN+M26lnvv/Jr93D+igc5D10YPSFlKE0t2TArNGs07TXiNAM1wi8wKmwklB3BF5oP5AzdBuoDjv5z/Bb6+vdy+Xr7sAC/A/gJQA1tEMQPghHUETcT9BBWD20KvgS//ab2zvDA6VDlfuDc3WbYw9SU0GrP18+N0pbW8Nqu3Ivbjtlr2tDcGOKE6HruqvEn8wD6bAA+CvkQpRxZIkYn2yitKxgtsyyML8UuUC1HJa8hnxtKF4cRRQ7KC58HKAY8BEoEFAIkBPMHbgyvEDgToBZAFngVDxNBEXUOQwuSBxMCKvqt8EzpNORe4BrdytrZ2BfXnNWq1R/WVdhK3GDi3Oa6523k5eDl3nHf1uHo4xnmZOUl5k/pK/Ci93ABxgsKFQEblB4jIwInoik4LNQtriznJxEjox2jGEMScRD+DyQPeA3eC/sLlQv8DmgTZRmaHO4eiiBZIJkekRu8GFAULw/aBwMADvj572voTuMF3mnai9eP1vTVn9WX1CzVQ9fA2efd3OCo4o/hV9+d3K/bbNzd3APfU9++4FviQOiD8Df6RwPiC24VnBugId4mGCxuLhQx9TIJMj0uvijqJTwihx4lHOEa+xdMFToUJBSPFJIVORiLGqMaghoCG00b8xnDFtcSRA15B4ABo/tA9Vfu9OcV44fe7tl01mzU3NP20k7SAdKN0pzTJda22N/aNtuA24PboNow2tnafN0H4cDkLegT7BjwkvaX/n8H3g/qFu4cpiEYJSooHitJLSUvpS+5Ln4srSn0JlclHSOfITYgdx6aHIwbThqIGbEYIhduFisU/xEdEOENmwpgBxYDgP/5++j4OfcW9XHyze8D7bfqLuje5cHjleH13rfcfNoT2JzVkdMN0znS+tE60afRidFB0mLTctWA11jaYd644gnnIOuN8HX2Qf3QA6IKnxAJFqIbMyElJssqoi7cMSU0MTW2NTs2GjbtNQ41YjMVMrMwZC83LaQqYidWJWsjyyHHHk8aRBUoEUwOLAvwB1UDof6z+ZD1NPHv7Nbnd+P339LbVNdY0hnOC8uGyaDIsMcRxaLCPMFTwbDCT8RYxtfIncvpzzPVkdq64JDnP+8S+D0Axgf/DicVphtOIvQnsyylMDczWzZvOKY5HTq0Oeo43zgBOKU2YTRSMbAuHSx/KW8muiKlHjQbwxdPFFkQHwwbCEcEWABz/Pr3RPMv7wHrdea84Ujcvtfc0y3QGs3GyYjGgMRGw37CUcKowdrBlcJ4xMPGiMmSzF3Q99RH2tzf3OWA7J3z3vtGBO0LzhKDGd8fhCajLEsxOzUXOAE6yzxAPk8+DT4XPS48Ajx+OrA4VjaqMqov4CzuKJ0kqSBdHP4YcRUiEScNpQgBBJgArvwP+NPzLO/x6qPmsOEG3TXYxdMT0KzMZ8k4xu3D7MJrwlXCZcJ/wp7DbcVDyILLps5D0qzWgNut4NPlPOus8fD4tABtCO8OzBQeGxAh9iYxLLcvPjOTNvE4djsaPFg7NDu0OiI6kDlQN500VzKZL/0sASqTJS4hxR09GiIXkROxDiIK3wWVAQb+pfm39DPwyOu/53bjmd6U2aTUxNCuzdHKSsiAxY3D6cLSwlHDycMYxEzFjsfPylHOgNGx1GHYVd0N48fog+5C9JT6VwI+CkkRgxcCHX8i0yhnLosyyjXON+w5oTzIPZI9jTzOOhI61zmBOD02DjNhL20sryncJVQh8xzOGKwVgxL+DQIJ9gNb/x/8evjL8+TuIOoP5kvi4N3W2LHTps/hzKTKTchsxXLDF8Okw5HECMUbxUrG58h2zPjPntJY1SXZXt4l5GbpSu6h8zH6VwJBCpcQDBY+Gykh9Sd8LYcxmDT1NhA6Tj2UPo0+iT1vPIA8SzzZOhQ4QTTXMEAuZyuNJ24iWx04Gf8V8xKqDm8JVgTT/3T87/hj9FTvcepK5sriy94W2t7Uf9CuzcbLAcqNx0LFVMSaxOfF+MYxx+rH28k0zSjREdST1ojZot1f4xXpOe4h83v4j/+jB4AOMBTVGK4drCODKQsu4zApMtQzgDaNOAk5sze4NaI0VTTgMwEyOi5KKhcnrSQWIsodyhhFFJcQSw5+CwwHJwIX/XD5KfcI9PHvG+tH5vPiK+Dj3NrYP9Sq0MbOvM2nzALLe8kCySDKJ8zRzdTOsc+c0Q3VHNkN3XXguuMV6K7t6fMW+qT/VgXcCxUTHBo6ID0ljin0LYwygDY5OYI6MjspPN882DwKPCg6/zc+NnU0HDL2LvUqCydxI4IfaBv4FiMS9A0XCvgFzAEQ/XL4j/Se8Lzslejw4/TfMNyh2D/VT9GuzfnKv8hix+fFU8SDw4XDqMRExmzHesjUyVXMIdDv063XAdui3vbjQurL8BL3V/wdAkMJihCwF3od0SGHJoUrPjCrNP82jjfCODA6ZDsiPBA7tjjkNpQ1sjSNM2MwSSzyKBImfCOqIA4cHhf7EkgPdAwACeEDCP+O+rv27/MY8FPrvOYy4tje/9tF2JDUP9HDzgbNhMtjynPJ/si1yZXKkcsTzcjOcNG31CvY4duc38Hj5ug87qrzJPk8/tsDDgonED8WWhsWHzYjXCfpKnQueTBdMaMybDMoNKE0dTMQMoMweS4DLZwqXieEJOQgXh1MGlkWiBLIDp0K0wa4Apr+I/sd9xfzPu8d61HnduOv36HcPNkH1m3TttDJzlPNuMsOy8TK0MrgyzLNyc690P7SCdYe2UXcROAq5Gzoqe3L8o73UfxxAXcH7g2MEyUYVxyEIBglwinwLK4uDjBZMU8z5DT+NEQ0pzJ7MXsxKDD+LdQrPig0JR0jfSAtHuQaKhZkErgOAQvSB30DIP97+yD3b/PA7xLrp+d85JDgnt1h2iTXedVx03HRQdCazvrN6c6dz2/QSNH50c/Tl9a/2e3cdd9P4lbmnOoB76zztPeV+zgAwQTcCGUNxxHUFT4aXB4VIrklXChKKicspy0eL/Uv7C8AMJQv3C7JLs0tbitHKJMk1SHDHzYdzBrEF8UT6w/hC4gH2gLz/RL6sPYf8//veOwo6L7jyd8r3QnbwNgE1xLVXNPL0iPS5tGN0sPS/tKm06zUeNZj2Nja2N0K4OjiPOex6ynwgPOz9p38oABV/g3+rAjGF5MfsCAfIUke5habFJod6So7NBk4YTY8L1km+SCkIlAp0i7vMK0voSnEIM0YFRTrE5oVXRZtFdIPhQY+/gr4YfUh9kf2GvWO8avqIeTa3jPbatsS3V3eqt5E2xDWmdIG0mTVatrS3RjfCd5b3LDcLd9V4xro9OvA7rvwVPJ/9KH33fsDAfcFnwniC7EN6A+DEosVOhnUHP4eTx8xH/gfICFXIqMjRyQVJDQj4yFMIJweDB7MHf4bYhnFFVsRFA4uC08IAAbyAkn/Vfse9/Xzd/Ea7wPteepD6LLmiOSF4rzhoOG+4QfiF+La4Ubiw+Nc5a7mGOie6YTr+e1e8NfyevVT9zX59vu9/sEB5gTxB1QLng0UD1URKxPkFDgXwhgjGrsbyBzYHTEech1NHbkdVB1vHNobDBugGc4X9BWRFLIS6Q+VDaALbQnUBnsDigDW/uP8BPp493P1I/MA8WLvAu7P7OTq1Oge6MLnWudF58fmWebx5XXlUuac5yTox+hs6Tnq0Ot27djuePA/8tDzbPVF9zb5Cvts/N79pf8yAbwCHgQjBVUGmAfICMAJiQqOCy4MRAyKDCcNig0MDXoMegx/DJ8MYAx6C5oK3AmPCRIJ3AcRB1gGZgW6BMwDDQM5AgIB2wDmAFoACgBs/xH/O//3/vz+H//1/gH/9/6W/8EAYgBf/37/8/+VACcB5AAuAegB6wErAkgCCALQAfgAMAFMAgcCkgHmALz/7P96AJ0AxQAbACr/nf63/nr/iP98/9D/Y/80/wL/DP77/ZL+6f4p//r+mf7r/Sj9pf2i/uD+GP+A/s782PzF/U39gf0P/n/9YP1U/fX8xvwG/PL75vwp/Ur9I/3p+6r7avx5/Ov8K/0T/PX7j/yf/Kr9F/4//av9Wv7//vb/ev9b/00A2QAnAtECHALXASIBRQEvAxwESgRaBJwDWQOvA8gDogNeA+QDpARGBB4EHwTZAkYCDANDAy0D1AJCAnECpALKAt8CBAK1AQICjQF7AcEBcAEeAcgArgDsAIoA5f/K/9j/0f+z/zP/nv5v/ln+WP5J/pH9svwk/BH8kvyA/AP83PtW+/j6H/tS+8r71fuo+zL8svwZ/ZD9lP2o/QP+eP5E//H/OwCMAN8AYgEhAlwCUAKeAtYCDwNdA2cDlgOvA3EDbwNTA/wCywJ6AkgCRAIHAgkCNALwAX4B5QBTAGkAlAA9ABcA9P9F/7L+av5D/if+qf1h/Xv9Nf37/Nz8j/yV/Jr8ffyz/Lv8XPwe/FT81vwk/UT9kf0H/oz+A/9I/37/3v9HAKEABQFTAXkBmAGxAd0BEgIqAkMCYgJ6AnkCXQJdAn0CjgKBAmwCVgIdAsEBbgFIAUIBEwHHAJwAewBAAOP/e/86/yL/Ff8B/+P+tf6D/m/+Y/5e/nP+cf6A/sb+FP9U/5X/7/9pAMIAGQGlASgCgALcAjgDnAPvAwkECQQ3BH0EnASWBJQEmgR1BE4ENATyA4cDFQPAAnsCOQLSAVoB1wBdAMz/OP/L/l/+vv1N/e/8bvz3+7X7Z/v++or6WPo9+un5x/n3+cn5dvmJ+eL5Mfpi+q76H/uA+/D7rPw2/Xz98v3F/nT/2f9OAN8AMgGSAQwCZwJ/ApgCAQN9A9gDBgQfBPwD5APqA+gD5QORA/MCfAJoAlgCAAKsAVABtAAAAJL/Mv/P/oH+Ov4G/sj9ev0Y/eL8+fzt/N38Ev3i/FX8QvzN/D/9TP0v/X79/v2t/p3/FADI/7L/UQBGASkCngLbAiUDYAN1A3IDAARlBPsDWgMpAz4DcQMNBIkEIwRLBNAEeATiA4cDpgPLAzED1wPuA1QCNQDs/wwANgAtAEgAa/5k/ID7hPv+/Iz9mPpeANQMYgs0/Ezzxe7w6Z/wVf+CBMf+sPvx+UL0l/Ma+7gB4AJfBG0Du/1d+dT8kgKgBRoFFwWKAK76HP5mArD9//32AFsHcRsNKJ0WOP0Y8djrju99CMQhSh3JB6r1Fegq5Wz2OQ0yFA4NWQFg8jfpSe6+/c4K5Q28CDT97vBP7S30RABgCGIL/gZc/ej2Qvee++0ACQbHBtn+8Pdo/kkEqf9YAPMBGPiN7QrxyPZG84j4mQTHBFz8iPqS/Hb8Sf8zCW0OsQhbA5AHUgY0BX0HwgszC6oKsgh4BrwAGv3c+i37Bvwg/x7+iPyO+6L6Qfdt9nP5tftO/Pf+2wHj/Or9BAL0AXsCOgjhCIkEpQTzA20BzwYcCgoK6wIs/br43vOk9En72f0w+0v6lPnd9AL1rvo2/Xn7RwOPBEQACQAEBDYDRwSMCGELvQhlBjkGkQbRBO4E3QaUB/0Atv/vANf9Vvr8/sr/uPsl/TX+Tfov+j77hv5uAG0BoAL0AZX/sf5yAqADzgPQA0sEVQOWAaH+//5eAcf+y/tUAAsA+vrD+kL85frL+oj8zf3N/BL9Lvyg+5b7y/76/zT/WgAI/5L/fwB0AKwA7ACBAOYBEwLoANYAOwFm/sv+UAKAAZoAIwGz/wD+E/9GAfABygT6AmH+lP5vAiIBlgP9Bd0EvAEyAYwE9AGb/rYD2gZzAJEAqgJD/27+OQAJ/r7+0f9n/gn8Jf/R/0j7l/2PAVAAiP0f/z3/yvwU/90A5f8pAJD+bvwf/cX+aP6EAFICGv+2/cj+//7A/MP+DwF0AEz9Jv61/rD9y/7o/6v/Qf8yAYwBnf+E/xEBygGZAs4DQgH4/Wv+DwIQArj/zv9XAmIANf6E/9AAOv4t/94A5f8YABv/df+rAOH+Yf2NAAUBhP9M/rP+a/8g/dj/zAN1/5n7AgC4AokAJgH5AlABjPxk/XIBQAHF/tf+tQD2AEz/Yv+0AJMAUACEAOr/d/+G/uX/iwFnAaIC0QLMANX/ggCaAvsCHAMmBPsB9f1P/WAAsgJCA5ACGAPZAQAAMP5JAJED1P9z/rUASAHt+zz8hABzAc79BwLwA2b/T/4lAYsBIAH5AXgArP4V/uH9cfyh/2wAVP5e/RIA1/4p/R0AzAHG/tr+GQBq/B/8y/5k/Xf9kgFTA3T/5v4ZAFUAUwBEBBMEAP9t/qv/+f2h/ZYBhQHi/2UAXAKt//f96f8OATv+2PzR/uMA4gFsAQ0AW/54APwA3AIBBVgGYQGg/X79Gvx9+nr+JQI9AaT/jf5m/df8ff/pARsBBAIqA1kA5f0I/Q7+1v3y/6wAgQBAAFMAsv9HAgYDbQFxAL3+2f3C/vv+LQHsAOv+Xv6g/hgB+wIFA3kDxALx/h//y/7I/K7+IgFxANv/agJHAsIAyAGCBAECVACsAnf/MvqH/PH95vsa/S8BkQIiAtoCpAEg/7v+6QCyAFYBigAB/e37jP7V/f78pf9bAsIAlv9mAL7/2/1IAMIBwQDv/n7+of5n/LP+pQIuA+cBHgOkAUP9yvpL/XP+tv2nAIcC2P+J/lYB7AEX/7P/pQJRAtwCuwEa/hj+of0k/HL9Bv+rALcBrgbqCUADI/9dAgn+6Pk6/f8AhP6s/KIBNgD0+13/sQIM/2L+iAUoCqgDW/7mAMj86/fb+z4BhAGq/uUBAway/w77DAHrAhcBgP/6/5wAgfxv+tn9pAAbABb/1AAqA9z+nP01AkcDG/8D/6QDJwJN/fn9hQJw/4f9j/72/7z/vP9eAOn/iP3S/O3+yQB6BAAD0v8z/jj+Ev7WANYDKQPb/m38QP/HALIBiwKNAQv/jP+r/8z/5P4s/qT+nv4bAQ8CRAD4/vn/IAE4AVUAkwFVAeX+2vwp/i7/kPwY/t0CdQJS/lMAwwHc/vr8GwJ9BW0A2v0FAPv/Sfw3/Kr9h/8k/lkAfQZuBW7/hf04Ao4BO/sP/0QGawN3/ukARgLH+t/3FwAEBqUA8ABBBO8Bovw7/CEBrQDr/GP/rASBArX/Lv84/0X+1v0zAjsFnAVeA8L8Jfr7+7z+fAD1AskBMvyL+bL97gILAbT/egJXBHgAh/sH/k8Acfye/AcEjwUrAE3+1//2/4T88f3WA+IDAf6Z/LYB3gC7/JH/dAXQAN76Nv++AZf9bf20ARsDMAQFBBkBWf55/Iz8tf+MBFoEzf5t/SD/UftE+k0ElAhOAqf8AgLyBAv/5fz1ABz9Vffq/PwGbgbs+0X/qgZD/6b1Of+hCBT/lPnMBLkEe/fm+foH9gRi+dn9SAa4ABL7RgDcAkf8WPmxAXQI+wD++xEA3v5N+44AvQcPBMP9o/3Y/iv8+/6fAhMCCAF0Ag4BpvuM/B8BkwEk/5MD3wam/uz6tv6+/8j78/5qBgsFevyd/noDrv/5+Fv8kARYAikAoAYwBgb4g/Wr/ogAuPuBAnUIJgDQ+h0B/AFm/2b/ogNmAsj7r/2oBBMByPpY/iUDo//s+y4CAQC4+br+EgdQBLr/OAPVAd752/m0AY8BZ/1+APsEAQIH/QkAWQBC+gv8fwVNBQf/Ef9IA5j/kv10Abz/afwV//gB/QBRAOwAKv+j/eAAIgNe/wn9gP8bAdwBQwKDBA4EFf7e+QL/NwIT/uz93QJSADT8MANWB+UAUfwr/XT9dv0tAjMEqgOVAs7+2fz7/WT+qf4sAtEBR/+SAbcC2v7O/fUAiP4k/BMBxAN5ALH9wf3j/woAQf4PAX0Dl/68+z0D9QNB/Ff+lwEZ+4L6CwK9A+4AYQLaAYP8p/0gAoUBEf9T/BX8CgLsBPwA3QBtAFT77frVARAEVv4p/+YBvf68/Ob+qACRAYQAMQAMA4wEVgJDAIUAsfsG+sj+fwB7/xsChQX1Aub+P/4z/6P+0gDtAokA2v10/i4CZAMKAdj/rQCM/6v/EQE5AsMB1P6K+oH8oQN4AZH8xgHhBCD9bfsNBjkHa/zZ/LEEjgC++FD9CgVZAD37DQIhBI/9WP3kAqcABP32/+IBrP/6/qwA4f9w/xX/rf8cAPL/eP91/y//7/+N/zj+pf5kATECqf9gARwDq/6T/PEAwAHQ/uX/PgFe/cn6+/5IAmUBzQBfAtgAnP2P/br+qf7YAC0DEgAX//AAE/3C++IC8QJ5+qb86wTmAgEAKQQ5Ay77nPkA/4EAH/8mAZ8CZf9P+2f9+gDC/z0ATAOiASr/AgFjAjcAlf45/az8CgCYApL/4v65AkEALvyl/x0D4P6S/vcCdgGN/br/OALOAMIAfwFqAHL+ef7I/osAQwH+ABABmv+4/cf9iADTAnwDfAM+Aan93P76/q78hwCFAxcAKv7mAJ8Aa//YAOIB8QAlAXn+vf1ZAokD3ACfAN4A7P2p/DX+KwGDAKP/wQHSAsL/D/5UAjgElf7m+5f+D/5t/TwD2gYMA3v9b/zF/C/8xP47A44EawJU/9X9v/0f/44B/QAF/0f/KgD4/uf+Df+S/2UADQBjAEICWQKE//v9AP6g/Y39Xf/2AjgDkP9L/D/9Af4j/ocBigQSBDgCXwCZ/57+qvzQ/UsCOAN6/7T/HAH9+zT6DQDEAecAigJ7AWz/0/4V/o39gwC+AhcBHQK/A2EB0f+F/4T/bwC//0b89f3EASIB0/0q/0H///yQ/qwAZwKsBHADQAA5AZQAc/37/mcBJ/5h/UQBFQC8/WMAZwAy/v8A3wIo/yj+jwCd/2f9bwAXA/EATQAXAWT/rf3n/Y3/4gEsAaf/kf9o/yb+Lv4sAN4BcwE3AckAXAHwAfX+yv1SAA4AhP4fALwAM/8P/73///+UAEIAef96AWQDOgJRAvgCgP+l/az+uv0X/IL/mQHL/u/9awB8AtcCSALb/6j+nP1u/ZoA9AHU/wEATgG9/rb8jf5k/5gAhAEHATMACgFSANv/MgDm/kT9xv5nALf/lf9UAN//0P9qACsAywCXAeYACABxAFH/4/3L/qn/Dv+Q/rz+cv9cAfUC6QOuA6ABa/58/A786/0bAdEBvgHyAIr+JP3B/vwAHQJbAqgB8ADX/fb8Z/+JAskCtwCx/7D+h/2q/Q0AvwDIAMIB/ADD/1sAwQAn/zP/7AAHAdEAbAG5AYf/v/yy+3X9VABYAXgCrwPvAZb9Hv1yAPIBTQIBA2cBDf78/fb+Tf+sAFkCSABy/pL/mf9K/34BjgLPAC8Am/8s/lD+aQBnAYgBewL7AMb+yP7m/hL++f9JAvQBxAGoAJT9QvxQ/q3/EwCjAGcAF/+9/s7/ywB2AgQD7gCZ/33+wvws/cn+hv9xAaoCZAFM/zX+o/71/6kAbP/R/vX/sAB+AF0B8gAI/9P+ZAD1AK4A2QAGAMb+vf3x/ar/uwAlAP3/zgBKAP3/igABAfQAXAHJAOj+r/5R//7+v/7r/1UAVv/U/nn+zv7uAB4D3QJuASoAj/9V/+3+6/5o/6b/4v+qACkBaQErAcL/kf5E/j/+Uv+aAL//5v7x/ywBwwEEAq8BDwBY/0v/hP92AOMBKgKHAN79tvy5/bb+4f+4ATUCNwCW/qL+Xv5S//UCcANWAMH/YwBC/tb9dACTAKf/6gAXARD/qP55/zr/7P54/jz9pv3d/xIApf/uAL4BDgKUAh0C2wDk/7T+UP4K/63+jv7JALwBV/+b/lL/Gf6S/YD/LgHqASYDeAMHAr//ofyM+hP8+/9vAlcEiQWFA6r/Vf3Y++f6DP2bAKoCHQNZAyoDlQFw/9P+Av/r/Vv+fgFEAp3/1/6E//n9Cv2i/z0CvALMAoICFwInAhUBY//F/qv9IPzF/Cj/JAD8/ykBIQIDAQAAKAAVABAAtP/o/r/+///mARoC2wACALr/rv80ADsAnP+A/mf9Ov4gAGAAXv/3/vv+Av/I/8YBoQOxA0IB1/77/of/uf61/3ABmwC5/oz9Lv0P/2gBpwEwAX4A2P7S/kQAAgBS/8kA8QDv/14AJgHLADEBzgF7AG/+LP3O/WL/WwAhAEMAOwAC//b+6f9VANYAsQGXARwBmgCR/2f/b/9p/kT9C/76/m3/HwEkAqEAmf+YANsAZwAJAL3/KP8G/vn9w///AdMChwJRAVj/RP0f/Wn+Tf9IALYAgABiAAMAuP9I/7b+KP96AKABZALkAZUASgDb/93+3f2H/RD+Gv+7/6f/owDrAcoBJQHhASQBK/+t/2MAIP/c/uz/hv/D/0kB7wBs/4v/7f62/aX/JQHLAEgBKAHH/wMAjQD7/0gAtgAAAOv/4QBo/9j96P4B//L9Lf+HAG0A5ABHAVMAFAAOAIf/iQCzAfT/KP9jANz/y/60/5QAOgCV/1T/zP/W/2T/DADtAKIAfP9jADYB8QCMAV4C8f/C/VT+AP+Z/2wAwgAyAS4CowGIAF4Afv8M/jP+RP8PAPoAxAGAAeMAu/+J/kH/JgDE/9r/9P8XAJQBGwJ1AbQAYP+h/hr/QP9s/3wA7AAQAQABtP/u/eb+yP9+/z4A+QDGADABzwG6/0b+ff6j/zABuQKUAZ//w/7m/lr/rv47/h7+Lv4M/3kBZwMWA1MBf//h/Xn9AP8tAF8AEwDT/3IASAHtAXYBJP/+/CH95/13/20CuwL8/6n+J//X//j/DABzAMYA7wBWARUBKAAi/5D+IP/E/gD+H/8IASUBdADHADoBkwBgAFQAYP+U/oX+Dv9+AL0B9QH1AUkBR//3/bP+//4s/or+8/+EAAkBdAF4AOf+Hv/R/7n/+f/TAM8A5wDHAB0AMv9o/oz+j/+a/3f/FQFnAfb+SP1k/mD/6f6M/6IBnwK7AVIBlgAs/rj8Qf6kAD0B8ABRAUwB//97/nr9fP22/VP+0gDRAm0CUgHN/xn+nf0Z/u//fwK0A0wDgAJJAZv+APzg+//8wv64AKwCZQSCA8MAsv84/pD8af6JAOgApwGbAkYCjAFbAfv/Zv73/jcAZwBQAB4A4AD7ANX/9/8vAW4Atv6M/+gAYgDJ/70A4QIPA8n/A/6G/sj9J/6SAMsCZQJ5AJUABAEs/w3+8f4AAMT+KP41AOQB7gHLAVAB6P/Y/dH9Ef8+/jX+DgD6AD0BKQKHAmEAo/2O/Tr+2f3q/mwB4wEeAMn/PQDO/nv9mv67AEcCGALwAD8AXP7O+/v8EwBzACYAfwFrAucA3v9cADn/Wv11/Vr+AP9DAHEC/AJaAMj+3v79/Uz+3ADLAZr/fP44ACkA2f6h/14A5f4+/igBTAMtAZP+fv5C/xP+N/2LAIcC5f/c/nsAnAHHACgAhgHiAa8Avv+Q/lb9cPwY/hMCmQPPA14DgQB//h3+Fv4//8kAcgGJAH7/xwAhAqUBDQGIAKP/ff9RADYB0gErATb/XP4d/uf9lf8mAfEBcQOtAvr/Zf7V/ZX/GQLIAUQAWP/0/YP8/v1gAtYD5gCL/sv+l/84/oH9rwC7AWf+6v2MAm0En/75+xwCDQPY/Nj8GALPAfD7lPvMAQECU/0j/6cDZAEm/PP9AAO2/5v6Y/9jBZcCBf7W/iQA/v2Q/VQBDgSEAR/9AP4aAZ7+pvwXAYwDEAGRALICnwIU/1X83f7xAT//dv3VAIEAiPzI/HcATgMWA34CKQRrA23+vPrW/F8AUf/7/9EEmgSu/xj8Av0hAXMAGf6uARkE6AAn/kf/fACc/d78PAI/BRcDmgAhAGgBZQG0/mH9Tv/TAIwAjf9v/10B+gDG/Ez8xwE9BHgAZP/7Ad//CfyD/oQEvwUm/6z6NP+rARv/mQBSA4UA4Po4+z4CrgMk/5D/PAEZ/Zb6F//PAs0AF/9AAbsCWQBq/U3+Tv/O/Pv+xQTbAqP/oQFsAN/7TPrE/N0AoQG8AJQD7wOT/G74yf1aAlwAyQC5BhcGZv0s+nj+lf/P+8v8UASKBq//U/xZAHABNf0X/EwBNwQEAdz/4QLiARH6E/d4/hoDFAKbAwkE9f96+xL70//XA0wDJgImAr//nfs7+3v9Zf4NAWwE0wJ9/yL/0v/F/r390v/sAicD7AABAcUBQv0B+83/9gHa/8n/rgIWBKkBsP4d/p3/D/9O/YYA+wLM/Rf7ZADEBY0G+QLtAFkCmgDw/JT9WgCN/nj6ZvyAAmEEFgFz/uT/8AJkA4UBvwASAZL+6vqT/JcAvwAv/wj//f9cAuQCmgCsAnoGiwKY/Bb8rPo4+Wn9QAEZAi4CJwKkAmgBBAA1AV0CfABg/A/7iPzr+hv69/8VBuYGpwPMADkA8P5M/6wARwATADj9S/u//twAev8G/mf+zAAZA1UEFARIAcf9gfv2/AgAc//C/o//Iv9h//UBDQTNAlkBHQHy/jL8R/34AXwEkwAv/Jn9w/6n/Dn9EwKCBLsC0gIMBIcD/AGS/3n8Xfmm+GH6V/xT/xQDXAVuBPEAPADFATgA1v0b/lkCKgN1/e/87v3i+eX5XP64AgIGTAZoBdgE9AIH/g36Rvzt/iT/AACW/kb8If14/ur+jAEWBKYDCQKe/4P/RgKVAjsA5v0Z/uoAagAY/jj/C////Oj8X/+0BPsFngDP/Ob9uwBPABsBHAVFA+sAkAKYAM79pPwl+fz3//ubAT0GyQaFA64Ab/6S+xr9UAPOB0wFev+TAPYBlfxb+QD8bv7g/ev86f0uAd0BRgGwA5UEaQHr/kf/vP9rAakCzAArAKr/tP0H/tn9DP2M/WX+PQEgA1QFYwV1/2b8sfzR/lkCMwIaAcUAYP7E/F3+q/+sAG//YP3OALYE5QPaAF7+VPw9/On9/P/bAa8CDgNWAWEA+v/N/v3+N/7//Br+/QD2Af8A4P5q/ykBxwB6AUsBxgEXAXX/kwDUAOP/IP6P/Uj+UP5W/rv+MgGYA2QDVwMYA34ArP6i/HL7UP3E/xYCpAE2AZABnQBeAkIAEvz9/gEAPf9iAcEAhQDjAY3+PPs1/kwDHQXNA9gA8/zD/FL+Ovyt/g8C4QB4AfH/HgAEBAkDWQBv/Tb7Zf6rAEgAEAAf//L+6/5M/0EBIAQTBFwAAP45/ggBrQGE/Xr7sf2AANYCKwIN/4H/SP4e+lT7t/6xA1YHzgTwAg4CQQEQ/+H8YfzV/IEAoQDy/zAApf/PAL8Acf9N/vH/nP///k8BGwLBAUn/D/xg+hL9HAGPAqEDCwQjA5QBK/9s+1X7L/14/TX+h//WAqcEwAOHAlkANgCTAZUAXv7x/SP+AP39/d38nPz1AWcC9gCAAUsAmQH8A80CogEEAWf+WPzY+2/8Xf7ZATcDOQEsAOT+Jf8r/8r8f/0aAEcESQXBAiUD4wAC/ir8Cfkx+5T+lP/oAcYBOwL8A5EBwf/r/TL+tAFCAd7/7v67/r3/EABOAFT/xP+HAO0ATQPnArUDAQMu/T36w/lK/WcBQAI+AmoCyQHt/6P/fwCYATIAmP6G/Uf/WwKpAlsC1P0i/G79gf50AlsFJQYFBoQCOv0s/H/8Ef3X/cL+tf4CAIQCbQLeA8EBKP6E/Tj92f47AeQCMQR7A/H/MP2J/Iv9Q/+ZALX/Pf9OALAA6QFGAbD+Kf6U/u7+FgEaAg8CzQGp/u77CPxW/UgAeAJ6AAH/zf6Y/qn/XwDlAI8B1AEBAI3/AQGq/8f+Qv78/MP+WwAZAFUB9QBF/+n+xf0c/QL/pQEIBEIE7AHm/xP+j/0O/g//UAFSAu8Af/9n/vH9TP8SAKoABwFDAVMCwgEBAl8BcP+k/5H+Bf+lAcACRAPhAkMA1/1i/R/9Af4o/2P/sv/+/6v/WP87ALr/Zv/g/3IAmwEsAYsAsP55/VH9rf2r/1oBoAFvALX/MP7p/cn/jwB9Ac0BXgBrAGEADwC1/9X9gv02/Vj+2AFRA9MEwwUnA8gB9wCD/7P/6f8QAL//KAF0AdcAQwKnAHL/rf8r/zMA1QFyAuYBvQBY/979ef1u/jL+kP6M/3H/7//M/4L/JP49/tb+df3m/gT+Hf3c/Zz8qfz7/cL/UQDjAJUAd/8E/yz+Hf6R/xQB0AKEBMIE+wQIBAIBQP81/g/+LgPYBcoGawk5BgwEIgMBAEIAHwLjAsUEcAaCBa0EOQNx/+T8wvvo+/7+2AAWASkAi/zO+ff3B/YA9nL2wPbh9wv4cfed9hL2ZvSW8mLyX/Kl9NT3Mvli+vr6a/uT/aL+ZAAeAUoBKwSbBJ0HPgt4DNgPkQ+mDu4Ouw5uEusWtRqUHGobjxeaEocNiAiOBo4FwQQEBUIFmwMGA0ICVP/5/qf9afws/S38HfrZ9w70+O7V6o3npuWh5tnp9O0a8sn0vPTh8WjtUOh95c7l1Ob16dfr7+x97o/uXPIS9Tb58v7dAUkJLg2dFJQfhyW6Lu0vvyq6JAsZMRBwCzEI4wizCTUKdQomCpkNRg8BEU8U9hLOE1gVWRODEl4O9wXu/o/4cfQK9Mn0zPWA9NLx/u076ZbmKOMe4Hvd7Nsr39rjrerY737vp+7f6mXlQOR75GflzulZ7Fvs/+7v7/Tx5/aa+Q/+7wPADb8aUydTNKo4Uzc3Mnwm5B19F4gS1BFsEA8O2AtvCdsHuwZGB+IIeQuaEQcYHB8GJIIjRiCRF3oO7QUS/U75xfW386X0zPJO8E/tiOjJ5STlvuXr5srnUefu45Pgf9zN2ajc8+F16Szwy/Iu8ijuz+g55PLgWeGh5dPqivAt9cv2+/Zq+PH4jPvKBpsT8yTXOTlCjkPRPQAtSh8QFQUNVAy6DrcQtBBAD5QLjwYKBe0FYQlQD6EXQx0FIHojpxz0FK4PigVaAuT/wvp4+Nz1kvLX74DuZ+sU6ZnoYueN57/nyeZ05ZbjFuDK3Lna9dtN4i3pG/CP9LvzsPGJ7jfpsOY/5SXkCOgz7CTxwfbc+Yf8B/5h/woESg2IHG0w5D5hR5BHTDtLLiEfWxAqDAsLUQ37ESsRaQ7nCecFnwRMAzMGqgscD4oXWxxAGJoZdxLkB2AH1/8L/aQACvyP+Gr0NOxG5/fk1+OR4mXjyeWW5W7nKecA46jhZd/n3MDewuGJ5xXvsfSx96X1z/J77pDqSunS55bpmOxX8eL10Phh+wT9i/93Ak0IPRFDIYk0qUFSSjJGbTmPLJQbrRFYDOYJpQ1PDQwN/QjSAcUAFv/x/3MFxQmCERUYkxmYFrgNxAiCAhIAbAZIBMAF9Abe+lv05u2l4xHkmOZ15nPpJusf6QDoc+i15fTj1OWt5TfnZeqr633t/u+48oLzjvOP88TxbPCx7vbsV+zx7S/yp/R69zD7sPwDAK4DVgYyDYgZxCqYOnhFt0i5PsUwzyHVEAYJfwfHBrkJnQqGBhsCWQBU/q79HQIDBcIJ/xKBFboUjxIaCIkCrQGr/6AFsQhvBtYE5fv08FnrI+am5KXodOr46ebq7umV5lno9ee25SjpBeoM64HuCO877vLu6u5k7nDvbPAX8eXxYvKr8W/x0/Eg8/H0AvcR+bn6IP2+/ngBUgfyEcUihDR4QDlFHEAwMoMjhBbmDPYKhgwrC6QKAQf+/xv+qf1N/kIC4wZnCw8SMRjKGEAWYg8VBCoAhQBsAiUMcQ2QCQEGdPgz7iLquOXx5gTsRezQ6yHtfer+54foQuc35rPqVe7m71j0RvMI7zrv3uxb7L3wMvJp8yj1EfL07zjvbOy17/Xy0fVZ/Or+BQHqAb8AHwPNDQggjzLVQslH0T7lMZEhcBLVCosHKgcACdYK8QdyA1wB0PxL+2f9C/9lBd8NtBVOGv0WyRDSBCn6SPyZ/A4CPAtdB30FsAAb9N/sT+fK40Pleum1657rIexJ6X3mXuZI5Y/niu3Z8U71w/XY8RLvV+5A74TzZfdQ+O75VPhn9JXzLfAD7gnxP/I89UH7xv0nAIgD4wSkCX8XvSfQNQtBP0DQNR4pthr1DtwJkAjNB1UIwAfuAzT/nvzx+q76tf5rBPgJYhAOFBUTExAxCRgC3PrR+PX/6wO5DH0SqwlUA8j4i+pZ51DmxuXS6qPvXPBX74fujOk95ifpyemS7TX1cfeU+KP4o/L57HDrFOtv7oL1nPnX+m/7pvg+9fry1/An8XHzafg5/hUClQUqB+sH9hCTIE4rGTa0OsIw2SlbIXQTGg8xC7kDKwOMA80AtgF7BGoEiQP4Aw8EUQVVC7MQwQ8ID2wLRAGk/vj84/pMAo4FQwghC10FMwCM95/tI+pw5/HoUe1p8FbyQ/EF7/TpUucH6R/qk/Dk9m73jPhb9ejtkuo+6ffq//Jn+0j/2gDE/kX3lPPz8A/uC/Kz9bP56f6AAYECyQG/AsAIzxVFJjs0zznhNRkskh3cEeAJ2gOFA34EJwYxCB8GjwMCAhEAsgC/A/cG7gs1EUUSHhF8DHADs/yx92n2M/yZAZsGlgpmBnIBsfvY8FbrOem05wPrHPCP8SfwEfDM64LoIOxR7eHvtvbM+Fr4TPgt8wrugu0Q7oXxmvYK+vD8o/1q+wn57fT28GzyBfXj98v9SwHwApQGkwedB50O9Rl1JP4vBTafMUsr0yCuEi8KIQTOATgGPQm7CTkIWwMQAUQAKQAJA8kFYwqED9cRSRFzDLgEZv1h+Lz2+vm1/jED9gbLBF3/Avml8D7sCevv6SHsUu6a7xLx2e8/7bHqJepT68DtbPKW9Rr3XPfL86Tvcu2F7JvvGvWB+Yn9H/8Z/q37W/ce9EXzofRe+Zf+ogMOCLgHPQeDB7YI6hN8IOso3TJjMsArEyiZG6oPnAr8AxwFWwptCv0JMQbaAg8DyQHHA1EFKQawDK0PFg8DDdoEiv2D+BX2n/k+/ewCMgiOBcMCA/2r8vjtwOoF6KPqKO6r78nvxu2T6SHmzeaw6bvt0/Ms99T3Lvdf823vmOt86tHtafJa+dH+OAAm//r5DvRm8Nzv/vMn+hYBYgaNB7sH1wW0A78EoAZ3D4AdYSd4MH8ztisFIzcY/ApmBZ8E+wRPCp0OWQwcCPcDH/9D/YcAoQSACHENNw+JDcAKygXX/1T6ffk5/M7++AWfCHoD9gAz+SjvsOzh6Vzpqu5/8i30c/Rc8i/up+rS6rfreO6c9M/3sfhk+aD2xfEa7/LuQvAQ9jD9uv/TAGP/w/li9WHzYfJy9Nn6HQE3BewIDAl4BvwE8QO3A8kHthM8ID4pQjFSLRMihBsyEAsHaQe9BHwEKwp5Ck8HGwQY/7H68Ppw/9cC+gbvDEwOtQwXC2wEA/sU+dD6gPwrBAsISAQnAnn8zfJ07UfqrOdo6h/whvLq8230wvDE7aPsn+vM7fPxNvYc+cb59vh69FXwIe/l7tnyIfhl++P9Kv6E/GP5iPYB9a70f/hY/fYAiQTABXMGGgZVBZUFAgWvDEAZUCIyLbsuuiVgH4YVgAs+CV4HDwaKCLQKxgnwBpEENwHc/hoChgV/B6oMjg8qDRUMiAnzAKH8Vf3T+6//QQW5AogAF/429SvvLu196dTpF+5d78vvGPD77LXpz+gw6Ezp++xc8MPysvPs8tXwwO327BTu7+/m9Ib5BvzM/f38M/oK96v1hfbJ+OP97QKSBlQKxwzjDUoOzg/6EAoR1BeNIUkokDEbNO4rXCXtHBsSIA94D3QNFw9+Ei0PDwtaCtAGOwWvCF0JQgiXChAMzQmGCfQHmP/G+q/6nfjc+4QBcwAA/r363vIK7KTpVOd35tDpkesx64jsXOw96uDpIen95l/nKelu6q/sPe7p7CbrKuu469vtV/JH9mz4YfmG+Er1qfLc8Y3xQ/Nu9hv5KfwfAJIDhgVTBp8G+QVdBi4NSBeBIPspRiw/JjwgPhg9DoUJ1AdxBfcHrwz4CyoKbgjiA8YB6wPJBesGiQoBDnsNyw3nDFUFcQD6/9v9zABQBp4FrwMxASP6xvN58R7vvO2K8NLyT/M89f/1/PMI81bz4PFt8k712fVL98D4vPZz9G/zJPRT9sj5vv0f//3+9f4c/af6EPos+qv6wf0zARMCIwTxBnIHJwi1CLsHuQYGC6AUyhzeJcspNiPZHZAXOQ51CWMFDgGfAHwD+QUaBecCQf/6+i77B/7C/1oCjwWYBVsEVwSlACL8Z/xh/Nz8uP+V/wT9G/qR9eLv7+tM6qTp5+vn7wvydvOp9MD0cPQk9JTzj/K98gT0jfSF9Uf2bvVK9q/4tfl5+1b9bv1M/ib/gP7F/af8u/uF/Kb+nQFSBBcGBQiICcIKkgxcDbIMVA1DEnUZYCCcJtYlBh83GbkQAQllB7wEfAJlBK0ENQPwAkECYwDN/5YAmP+//yYD0QSvBcAGqAPe/tb80Pvj+rz79vtI+ZX2AvS77zPtFe2p7KvtVPBQ8b/xePMk9OPzGPTv8t7w1PDs8b/ylPTw9Z/1j/bs+Gr67/u2/T/9GPzi+7v61Pmy+vH7Bv3U/ukABwIGBBAHsQh4Cb0JFwlxCIILZRMIG78hKCYeI30dDRmZEVAK+gYbA08A/gKgBMcCLAOUAsb/VADxAAn/EADnAzsGcwgrCrgHBwSgAg4BXv6o/Az76fdF9tz19vLH8MrwUPAL8UjzPfQ89K71XPcV97P2tfU988HyafRF9ZX1YvbL9nL3V/pn/NH71Psu+xL57/he+UX4Evmr+zH95v9hAwUETARZBj0H3wdZCoYKygnnDRcT2BcQHvUfIR0xGl8VhQ4rCUkF7gFXAbsCuwL1Ad0B2gHcAYgC0AKJAaUBMQQ3BrcHoAhDB74EngONAlr/IP1U+373ofWV9Gzxv+/y743vb+9p8IbwTfDU8jX1ePX59a30zfHV8N3whvCa8EDxpfGU8mX1J/jI+Sj7ufpJ+LL2KvbV9YT3qPrN/Gb/cQK5A00FIAiNCV8KMws5CukKdRDEFyAfUCUiJo0iNR50GDsSuQ2HCY8FwQN4A18DbQRyBjgHNgcWB4sFSQRhBYAHnQlsC9gLgArhCH0HygQWAYP9Evmk9EDyxPC572zwavEN8YHw8+/M7rzuX/Bg8cnxm/Io8h7x6vDn71zuy+3G7W3ukfCJ8yn2c/gK+ur5wPhc9+/1fPVh9v736fkQ/Fr++gDHA84F/AZUB2QHmwknDvATqhq8HwsivyLUIHscPxdTEcMLxwc9BbsDFQNrA3kElgV6BnwGRwUoBBsEowTqBcYH9Aj3CTsLjAuwCtwIlQUxAfX84/ja9Cryv/Aa8IXw3vDR8OLw8/Bs8ffxQvKk8sHy5/J7883z1PPj89Tz4PNf9P70XPWq9fr1DvYy9qz2Gfe/9+f4Pfrd+6r9Vv/yAIYCKQSSBa0GqAdTCFEJDAsKDU0PfxEIE+QTIhS0E8ESgxHfDxIOngxnC3sK6AliCdIIMQiFB84G7AXjBNsD9AJhAkgCJAK/AWwB0QAfAKz/9f4S/jz9S/w2+z76cvmC+Oz31feg94b3Z/cO9+L22/bl9s72jvZc9gr20PX29R72LvZp9oz2g/bC9gX3K/ef9wr4Svit+Cn5svlu+nP7Vvz3/J/9Dv56/in/v/9FAO4AmgFSAkkDPATlBI8FLwafBhUHeQeqB+kHSAiTCN8IMAlECVIJigmPCUwJ/gh+CLgHRQfyBmYGMAbpBWQFLQXRBEcExgMcA1kCigHkAFMAqf8m/6r+LP7e/Zj9M/26/Fn8/Puo+3f7RPsM++P64/rw+vb6OPt1+5/7Fvxu/J78IP2l/RH+qP4i/2X/0P9DAI4A3wAjAT0BYQGRAakBvQHaAewBCAIrAkUCZAKLAqsCmwJ0AlQCLwI9Al8CTwJEAhYCuAF5ASwBwgBtABwAtf9M/wf/xv6N/on+fv5J/hj+3f2Z/W/9Uf0j/fP8yPyY/IL8mfzE/Oj8Av0P/QT9Av0V/Rf9F/0j/Sf9Pf1o/ZX9zP0X/nL+zP4i/2n/pP/z/0gAigDBAPEAHQFYAaAB3AEEAhYCFgISAgkCDgIrAkkCYAJeAksCPgIxAhkC7wHEAa4BqQGsAaEBjAGGAYQBfAFtAVMBNAEiARoBDwEEAekAyAC/ALQAngCEAFoALgASABEAEAALABUADQD5/+7/3v/M/8X/vf+p/4//e/9m/1T/Tf9M/0T/Nf8d//f+4P7k/vT+Cf8V/xP/Bv/w/uD+1f7N/sH+rf6j/p3+mf6e/pr+lv6k/rH+u/7F/sv+yv7Y/vH+Cf8n/zz/Rf9Q/1v/Yf9n/3b/mP/D/+7/FQApADUARQBHAEYASABBAFQAbwCAAIYAhQCMAKAAtADDAMYAzgDUANwA7QD2AAUBEgERAQoBCQENARABHAEuATQBNAEwASwBNAEyASkBIwEbAQ8BCAEDAQIBAwH7APQA6QDPAL0AtgCnAJcAfQBbAEgAMwAaAAoAAAD3//P/7f/v/+3/3P/M/7H/lf+M/5D/n/+r/7b/tv+o/6D/mP+M/47/jP+J/3//df9p/1z/Xf9j/13/UP89/y//Kf8s/y//KP8x/zj/Nf86/zn/L/81/zz/Pf9H/0j/Tf9c/2//g/+e/7P/w//L/9v/9P8PACwAQABKAFMAYgBsAHsAiACNAJkAqQCwALYAsQCYAH4AdgCBAIQAjgCYAJMAkQCVAIMAYgA/ACMAFgAeACcALQA8AEoATgBMAEoARwBIAEYAQQA2ADMAMgAoACMAHAARAAoABwAFAA8AGAAgACUALAA1AEMARwBFAD0ANgAuACYAHAANAAQABAAEAAAA+v/n/9T/zf/K/8f/yP+9/6b/mP+S/5H/h/93/2n/YP9Q/z//Lv8o/yb/Hv8S//v+5/7n/vr+DP8d/yX/M/9I/17/d/+X/7P/y//g/+//BAAgAD4AWQBrAHIAfgCOAKIArwC3AMEAzQDPAMsAyQDLANEAygC9AKgAlgCZAK0AugC8ALMAogCWAI8AjgCJAH0AbwBnAFsATQA5ACIAFAARAAsAAwD+//n/+P/1//D/3f/F/6n/kf99/3T/af9Y/0P/LP8Z/wb/8f7f/tf+yf7A/rn+tf66/s3+3v7s/vn+B/8d/zH/Qv9N/1v/Zv9w/3f/if+f/7n/0v/n//X/AQATAC4ATgBuAI0AnwCkAKkAqgCpALIAtgCvAKwAsQC7AMYA0ADSAM0AxgDKAMsAxQC4AKsAqQCvAK0AlwB8AGoAYgBYAEkAQgA+AEMATgBPAEEANAAnACEAHAAOAPr/5f/Y/9j/3f/f/+D/3//f/+P/6v/w//P/8v/4/wAADQAdACcAKwAzADwAPAA5ADoARABNAFoAZwByAH8AjgCOAIsAjgCJAIEAfQBwAFwAUQBKAEUARwBMAEoARgBDADoALwArACcAGgAVAA0A/f/q/9j/x/+9/7X/qv+i/5P/g/92/3L/cP9p/2T/Zv9q/2z/cP9t/27/b/9p/1z/Vv9P/1L/W/9l/2j/bf91/3v/gP+D/3//cP9r/2X/ZP9o/23/Z/9l/2b/av9v/3T/gP+Q/6T/tP/F/9b/6f/x//j///8FABAAIAApAC0AMgA1ADUAMwA3AD4ARgBPAFYAVQBXAF4AZwB1AIEAhQCCAHsAdgB4AHsAewB6AHUAcABqAGAAVABNAEkASgBQAFQATwBEAD4ANgAoABcADgALABAAEwAXABkAFwAZABsAGQAUAA8AAQD0/+n/5P/o//H/9//0/+r/4//g/9r/0//P/9D/1P/b/+P/7v/3/wAABwASABgAEAADAP//AAAFAA4ADwAMAA0ADwAOAAwACgAFAAAA+f/1//P/9v8AAAcADwAQAAsAAwAEAAgADQAKAAUA/v/3//r/BAAIAAcAAgD9//z/+v/3//P/8f/0//3/AAACAAYACAAGAAIAAwADAAIAAQD7/+7/5v/q/+3/7//x//P/8f/u/+//8f/2//3/BgALAA0ADAAIAAsAFAAYABsAGQAbAB4AJgAmACsAKgAnAB8AHAAaABQAEAAMAAcABgAOABIAEwAUABIAEQAQABAAEAATABEACQD+//X/7v/l/9n/yv+5/63/pP+e/6H/p/+r/6r/qf+m/6n/sv/A/8b/yP/M/8r/yf/E/8L/v//D/8L/w//B/8X/zv/c/+X/6v/x//f//P8BAAAA+v/5/wAAAwAKABIAGAAXAB4AKAAvADIANwA4ADkAOQA7ADoAQwBPAFMATQBKAEkARgBCADwAOgA6ADoAOQA1ADcAPABDAEAAOgAzAC4AKQAjACAAGwAbABgAGAAZAB4AGwAVABIAEAAPAAwACQAEAAIAAQABAAAABAAFAAEA/v/8//X/6v/j/9//3P/Z/9j/1P/T/9X/2f/W/9f/2v/f/+H/5P/i/+L/5v/r/+z/6//s/+3/7P/t//D/9P/5/wIACAAKAAkACQALABMAGwAdABkAGQAaACAAJAApACgAKQAqACsAKAAoACYAHwASAAoABgAHAAMA/v/0//L/9P/4//j//P8AAAEAAAD7//b/7f/m/9//2//Y/9X/0f/M/8v/yv/E/7//vv/A/77/uv+z/7L/tP+5/7j/u//D/8n/y//L/9D/2P/h/+T/5f/n/+j/6P/q//D/9f/4//n/+f/4//z/BAAMABcAHgAgAB8AIQAmAC4AOAA/AD8APQA7AEAARgBOAE4ATABGAEEAPwBAAD4AOgA9AD4APQA9AD8AOgAxACoAHwAUAA0ACAAAAPr/+v/7//r/+v/5//T/8v/x//D/7f/q/+f/6P/l/9//3f/e/93/2f/b/9v/3f/f/+f/6v/x//b/+v/3//3/AgAIAA0AEAATABMAEwAKAAQAAAACAAYACgAMAA4ADgAMAAsACgANABAAEgASABMAEgATABQAFwAWAA8ACAAEAP//+v/8//z//P/4//f/8f/y//L/9//5//z/+P/y/+//7//u/+7/6//m/+H/5P/h/+H/5f/q/+P/3//Y/9f/1//d/9n/0v/M/8r/xv/H/83/0P/R/9j/3v/e/9v/2P/b/+D/5P/l/+f/6f/u//b/+/8AAAQACAAHAAcACgATABcAGgAcABsAGgAhACYAIAAYABcAGAASABAAEwAXAA8ADAAIAAoACgASABcAHAAYABQAEAATABYAFgARAA8ADAAHAAYACwALAAsACgALAAsACwAFAAQABQAHAAMAAQAAAP7/9v/z//P/9//4//f/9v/6//7//v///wAA/f/7/wEABgAIAAkACQAHAAcACgAMAAsAEQAXABkAGQAeACAAIwAmACUAJAAnACsALQAvADAAMwAwAC4AKwAsACwAKwApACgAIwAcABsAHQAbABcAFAASABMAEQAOAAoACwAIAAsADQASABMAEwARAAkAAAD3//L/6f/j/9//2//a/9j/1v/O/8v/zP/Q/8//z//W/9z/3v/g/+P/4v/d/9n/2v/c/97/3v/h/+X/6f/m/+H/4//m/+v/7f/v/+z/8P/4//z//P/9//z/+f/3//z//v/+///////8//r/AwALABIAEgARABEADgANAA0ADwAMAAQAAAD+/wAA/////wAABQAMAAcADAAMABAABgAHAAYAAwD///n/9f/u//D/8P/4//v/AAD5//H/7v/0//f/9//5//v/AAAAAAEA/P/5//L/9P/1//b/9P/y//H/9P/3//b/+P///wMAAwAEAAgACwAIAAIA/f/7//3//P8BAAgAEQANAA8AEAAQAA4ACgALAA0AEAANAAgACAAGAAQAAAAEAAIAAAD+//7/AAD+/wEA/f8CAAcACwAIAAUABQABAP////8CAAQABAACAAAAAAADAAMAAgD9//n/9//6//3//v/8//r/+f/7//v//P/2//T/9f/5//f/8v/y//D/8f/v//D/8f/3/wAAAgAFAAoAEAAQAA0ACwAIAAkACAABAPz/AAAJAAcABQAHAA0ADwAPABEADgARABIAFQAVABYAGgAbABkADAADAP////8AAAIAAwD+//n/9//5//v/+f/5//f/+//6//3//f8DAAYACwAHAAgABwALAAYAAgAAAAMABQADAAAAAAAAAP3/9//8/wAAAgAAAAIABAAHAAoADQASABQAGAAYABsAGgAXABUAGwAkACYAIQAbABsAHQAbABcAGQAXAA8ABgAKAAsACgALAA4ACgAAAAEAAQADAP7/+//2/+//5//j/+j/7v/t/+P/3//a/9b/0v/U/9X/1f/R/8//0f/R/8n/wP/D/8v/zv/E/8H/yP/R/8//y//M/9L/0v/R/9H/0v/X/9j/2P/Z/+H/5f/n/+b/5P/n/+n/8P/v//X/9v/3//b//v8CAPr/9f/5/wQA/P/3//P/+//3//H/6f/o/+3/7f/r/9//3//l//D/7P/k/+T/5v/k/9j/1f/W/9r/1P/Q/83/1f/a/9r/1P/S/9v/3f/g/9v/5P/p//L/9v/+//7/+P/4//r//P/4//3/AwAIAAcADgAWABoAHAAhACsANgBFAE0AVQBYAGMAZwBtAHIAfQCDAIQAiwCYAKYAqwCnAKgAqQCsAKcAsAC8AMUAxQDFAM4A0wDYANUA2ADcANoA0wDIAMgA0ADWAM0AuQC0AKwAoACRAIsAgABtAGAAUwBJADkAMwAtACMAGAAOAAoA/P/p/9b/yP/C/7v/s/+k/5r/kP+H/4P/ff97/3f/c/9t/2v/av9e/1r/WP9X/0n/Pf81/y//KP8h/yD/Kv8u/yz/Jv8t/y7/L/8r/yf/JP8k/yf/Iv8l/yr/Nv80/zD/M/83/z3/R/9S/1b/V/9d/2j/dP93/3n/gf+N/5r/m/+f/6n/sP++/8v/0//c/+v/7//s//D/AgAQABMAGgAhACoANwBBAEoAVgBbAGkAaQBtAG0AbwBvAHcAegB1AHUAfgCCAIkAhgCEAHsAdAB0AHMAdAB3AHcAcgBtAG0AdABxAHAAbABtAGMAZQBlAFoAUQBSAFEASgA1ADkAMwA0ACIAIAAfABsAFwAVABoAFgAcAAcADgAVABsAIgAVABQAGwAPABcAJgAhABgACQAPABYAJwAkABcAHQAuACkAJAAmAC8AMwAwAF4APwBDAEEANwBGAHQAiACCAIYAiQCBAKYA0gDUAK4AuAC/AMEAxgD5AMkAiwCNAJwAsQCEADwADgC2//j/8f/Y/8n/gv9I/x3/FP9k/3X/S/9E/6X/uf89/zsAkP/CALj9vgC/AQUB7gHJAaIBvP6LAM0ClwK///3+ogBuAOf/Bv8w/+z9s/xl/Qz+zv3r/M/8l/xg/DP9bP4g/kn9a/35/eH9K/6+/64AaQCFAMQACAG4ARoCzQHH//wA2AFQAj8CLAKMAYAA1f+e/yAAif+i/kX+Kv94AL//tv5I/VL8LPwu/TP+6P6n/lv+gv6b/ur+B/9a/5b/u/+5ABoCLAMKA2ACpQE9AZwBeAIOA+gCmwIjArEBXwE/Ac4AOAAHAF8ArQCaADkAGP/v/nr/zP+y/6z/gv+p/8H/+/8QAOP/yP/F/yUACQFNAU0BtAAAAO//JwCwAPkACQGvACcAxP8JAPH/0f/L/5X/ef+8//X/9f9R/9n+zv7c/lv/p//V/9T/Vv/c/q7+Cv+x//v/5v+s/3j/f/9P/2z/uv/G/7r/TP+S/ygAnABqAMz/vf8WAHIAoAD2AAEB0wBrAD0A9ACgAQMChwG2AKsAsABcAfQBNgI3AiABTwAZAMQAvQGsAUMBhQDx/+v/GwBsAMEAiQDJ//X+lP4y/7L/f//O/o791fy7/P/8jf2E/cr8s/u4+p36U/tZ/BH93Pw5/O37cfzD/RT/XQApAaoBJwLYAtEEsgbmB7sILQlwCnMLQwwpDZ4NCw53DYgMlAt2C/8K0gkGCKEFNwRcApUAx/6H/Bj7Mflc9+X1mfSN8xryXfCf74Hvae+m7nPt4uzR7PzsEu3Z7Frsnuuv6z3spu2d7qnuxO6D76LyaPeA/PwAnAPMBn8LWRLeGuMhfCfyKZ4qTSvLLD0wCDLtMJgsOCYMIBwa1BTzD7QK8gRc/q33LfLk7TbrJenK5zTnpebq5c7ko+Qp5pPoKetY7HPsFOwZ7AHtgO6l78fvsO7A7HHrzeqj6nHqCOod6jjrX+3S7wfybPRP+vECrQx3FSoa2h2WILwkfSzFM6I5VDm5M7QtbCgxJn8kUiDNGY8QKQaM/WH3wfNk8W7ubuvj6MLm5ecK60nv4vSt+Lb8v/+tASUF/gcbCyINbAzfClEH2gKQ/gj6z/aW85XvaOo85NHeJds12qPacdsa22nZWNgR2EjaSN664gvn/unu7K/w9fUm/VEFgA1mFaQcqyIfJ7UqFi4IMnk18DZmNvgyoi32JmMg9Bs2GOsSmQuYAvj6GvZs8r7wtu9H7w3vje2B7SfwtfV5/NEBeQXHB0sJfwoODOUOfBGpEVQOjAhhAxX/2fq19kXyqu5c6qTkZd9h21nZPtlA2t7bw9wA3Pvai9sP3pzi8ecg7EPvk/DY8hP4hf4YB4kOdxZzHU0g+SI7Jd8qvTH7NNE2ejRfMHkrjCVMIx4hGh2wFogNKAbu/6j6YPez9AL0sPL/76Xuq+3H7/3y3fZ5/RkBqQPxAzAD8QbICQ8Nmw4lDD8JfQOB/gX8XPmE9rvx7eua5xvjJN9G3Lfa9dpq28TbO9yj3BTdud6A4fvkk+ju6vntn/DF8yf4Evx9AUYHrw03Ffgash5cISgklCjzLOMvJzELMC4t/ij7JIEhXB66GXUTjg32Br0A+fru9b7zAvJq8DTuYuyT7A3tau/G8ez2wPxd/+QBogGaA3sH5AgpDF0MrQosCP8CpACf/kX70ff18ifvLezR5w/khOHz3w7gcuDa4Hvh2+Cm4Ejit+RC6E/ruu3/8DHz1fVM+kD+BAVMC7oRGhrNHPEf5CIWJiUu/DA/Mqkyiy6kLX4pLyWgI9QdzxnoE7wLXgbr/iL6Bvjo9AXzcu906wvrh+ux7Yrw1vGq9a75RPxm/7QAhwNHBwYJagtgCyQJ3QaFA9UBGgAo/KT3ifL77QLr3ueH5ADiVt+U3SHd49zx3S3ffd+k4IPhUuN85qbppO1Z8VT0AvgE+8P/kAXIDA0VoRr5HWQfpyGrJs4qjC47MAkvYizkJrki/CD/HeMafxUqD+sIUQFW+8H3bfbi9ffyMO/r63frHu0p7yHyZPRe+JX7Mf3R/54BCAV5CIsJmQvKCpAIXAY4A+ACgwGr/bz5EPRu8NTtZOqc6ATmwuNR4vPfD+AV4WHiyOM15FTljeZs6Kjr6O9e9Ir38vmn/O4AGgdUDZgUQBpcHV8g+SGwJScqwywxMHUvOyz1KNojhiJ7IPsbkhgQEZ4KEQUN/lr7IvjP9HDz++6R7K/rCOoh7PbtzO/o8+707fbF+VH7C/+oAWQDvQaQBrUFoQRmAjwCgQBp/fP6fvbR8qPvNewm6q/nGeWK4zbiC+JT4hLj7+PH5MjlwuZd6QTsIu8l8+T1y/mY/Dv/rQVqC4cTrRmHG9AfIiKuJdEqIyzZLxMwyyzmKiEmJiPJIL0bZxlKFKAMYwYO/1b7m/n79frz2vBy7eProuqr6wfu+O8084n2Pvhx+V376v6cA2UGzQfsCHkI7AbWBZoENgQJAhb+ovpx9k/yte7C65fqYegb5VHijeDN4F7hT+LI46vkXuXi5f/nSevy7vjy8vUO+W38pP/XBIkKHhFMF74ZXxzLHoEi2CZRKCcq+ConKfom8SIwIKoeEht3Fx4SJQxHB0kCFv7G+pb3NfXq8tXv5+3h7XPu7e/V8G7yqvYY+bz69Pxi/2sDZwUpBm8IAgm2CHgHmwUKBSgD8//w/ED5VPZn88/v5ewY6s/nvOUF5LHjueMq5ErkGeT/5Bvmj+gu7DXvJ/Jo9Lv2avtW/3QD+QjSDvEVGxlPGhoeuyH1JUwofCkDLIsqPyccJFkhniCLHUcZ0BStDkoJmwMG/zH8VvmS9unywO4E7FjrW+zu7CjtOO5o8IHyevOq9Sz5kPzK/rb/oQEJA+gCywLtAkcD7AFl/jv7Qfmj91v1S/IL70Hsi+ng5qDl/+RX5drlieQc5Evkz+Xf6IHqW+3h8HjzxPbG+dP9LAPsBxsOWxT4GL4bBR4sIRQmCiosLBEtEiwVKi8oNiU6I+ogOR1XGb4SRwyjB4gDwwB+/Db41vWO8lbwju7S7SPvRu+S8MvyCfSx9QT3pfl+/ST/kADgAYQCmwM8A70CpAITAU7/WP14+hv4KfWJ8nrwx+3F6jTos+Yw5tblGeV75ArlBebG5h7o+OnE7Vjx7/Kk9dv5Zv6CAnUFkgtqEyMX/Rg3G9EfJiUoJ5soNSt/KxYqDye6JOIjcSGaHVAZnxMgDpEIeQO3/+f7MfjO9Gnw7OwR67XqPOvG6vjqc+0R71bwc/Hv85D4DPsA/Lf9ov4qAH4ADwDvAAcA9f0G/Gz5rPel9bHywfAu7ljrfOl050bm7+W45UDmL+bm5Rjn0ugu68Dt/fC99IX3Uvru/VMCiwcEDP4RkRfeGvIdoyB4JEAotykiLEstHSxnKnIn9SXII/kfphxFGGcTwg3dB+cD6f9r/Lz4PvQ98QvuJewC7P3qiOv+6zXs6+478E/yFvb892H7Vv08/rcBxgJVA7QEsAM4BJ8CPf9i/hH82/nS993z9/Fs7w3siurL6EDoMehe53Pnk+fg5w3poerf7KPvRvKs9HH37fpf/uEBrwVMC88R6RXSF08aix1fIf4jZyUEKOkn4CWTIxohcCB0HlEacxeFEtMN/AhRA7gAov29+Wr27PGZ7+vtAuz861frj+sS7X/uOvBq8WLzKfdr+lv85v1IAKoCpQOBA/wD5gQ1BHYCPgCT/gT9Wfp297T0YfJl8NLtSutm6YLoj+g26InnRef45yjpkOp87FHvZfJj9CH3H/tP/9IC5gVkC0QSxhUVF8AYwx30Is0jqyMZJS0neieCI3QglR9wHsIbQxYQEVMNOQlpBeQAcfxr+Vz2SPP570Dt3Oyi7Ujt3+wa7RvvI/K385z1+fgi/I/+f//rAPUDhAUABsgFvgXMBd0DJQFh/8/9Afy++Fv1mfI58A7ujut06Y/oFOjO513nK+cJ6Dfpb+qa7EHvFPIl9Q73b/oC/iQA/gMQCKYNlxN9FGEWqxmHHAIhIyHtIqQmHCWUI6Ygjh6GIO4cKhmHFkYRSw7WCMEDnALP/pH7P/iS8xLy+++q7n7v+e787tXvhPBW8o7zRvWg+Er7U/wZ/X/+eADjAQwCpgJaA3ICYACH/if9OfwJ+nD3E/Vx8gjw+O3J63Xqs+lm6VnpmegQ6OToJOq668nt8e8H82T1GPd7+vf9iQF2Bd8ICQ/UE0IV1xdOGoMeJyLdIUck8SWuJJUj5x8uHy4fMBvPGI0UfA9hDPcGDwSQAer8mPqQ9gLzOPGM7oTuu+6f7fvtu+1z77fxyvLz9H73qvok/Yz9Qf9wAVwDAQQoA7IDpgPkAbL/R/2K/Ff7C/jY9EfyDPFR73zseOrt6TbqqenJ6PToSep17PDszO2T8EPzv/a9+KT63f65AawEnggrDagSyhSqFfEYABxjHpQfHiG/I9sjHyHTHiQeOB0VG7IXRhTYEBMMowdbBCgBh/7l+sv3G/Wx8b7vmu7D7nnvSe5Q7s/uZ/A181f0w/bU+YX7nP33/Zv/0QLEA0YEKQScA64DtgHF/yz/Xv0V+1f4evXG84TxGu8d7u7s1Osb6wzr0es+7Jjs3u2d75zxnPOW9if5sfvT/s0BVAVvCDcMPRI5FfQWBxkuGz0fUiCKICIj0CLgIY4fJxxtHNkZfRYlFDUP6Qv0B9AC+gAp/fL51/fq897xzO+O7frthe1w7RXu/u1x78fxu/Ps9an3p/kv/KT9Y/4tAFMCRwPeAoIBGQEcAZX/3v2H/Nn6E/ke9lbzNfLv8OLvye4h7U/s2Ou665vsde3X7hjw9fBG8n/0Yvfg+ZP8pf+LAiwF3wbrCuIQyxMjFh8XEhnUHPEcLR7zIJAgOCHjHeEahhtRGK8WthRqD8wNxQisA8MBA/1q+1/5UfSm8rzvzO0W7k/sMO1Q7v3te+9b8WnzIvbf92T63PxH/nD/3gEXBNgElgQPBO8DjgPMAXsA6P/m/bD77fgl9hL1iPOg8Q/xl+4q7QTtmewX7qPutu7F8CHxg/L29B/38vqh/Q4A6gIyBJ0GhQssEdcUnBW1FggZrBsKHPgcPCA8Ibcf2BvCGDoZRBeeFG0SBw4MC9kFsADX/rL71/nT97bzfvGr7nrtnO6s7pzv++9V8P3xqvPH9TH4NvsI/l3/YAD3ADsDPgUyBaMF5wQiBDMDMQAk/+L9Y/ve+Zr2JvRk8rnv8e6k7bvrGetG6tXqe+vv62ztce5k79HwKvOd9q341/rt/cIA5AJmBL4INQ9gEikTIBTeFlIaOxvZG1AeXR/bHUUbRRmjGJEXzxRqEj4Plwo1B8cDnQCJ/v36CPkw9z/z8fHS8H7w9vEc8eHxTfPD80D3Dfms+uL9PP/yAXEDkAM3BkMHlweeB+4FzQWABAkCggBQ/mX8DPqt9mb0N/J98DDvre1L7CXr5upP66Hrb+xe7WPuw+/y8EXzXfZz+KH6o/1GALAC9ANxB2kOMxLgEssTZxXiGb4b5BqiHRYfax6pHFYYshfDF3cUrBKnDiUKsAenAlz/lv3O+dP4f/at8qvxrO+b74TxAfHv8czyXfPZ9vT4kfo9/RT/VwGPAlwCzAO8BZIG7gUKBA8CBAGt/079a/to+Xf3pPUs8pjv5O5U7mvuz+wZ69/rquxb7T/uT++/8TbzlfMk9Uj4fPtd/cb+NgHABHcGRQcTDMMRvhQhFTEUWhc+Gz8bLxxNHSAecR2nGI0WsBYDFZ0TzA/IC08JVgQKAQz/Q/xP+wv56/Va9PDxlfHu8ozztvQQ9R71cvfU+bP7pf2V/zkCKwTRA8sDQgVuBn8G4wQBAwkC6f/3/K/6Y/iO9ir0C/Gj7srsc+uo6qvpDOlF6RnqqepH683sx+5r8G/xtfKG9aH4f/r++x/+EgEdBOcE0gbtDJURaBNKEwET0Bc3G4IayhtdHK4dLh2bF1cWWxaaFLcTIw4FCnAInAM1AW3+EftE+9/45PUT9L/xH/Mu9Vr1z/XJ9Sz3P/o1/MT9dwBQA0EFrwXVBLUFBwgzCP0GHgXyAn8Bpv5i+8b5xPd49fnytu9j7RHs4+p36tvpSunq6cLqc+uG7AzuGfDo8UrzGfWm99z5w/tV/oEA1QLqBAUG6QpRELcRUxP8E4gWChsXGqMajh0MHpcebxoPF7UYiBaMFHQRcww4CxQHrgLYAPD8ufsU+ur2lfWH8uLxJPNU85T0SvQB9Ub3dPhD+z39hf9nAkoC3gKIA/QDIgZ/BRAE8ALI/7j9efsl+Xr42vXE8nfwn+3268jqMeok6xnrH+rI6YjqmewM7wTxxvJU9Df19/b8+Tb8dP4UAVwDOQaEBsAGAgzGESYVZxUYFCoXVhrzGh8cAR1dH0AfWhr7F1wWWBVIFa0RPg7bCsgFDwPX/zP9Tvw0+r348fWL8rbyO/Mv9Hj1DPUx9oD3Evi2+jL9Qv9XAX8B7AGOAlMCTAO/A5cCSAGo/pP8Jftj+FT2mfRT8gPxZO7o62Dr5eoo61vrQ+r76uHso+5m8GDxrPLR9GT2JfiJ+tr8+P61AAECbQPTBMEGTQsnEO4RKhIyEhgU0xf+GA0aNBx/HPYb6hi7FT4WRBXvEzUSkg1jCrcGbgI2ARP/fP2E/HP53fZV9DXzuvTK9Zz2jPZ29pn3EPld+2H93P8UAk8C8QJnAmoClgT1A1oDMwKo/l79xvr399/3cvWk8+jxRu497S7sgusV7Y3siOwJ7RrtWO/K8PTxWvRE9cD2Hvji+B/7/Pxz/8IBnQJ7BD4G9gk3Dm4P0RHKE0QVXhhwGNwZVhw6GwEbsRiRFkcXDhTEEdEPoQsVCgcGZgFAAI39Jvyj+hH34PXP9Cj0HvVj9Rr2KPfy92z53/un/ev+LQGuAsgD6QStAzQEIAVOAwoCof9v/Sj92Pmp9vn0YvLP8dvvlOyH7DjsI+yH7MPqAutN7RDvDvHn8YjyVvTM9U73/vhn+8j9mP+rAVsCxwNKBgcJyQ4TEokStxQ6FfkXAxtDGiQdih4nHbQcFxhlFtMWWRNzEhYPBApGCEUD/P+r/ij7rvol+dT1e/R/8hrzFvXz9Nb11fYH+LH6s/uO/KX+ogAwAtUC/gHIAXcCIALPAN7+3/yX+0H5e/as9OjycvG776bt/Ozi7InscexK7Ins9e0F8GbxNPI385v0bPZm91v4B/t5/fr+rf9JALgCEAUhB1ELEg8REbsR5RE2FCIXhxgrGqEbJxudGFkVDBQZFEcSZw/mDPcJTAaDAXH9wPw7/Lj60vi29ffzXPN889H1zvZY91T5RfqY/BD+g/49AtgEqwWBBhUF0AXCBh8F+wSQA0IB0/8z/Gz6u/mv9rD0ZPI+8BPw1O4H7gzuFu0f7Zjtxe6z8Jfx6vLi85D0DfZK9635qPun/E//3wDZAUUD+AMgCYwO9Q9aEbgQBxJ6Fj0XDBnJGrgZOxqEF5UU4BR/ElYRwQ/tCmEITgTe/5D+6/vL+jv6CPce9THzqvIY9f/1UvZq9y34l/pT/Mb87P48AZoCngNJA2YD0QOyAuYBPQGj/wv+K/uB+FX3OPVc8wnyHvAu7wruL+1p7e/sv+zZ7ajvePER8qLyefRe9t73ZfnO+0b+rf8AAe0CbgUkB2wIQQwXEcgTVRR4FOIW8BkpGzAcqB1THhwdJBo/GKcX/RWFE6sQpw11Cl0GeQKg/+n88/qg+fP30PUL87PxovJX85jzLfQf9VP3S/jV92D4lvm4+1z98vy4/Mv88vss+175Ufg8+N322vSm8lPw9+6Z7XXsWOwx7ATsX+sj6vLpZevI7f7vGvHT8c/yEfT89dP4N/wM/+oA0QIpBVQHfgkxDdQSaxfDGNwYcBprHcUfMSEHI34kUyPjH/wcQRwOHFMa8hYXE0gPVAthB/AD+wDV/jj9Bvv095z0BPOK83D0u/TP9G/1jfZb9+r3KvlW+1j9OP4a/ub9cP4g/7j+wv0F/Wz8+vpK+B72E/UG9F/yIvBh7m7tN+wA6wXqcumt6Wzqo+ud7BntEO6t79fxPvTB9pz5P/yX/jYBGQQNB3gJOAwzENgTJRYwF9IXVxkEG3scAR5zHqgdrhtyGYUY1xdAFt0TwhDYDSkL7weyBMMBWv+I/WH7t/hN9nT0EPMW8mzxVfGQ8UvxFvF+8UHyU/M09Pv0MfYV96z3vvjC+bf6hPtI/HH9BP7s/V/+Yf9bAIgAEQA4ANwA4QClAOYAWwF6AewAIAB2/67+0P0q/Yz81/v9+iD6lflG+fv4DvlK+Sv5/PgT+br5yvrD+5j8ef1d/ln/cgB6AaoCIASCBXwGFAfHBw0JMArYCmsLHgy9DOsM2gwxDb8Nrw0kDYQMGAyhC9cK6gkQCRgI7AalBXEETwMOAp4AOv/i/Xb8EPvL+a/4r/en9pf1tvTt8zfzqvJF8vvxw/GT8YjxtfH+8XjyIPPC82z0GfX99T/3aPhu+Zn6z/v//CT+Q/+iAP8B9gLFA58EqgXABpYHTQj/CJIJ+wkxCk8KlAoOC2ALbQtgC04LXQtlC1QLTQssC/UKugpzCjUK5glcCbUICgheB8MGAwb5BOAD3wL1AQcB1v+a/oD9XPwx+/v5z/jO98321fX29CH0evPm8m/yMfL88cXxofGf8dDxKfKg8jjz5vOj9Fz1KPYo90r4fPmg+rH74vwe/jb/SAB0AZsCqQOhBHgFOwb/BrQHQAieCMsI4AjkCOAI3Qi8CIYIRgjpB5MHMQe4BkwG3wWABSwF0ASMBFcEIgTsA68DbwM4AwUDtgJYAv8BlQEfAbAALQCc/x//ov4k/q39I/2i/Cb8nfsd+6r6VfoM+sL5jPla+TP5JPkX+R/5Wvmm+e75Svq2+jD7tvs+/Nn8dv0Y/sH+Yf8BAJcAGwGfASACqwI+A7oDFgRVBIYEsQTbBAEFFAUWBQ0F8wTSBLsEpgR6BDIE5AOQAzcD6QKbAkUC+gG5AXABMgHzAJgAUAAsABkADwD3/9n/t/+G/1z/Pv85/z7/Kf8E/9f+r/6Q/nj+Xf42/gb+1P2m/XX9Uf1N/Uv9QP0q/Qf94vy5/Jz8l/yb/Jn8mPyx/Nj8/fwe/Tf9UP1w/Zn9xP39/Ur+lf7R/gr/Sf+V//P/SwCYAOoAKwFcAYsBqAHFAeQB9wESAjYCUwJiAmoCdQJ/AoMCgwJ0Al0CVAJGAjICIQIHAvgB8QHZAcQBtAGlAY8BYgE9ASUBAgHdALMAjAB1AGMATwAsAP3/3v/S/8X/sv+q/67/q/+g/4//ff9s/1f/SP89/zr/Of8s/x7/E/8F//X+7P7w/vb++/74/vf+C/8g/zb/WP9y/4D/if+V/57/o/+i/6L/rf/D/9X/4//7/xUAKABGAFwAZgB3AIIAiQCGAH4AfwB9AIgAnQCuAMYA3ADyAPwA6ADaAOAA3wDdAN8A1QDJAMEArwCgAJgAjgCHAH8AagBKAC8AEgDu/9H/wf+0/6T/lf99/1f/Pv8q/wH/3P7H/rf+o/6E/mP+U/5O/kH+K/4a/hb+Hf4U/gT+Df4Y/iT+Pf5a/nf+kv6z/tP+6f4B/x7/QP9g/3n/mv/A/+n/GwA/AFIAegCyAOIABwEbASsBQwFZAW4BcQF2AY8BpgG/AeIBAQIWAiUCMQI2AjgCOwIzAiYCFAL/AewB2wHTAcMBogGKAX4BcgFdAUEBIAHzAMYAoAB9AF4AQAAgAPz/0f+n/4b/cv9k/1H/Nf8U//j+5P7T/rb+jv5v/lz+Tf5H/kr+Sf5O/lf+U/5b/nP+gf6O/qT+xv7p/gX/Fv8Y/yL/Pv9j/5T/uv/K/9P/2//t/wQAGQAqADIAOABKAGUAdgCBAJAAlwCQAIMAfwCGAIgAiwCTAJAAlQCgAJIAgAB5AGgAVQBLADQAGQAHAP3/AwASAA8ACQAHAAQA7P/U/8L/t/+x/6X/nP+M/4f/jv+K/3v/Xv9O/1P/W/9N/0b/V/9z/4j/pv/L/9r/3f/l//T/DwAqADoAQQBRAGUAewCUAKsAtQC0ALAAugDMANAA0wDfAOwA9gD/AP4A+wDnAMcAtQC4ALkAoQCLAHwAawBmAGAATwBCADsAKwAZAP//2v+9/6X/nf+h/6H/jf9x/2H/V/9G/0L/P/88/zb/Pf84/y7/OP9D/zT/If8g/xn/Hf8o/zL/Ov86/0D/U/9p/33/k/+p/7j/uv++/8r/y//P/9n/5P/y/wEAHAA6AE4AVgBoAHsAgwCGAIkAlQCjAKkAmgCZAKsAvwDEALkAqACXAI0AjQCJAHoAZwBdAFEAPgArACUAJgAfAB8AGQARAAwABQDx/+P/3P/U/9D/0P/M/7//tf+5/8H/vf+x/6b/nP+U/5j/of+o/6n/pv+f/6L/uP/M/9r/7v/9//r/9//9//7/BAAPABEADgANABkAIgApAC0APABJAE4ATQBSAGMAbwB6AIQAjwCMAIMAewB4AHQAcgB1AGkAVQBKAEEAOwA+AEgARAA/ADkAMgAgABAABAD7/+z/5//q/+//+v8DAAMA8f/j/97/2f/T/8b/rv+U/4f/gP9v/1n/Uf9t/5//r/+Y/3j/av9g/17/X/9v/4b/j/99/2//jf+6//r/HAAsACsAJwAWAPj/AQALACUANgA7ADcALAAbAO//6/8UAFIAiQCpAKIAigBnAGAAdQCEAEAAzv+h/8H/DwBIAGUAiACzAOEApAA6ALf/mv/Y/yEAPAAkAB4A9P/M/93/SgCsAK0ASgDo/3n/S/9E/3r/qf+//6r/av80/wb/3/4M/0v/dP9C/wH/xv6s/tb+5P4h/5v/GAA3AAsADABGAOQAYwE/AccAYQCIAM4ABAG8AGoARwAsAA8A6P/w/7L/hP9s/4//x/8rANEA3QBjAIj/dv74/uT/9P8h/Uj/OAv+GhUeagy68QPic+srBhIdSR2TB4HtEOHg54z4DgZWCZIEYf4G+S70DO9N7S/zc/6ECWcLggWE/58B0AdFB/UAWv1VBsAUFRrbD3D+P/SB9KP6Rv/c/2f/0/75/HL2L+887Z7ygfph/s/9wfwf/rb/Kv+y/Fn84wAGCNEMCw5UDBgJ2wXZAywDuQOIBRwHvQYbBI0Al/2r+vT44/iw+p38rv22/cD8cPtx+mn6O/tR/f//ogEcAgQCRgJvAqoC4QKNAxYE1wOoAwIEnwQ/BDECrv+D/uL+sv+o/y3/wP4f/sn8L/v3+t77Dv1w/Wn9rv36/Tb+cf5z/gX/LQC5AZQCJgMEBMIEqwTuA8QDJQRgBIUEbwQrBJsDCQM/AjsBUQAXACIA5f99/yj/df5r/WT8n/sv+yX7Z/ts+xf7mvpp+kf6CPqN+SD57PgO+Tv5F/m8+JT42vhL+c75Y/oK+6r7iPzo/ZP/NQGpAvUDJAV3BiQIDgrTC1QNjQ6TD4QQZxHoEbkR+BATECgPRQ5uDWYMvAqACEMGRQRPAjwAHf7s+8b58/eP9m71Q/QV8/Hx6/AH8F7vy+5L7gruMO6R7u7uJe8c7wLvDe+U747w2PEn83702PWP99L5uvzq/y8DlAYzCvsN1RF0FaQYXhucHXAfoSBlIbMhlCHqIJofkx3oGokXuxOVD0wLHgcnA1f/s/tE+AX13PH97qrs2uo46Zrn9eWX5KLjaeMD5CPlaeaQ51ro1egt6Xnpq+nO6SrqIeus7LHuA/F486n2/vptAGcG/QugEDgU9RZiGewbbx66ILUiciS1JSYmdCVbI/Qf5RvpF14UBRGvDRQKZAYoA4UAJP6u++T4Kvb487XyYvKV8uPySvPr8+70Afa29tH2W/a99V/1D/V/9Fnz0PE+8Cvvsu5C7lLt5+sL6jDooObI5Y7lJOay577qLO+D9O35Cv/LA6YIqA3FEo8XyxuUHwAjJCbdKJ8qHSs6Kj4onSVxIr8eoRpAFtMRmQ2iCdMF7QHF/cP5TPZ78zrxZu8b7lLtA+0+7entme4076Pv4+8F8Avwzu+N71TvNu8s7wbvlO6T7Q3sI+oT6DDm4+SG5LvlpOgb7ZLysfgO/ykFvQqkD/ETsxc1G6ceQyLNJeooOitqLDEsrSrGJ78j3h6MGUAUSA/MCsYGAANl//T7pPiA9bnyqPBD75DujO4t71Lw4PGe80P1qPbN95z4/fge+f74jvjR96v2RfXZ81ryuPC57jbsXelZ5mfjvOCg3nHdaN3x3lvigefS7dP0FfwtA/QJVBAzFnEbMyClJOko3SxSMOoyTzQrNGsyQi/wKoIlcB8IGcAS3AyZB9QCiP7F+qT3APWv8qPw3O5u7X7sJeyP7JDtA++08KbyjPQA9rL2SPbq9CDzQ/Gb7zfu8+y360/qeegy5lnjQOBD3Qvbg9o93C3g++US7fT0Ef38BF4M9BKIGFYdsSHdJeopsi3lMEwzhjSJNBAz9C9jK3klyx7eFycR6wpjBagA0vzb+XH3UPVH82Pxo+9J7m3tTO0D7lbvPvGR8+H1uffR+Ar5SPik9nb0G/LC78HtJeyN6tHopub348LgSd3u2TnX4NWN1oLZ0d705VDuX/eWAIUJqxHUGN4e5yNBKD0syi/FMvw0GjYCNrE0EjIWLr8oRCI1GwMU/gyXBgcBrPx8+Vb3APYR9Uf0cvOe8vPxp/Go8VzysvNt9WP3IPlx+gf7q/pJ+QL3BfSq8E7tJ+px59jkJOIH377bcNhV1QTTD9JH0+zWDt1P5RPvfPnTA6ANkhZUHq8kuSnULRgxuTPRNS83mDfONsU0PTEiLKclKR4RFgUOjwY0ADP7sfeU9Xf0//PM85vzUvPj8mvyP/Jy8knzy/Tc9jT5P/t4/Jb8L/tj+HL07O9W6znn0+Mp4c/eadzm2QTXStTy0e/QEtLW1T7cCeWh7w37dQYdEaIa2yJZKVou9TGfNJw2/zfPONA4rjcENeUwLCsTJIsbXBI1Cf4ANPok9QjylfBK8K/whPFf8uDyD/M6883zyvRt9q74VPvg/dL/4QBrAED+ZvqQ9UjwSeu75sfiNN/P24vYYdVd0sDP5832zZ/QcdYr3zXqmfY2A14PWxrRIzArqTB9NEs3XTnXOnQ7FTtdOUg2kzFLK3cjURqHEMIG4f1U9pzwBu2q6y7s8+1H8FHy3/PH9Ib1OPYn95f4g/oc/cT/OwJ3AwIDQADA++T1gu816ZDjDN+G2+bYrNaQ1A/Sjc+jzV3Nfc9h1Ezc/+a8838BJA/LG3om3S7sNDE55jtiPds9dj1GPO85XzZBMXUq6CEJGIkNJgOR+Xbxles66HnnAelJ7HTwgfTg90f64fvZ/Jv9o/4nACcCLATbBWIGJQWpAT38afXn7ZzmU+CG2xbYrNXA0/jRzM+gzeXL98tTzgDU1NzW6Lv2dAWyE0wgmSruMQA33zmvO0M8hzzzO706EzjpM+Et3CUaHDYRNwbX+wnzM+wq6Jnmvee76jHv0vMD+BD7QP23/uH/QwEEA10FzAfdCeQKDAqiBqsAtPjQ7zDnmd8m2mrWPtSV0gHRw84BzBDJXMceyE3MudTx4Evw/wBDEbgfLCs7MyY43zogPNw8SD2IPWA9sTt9OF8y6SnTHoESkgX6+XTw1+mH5iHmreiA7ELxo/VH+bH7Z/3f/qgATgNtBjEKdw2uD5sP1wxFB1//Evbc7BTlF99n2yjZptd71Q/SLM1/x2vChr/EwMHGF9I94TPzTAUBFi0jOC1ZM0k3ljknPL4+lEHQQ4JEU0JYPD4zyybxGLAKLf748zjteOna6A3qv+z17wbzk/XI96759/v7/g0DAAjUDKkQ9BK3EtMPNgpTAir5Zu/h5pPgAd3v2rHZKdcr08jMk8WBvoO5Xrd2uuHCwNA84kH1hQdcFrsh3SkUMLQ0ZDkSPtZCxUYkSWhIfkMCOi0tWh7MD0wDWPl58iDuAuzF6prqpup66/Dst+9U9ET6kwHcCBMQhBVNGboZORjGFPMPpgqlBLb+oveh8EzpQuPV3HzXg9EqzMbGLMIjvjS807tcvsrE885a3ZHsnP2rDDQb2iWzMHg3gz5tQlxGJkg6SLVF2j9FN0krKB/sEKMFPvqM8vvrXOj15aXlu+Z+6Z3uxfND+woBYggHDtgTkxdMGjcaaRjpFBYQ4QpeA1L7PPJt6bPhsts216LTpM+qy4rHY8PFv4u+777wwynMh9kK6aL53wm8FyAjjStzMx45SD+XQ29HqEibRqxBxDiuLV8gHBOUBsz8D/Wv79XrTuiz5fnjquQf6AnuU/Y8/x8IyA/xFRQZKBqwGCAWEhMIECgNCAnoAjj6HfDa5CPbetJfzQ/KosjUx6nGeMTrwO2+HL6ZwsrK59kk6/79RQ8CHlMoNC+uNBA5oz4zQ99In0pWSZlCnzi7KlMcMg7LAuT6xfUb8yPwo+z76GXmYuYK673yjP1UB6IQvhZgG9sbyRv2GMsWUhQBEtUPMgtgAwH4g+vo3mjVZ87yy5LKVMltxy3Etr8ku+i4xrmcwGfMAN5U8SEDjRN7Hhwn/SwENGg7AUO0SStNAk3wRbI8Xi5sIHoSIAcT/7v4XfQf7xLqgOP434XeKOPZ67D3NQQcDpEURxjKGX8aBRvSG2UcaxuzGNgTLQxcAJ/zJua429LUydHU0XrQ682YyAzDRb37uv67NcEuyurWu+fu98QHCxTmHrolPC4VN9dAp0gxTGBNlUaPPvcxkicGGzYRBgj2/+744vCn6uvid9583DLgmueB8jv+gggeD6MSaRWPGIobTB9MIX0hzBzNFiwO8wTu+ALuoeM/2ybW+9K80p7O08ohxP/AAb4BwGDE6cn40dzbR+oP+E4G8BMQHmwmFS1NNho9EEPKRUpETD4LNJcrnCDcF58NbgUR/Af0de1W51fjsN7U3wLiTuuK9YEBuAl1DTEQLxI+F6Aa1x8XIDQexRfmEIUIf/748wvqvuEN3FjZh9d41CvPw8ltxZPDe8TlyI7OJdZe4B/tevrUBmUTDR8FKCgwgzguP5tDnURTRHM+wzZuLUkk8BkDEAEIj/5O9kDuG+k05LHh1+Ed5UjpPvE8+XsCVwfkCw8PUhM3F7saOx1pG20XhRC4CmUDS/wm9H7rtOHt2anUdNJi0OfN1MqHxojEz8OGyA3MuNMu3AvpW/eYA8ESeRoCJcop/DQuPLpC/0WtQ5w/ODWKL/QlRB/KFb4NvwRM+8X0q+0W6sjkmuXV5r/u2fZE/24EfASSBkkISBHbFnUcTRoeFWMNLAZQAvz7ePVM61XjB9w22ArWT9M1zlLI58StxOPGAMo1zk7S4NpK5b/0aQHaD4EaQiRhK9QxpDnXPmZEwUTSQk07LjOdKosibhqhEaMIZv+y9zDxL+wU6CbmtuaG6vfxGfrPAPACpQQcB2YNHhRNGbcZERZrEG8LqwehA3L9MPSI6kbiLt0b2k7XrtNczUbINMR0xZ7IS85l09HXEODk6Ez34QL3EU4bDiRlKv4xvTqGP8VDCEHBPXo2sDAZKqwidRoZEGgG1/2N933ySO2d6Zfna+mm7dryZffz+eL8iAC0BxcOPhIuEXMP0gyqC/MIxQWR/3r3We705mviXt8b3dfX09HgyfnGhsWYyPnJUs2Jz5LVnN9K7NH4MAI3DWQXwyKKKzk0kToJP0dBZkEQPxE62jKRK28jnRw6FMwLSwLc+YDzue2M6zXrIO8h8YrzcPXy+B39GQIACdANyg9NDtMMJQy/C9gKTgeTAUj5lvAw6hznyuaQ4wjdetPhzLfKNMyXzrbPL9C70PrVW+F17/j62wKtCokTWh0oKN0xeDlgPHg9vDyWOzY5FDS7LSQlsR1wFCUM9QPp/JT2eO9F7Drrc+6b7wTxCfIV9Hj3tPt8AvUFegcSBoIGEwe1BtkEsACy+y71s+/Y63jpVeeR4vHc39Vn0RPP+M520AvS5dQK1lHa1+Bn64X1kQDgCwQV3BvtIYEq/jIXOhY+1z4kPCs45zQQMlstCicmHocVCA1FB78Bs/yW+OL2u/Z09SH19PRI93b5uP2ZAf4DugN9Am0CcgIjA14CaABe+wr14O/O7J7sWus86DDgMdi70jDSkNPC0y7Tc9Ds0EzTQdzU5P7tsfTF/J0F9g0kF74e/yctLagywDOoNG4zZTKrMKcshijkIXcbKxNwDUsIJgQgAbb+zPww+C/1S/Q19zv6xfvL+zX67fnN+Vn8j/1W/sr7Y/jS9ODxa/Bj75DvZu5q697kNd4K2rfZ69o824rau9nR2Lbatt+S6Ajxc/ngAMIInA+AFiYfyieFMLM0tDYMNQk1VDT+MxsxhyxeJlAepBf4ETYOQAkRBTMBrP6k+6X4Q/fT91n5Gvrh+ZP5P/nO+Oj4ovkG+i75rPaL83jwZu7S7QPvje/g7RzopeHq3U/esuD54HffItxG23rc4+IY6jDxlfUQ+m0AzAfID0YWhhxyIG8jPyTcJIkkIiSEIvAfGxwHGDATMQ8+DEELmApiCq4KHgvBC48L7gxKDooQcxBvD08MSwnVBVcCDv+5+kH23PAK7DrnCeNj31HdFN0T3YDcGtlf1QXTU9Pc1S7YxdmL2S/ay9tP4Znn/O5q9ST8FwMQChwQWRUgGyEgbyXaJwApSSejJUkjmiJSIRMgUx2tGSAXmRXqFfQWjBlZG9kczRtaGycb0Bt7HN4bQRlWFNANCAffAbn9Lvq/9TPvzudJ4B7bdNlR2iPb5NiJ083No8sKzTnRTtQF1SjTLNKQ1APbQ+OZ6srwCPab+yoCaglIEIkWQhufHrkgpyHnIdYhfSBlH4YdFhvAGHcWBRVOFJoU+BXmF3IYqhhNGEkYgxlDGlEa5ReJE+oNgQh6A2n/Ovs09n3wQem44lrdDtvT2vDaSNlu1eLQ0s6bzw3TrdaS2MDYKNmE2yfhlegU8NX3df2XAwUJVQ+mFQEc3CDNJKkmTidxJycmSyXKI20iJCFPHxMdUBs1GREZARpCHKsd+h14HKMbVBozGgsaPRhzFeQPBQosA6D9afik9JzvL+ot49zbnNYq1IfU/NRq08rPs8tqyRvKz8w+0P7RLtMR1B3Xidva4Tvod++b9o/95ATXCkkR9xaOHGQhTSXjJ30pySn5KJooVyecJqMl7iOTIpsgth/KH5UgrSBpINUeNB1PHPsazRnFFocSPw1NB1cB6/vJ9p7xK+z35Zffzdl11XXTadKN0YvPmsxXynPJkcp1zHPOx8930eTTytfe3C/iCejW7UH0HvsaAtcI6g6PFHQZHh72ITMloSe3KDQp5yieKCco2yf0Jvwl3iTxIzUkVSSDJCUkAiNqIdwf7R3oG0kZfRUpEeIL/QV+AMz6d/VV8P7qy+Xt4LTchNmH18TVv9Rg0yTSItFq0J3QytGm0+rVjNgA2ybe7OFw5uLrlPFL9wL9GQI5B2MMKRGeFWoZKBx3Hvsf9SAhIpAi0SKwIhQioCH+IBsghR/JHvMdZB0JHFgaThhwFZASWg/6C7AI8gTZAMD8WfgL9APwJey96HXlLuJX3/jcLtvI2ZHYi9eI1vXV4dV01lPXndgb2iDcy94T4tDlhelZ7Vvx0PWa+tL/3AS3CT8OdxK1Fvkawx52IpslSijjKgMt4y5nMEEx5DF+MloyRzKAMSswfS4vLHMpjyb1IgkfthrdFSIRJwwcBxACz/x591XyA+056KDjT99X25zXKNQX0TPOo8utyfrH88aGxqfGeccJyenKcs1f0KDTn9ca3P7gaObE6zDx5/ZG/OsBgAfKDD4ScBc+HAch9yR7KPArmy4tMVYznDShNco1PzWWNCczOTEIL/UrpygSJbAgMRxtF5MS7A3lCLcDZf7Z+IzzlO766dDlvOG13Qnajdaz0y3RJc/hzQnNv8z0zKLN/s7s0DjTOtaO2TjdZ+Gx5Xbqhe+49FX64v9gBf8KPxBbFXsaNB/aIx8olCvaLmoxlTOPNbQ2aTeZN+A2xzUuNMMxNy/ZKwQoBCRtH74a3hV8EDILmQXF/zD6fvT/7tbpsuT2337bWNfF01XQZs0EyxrJ1McJx9jGTsclyMjJ68tpzqbRHdUY2Z3dN+Jk58HsCPLA9yz9mwJoCNENThOWGB8dpSGeJSApqCxNL5kxoDPHNLo1CTZyNc00XTN5MWAvcCw1KZ8lNSHHHAoYGhNODgsJowNU/s74jPOE7oTp+OSS4GDckNgJ1QDSj89RzabLb8qeyYXJ9snkyqnMt85I0ZXUM9h/3BLhpeXl6i3wpfXB+2ABNwdDDZ4SUxiuHWEieSd5KwAvrTIDNXU3rDl3Onk7cDtVOqE5fTfmNFEyQy6DKm4mRSGtHD4XWxH+C74F8v9n+jT0pe7v6FXjqN7G2ZLVzNHlzQjLb8g2xgLF1cN2w9TDX8T3xRTItsovzsbR9tWv2off/OSw6qzw6Pbs/BcDMwkjDy8VwhoTIDUloinGLXExUjTsNtc4ODpiO6M7PztqOq04lDb/M7kwRy1KKcIkIiAHG70VaBC4Cu4EGv9W+bHz/e2G6ETjS97c2Z3V4dGCzkLLxcjDxjzFpMRKxJ/EtcX4xjHJCMwKz/nSPtfn2z7hjOZe7KHyvfgy/5YFuwsTEggYwx1PI1UoES03Mco07jdBOks82D2FPtE+PT7wPFU7yDjkNZ4ydy5DKn4lDyCsGssUvQ69CEYCGPwS9u3vF+ps5BffQNqT1VTRis0zykfH0sQfwwDChsHIwWHClsN5xdTHCMuizprSQ9ca3DjhAefl7P/yLfk1/3IFoQuLEW8XzRzpIcom9yrqLlEyCjWINws5CjrkOrc6PToJOfA25zTvMWsuDSuhJj8iqR0rGAITeQ2qB0kCRvya9lTxqeuc5snhOt1d2XrVC9Igz2vMb8rCyMXHosfHx4nIzcmOyzjOQNG61LjY/dzI4eLmWOw48h34Gf70A8oJyQ98FTQbnCBmJSMqLi68MSY1lzfXOYQ7DDzFPLE8sjuJOgU4WDWdMosuqiotJssgAhxJFl8Q8wqVBJr+jfjn8VvsjebT4ALc5Naj0uzO7coeyIPFRsMjwv3At8BCwQrC2cPuxZDIP8zxzz/UAtn23Z/jZelh7971F/yGAuwI5w4GFekaWiDIJYYqxS7RMuk1qzj/Oks8fT30PY09dD0iPDM6IziqNFQxoi27KIYkXx/QGeMUxQ4VCYsDCv2F937xTetK5rDg29uX1+zSbs8EzLDIjcZWxOrCM8KgwSXCSMPQxDDH38kWzdvQDNXD2Q/freRl6ovwvPYC/ZQDwQkLEF4W/xvtIVInJywMMdE0PzhUOz49VD9sQK5A+0DuP+U+bD1eOpM3pzMJL/YqeSU/IAEbcxTMDpUI3QEz/HX1Ce9E6dXil92E2EnTZs9Ly7HHCsUgwk3AD7/mvQW+Yr5cv3vBj8OGxi3K1c2Y0oXXityQ4mPooO5y9a77XQIFCfUOMxX5GmkgIyYUK5Uv3TMlN/45bDzwPR8/yj+DP/4+2T39Oyw6bDfxM1MwsCsPJz8ipxygFxkSPgzZBp8A0fow9QXvv+kx5NXeZNqE1Y7RAs5Yyu/HbcVow2fCKcEMwZPBNsItxEHGychMzKnP59PW2LfdduNZ6Vbv9vU//K8CXgmFD8IVtBtCIfAm8yulMBY1tjj/O3s+Q0CjQSNCQkK5QW1AvD5OPLo5hjZ4MjkuHCkAJMQewxhHEzwN+QZTAcX6v/QD77foj+Mg3sjYktT6z0vMSMkNxufD1sEcwHC/575Uv2rAosHNw0bGPMkEzd/QcdWO2pPfZOV+65nxbfjc/iYFxwuDEV0XOx09IqIncSyLMMY08DfCOiE9SD40Pzs/vz4mPow8uTodON401DHPLYMp/ySxH9IahhXID3kKvwRU/zT6gfQD767pnuRS4O/beddp04/PgcwiysLH6cVmxDLDF8Mzw5nD3sQfxjnIUMtizk3SptYH21Dg0eVQ62Xxmve+/VYE2grAEOoWvhzqIY0nPyxBML409jfcOsI95z7rP49AyD8kP9U9fjtcOW02nTL5LsMq+SVfISscqxamESUMpAaSAQX8wfa98XXst+cs477eydrt1lvTE9ArzdnK28hyx3XGzcXOxQnGlsawxxXJAMuCzYjQBdT011nc6OAC5ozr6vDr9g393AJ+CXoPzRTfGtAfnyTyKW8tTjEwNSE35zmzO9I76jxRPPk6NDpJN440ETISLqYqkibSIcgd4Bj4E0gPHQpZBTQAK/ui9rTxaO0z6eLko+Ew3vLaatgn1WHSKNCqzV3MYctJykjKPcqVyrLLbszxzd7P2dEg1X/YgNw64S3lTeqq74j0/PqoAH0Gkg2+EmgYHR7GIdUmHSsiLnYy+TQhN+A5lDpzO787ZjpTOSg3gjTgMYMuPisfJ74iTx4xGd4U+w+9CpsGaAHa/PT4zfMN8PTrc+ed5DLhPN5U3HnZnNf81bnTmtIh0S3QFtDpz0nQ99CR0azSz9NA1RfXOtkK3Azf2OKZ5orqDe+f8974oP4RBCsKCxD0FBIaAB6yIXUlSig4K3Qu+DCNM601WTboNkk2wjRaMzMxdS78K5Eo/ySxIRQdFRkWFdsQvA0aChUGjQLV/Vn5SvVa8MDs+ehf5UbjzeDd3p/dcNsI2nzYZ9ao1cLUlNRh1fPVF9d62BTZuNl62ebYptiD2CTZj9r73G7gC+UD61fy7/qcBGIOOBjYIK4nNy2rMMsy4jN+M/MyBTJbMAov4CwcKk0nMyNaHwMcpRjVFnEVYRSoFKwUJxVlFr0WiRe8F1AWeRQfENMJmAKk+RPxbukR4g3dFdkr1jfVC9Td0z7UNdQF1evVvdbi2GraTNxb3lnfg+C24Nvf9N4y3Zfbfds+3L/fHeU17H71QQCkDIIaDSj+M3Y8uT/NPtw5FzNNK14jNRx6FukSrBEqEhYT5BNbExoTQBPpFNsX1BqDHQwflh/fHt0cehioEtoKQgPL/HD3zfPY7+7rfej35dbkZuUW5QnlB+R64uHiOeNq5Gfl2OTg4yvj9OAe4BjeR9zA3AnefeJU6OnsFPAJ8TTvNO9C7kPv9PE09b/7BQUpEPIckyc0LWEvrCvmJrYhxBz0GVIYxRcJGWwaGRv0GqoXCRRmEJoOiw/6ERsV9heCGbwZchjxFGIQQgp4BVUC6gEUA5YDIQIx/gz4jPHy6wTn9OQ/4/rjO+b46OTr5ezv6tDnr+MT4DXfWN5R36fgf+E85OjmC+nE6q/pvOcq5yLnfuon78/yOvf++TL+xAUlD3oaJyVCK4ou2SzeJ6QiChxhF6cUzxLVE2YVEhbqFo8UHBKKEIIP6RGCFboYRhyAHOEaThjMEgIOFAniBHQE1gTcBaMF3QBR+aDw4+f84+DiWuR0567owekj6ZnnEeVn4oPf294R3/fgJeLy4fTgSN+A4FzjTuhO7bHv2u/c7ufsB+7S7yHyovU2+FT9XAawEMsdWiiELYMv6SuNJ5gkPyEyINEfjR5EHz0epxvGGGgTHRDSD10RMBY0GcYZChj+E2AQXw6aDAAMQQp8B30FWAJpAFX8oPb374XpcuWa5Nzk4uXf5ZLjdOKs4Cvha+IE42zjVePU4gzj3+Ke4dDgiN/q4APlOeum8e/1u/YH9bnybfF68tH1sPnk/QoCgAYkDS8Vnh0kJkksNi+GL3Qr1yYqIj0eYRwyG74ZgBg6FXIRhA5HDK8M/A3AD3URsxHeEMYOkQzYCloJPggtB2wFBwQ6ATf9O/p29D3x0OyP6ajo0OgC6e/qFern6D3pz+WF51fnDOjb6YvpF+ge6CXl+ONf5VXln+sl8Rn2UPt8+nz3b/Ts8NPxCvdc+y8C7AXHBugJFAyXEu0bpCTaKm0tuijgIrobshUYFEUTdxN4EzkR5g0VC2EHKAZiBqgHWws/DpwPSg+SC9wHjwTXAm8CEwOyAfEAtP0P+7n4EPV98vvt++sn66/tP+8S8WTu7OuX6bvoN+zm7dvwFfBk7p7rluoC6RDqxOpz7LbxU/XX+vz7sflU9d3xu/Cp9Q37if9UArv/9f/eAacIFxNCHn8lqCpZKRQlICDhGKQV+BIwE4cT3RP/Dw0MdAWpAVsBnQMGCc0MEQ+zDVILqAcMB4QGlgh0CSwJVQfDA5z/Wfyy+Rz4vfcu9pT1HPRe8onx2vCq8AryjfJy83TzJPF/7obrJOmk6U3qeOtf7Kbrxuvd7Ozu5PLk9Z33iveN9Srzq/Hp8GTyA/S19u75y/1/BDsL5xNKG04g0SG3IBocHRrQF3MWYhYbE6gQ3g2mCicJSQlTCGAKMAuiDKsPqxAcES0R8Q92EO0QVxDUDp0LGAeaA9MAm/9M/y/9VPtN94314vKT8nnx0vGB8XnxA/Gf7wfvAez06rvnmOf95TrmMeXt5AXlYOXb5/jqEPBq8yn1C/KE7sXqf+r07sHzp/nj+6v7jPy2AAwJExXqHtYjKSWhHwAcfxgDGF0ZQRpJGRoXLBNlDloLTQjiCRAMzBDVE90U6hNEEQ4PCw8hEMMR8BIdEEgM1gYPARb/hP6G/sP+CPs09vbxbO7y7YjwBPFJ8jnwpOwn6wnpgOiF6JPnheaf5qHkcuXB5NTkBufA6fbu2PNR9mH1DfJM7VfsuO3O8tn3qfrH+0P7df4UBTMPVBrcIm8m+yUwIdYcNBs6GukblxuhGd4VdBDUCs8H2gb5CMsMCBAfEtYRyA8SDVMMbw1CENkRAhGWDIoGAgAG/OD6l/wi/fP7cff38FTsren46rXuJPI88kjwaurz5mbl0+Wg6NrpyOmB6OLlZuSp5IblM+lB7Xfy5Pbh96v2G/PJ8EjxWvSX+en8Uf2l+1v6UP4BCFgTKiB4JhcoiyVBHwodBx0PH/Mgkh+ZGTAUvQsRBxsGhAdqDXIQ+BE8EHwNmgq2CpIM/RAcFCMTlw8ACI0CEP18+9n7Wv05/u/6hvbQ74XsFOte7QLx+PPP857v9OpY5ubmueij63btA+zL6DflweJ/47zmkOmD7TbwLPP69Ej1YfSq9Mf1LPjg+539xf7U/Kv7MP6HBhURRBzLIQIjMCE2HGMbEBzzH0UicCCqGW4SOgu8B1wI4QmxDaENsgsVCBAGegYRCfAL4A2GDs0LjwfoARb+Jvyw+wf8WPv7+Z32XvLy73nuq/DZ8ZHyvfJn8IPvyOw17FPspu027u7tLe2g66Dr4upP7MTt7u/H8E3yD/R59rP53flb+lH5vfhL+QT7Av2I/8AA7wG7B54ODBnRIKgjMySKIEUePB6zH5MhgSCnGn4TnAzMB2sHmwc9CQ4KPgicBsAE3QSdBg4JaApYCwMK0AbYAw3/FP31+nD5i/gk9t3zZPEB73fuZe+H8PDxVPGt8PPvEPDP76fviO5Q7Q7t/OsV7czsE+2B7JLrR+xn7bbvlvH385P1O/hE+RD6uPpP+ln74Ptg/F39Qf68/6MFyQvZFM0bgR2/Hswbbht1HJMd4h5CHQgY6RFpDKkIygj+By0IxgdMBnYFtgSqBToIsgs7DR4OowyrCQcHfQMQAiMBJP+M/H35I/eP9tb1i/RA9GDzsvNE9JX0EfYa9vz0e/Ml8jXyTvJX8afwie8e74rui+097j3ut+9Q8ULzjveu+S77FPsN+Qb5bPg3+F/5W/nN+lf+1gLKCvkRyRW3GPwXzRg+G4wcpB4xHdwYjRPmDWQKhwkQCF0GRQQBAowBDgIDA2MFaAgSCrIMOgxMC6sJowU7BJIC2wFXAIr8rvjs9jf2//ZG90n2RPaO9KH0ufRG9kb3G/Yg9aLysvKd8fLwOvGO8M7wt+++7g7vI/Dx8BDzlfTb9pP5Dfmb+Zj4Yfcx+GX3pPgJ+7770v8aBHEJjBF+FB8Y0BmSGU0cXRxSHSQdlxk2FaIQKwxIChcJxwZZBq4DEwJhAmsCwwXUCDAK0gvUCnwJwQjTBfwEYwPkAFn++Pl591H24fXJ9Tj1o/QF9P7yuPL08of02/QS9MXyYPDi7wPupe3c7Rbux+6H7VXslevN6+Tsmu9b8n72dPhu+Gf3u/V19hv3Svkq+iz8ePzm/SUC9AaLECkVVRmfGq8ZvBtqGwMdmh1zHHcZuBQ8D4kMgguNCmAKVgcZBoQEBgQgBuoHZgslDcgMjgylCU4IuQekBWAGBwOiAWwA5vyz+zH4u/fW97D3KvY89VH0t/In87bwK/Kd8g/x2PAt7tfth+6o7bXt+e397LHtbe1+7hLyMfSl9UP1y/NH8+bzGPXv99f5M/vT+4/+LQRYC1UT1Ba0GmMaYxqiGyMcPx+EHcQbhRbtEQMO4QnKCWkHPwdNBaYCVALsAasDOAZhCF0JPgr3CDYH5wbyBGAFdgTKAKgAUf5O/Kr6yvYR93/3Y/V+9JPzkPLA8+/x+fAE8gjxLfF38FTvo+/+8NnvA/G+8FnvQfEf8ITynvT49Pj0tfOX8Qjyp/S99e34pfeF+An88QBSCKgP7RUEGXYbABk7HK8exh8KIXMbpRiPEn4NHAqPCCoIYgbpBDMBEQEgAYMD0wZjCYILggyTDEYK4QqFCVcK3QnXBbgECgHj/lP8d/nL+FP4t/bF84DyofBX8RrxF/BW8czvk++F7hnuGO/p7qPuRu2c7GDrxOt17Mft5O687u/uqe1H7pruq/Cf85T0qvZ593j56/5PBAQMjRNWF18b/RsCHVofCiDFIbwh2B6+GR8Urw7uDA8LAAm4B9kE+gNkAiwCBAT0Bx0L1wwoDYYMtg2DDG8M4goNCrcJlQbuAm39yfrt+OL24fQR83zx8u7i6zHqgevT7Prteu2r7L3sv+ze7JrtAu+K75jvju5D7gnv5e5b75Lvm+5l7gPunu7T8K3yG/VL+MP7CQGHB3MN7BTQGnseESHvITUkCyayJegjySDWG4sXGhLWDbELgwjYBvoCPgHXAAkBCgMQBZ8IdQrGC/ELXA3PDJsMtgyVCwoMDwcRA+D+D/uB+TH2hPNJ8XXtzOhd543mKOk06sro5enG6LHorenD6rntWO+i7dbsJOyp7Ovu7u4/74LuoOys6wTsh+3i8PfzbPY8+Ub7qgD9B5gQchivHTAhmSIXJAMmGClhKocpYSVQH8IZ6RPvEGEO5QtoCcYE1AAg/wz/iAGYBPEFQAjlCEEIbQnfCHsK8QyhC8EKYAahABz+b/pW+Kv3JvQe8bPs/+a95kDm4OXh58bm5uYW5u3j0+Z36dvqkuwo7O3sHu5e7bXunO+R7jjuyeyr7ADuDO7z73XybvST90f7RgH6CHEQNxdmHGgf5iIeJ7kqKS3DLP0qmCcFIokc2xh6FsIT0Q7kCAUF3QFiACoAUAEvBPwEfARHBQYHowjGCasKSg1hDasJQQapAlcAvv0K+gD4ZfQz79fqDeer5WPlD+Tq48PjwuL74knjP+W758bn4ui06vvroe3Y7VrurO7q7XXuN/Bg8efxQ/Io8+/1Ifjb+nUAeQYnDM0QSRWCGgAfayKtJm8qWysLK8MoaCabIz0fahxzGcUUTxBgCy4HyQTJAkQCBgL6AIgBQQLFAjsEQQUwB4wIhgjLCB8IAQZsA8QAfP7N+zL4yfSn8CLstOgd5tDkbeNQ4tXhB+Ho4KzhcOPr5Gnla+aK6JLqrOvc7N7tMe5s7jfvavEw85L0EvaC9535Ifzm/wgEDQnSDdkRtBWlGBodfyBVI+wlUScOKOgmGiX7ItsgIx5dG2oYkhSHEBcMjwnGB/QFCQV6A5ICRwGvACEB2AHeAtwCdgJ/Abz/SP5y/Zz8I/vj+PH1kvIv717s8+pb6bbnvOUU5PfiSuJo4pLiR+OY5Bfm9edG6fDqTewq7a7ubPFf9DD2IPdQ+Pv5rPvI/aUA7wPBBpkIlApzDSMRBxRRFv8Y0hthHXcdzB0LH5kfXx4CHTUc9hrdF5EU5hIQEiwQhA1zC+MJnwcfBZQEDQVnBEkDeQFEAE7/Ov56/Vr8wvp0+dP3kPXD81/xSPCr7fnrqesd6tLoJud15hfnHOdJ51foOulh6krrn+zv7kbwLPHE8ob0l/b894H5xPsk/fz+awABAtUEgAY/COwJ2guCDRoPWxDwED8SpRPVE+AT2hQiFekUvxN+E88TxhNhE7YS4RGcEbAQ1w5qDucNZgyVC8EJGgimBlUE6QKXAWj/Y/3m+736EvgY9r/0f/OC8cDvIPC47iPt7evB6+vrRev/6vvrxO157GrstO3076PvyO+K8XrzvvTM8xD1Tfc6+L341fpU/ZH+Hf+EAGIChgRNBikIpglJC68LuwwRDuIOog+2D0IQcRBNEBIQTA8VD4gOTw6JDaQNWgzZCp0JDgkBCLMHagc/BTsE2QI6AlcBVQA1//n9Xf4M/Tv7Z/oF+rf5MPj39wv4zfdZ9gz1s/Uj9kH07/Xk9ZX2wvVZ9Uz3rPdw9wf5Fvqa+uH6Nvok/lb8tPxiAN//Ff87/9ABqgRTAQIBiQMlBuQFtAGgA/4IAAZWArEGFAh1BQEGiwR8B2cGdgXdBTIEHAgwBGcC4QSTBSkFYP/fA94E9AFXAt7+fwJVBEf9d//jACcATP2r/dn+g/vb/eP79Ptu+2j+v/kD/Mz8vPrh+039iPw++r39dP51+hn6QACO/Ar7k/pX/5MAHPmB+bIBwfw0/sP9gP8YAG/8xQC+AYIB7AGm/pkAGQO6A5kBwv55BNEBwgE7AGcDGgaKAEP9gwR6B00DmvySAuEFOwLV/UADUAWR/9D7TABbBlb+zftbABoBLv48/U0Ahf1N+2v93P6S/cP7Kfsj/KP+t/s3/C/+If7y/BP+HABM//7/KACK/5UBTAJ6Adf/8wC1AX4CpQPqAN7/fQDRAcACfAGUAVUAFwHWATwBuwGCADECaAL8ALsBpgICApv/MQHRA7UCawDvAV4CFgDf/10CHgN9AJf/hgHBAB//Tf+pAN3/IP8IAIb/Wv64/mAAqwAxAML/0wBdARwBPACpAKgBwwEDAS0BHQAjAOn/0f+3AWsBLABa/nr+rv/I/7f+6P6S/5L+5fxK/dn91/zv+yv+g/5i/lL9Q/yS+7z8GP7Y/hj/Jv4P/Ur8Qf1A/tv+jP46/oj+L/45/vn8gv0u/sb/KwBa/+z+WP6S/iT/1wEEA2QBdgDTAJ0AiwC4ADEC9AJ0ApEA0v+aAI8CvAL2AdkBcwONA1wBrf/OAFYDZwLzACQDoQOfALH+3ACZAzUDFAFMAN4B7AF8/4L8GP6WAGoAHf+t/gD/9fzX+bz65v5FAk0AXPy8+0f8iPzc/SUAlACZ/oX8T/yK/Pb6l/tm/jgBBgHR/TL8lP26AQYFvAI1AMMBogM+AvcA3gHJAJb+ogDABbwFNgDn/Cb/SAJYBIwEkgOeAtUC3AIJAkUCLgXHBdECuAC1AWkCgv6t+vP+3ATlAUT7z/u0AccBF/4AANgEowOp/dH8SQIsAyX99PkK/8EC+P5Q+rL6Qv0E+3P4jv4yB+EEy/pD+eEBKQUCAcr/0gPUBFn/uPqZ+rT7vftM/coDXgdrAkj74fleAUcHYwdiBrAFSwMJ/sz6S/2//x0BTwDu/Vv7qfqY/CgASANVBPYB8P/jAHED+QORAaMAdQGl/z38DvoR+4P8s/uB/KX+4P/D/Zj6JP2/AxEGXAR3AsgAkPzf+Dn8ewEoAKX87f03ARP/Hfzn/ykEBgMwAHoBYwPBAIL9GP4TARcAv/oS/CUDeQYbA8kBegMuACn6yPtBBuQMBQcN/G/4OP1S/2T9G/9QA7QDpQDcAG0DsAFr/On7MAJzCDwGDv5Z+Xb7xv7c/Zj8Mv8LA5UBRPuX+TH/XgOgAX7+qQCD/0z4PfeJANEGTAGE+70BIgjFARL3j/ioAgwFBP4G+2X+yv1n+Wf85gUICQoBOfxyAycJXwRZ/18CJQMU+wr4VP8jA5v9lPxSBPMIeAP5/VwCOgnRB7IB+gDVBCwC5/op+/oBNQJp+9X5VwDvBH4D0wEKBEIFMgJb/kD/IwSzBK/+mfdA9XX5vP9jAkf/OP3R/yADxgOGBBcG5gMp/qL6PfwT/wP9lvaJ8y74h/73/2X/IAIIBlgGsQNuAv0EOQV///74qPu+A/P/kPKY7nn69gbABGsAzwWACikCNPVh+XQKgQ62AlH8vgG9Aej1xPIsAmwNoAWu+v79fQW+AHX4Kf1hBksEqPvb+TAADQID/cD80QJdBnMChf7pAakDY//v+yf84Pzt/O3/OgMH/kX1nfTf//wLqwwxBLb6evXE9db7ygNoB7cDm/2h+jv7jv2t/YH95QACBl0GRP9n+KH45v10AwQHtAf5AiX73vWA+jwHcw5sB/D8nvtUAGr/n/yk/8kEvgVWA1gCwQNbApf9Df18BI8M8QoBBL/+Nvvj92z2/PmvAPgGbQjYAu78w/xyAE0DvANzBcwHIQb6/7X4mfYO+Rb6RPts/78DhgC3+mr8AQRVBpMDvgNeBwAHcf6+9rL2XfiI97P4LAEHCWkEmfqG9vj5g//gAoUGYQlbB2IBW/tX+p/9ff/u/Mj6Af+8BfwGhAFM+/P6af8UBK8GjAaYBE78DvKY80D/3AcjCOcFJgdwA9T6sPin/u0EaAU9A08C0//4+ILzJvT3+ucC/gZVCqMKcAMA+7z3l/uIAdkGWgnoBLj9oPdF8z/0YflQAdcGrQb3Aw8CUgOxAe360/plA/MI9QZdAP76hvZh9Pv5kASCCr8HXAAs/Mj9JwA8AwMH3QffBBH+6vc59/b57f3lAAgBRwF5A3YF9wSLAVEBrwQJBT4CvQF9A1AC9Pmt8Unydfl4AZsFmAVnA77+u/upAHII4wsSCL0Buf4b+xv2CPI683f7sQFAAosBvQF5Ad//TQE5B1sL0gep/jr6O/3z/cb2IPEu9Hv8QAQzB5wG8gPHAb8CZAX4B/AFbAHY/zv8wvXV8ij2D/1kAZYDMAbJBZ4Cuf8xAdEFhAWZAg0FzAa8ANT1OfEu+AwAIAHR/+8B/gXfBFL/b/2F/1UCZAODASoAFP/6+2r5NPpm/3cDVQPOAR3/Kf28/KL8Vv+KAn4D9/+S+k37DwCZAscBxv51/fj+XgGyBMoFWgRsASD9Bflv9tf3AQBHCTIKEwPY+zD8yQEABI8D3wRECGMFlPnh8638hAiGB1H83fYi+5r/u//eAGEHOgs4Bcv+EAHRBh4FFf3p+t/+8/2P9gD0E/0/BwwF5vwN/YAF0AoRB6YBzAHyAQD8IfS18pD63gE3APD7PP7mBHsGIwJd/1oALgGO/9r8rPw3/8L99/hY+Hv+twSaBdcDnAK6At8B5P+h/woAPP5a+zH67vus/mwB2QMkBJICqgA4ADoB/QGqA74GhgaJ/sH1s/R3+tb/+f+yAKcF8gdtA4H/NQPlB8EDqvyL/VYD1gIV+XbyBvgGAR0D8wCVAuMERgEZ+4v8tgfuD+EKe/3u9Oz0zveD+wUBQAbpBYEAR/s8+uz9FgDk/7UBNwWGB60FKgEo/Bv3cfZZ/JUFmwvdB/79bfdu+On9NQJRBGgEJwG3+3n52P+tCJQJLwJ6+rb62//HAbv/sv1v/Rz9uf2XAvMIJgr5A+X6XPcj/M8CGAYBBQQATPpM9xn4FvtG/3kDKwVgBfQFdQadBM399fXe9A38YQQOBrgBaPzV+LH39fnR/zsHuAlkBGr+3/sm/K38FP32ABcFigSWALz9zP46/4n78PgM/OACywXRAOb7af0mA4QGYQREAkABMv+N+7z5lf3LAoMDTv+1+jr72QAVBksI7gcEBi8CZftk9U/1+vnA/1wCHgJlA6YGRQhfBGn+u/z9/XT/hgCiAXEBlv0k+VT4svwyAkEDqAKPA6sEugJx/Yn8bQCTA7gBgfwJ/Az/sACN/lL6QvuaAEYFgwe+BqcEhgCB+wr65fy9AXkC4v3C+XH7fwH/BfsHCAhGBez/gfq4+Rr+/gLvA0EA4/sC+jP7JQCcBmYJaAa4AJz9Wf4dAFAAtAAtAdX/lvv698X4rvw7Ao0FkwX+A9MBwQBCAQQDjgPRAD392fn399X3Pvl3/YMBuQQhB6wEJAG2/4X/DgEtAZkBFAH//jH/5fyB+S36ZfuK/B8BnwbpCKYGMwLD/SL9gwBkAuMA2P92/ur5p/Wa9nL91AdZDvIKmANc/xL9Lfyz/RkAUAJsAQf9mPgH+fX+YASyBlAGSQM1AH3/bAAlAncDaALq/Wb5//e8+nH/tgFgACL+Nv40AfMFfArJDCAK2AFa93Pw/PD59z8A4gQEA3H+nf1aAIkEjwYYBToCiv8K/1EAzwK0A3v+yfYk8/r1i/uw/tT/pwAoA+8GxwmUC1oK5QOZ+mvz7vK/96X8QP6r/X/9tf8oAtgCtQJNAwAFqQVJAwH/O/xi+4D6pvlJ+v/8Y/8KAAkCIAZxCngKagQC/Sr4xvan90T6Iv45AQkDkgPXAz8DAQILAk0DdgTDA9IBz/8n/V768/eJ+Bz9SQKrBIcE3QT5BaoG3wYyBWACxf9H/S36cPc3+BT8iAESBroHBQegBPsAPv0b/E3/+wKXA0wBpP5A/fL74PvG/Y0AmwKsAksBOACq/wn+vftm+iP7xv0yAQwE4wKs/Wr5nfnZ/SYDOQb7BfICZP2293f1z/dQ/OH/MQKXBL8F4gNk/837k/vW/egAOAPkBJoF+ANfAKz6UfYF9pb5NgA+BiwJ9giUBc8Afv1V/mMDgQdCBggAlfkb93b5aP5yAn8EpgQOBN4DowTIBBsDkQBD/lH9kf2H/qoAHQJQAvsAlf5//skBQQbNCDcHAAJv/KD5I/oJ/TIASgLkArsBFgFAASUCSAPaAn8B2f+q/lr+jf2X/Mr7Bfw2/oEAWwLRAl0C4gHDAGIAmQHkAosCJf88+vj3rPmj/WkBXQNNA3wBIf51+2H7WP4nAoADgAH7/Vj7g/u//ZIAnwJIA38CbAD+/Qf8Svv5+2b9lv7C/+3/Lf+//TD8Ivwc/kIBRQSdBYAEKgGf/ez74/v4/OL9sf2Y/X7+qf+6AHABkgHlABMAZf+V/wMBegKSAokBnQBQABIAVP+b/oD/jgKKBX0GdAQJAS7+7/y//db/SAIcBPIDcAI5AacBawNbBFcDnQC4/rD/PwL+AwYDBACg/XL9BP9HAEEACf9g/cL7tfvm/cgBjQSFAw//7PlK9/n2r/dN+fn7Ff/HAGX/M/ye+Cr3ZPip+6H/twEOAosB4gHWArwCYwK5Av0DWQWUBXwFTQZmCCwKSQrzCCoH9gUGBhAHFwjrCIMJCwndBzYG5AS0BJ8EEwRbAowApf/f/iz+Sf0//FP7cvmI9svyl++w7h7wIfOQ9jb56fk++H70jfDE7j7wdfNI9tH3O/gd+GH3CffA92f6X/5xAVcDQwQYBbEFCAWXBAcGoAocEfEU8xRoEWwNvAsEDOcNbg/UD34OYAu3CA0H5AZYCGIJCQp9CaAH+QTeAer+BPyh+Uz4evdI98P26vS+8p/v8+z46y7tOPCT8rDy3++b6/zoHugH6hvuXvI59o32IvUd88fxvfP99Tb5rv1yAVcF3QbmBwQKSw0NFBwZcRz8HfkbWxrjF1UVKhRkE0oUJhRhEj8QeA24DcMOlw9UESES+hPEFIMT/RE6EPAO/QsYBqL/Zfq++LT4sPdd9avwTuuO5gvk4+Tu5xHqDulD5m/ksOVj6Ujtx+/f7wvuZuq/5eHiY+MG53brJ+427mntKO6E8J30zflIAG0ISRDyFlAaZRuJG3UarxkAGCkXrBcOF3QVXhGfDEIK8Am3C78NCBDcEbMSYRNGEiERsA/aDb4M+QsADIoLkQqwCEkFgAFb/Pf2ifO88XDyRfOJ8lPwmewj6XXme+Wl5j/pzuuY7M/qZ+hU5xbphO3S8Xv0CvQL8WPto+nW5ybp2+wu82v49vq4+8D7qP6WBOENrhgCIlIpnyt6KcUlECBuG8QY0BZtFs4VORRtEWIO8AvSCewJgwweECoUjRUIE0UPywtuCRIIjAdnB/AHaAjcBiUDX/6C+cv0S/DJ7Mzqv+oa7MbrYenl5arieuGK4kvlcugr6zbs8emQ5TjiOeKn5vDsRPEt8unwme6564Lp9+jw67/xE/f/+Tz7ov3KAxMM4RTtHbAl3yvmLTsq7yNsHSEZ+xZjFOASZRGgEIMQ8g2UC4YJiQnfDDUQbRPKFPMTWxK9DvYKGwfsBGAF/wWpB88HbwYSBNT+5ffb8N3rpequ7P3v/vGe8QnvPutH6Drn2+d26Xrr2usN677oCuXg42/lHupF8E70VvaR9STz7e/767/q1Ox+8FL1y/iX+yIBqwi0EeQaPyK4JzUpwSZGIo0bIBgnF4cVyhXGEwEQqg2JCmoIBgn8CY8M2Q5SD28PQg15C+YJLAdcB2cHFAccCIkEpAGi/3v84/xL+1b56vdk9Kzxn+7e7Knti+4M8NHvtu7j7sDuMe/07rPtF+yW6rzobeeC6EvrdfCp9aD4Wfla9zrzWO5Z6s7p5exa8s/4Zf2MASYH8QyCFJUdAySzKBkpLyQiHsMXQhQ/EvgQfBBDDSMLNgorCPMIHQpKCogMLA6pDr8OtQ2+C/QJhggOB5IFCwSHApEAUQAJAZcBMgKGAE38Mfes8cftSu0V76fxHvN68mbwXe7H7Irrkeou6m3qyOo066TqOup768Hta/E39cb3Kfmp+HH22PK0783uM+8y8tL1Yvgy/bUCGQp2FI8dbyTEJl8keh9TGbAVghNGEpUSMhAlDFkI9AR1BHQGRAnBC08NMQ+MD60OKQ5lC8oI8weJBiMGkgUwA/P/XPxw++X6tvuf/eb76fkh98Py6PC58IDxZPJE8mbxaO/o7pLuIO5J7vvt0e2a7c3thO0t7ZLu8fAX9fX5K/xj/J35Y/W18enuK+/j8PPzsfcw+h3/Hwa8DmAa3iJFKJQpCiVfH3sYURPXEDcOCQ4vDFkJewjABLYDXgSABH0ImQs9DhARVBBCD1kMTghUBg0EUgT6BAAEHQN/APf+eP47/VH8X/p4+NH3gvYj9abzc/L98SXyTPLn8fvxyvHp8NrvgO4Q7evshe1v7vnvT/LD9Nb3wPqj+2/6xPdI9K7xYvFp8gb0JPa3+ED7F//DBOsKYhPoHNEjLCfPJfQfdRikEtENqwpgCoQKbApVCvwHYwS7AawALgEHBKwIzwtiDhUPGwyUCOAEXgEoAJ0ASgGWAOH+uvsL+RH5wfmt+nH7KPv/+ZT36PP273jt7O2h77nxXvPa85/zp/IF8cju3O1U7mDwrfPh9X330vdO92L4wfgw+dr5efi79872fPUq9ab0OfZA+Tr92wSjDOIV1yDIJqMo6CUrHokXNBPBEAsQQg9RDqULOQjBBaMCAQJvBEAG5wnoDSUPAxDoDp0LIwi/BH4CKAEpAaEBkf9P/VT6Wvfo90n5uPqF+6P6cvi89ezyG/B/7i/vdPA58orzCvOM8rfxDfCM7obtb+0S76vxh/N39Fv1Ifbh96/6c/x8/Ej7I/gZ9LPxefDU8C30S/h6/CECSgggD1MXKR/YIxYlYSO3HdwXvxMnEDEOVA1/C/sIqwdzBvoElAVoBvgGhAmUC7cM2A0dDoAMqwkRB4sD2wBfACD/BP6w/a38C/ww/Wj+/f47/5z9qPm39UDyqu+l7+7wFPJs8kXykfCs7gTudO3j7frvl/E48930u/T2803zPvNK9Bf3JfrZ+1/8kPq+9hLz8/C88CrzA/jd/PgBUQhkDUgTtBmgHfYfmx9pHGIYpBTlER8P5gyJCxEJ5gfKB4wG8AYTCCAIeQnqCpkLBwzZC2oKAQhrBg0F+AJDAv0Apv4t/Vz7nPmF+Zj7Wv2k/gH/yvuk9770kPGA8Irxh/Kl8wH0D/OB8Eruje0Q7VPuM/Ha8un06fZp9qz1bfXp9Fz2fPnN+wf91vtD+DX05vDD8HPypvX2+q/+GAPECG0NWRQVG9MeHCEjH1obfxeSExIRXA6lC18JeAb4BEgF9QVeCIgKsArSCqkKKApHC5kLnArUCNEFZANJAQQAyv+Z/gf+MP1P+1n7X/y1/TT/pf7i+wv4xfRy8kHx9/G08k/z3PM/8/7x5/BF8BvwqvD98eLy1fMx9an15vU39k328fZV+Rf7xftK+8n3WfQr8l3x2/Pm9pP6UP4mAD0Eagg/DjUXnhwEIA0glBpEFoUROw2AC58InQcXBw0GSQfBBhgGDwcCBhcHnAnnCmoNRg7ZDJoKkQZUAw8BZv9EAAMARf/4/tv8pPtP/BH9mv7n/7X/2P0l+7L4FPYl9Un1TfVV9VX1xPRz873ycPKi8bLy3/Pf8yj1q/WO9Wz28Pab9/v4YvpJ+zb7/vnT99r0kvL78VjyA/VJ+Yr8qwE4B9QLJxMSGNMaAx1fGkIXphNxDiIMMAm2B+oHygXxBfIE4wJZBCYEXAXTCHMJHAvBCw0KaQkwB94EEwNkADn/+f2e/KT8ifsI+3n7bfvy/Gr+kf5G/in8bvlK9zX1TPQw9N70ufVd9t/2J/au9Zr15PSd9X323vb79xb4rfcd9932bvee+GP7v/22/q7+0vui94b0svJA80v22Pr+/kUE5QnGDioVxRmbGzUcvhmbFtYTxBAAD7wMPQv/CcUHLAdlBuYF0AfmCFEKMgzSCxgL6QmPBwwGbASEAlUB1P9Y/kv92fvn+kP6h/m9+QH6TPu8/O/8lPxG+rv29fPq8B7vZu8e8EXxYfJ88kLxj/Dn7/zu5O8E8d3xv/Pe9Dz1s/W99bL1Jvbc94v5O/vv/IT85fr4+K72iPXt9tT5pv16A48Jhw/1Fjwcxh54H+MbXhefEysQ1g4LDlANVgz/CWwIqgauBVIHXAgiCo8MkAyvDDYM5QliCMoG4QTBA2kCHgHU/5/+eP2n+4f65Pk++rb8Z/8KAckA1v1o+UX1t/J08cHxQvMr9B/1VPXT83/yY/Gw8MTxvPP39Tn4pvnb+RL5EPjd9i72KPfn+Hn7UP4+/1L+vPs3+I71zfSx9mL6v//xBpgN1BRJG1MdPh0tGpsUPBGVDscMlQzLC0EL7gnvBwYGWgMMA5ME8wVQCW8LAAusCvsIAAZKBI8CWwC1/6b/2/44/pz87/lK96L15PUG93v6Pv4w/0n/Iv2E+KL1/vKL8FHw4vC/8T/zSvRR9P3z4vMU9GD0mPUS97/3t/gJ+bv35fYl9un1GPgt+zn+WABtAMD+qvvc+MD2K/Zm+FX8AAIYCfEPfhYVG7ccPRtCF+4SGQ8bDYgMNAwaDFoLLgm/BlUEowIMAxIFYAelCRILrgqZCQAIwgVFA04Bh/8U/u79tf20/O/7hvrS+Fv49/hq+r78qP9+AKL/pv2g+e71n/Pu8aLxyPIl9CD1wvUC9mP1JvVm9Tz13/Uz9074Wvny+Xz5Qfh19433Z/ho+oD8Uv3w/GH7z/hm9lz1JfbC+A79BwNECR8QLhc4G1EchxqrFfYQvw26C+4KsgrCCukJ1AivBy8FqAPBAzwEfQZwCQQLbQvsCusIRgZuBIIC0gA1AKX/v/4v/jf9evuv+a74lPhM+kv+lwFLA/gCxv+o+xD43fTy8ojycvNB9fr2JPi194f2k/Wz9LP0qPX59pn4Fvqt+tH56Pex9fjzNPQx9kv5tPzl/lb/vP3a+uH3ZvXQ9Dn2UflS/ysHGBBRGFgc2xtIF/sQBgz7CDEIkwi+CN8I+gdrBtYEywK/Af8BPwNXBs8JewwgDlMNqgohB3QD9QCC/z//fv+T/9X/ev8c/uf8Efxz/Ev/ZwJ2BJ4ERQJ8/q36Sveg9F/zwvOy9Ub4qPpJ++D5s/cw9Yvz7fN79ar3JfqX+7X71/r2+Lb2RvVC9eT2EvpP/Rb/bv5J+yb3ZvPh8frydPYB/XsFHA8HGM8c4ByTGN4R1wuEB2cFMwVZBiwICwmvCHcG0gI7AG7/AAH1BFQJagytDfsMrwqSB5kEtgFK/37+Yf50/gj/pf4a/Zn7Y/pk+rf8sQBRBFcGQAZ+Axf/ufoe9nfyUvEK8lD0XPeR+fv5RvkT+GD2X/Wa9VH2Dfh/+vb78Ptv+n/3ZPTp8lrzhfUE+Uv83/1Y/ez6Ffdu87PxlPJ095YAdQwUGDIgWiJaHvgWBQ9ACEEE7QLOA4MGXQkICx4KBgcVA5f/8P5IAbQFSAvLD7ER4RCMDWgIAQPx/rn8hfwF/pr/OQDq/z3+ufsO+sj5SvvT/uYC8QXUBkEFwQC0+g/1pfCj7rnvS/J29bL4QfoA+mL4t/U881TyavPv9Qz5lPv5+136hvc29Pnx+fHb8yX3svqv/Hz8SPrQ9jHz7/DB8RX3zAHDD74c6SR8JbEfhRbODCUFkwCu/54CmQedDDQP7g3fCXsEbACR//4BMAdfDVES+xRFFDAQ5wmNAqb87flm+k39lgB5AowCrADH/an6ovjy+GH78f8jBYAIGAmxBc3+kfZ771Xr7OoL7iLzLPji+/386Poi9yHzHvC57wny8vVD+mL9Pv5Y/IT4LvR08HLvnvG69Uv6Yf30/Qn8lvjr9GXyAvS++3MI1xZoIgwnbyT+HDwTEgkVAdv82/yBAcAIvQ4mEY4PWQoaBGEAJQC5AsQHNA33ECMT4hKCDmMHrP8D+ej1Gfdy+vb9zwAJAhkBSf9H/fH6M/ru++7+owJRBZcEYwBN+qfzCO4S69LqA+1k8eH2jPsq/iL+NfsB94Hzl/EZ8of0ifd++pH88fyH+6z4aPVu883z0PVu+L/6//sV/IH7ZPq5+Ub8XAO3DTcZ2yGHJMchVhveErgKmAT3AF4A8ALyBlwKXAxHDNQJ8wbXBF0DvAPsBW4ISwuVDVcNlwriBSoAS/um+Cb4wvgT+pP7gvwe/W/9lvyx+9v7rvxU/uv/s/+U/WL6ofYx893wqe+c7/3wq/O29m35GfvU+kL5o/dW9hP24/b59zf5tfrQ++f76PoI+Sz3sfaz9zL5o/qU+4H7y/rm+U75NPtXAaMLWxctISgmySTMHlMWlAwjBP7+Rf1H/7cDEQjQCoYLHgoWB9ADowHcADACtQXjCZANeQ8UDlkJAQMF/az40PYe96L48fp1/Tz/ev96/j79ovwn/az+AABkALn/yf3W+oL3Y/TG8RXw7u868UzzFPZa+Gr58PkY+sf5WvnS+Mb34Pae9pn2q/Yw97n3gvjb+R/7fvsc+x/6W/jq9nH2VPd6++gDIA+iGjEj4iXXIhsc4hN2C40EYQDV/owA4gT9CNsLwgy3CowH+gSFA7oDbwUPCAwLuw03D+ANqwkfBEr+0/nD9yb3uPcy+bv6VvyS/Q/+GP4e/nv+av8HALT/4v29+jD39PO08YbwNfDo8ILyXPQ69n73gffp9mL2BfZU9jr3p/fU9/v31vfW97z3SPdD9/73dfnO+kz7GPsQ+vv4wPhQ+Q39IQWsD9UaKSP7JUkk7R77FhoOyAVuAI/+KQBqBFkISgsSDekLKAlxBqkDdwItAwAFMwjQC2UOaw7pCksF8v5E+e31XPQj9Ln19/dI+o/8+P2//j3/Qf8m/2L+zvzE+gn4VfUx85fxxvC18DzxOfJ289D0GfYG99L3ZPjU+If5EPoH+pL54Pgo+MT3z/cJ+AH5B/vn/A/+L/79/BH7RPnU9574L/52CDAVtCCPJ60oaiUJH/kVoQuHApT86vrC/bICaAc+C+8M+gv2CWwHkgShAg0CFQMmBlIKLQ0YDTsKqQWQAA38VvgR9Uzz6fMp9mD5nfym/tf/wwA7AT4BRwAX/jT7+fc39SXzmfEP8WTxSPKk88b0gfU79tP2cPf89z/4cfhW+DD4IfgO+AH4u/c79z33Vfhu+nP8WP3t/Fj7hfnx94X2vPfR/U4IkBVjIRMoYikAJgcfkhXpCtIBxft2+bf7JABaBccKhg2WDUgMcwltBuADBAJ5AgcFxwj0CwoM4QlZBpoBGf1l+NHzNPHK8LvyiPZU+tL9qABBAlwDIwMrARf+GPov9h/z5vCy73PvO/AS8hn06fU095H3rPfM99b3S/jL+B75o/kh+rP6HfvL+rX5Tvhz97f3Yfj0+I35uvkp+s/60voA/FkAEwhdEiIcYCK9JIojsx+OGR4RqQiXAdX8NPw9/nkB+AVvCV4LvAy+DMkL6gkBB/EETQRDBUQH5gdNBxIGqAMZAff9ovn89ZHzyvI19GL23PjG+6H+qQH3A0kEewKs/iH6Fvav8lTwQe9K78jwQvOs9bj3JPms+YH5I/mx+Jn4Lfku+mv7svyI/Xn9WfyZ+uj45ffw90D4iPgt+dn5lPpt+zH8jv4qBF8MjhU/Hb8hAyOBIYcdyBYQDrAFov7/+cL4rvmc/EoBkQUDCYgLTwzPC1gKJQhoBogFOQX7BAUE9wL3AZQAwf7D+x34GfUV86Xyx/OS9UT42/uM/zgDvAUqBoQEFgGl/Nz3SvOK707tMu0h71Dy6PU/+ez7lv07/tb9evyp+gP5KfhX+GL53foC/Iv8svyD/BT8TvvG+dL3QfYw9Qj1Avby9wf8PQOBDDkWXh4bIygk9CHoHCgV1gtLA078//d99x35afxKAakFPAkTDCcNrQzbCiAIwgU5BLQDqwM0A9YCogIcAl0Biv97/Hz56/ZO9TL1Avb59wH7fv4PAu8EUAYLBgYEdADX+9f2YPLv7iHtc+1+78jyzPaZ+qD9vf+KAPH/df6G/L/6Yvl/+Br4RPjk+OP50Ppb+4T74/rD+W34tfZN9Z70CvUj+IT+RAdCEUUa1SCaJO8k9SFnGzwSwAj4/1n5DPZ79cP3hPwZArQHogznD2MRyxBpDmALAQjrBHACRAAq/0j/2/+MAH8AXv+8/Z37UvlX9+T11vU/97D5+fwuAMsCTgRRBIoCFP+t+qj1BPGy7dfr9Ov27S7xGvUY+Xv8vv6x/2b/HP4s/B76H/ih9v71T/aT90v5+fpY/AH93vwN/Kf67vir98b3hvpbAG0IdxHdGVwgXyRgJfYi5hw2FKIKVwHS+eL0svKf81T39fy2A08Kjw++EncTDxIBD/sKaAacAW39qfqm+T36k/vF/Kn9K/4f/oX9Pvxy+gv5zPjC+Z/75v3O/z4B+wF3AaD/avwJ+Jjz2O9i7YXsH+0h71Xyh/Yt+yj/xQHIAjoCbwDS/av6VfeO9CrzT/PU9DD3ePk/+5H8ZP12/dH8tfsq++X8XAHkByMPxBUxG/0etSCOH/oaIhTaC1kDP/yl9i7zpPKO9A/5jf+TBjINCRKSFBsVkBM0EB4LtASU/tr5+vYz9rX27fcG+mj8fP7M/+r/KP9X/s39sP3t/Q7+GP5b/n/+Uf5x/Xf76Phx9kn02/Ld8VjxwvEf85v1pfhJ+2399/63/9j/Df9t/Tj7D/mJ97j2q/be9u/2MPfG97T4uPmQ+tj7qv6GAxAK5hDgFo8bmR4/IMYfcRwAF/UPNwhcAab7d/eK9az1Dfis/IYCigifDQkR6BIeE5YRTw4+CYEDUf4a+lr3xPXp9C/1ePY6+Er67Pv5/N79nP5h/9b/qf/s/sj9nfxu+/f5I/gJ9gf0gvKb8TPxKvG18QHzCvWX9yn6bfxN/sP/sADpAEAArP6V/Jj6A/ny90f3vPZ49r32fve5+C76D/wZ/6kDpQlLEGwWahvoHpcgdSDrHRsZwxJuC1IEL/4l+dv1fPQN9d33YfypAe4GYgu/DukQlRGDEJkNIAnxA/b+j/oU94H02vJe8ujyWfRH9jj4Q/pn/GP+DgAKAQ4BWgAx/4X9gftI+fH27fRj83PyIPJJ8vbyL/Tl9RH4Wvpo/C7+rP/YAJ0BuAEzAS4A5/6e/VD89PqR+Xr4ufdt96H3afj9+bL81wBmBroMCxOlGPocsR+dID0fiBsxFq0PyAguAiX8Xfd49Kfz/vQI+ET8JQEqBtAKmA7kEF0R9Q/bDLAIAgQ6/7f6xvaz897xH/FQ8XTyM/Rr9g35s/st/iAAXAHwAeQBOQHo/xH+9/vK+dz3RPbh9OTzaPOD81f0uPVv93P5n/vf/RsA7QEcA54DZgOqAoQB9v8P/gz8OfrB+Kr3BffB9uz2r/c5+aP76v78ArQH2AzgEWsWERoZHHkcQhs/GOcTaQ4HCLwBG/yB95b0RvOr8+T1f/kk/h8DnAddCwIOJw++DpsMIgnrBE4A/ftI+Db1X/PJ8m7zZfUe+BP77f1SABkCBwP2AtYB2v9d/Z769vec9brzgfIU8mnydPPs9HP2A/ic+RT7Sfw6/d79Iv4z/if+7f12/an8p/uS+lf5Ifgs97/2WPdM+cH8lQFUB4QNnxP/GCYduB88IKUeMxsMFqoPswi7AYX7mvZW8xPy5/Ki9cr54f5oBLYJLg46EXsS7RHaD4UMKwhKA03+ifl+9VbyKfAy70fvQPAb8o70Yfdx+lz98f/9AUcD0QNgAw0COADW/Tj7svhG9kj07vJX8pbyj/Mn9UT3v/lM/L/+CQHbAhkEsQSUBPsDBAPPAWgA1f5p/T78U/vM+pv60/p/+4D87f3N//wBfgRMB00KcQ1tEN0SjxRpFWUVcBSEEqwPAgzuB6wDc/+3+6n4i/ac9dz1Sfeh+Zz8AACHA90GqAm2C7gMjgxUCxgJFQZxAmT+XvqW9mDz+vBi78LuJ+9k8EXykPTi9vr40fop/Nz89/x//Jz7bfob+c33evY+9TH0ZPPo8p3yj/IC8wX0uPVG+K379f/1BF4K6g8IFUgZYxwAHg8efBw+GbEUNg9BCWgDMv4F+jH3AvaF9o742fvi/0kEsgh5DDoPohCSEFIPDA3iCQwGzwGa/cD5cvbo8zfyV/FR8QbyRPPy9LH2Yfj9+Tn7Hvyk/Lz8pfxs/Br8t/s7+8n6kfqZ+q/64foQ+yX7a/u++xz8sPw4/dr9rv56/1sAPQHuAZYCNAOwAwAEEATxA84DpQNzAzoDAAPfAvECMgODA+IDPQR9BLgE+QQdBRAF8QTYBLsEgAQkBL8DTAPPAmsCAQJqAcAAHgCQ/zP/8v6d/l3+Qf41/kv+c/6W/q/+xv7S/rP+gv5I/vD9jv0z/c38Xfzq+337NPsS+wv7IPtP+5X75vtT/Nv8Y/3t/V/+sf70/hT/Fv8K//r+4v65/pr+iP56/n/+oP7c/iv/hv/u/38AOQEQAgoDGgRBBXwGuwf7CCQKKgsFDK0MDg37DH8MwQu3ClkJwwcIBkMEmQIOAbD/n/7d/Vj9Df3+/Aj9IP06/Sz9BP2v/BH8SvtZ+j35D/jg9rX1nPSu8/zygfI/8kbykvIU88Dzh/RS9QL2qvZM99r3dvgH+aP5fvqS+wT9y/7iAFgD8AWpCHQLFA50EGsSyROEFJUU/hPKEhYRCA+5DFgKJghEBtME6gOCA6wDXQRcBZAG0AfcCKYJ+gmuCfAIowe5BW0DvQDZ/f/6LPiF9SnzKPGT73Luuu1Y7Vftn+0Y7sHufe9D8Bbx3/GV8jjzyPM39Ib00/Q29an1LPbv9g34k/mX+wP+tgCrA8oG7wkADdwPShIrFHMVERYcFoYVSxTAEvEQ9g4gDWIL6wntCE8IJQhNCLgIYQkICrIKMgtXCygLfApbCc8HwwVSA5MAov2s+sX38vRb8h7wP+7m7AXseOtb65/rG+za7Nft4e7q7+/wz/GE8h7znPP18zT0a/S69EP1A/YQ94/4dfrI/Hz/aQKKBb8I0wuqDiERGBN7FDsVShWxFIQT6BHxD84NugvJCRsIygbNBUQFPwWWBS8G9gbTB6oIPQl6CWoJ0AivBycGHwTOAU3/mPz2+WX3/fT88k7xBvA679Lu1+4y78fvqPCu8bPyxPO69Hr1GfaF9rP2ufar9qD2kvaE9rb2Qvct+Ir5T/tx/fv/4AL5BRkJGQzRDisRExN1FEcVahXiFOoTkBLgEPQO2gzRCgYJggdmBqgFPgU1BXMF5AVmBt8GSQdkBx4HeQZZBecDJwICAK39SvvS+G32UvSC8gfx+e9Q7/7u9e5G7+HvifA08dzxd/IF82vzpfPL8+fzBPQy9H70+fSz9b/2Mfj5+Rj8m/5YAT4EQgc3CggNjQ+fEToTWBT0FPkUYRROE+UROhBpDpEMxgooCdUH4gZJBvAF0wXwBSIGSAZZBlAGCAZoBXgEOwO7ARMAO/40/B36B/gK9kj0yfKJ8ZHw9O+q76fv8e918CPx6/Gv8oDzSvTs9Iv1F/Zs9rr2H/eE9wj4xPis+eP6e/xV/noA3AJRBdYHVAqnDLoObxCvEXMSuBJ+EtcR1RCWDy0OsgxKC/UJwAjXByUHowZbBigGAgbkBb8FhQUFBUYEWAMcAqwAF/89/UT7UflU91/1mvML8rrwsO/o7nLuVe5+7t/udO8k8P7wAfL68uPzw/Sj9Yn2cfdw+IT5uvol/J39Q/8tASIDFgX7Bs0IkwoVDEENLQ7JDhEPEA/ODl8Ovg31DDoMhgvSCkMKxwlQCfAImwhMCPkHggfrBj8GbQVqBEAD+AGMAAL/bP3V+1D63/hv9yT2FfUs9G3z3/J08iTyB/IX8kTynvIP85PzN/Tx9Mf1tvbN9wn5Xfra+2n9CP+0AF8CDASbBQwHVAhXCSgKugoRCzwLNgsLC8UKbQoECqUJVwkRCekIzQi1CJ0IgghfCAQIkQcTB1UGaQVRBBkD1QFyAPj+aP3T+1P64/iJ91n2V/V89MrzRfP28tzy5vIT81zzwPNO9PT0rfWO9ob3g/iY+cf6Bfxe/dT+UADMAUYDpwTeBQMHCAjQCGIJvQnlCdYJsAmECTIJ1giFCDgI+wfLB50HbQdOBysH7QagBioGpgUhBWkEiQOJAmoBLQDm/qX9W/wI+735jPh894H2svUT9Zr0RfQU9Bb0Q/SU9A/1rvVy9kv3P/hR+W/6tPv6/EL+k//SAAkCHwMOBOgEogU9BrcGAwcqB0AHTgdJBy0HHAcaB/gG3gbhBuEG5QbzBukG0gakBlYG9gV0Bc8EFQQ3A0cCRgEoAAL/0f2a/Hb7VfpA+Uv4gPfN9jX20fWW9X71nfXr9VL2yfZt9zz4J/kz+kH7U/xy/Y/+wf/kAN8BugJ2AxYEnAQPBWAFkAWpBbIFvAXZBQcGJAZLBoYGwwYDBzgHWQdnB2AHOgf9Bo8G8AUpBUIEQQMiAvkAuP9j/jD9Evz5+v/5OPmA+OL3dPck9wD3Bvcb90r3lvcF+Jn4Pvn++dv6xvux/K39wP69/5gAbgE0AtwCZQPaAyUETgR1BIsEggSFBJAElQSeBLIE0AQABTEFUwV5BYUFiQWGBVkF+QR5BOIDPQNzAokBjgCN/3b+a/1t/IP7q/rt+UD5tPhI+AH48Pf49xT4R/ij+Cn5yvl/+lT7Tfw//Sz+Hf8IAPEAvgFsAv0CdwPXAycEjQSQBFUEYgSWBLgE4wTwBPcEDwU/BWMFiwWfBZsFhwVvBTAF0ARlBN8DNANrAoIBlACV/4z+ev1t/H37jvqy+fr4X/gB+Nr3u/e99/T3WPjq+KD5evph+0v8Mf0a/gf/6v+wAF0B5wFbAqcC3QL5AvQCAAMPAwUDBgMMAycDOwNiA5EDuQPXA+UD+QP/A+8DxgOFAz4DwgI+Ar0BKgF9ANb/G/9m/sz9Jf2H/BX8s/td+xr7Avv2+hX7Qft8+9r7U/zi/IT9G/6n/kP/4/98ABABfgHZARgCOwJsAnICfgKBAl4CSQI2AicCLwI1AlQCfQKQApwCqQKoArUCvwKdAlsCCQKcAR0BpAASAIj/9f5L/sT9S/3d/IH8Nvz/+8z7qPuv+9z7Hvxt/Mb8If2n/Sv+uf5Y/93/UQDBACMBdwGyAfMBIgJFAl4CagJ0An0CgwKRApkCrQK9Ar0CvQK+AsMCvQKCAkEC9gGlAUMB3gBxAPn/e//0/oH+D/6m/T395vyq/HD8Qvw0/Cj8NfxY/IT8uvwZ/Yr98P1h/ub+Wv/O/zgAlwABAUsBigGcAaQBxwH6ARMCDQINAg4CEQIqAlECaAJsAnICbwJgAloCVAIjAtEBfgElAdYAbwAAAIf/Gv+k/kn+9P2h/W/9RP0t/Tb9Rv1x/Zf91P0L/lP+nv7x/kL/j//Z/xoAYACwAOkADAEuAVIBagFxAXUBfgF6AXIBbgFpAWoBXAFeAWABSAFLAT8BIQERAQABzgCNAEAA//+2/2L/Av+f/jX+3v2L/U79Kv0R/QD99/z4/Bv9Uv2L/c/9JP6A/tj+PP+B/9L/LACHAN8AGwFIAYEBuAHcAf0BIAJBAlICWQJ3AnwCjwKMAmYCYQJVAjgCFwLxAbIBVQH5AKsAVQDp/3L//v6T/jX+1/2C/UD9Cf3X/LH8qPyf/Kb80vwA/SX9XP2W/dz9F/5q/sv+J/93/8z/FwBxAMEAEgFxAb8B/wE9An0CvQL5AhcDKQM8A18DZANaA0QDMAMDA9ECiQIsAuABhgE7AdYAVADp/3//I//U/n7+RP4K/tf9oP2H/Xv9d/12/Xz9nf2x/cf98/0U/jv+d/6s/ub+Ff9N/33/vf/w/yQAVQCBAKkAywDqAAwBLQFVAXABbwF8AYMBhwGIAXwBdgFwAU8BLwEGAeMAxQCbAHIATQAiAPn/2/+6/5f/iP9w/1r/Vf9i/2r/V/9V/1f/WP9V/1b/WP9C/zv/Pv9F/2T/df9p/2D/Yv93/5T/sv/G/9H/zP/c//X/BwAZACoAJwAsACkAKwAtACgAGwATAAgAAgAHAAIA+v/m/+3/9//t/+7/5P/k/+//9f8FABsAKQA3AD0ASQBqAIAAiACgAKsAqwCqAL4AxQC9ALEArgCkAKcApQCfAJ4AjwCDAHEAawBbAEUANgAfAAoABwD2/9T/tv+a/4v/ff9n/z//GP8J//n+9/7m/tP+yv7K/t3+6/7y/hj/JP8t/zj/QP9V/3b/jf+b/5z/p/+3/9D/5P/9/xAAJwAxAFsAeACNAKAArQCzAL8AwwDHANEAzADAALcAsgCrAKkAqgCnALYArACeAIsAegBuAG8AXwBIACcABAAHAAQA+f/v/+L/zv/C/77/2//c/8z/y//C/7T/rP+0/7T/p/+V/4z/mP+c/5X/jf99/3P/g/+E/5D/lP+f/6n/qv/H/9P/3f/j//L/+P8KABkALQA/ADIAMgBKAFQAVwBsAHQAfwCAAIYAkwCIAJcAnACXAJgAhwB2AHQAewBzAF4ASQBEADkAMQAlAAwA8P/U/9D/wv+t/6j/mv+O/3f/c/+B/4X/e/9u/1r/Uv9b/2z/gv+J/3z/cf90/5b/uP/O/8H/w//E/9H/5//y/+z/6f/1//3/CAAQAAsAEwAmADkAPQAwACQAIgA3AEwATwA7AB4ACAAZADMARQA8ACkAGgAXACMAOQBFADQAKAAvAEQAQwA4AC8ALwA2AEoARwApAAYA+/8KACcANQAeAAQABwAfAB4AGQAQAAgACAAOAA8A9P/V/9L/8v/1/+T/1f/c/wIAFAAuADMAKQAkADsAXQBgAEgAKgAUABYABADz//H/2v/G/63/ov+j/6H/p/+x/7T/uf+t/7T/5P/3//7/+v/z//r/GwA7AEcAMAAKABIAMwBHAEQAIAD0//n/FAArACcAAADe/9//AwAqACcABwDs/+z/BwA0AEgAIQDx/+b/BAAdACsAFgDp/9T/5v/y//D/2P/H/7T/tf+9/67/q/+g/5f/pP+W/5X/l/+X/5z/tv/Q/8n/xP/M/+r/CQAJABMAIAAuAEoAWwBUAE0ASgBdAH0AjACLAHgAbQCCAIAAiwCGAGsAVwBZAFcAUAA0ABgABQABAAoADwACAPf/7//9/xMAHwAMAPP/3P/Q/9H/zf+u/47/df96/3P/Y/9H/zD/Rv9d/2P/bv9p/2j/gv+n/7z/yf/N/9T/5/8NADQAPAAlABMAFwAzAFoAawBWAC4AFgAsAFkAaABkAGEAQwA6AGMAjwCOAHMAVQBaAFYAYABUADEAAgDo/wEAIgAeAPb/0P/E/9j/7P/d/9H/z//I/8L/y//I/8T/xP/D/7D/of+N/7H/3P/W/8H/sf/D/9r/9v/q/87/sv+y/93/AADs/7v/nv+u/97/EQAhAAwACgAkAFUAeABxAEsAMgBGAF4AWgBEACMACAAtAE8AWwBDABYAIQBhAJsAkwBtAEsAPABKAFQAPQAQAOD/4v8QACgAEADh/9T/6f8IABkAAADf/+f/BgA3AEcAKQAAAPL/CQA1AEQAGgDZ/6X/k/+t/8b/xf+T/1r/WP+3/woAIADy/5v/cv/X/4IAuQAiAF3/UP8jAPsA5QARAFv/eP9CAPIAuAC+/+X+//7j/5kAWgB//wD/Xv9LAOsAwwAfAKv/yf9aAKYASQCP/xL/VP/e/woAz/+R/6b/9f9PAI8ArQCMAEQAJAAnAEkAaQBRAAQAhf9b/83/bwC7AEAAcf9V/w4A4wDnAP//Fv8a/wkA9QDjAND/4v4f/zIA5gB/AE//Yv7P/uH/cgDH/5r+Uf4W/0EAuAAeAFL/Qf8jAAEBBAEvAF7/Yv8QAI4AXQC4/2n/0/+HANUAoAAxACYAgQDLAMIAZAAUAPH/GAAlAAIA7//8/xsANAA0ACcACgAJABsAGQABAPL//P8DAP3/+P8FABgAGgAhACYAAADG/6n/sv+7/5//ev9q/3H/e/+e/9f/HABQAF0AbgBgAEIAHAD+//H/9//p/9D/vf+n/8P/4v/U/6v/uv/x/14AkABKAOj/tv/p/18AnQBDANr/wv82ANwA5QBNAJD/dv8XAL0AxwAUAF//Zv8wAPsA3wAAAGf/qP+RACwB0gDu/zv/Tf8HAGwABQBZ//D+O//d/yIA9v+5/5T/lP/R/w8AOQBKADgAKgAZABYANwBYAFsA/P+I/4z/EwBwADwAu/9e/3D/5f9yALAAUQDM/+//mQAGAbUA9f+I/8P/RQCJAFMAyP9q/6X/KQBjADQA2f/O/w0AGgAZAAAA/v8VAAIAwP+w/9v/HAAtAM//cP9W/7f/MAAjALT/UP9k//P/cgBAAMD/g//J/y4ARAD//5z/hv+z/+7/+//M/6X/zf8EAAAAxf+//xgATgASAMn/0P8mAI4AcQD9/5r/t/88ALYAXwCz/37/2/9QAFAA5/+H/4z/7/9gAHwAKQDk/wYAcgCaAHAALQAeAEEAPAAKAAUABwADAOr/4v/f/+j/JwBtAE0A6f+//+v/LQAyAPP/t/+e/73/3//y/9v/tf+P/6T/7P8GAO7/of+V/8v/5f/e/8j/rf+u/8n/AAANAOn/vv+7/9L/3P/T//L/FwDm/6b/pv/c/ywAKQD0/9z/BwBeAIYAVgD6/9n/FwB7AIMADgCe/6n/KQB6AGAABwDk/yMAZgCIAGIADwACAEEAZgAyAPf/CwBKAFkAKwAXABUAJABMAFAADgC9/8f/KgB3AEEA2P/P/xMAWABeACoA3//R/wcAPAAXANP/sf/V/xoAIAAgABQAAAASADoALgAEAOr/BgAQAOv/x//F/9f/+/8MAAAA6v/k/yEAegB0AAwAxf/o/x4ALQD3/6H/dv+p/xcAUgAZALv/0v9MAIIAUwBFAE8AOAAhACsASAAiAL//mv+3/8P/2////wAAxP+S/9f/MwBDAOb/iP+c/+b/LwArAKH/HP8x/8X/HwDo/2j/QP+J/xMAdQA5AIH/F/+S/4kA4AAzAFn/Ov/W/3MAigAEAG//YP8QAM0AqwDZ/1P/wP9+AJYAQAAOABkAKwArAC0APQArACkAEwDg/9D/IAB6AFUAtf9s/+v/qADeADUAZ/9L//v/swCQALv/HP97/0wAmwA9AKf/gf/r/20AkwBJAPb/BABLAEwA7f/L/xoAJQC8/3H/uv9PAI4AKQCd/3P/CgADATMBUwBj/5v/ogAtAYMAbf8M/9P/6gAoAUMARv9g/4EAXQH1AAAAqv87APEA8QBPANj/+P9kAIIAQwAeAGIAwgC5ADsA6/8mALAAywBSAPb/HACIAK0AVADS/7H/CQB0AGkA+f+b/7j/HAAuANH/df+F/9z/GQD8/6n/ef+f/73/i/8z/x//Vv93/1X/GP/e/tv+I/9d/0L/9P7h/ij/Zf87//H+vf6r/tD+H/83//L+gf58/vH+R/80//P+3f4X/3z/1P/A/0D///5M/8r/6/+c/1//f//N/wkA+v/R/8v/6/8rAFEAPQA7AGcAiwCKAGAAWACCAJoAkACQAK0A3QAUARIBzACSAMEAEwEsARMB7QDnABABQQFjAVMB/QDLAPIAMAE3AfMAwADZAPwA8QDWAK8AnAC4ANwA0ACKAGQAfACHAE0ABADb/+//GAAgAOn/if98/9X/EgDe/3X/Y/+q/+f/yf+E/1T/a/+R/4r/M//h/gv/jf+2/0v/7v4L/3z/pv9u/yj/LP9V/43/kf9G/xL/Ov+O/5L/Rf8o/2X/x//w/8X/pf/A/+D/CAAfABgAHwAdABYADwAWABcADAASAD0AgACdAIIAWgBfAH4AqwC4ALQAlQCOAKkAzgC+AJQAmAC0AMcArwCJAJUAwQC2AJIAjwCHAHkAkACWAGoAUwBqAGIAQAAwADcATABZADQA8f/c//n/AADX/6b/qf/c//r/2v+T/2z/mv/e/+D/oP9r/1z/j/+9/7P/gf9y/5X/0//u/9b/qv+T/7D/+P8kABoA5f/V//f/BAAFAAQACgAXABUADQAHAAoANgBVAEcAEgD//zsAhgCHAEQA/f/8/x8APwAcAOL/0P/q/x0AUgA1ANf/lP+u/+//EQDc/3b/Uv+K/+3/9/+S/0H/Tf+M/63/jv89/yb/df/a/+v/j/9G/2j/rf/I/6H/e/+A/6r/1//Q/33/cP/K/wUA7v/Q/9b/7/8SADwALwDz////XQCqAIUARwAvAEMAbQCMAHwAOgAmAFwApAC4AHwAUgBMAEoAUgBYADoADwAAACkARwAsAAkADQAAAO//8P/h/7z/sf/M//P/3f+y/6D/0v/h/67/f/9x/3v/pv+5/6b/gP9Z/2j/jf+q/57/if+B/6L/1f/K/5n/eP99/7L/6v/5/7z/n//B//n/AwDx/97/4v8AABcACQACABcANQAxACsANABRAGYAVwBTAHIAlwChAJUAggBqAH8AnwCbAIMAcgB6AGgAcwCPAJIAhQBiAF4AgACtAKwAbAAyAEEAggCZAGIAMgAmAEIAYwBbACEABQAmAEgAIwD9/xgAPAA9ACoAJQAiADMARQAgAPL/DABBAF8AKgDo//D/EAAiACMACAD1//7/BwD5/+L/6v/8/wcA/f/n/+X/7P/5//P/2//U/9X/0P+g/4D/l/+1/8H/tP+f/4T/f/94/3n/fv9//4T/mv+q/47/aP9u/4H/hv+W/5f/jv+I/4X/if+s/8n/zP/C/6n/oP+0/8n/0f/X/87/0P/m//f/AQD6/wYAIAA4ACIABgAVACUALAAsAB0AIAAtAC0ALQAmACMAHAARAAAABQALABUAIgAdABcACgAAAPb//f8AAAwAOQA6ABsADAAgABMAFAAVAAkADwALAAkABgAfADQAOAAxACsAPwBAADkAIAAaAB4AMwA7ACoADAAoADcANwAoAAcAFgAwAC8AJQA4AEQAOwA+AEkAMAATAAoADAARACEAHwAXADMAOwA7ADkARQBOADQALABAAGIAOwAZABAAFgA0AFAAYQBQADQARgBWAEUADwAhAFYAcgBzAE4AMQAwADkAJQAFAP3/BAAIAPH/4P/i/+j/5v/X/83/wP+//87/x/+s/5v/pf+x/6H/m/+Y/4T/af9h/1X/Of81/0z/U/9k/3L/bP9i/1b/Y/96/4D/fv+V/5P/hP+Z/8f/0P/K/8f/v//O/+X/8v/k/+r/DQA0AEEAMQATAA4AFQAUABYAEQAMAA8AFAAVACoAQgA6ADwAUABKADYALAA5ADgAPgBEAD8AKgAZACcANwA4ACcAFAAXABYA+//q////EQAFAPH/2v/T/+j/5f+3/6f/tf+5/7n/sv+e/6j/tf++/7f/pP++/9L/0f/L/+X//f8AAPv/+////xEALQAxACoANgBVAGcAYgBUAF8AhQCiAJwAhwB6AIwAqACoAJQAgACAAHgAZQBeAGEAZQBsAIEAewCAAIsAdwBVAFcAZgBhAE0ARwBOAFIATQBDAD0ALAAPABAAIwAoACUAJQALANv/1f/k/9X/yP/D/8b/sP+l/6D/oP+P/4T/if+f/7D/rf+m/5//tP/Q/+v/9v/s/9f/4v/5/wcAHQAiABAA//8DACUAIQAJAPr/6f/+/xQACwD6//L/6P/V/9L/wf+j/5j/pv+y/6z/iv93/27/Wv9V/03/Pf8l/yD/Lf9I/1b/Uv9I/0v/Wv9l/2H/Wf9c/2j/gP+d/63/v//T/9v/6f/x//r/9P8AABIAEgAYACgAMwA3AEcASwBFAEAATQBjAG4AhACXAKAAsgC7AK8AmwCPAJQAowCwAKcAlwCVAI0AgQB0AGkAawBkAFAAQgA3ACwACAD2/+//7v/u/9n/vv+j/6T/qf+S/3v/f/+N/53/l/+L/4L/gP+k/9b/7v/5//r///8AAO//5//4/w8AHQAsADkAVABxAGwAVQBVAGUAdACBAHEAWwBSAE8AQwA1AEcAbQB/AHAAaQBYAEsATgBIAD4ANAA2AD8AOwApAB8AKgAtACIAGQAQAAQA+//8/+n/4P/u//n/8v/o/+X/6f/s/93/zP/O/9b/0P/U/9j/3f/r//D/9//x/+//9f/q/+X/5v/1/wMAAAD1/+n/8v///wAAAgAHAAoABAD7/+X/zf/L/9//1v/F/8T/x//Z//L/BgAaADIANQA0AD8AWAByAHYAZgBNAEIASQBBAEAARQA8ADsAOgApACAAFwAWAB8AGQApAEoAWABIAC0AJwAmACUAJQAjABMABQAAAO7/2P/E/77/tv+f/5D/mf+j/6T/mf9+/3r/if+T/6X/tP+u/6P/nP+c/6z/w//D/7z/vv/B/8j/3v/g/+P/7//u////BAD///z/9f/r/+z/AQATAA0ABAANABkAFwAHAPL/5v/t/woAHwAoAC8AJAAUAA8ADAAJABUAGAAVABcAHAAwADUAKwAZABsANAA0ADAANQAxACwAJwALAOj/1P/M/73/uv/N/8b/wP/L/8n/wf+8/7j/ov+E/3L/ff+b/6H/mf+T/4r/kv+h/5f/g/+G/5j/pP+y/93//v/r/9T/z//P/8f/vf+1/7j/yf/Z/97/5/8AABIAKQBFAGEAewCJAJEAhQBsAGcAcgBhADsAJgAeACoAPAA+AD8APgBBAEwATQBMAFYAQgAcAAgADgAWAAwABQD2/+//9v/n/93/6P8BABQAIAAYABMAGwAOAAAA+f/+/woAFQAqADkAOAA8ACkACgADAAQACwAVACEALAAoAC4ALwAhABsACwAEAA8ADAADAA0ALAA5AD8APQArACkAMAArACEAGgAZAB4AHgAfACsAOQA2ADIAMAAaAAIA6P/j/+r/7//l/9n/0v/P/9//3//b/+//AwAOABIAEQASAAoA7v/d/8z/xf/e/+v/4P/Z/+T/6f/j/+L/6P/1/wkAHAAQAP3/+P8NACYAKwAyADMAMAAsADUASQBcAGwAYgBNADwAOgBMAFQARwA1ACIAEwD8/+3/7v/1/9//yP/F/9H/6v/n/8j/sv+4/73/wv/D/7r/yP/T/83/yP/N/8r/x//O/9r/6P/7//7/9f/u/+b/3v/i/+D/1//T/9X/5v/w/+//AQAJAB8AGwAKAAoAEgAWABEACgD+//7/CAAMAAYAAgABAAgA+f/w//X/9//t/+3/+f8FAAsA///o/9//2v/V/9//0//K/8j/0v/q//3/BwANAAUA+v/w/+T/4f/e/9T/yP/L/9z/1f/O/7z/qv+6/9L/6P/2//T/9f8AAP7//P8EAAMABQD2/9//1v/Y/9L/zf/H/8r/0f/l/wAA/P/5//7//v8EABQAHwAeACQAJQAeABoAHAArAC4AJQATABYAGAAZAB0ALQAyACsAMgApACsAMQA5ADkAOAA8ADoAMgAwADQANQBIAEoAQgAwAC4ANAAyADIALQAqABgAAAAAAPv/9//v/+7/7P/t/+//4P/a/93/6v/5/wcACQD1/+n/6P/r//D/7f/x/+X/1v/D/7v/sv+p/6r/sP+0/6v/rP+0/7P/pP+t/7D/uP/J/+v/9P/1/wYADwAZABgAHgAfACUANABBADkAOwBBAD0AQABCAFEAWgBVAEcAOwA8AEwAVwBOADkAUABrAHcAbgBrAF0AUgBHAFIAYABYAEEAKgAQAP3/+//y/+b/4//u//3/9f/l/97/5v/w//j/AgD4/+D/1f/A/6f/jv+J/6P/xv/k/+X/7f/4//b/9P/y//b/7//y/wQACwAfACoAMgArACgAKgAsACgAKwA2ADwANgApABcABADw/97/2P/h/+H/4//0//n/8f/r/9P/v/+3/7b/sf+b/4f/fP97/4n/mP+g/6j/tP+w/6r/q/+s/67/tP+z/7H/tP+v/5v/jP+T/6j/u//C/9D/3f/g//H//P/4//X//P8KAA8AFgAWACgAPgBHAF4AgACEAHgAfwCHAIoAfwB2AHIAcgBxAGQAVgBKAFQAYQBbAE4AOQAzADMAKAAfABkAEgAFAPz/7f/g/9D/vP+w/6j/pv+T/4//q/+2/7v/3f/x//T/BgAVABgAHQAhABUACgAOAA8AHwA4AD0AQQBHAFoAdQB7AHMAaQBoAG8AdwCPAKwAuQC1AKsAnwCkAKwAswCwAKMAqwCnAJwAlAB9AGUAVQBDACgAHgAbABYAAAD1//b/7P/d/8T/ov+R/4r/eP9d/z//Jf8d/yP/IP8Z/xv/E/8A/xX/K/82/z3/Nv8y/x//Ev8Q/x7/Mv81/0D/V/9o/4j/n/+i/5//o/+n/7j/3f/Z/8H/qf+e/5//nf+X/5D/jf+F/4f/nv+y/6r/rP+l/4n/fv+X/67/qP+w/8b/3P/X/8r/xv/T/9j/yP/F/9X/4P/o//n/EQAbACQANgBCAF0AZgB0AHIAcABvAIQAmACVAJwApgCzALoAvgDIAMkA0gDsAAoBHAEjASEBIAEeARkBHwErATEBMwEoASMBIwEZARUBIQEuAR8BHAEJAeoA4ADZAMsAugC5ALIAnACHAHgAbQBuAGUAQgAnACcAKQAzADUANAAsAB8ACAD2/+T/3P/a/8b/rv+i/6H/nP+U/5L/iP91/1//Q/8e/w7/Gf8I/+z+zv60/qb+p/6w/rT+u/69/rn+sf6//tj+4P7j/tX+wP7c/vj+CP8q/1j/dv9//5f/rv/J/+j/FAAxAEYAbwCMAIkAiQCYAKsAwQDHAMgA0gDdANkA1wDOAM0A1ADYAOMA7wAJARwBFwEUARQBBgH4AO4A7ADVALAAeABZAEkARQA5ABoA+f/k/77/oP99/3f/av9c/0n/Mv8Y/wf/9v7q/vj+9/7a/rr+o/6G/oP+mv6l/qf+tP69/sT+0v7r/gD/Dv8r/zD/Kv8c/yv/Sv97/4z/kf+m/7j/zf/t/wQAHgAzAEAASABZAG4AdwB6AIgAnQCiAKQAmQCPAJMAkwCNAHkAawBvAHQAgACHAJgAnQCZAJoAqQC2AK0AngCfAKQAmgCVAKEAmgCKAHsAdABcAE4ARgA8ADUAKwAXAAQA+//x/+T/7//v//X/AAAWABQACwAEAAUAEgAfACEAHgAfACUAOgBGAEoAPwA3ADoARQBWAFkAUgBJAFYAZABsAF4AXABeAFEASwBKAFgAcgCAAI0AigB1AFwASQA3ADkAOgA6ACwAEQAAAPf/8//1/+//4//a/8X/u//K/9n/3v/e/9b/4P/h/97/4//g/+P/4P/O/7r/p/+i/6r/t/+2/8z/3//h/9r/yP/F/8n/yP/T/+j/7f/w/+7/7v/u//P/+f8BAAoAGAAmACsAIwAiAB8ADgDx/wQA9//Z/8j/sf+o/6r/tP+o/6v/r/+r/6v/ov+e/4r/fP9v/1r/V/9b/0f/PP85/zf/K/8u/zX/O/9F/0v/Sf9M/1L/Zv+G/53/oP+m/6X/t//K/9v/8f/5////BQAFAAcAGQAhACgAPABHAEIANgAnACkAMQA1ADsASABjAGkAcgB7AGkAXABXAGAAYgBjAF0AWQBTAGEAbwB9AHsAcABlAFMARAA+ADsAMgAqACkAKwAjABoAGgAcABsAHQAfACAAHwAkADgATwBgAFoATgA6AC0AIgAlAC0AOgA8AEMAUQBNAE4AUQBfAGoAaQBYAFEATgBIADkAKwAtADEARgBiAGMAdgB+AGkAYQBqAHsAjgCNAIEAagBdAFEASwBJAEMANwAmACYAJgAiAB8AEgATACYAMwA6AD4APAAmAAoA+f/y/+f/1v/d/+D/3f/g/+T/4//U/7n/u//L/8H/tv+x/6H/h/9u/1//af+A/3L/U/85/yj/H/80/zX/KP8v/zz/SP87/zb/K/8i/yr/MP82/zT/Mf8p/zf/Rv9U/2X/dP+K/6D/sf+7/9X/5//+/w4AEAAgADgATgBjAHEAawBpAGoAawB0AIUAlwCRAH8AcwB0AIMAfwB4AHEAcgB2AHEAXgBFAC4AGQAYABoAIwAkAA4A/P/+/+3/2v/b/+L/3f/L/8P/x//F/8D/qf+U/4L/cv9b/1n/Yf9p/37/f/93/2n/Xv9c/2D/Zv9w/3b/hP+Y/7L/zv/a/+7/AAARACMANwA/AFAAZwCIAJAAlQCSAJAAmQCxALkAsACwALEAqACgAK8AxADVANkA3QDgANgAzwDLAMEAsQCrAJ8AlACNAHUAaQBjAEsAMAAdACUAIQAYAB8AJgAqACwAJwAPAOz/5v/q//P/6f/f/9L/t/+n/6L/oP+l/7f/uP/D/87/yf/D/9f/4P/X/8f/t/+x/7P/wf/V/+n/AAAHAAEABwAdACcALgArAB4AIwAhACIAJgAfACMAIgAsACcAIgASAAIA///0//P/9f/w//b////8//H/8//s/9r/w/+w/6z/r/+i/53/sf/N/9b/3P/n/9//5P/3/wYADQAKABAAEQANAC4AMwAwADMALwAUAAQAAwD6/wAADgAXABYAEQAGAAoADwAOABYAEAAFAP3/9P/8/w8AGQAFAOz/6//v//L/5f/R/8H/xP/B/8H/2f/g/9//0v/D/7r/qv+P/33/df9v/2r/af91/3z/hP98/3H/Zv9i/2P/YP92/5L/nv+h/53/o/+r/7T/sf++/8P/zf/e/+f/2//Y/9b/2P/c/+L/8v8DABQAFwAhACgALwA0ADEAMwA5AEMASwBUAF8AWQBeAFUATgBRAFIAZwCDAJgAoACxALsAwwDJAMoA0wDTANEAuACaAJIAlQCIAG4ATgBEAC0AGQAaABcAFQALAAIA/v/0//T/6//f/93/2P/T/8//y//D/7P/tf+q/6X/sf+v/6f/pf+l/6P/r/+9/8H/wf/G/8//2f/j/9r/zf/O/9L/3//w//j/8//y//b//P8GAAMA7//j/+j/+P8IAA8ACwASABwAJAA2AEIAVABfAHEAcABjAFgATQBHAEgATgBWAGEAXgBWAEEAMAAoACUAIgArADUAMwA7ADcAJwANAPH/6P/t//j/8v/j/9v/1v/P/8z/1//k/+//AwAZABMACgAGAAsADwAcAB0ACAADAAUACQAEAPr/6f/Y/9r/6v/h/+D/2f/Z/+v/7f/k/+v/+P/v/+n/4P/R/9X/4//p/+r/6f/e/+D/8/8VAC4AMwA7AEkAVwBaAGYAdQCDAHoAZgBjAFgARQA1ACEAEQAKAPb/2P/B/6//pP+v/7T/sv+n/57/kf+R/5//nP+d/6//sv+k/5//pv+3/8L/sv+Y/5r/rf+5/8X/2//k/+L/1v/a/+3//v////b/8v/o/+H/4v/k//H/AAARAAwAAgAAAAcAEgAgACkALAA8AD4ASgBYAFoAUAA8ADMANQAuACkAEgAAAPL/5//0//3//P/u/+3/7P/k/+X/7f/0/wAABgD6/+r/zv+9/7b/qP+g/57/qP+i/5n/kf+N/4n/nP/M//v/HQA0AEAAPQA3AC4AMwBBADwAPQBLAEQAPwBFAEsASABAADMAJQAaABkAGQARABEAGwAsADUANwA7ADIAJwASAPv/8P/b/9T/0f/S/83/zP/E/77/xf/H/8D/qP+M/5H/qv++/9f/5P/w//n//f/7//X/9f/+/wUAFAAgACQALABBAD0AJAAdABIADwAMABEAGQAnADkARABMAE8ATQA/ADUAPgBNAGMAcABzAHkAigCPAJsAqQCkAJ0AjgCCAHAAWABOAE8ANAAbAAYA/f/z//D/8P/c/8r/xf/A/7b/sv+k/6H/mv+Y/5v/p/+l/5f/lf+V/6X/of+q/7D/rv+g/67/tf+r/6v/qf+0/7v/xf/U/+f//v8GAAUAEQAaAAwABQAIAA0ADwAOAAUAEwAlACkANwBEAFYAWQBOAD0ALQAcABQADgAPABoAFgARABAAFAASAAUA8v/q/+L/5//7/w0ADAAIAAoACwATAAMA5P/L/7//tf/B/8r/0P/D/7f/sv+r/5v/nP+3/7r/s/+0/8D/yv/i//X/8v/5/wAAAwAHABIAGgAPAP3/BQAJABIAJAAvAC4AMAAiABsAJgAkACIAJwAuACwAJgAnACMALAArACQAGQAOAAwAGAAjACgALAApACIAHQAsABsAEAAYABgAFgAVAB4AHwAaAAoAAQADAPz/AQAGAAwAAADx/+v/8f/+/wwAJQAvACoAHQAVABUACgD8/+r/1v/E/73/xP/Y/+n/8f/7/wUA+//t/+D/2//q/wIABgAAAO7/wP+f/5P/n/+s/7L/r/+x/7n/vv/Q/9v/4f/f/9z/2//U/9//4P/q/wAAFwAYAAcAAQANACkANQBBAE0AUABKAFAAXABjAGYAZgBgAFIAPgA2ADIALwBCAD8AMQAqACoAIgAYABQAHgAXABQAEgAHAPv/7f/e/77/qf+c/6D/rv/M/93/4P/U/87/zf/I/9D/0f/a/+T/2v/M/9H/0P/I/9H/4P/r//b////6//n/AAADABEAKwA7ADkALQAxAEIASABJAEMARABRAFEATABJAE4AQwA5ADsANgAzACoAJgApADAALAAuACYAHQASAAIA8P/s/+r/4P/d/9T/1v/f/+P/6P/w//b/7//p/+P/3f/f/+j/+P/5//f/AAALABIAJQArACIAEAD//+n/0//g//f/AwD4/+//6v/g/+D/5f/4//3/5//b/9X/z//R/9P/5f/0//n/7f/l/+b/3v/i/+H/3P/V/9X/2v/k//L/7f/m/+j/6P/n/+P/6P/o/+v/2v/E/8r/1P/f/+7/8//3//j/3v/e/+r/+/8BAPX/9v8EABMAFwAaAB4AJgA3ADEAGQAYABsAJgBBAFUAagBqAFIASgBNAEsAUABQADwALwAWABAABwAZAD8AUwBTAEgAQAA2ADAAOQBRAFoAUAA1ABkAAgDz//X/4v/J/7T/nf+a/6D/oP+h/6v/rP+d/3v/af9q/3X/hP+b/7X/zP/Y/+b/4P/a/9z/1//W/9H/zv/O/8P/xf/Q/9j/5P/u/wMAIQAtACkAMQA3AEQAUwBnAFoAPQAyAEAAVABoAGgAXwBRAE0ASAA5ADkANAAsACQAJgAxADwAVABtAHYAYABIADQALwAvACoAEgACAP3/AQAAAPH/5//g/9z/1f/P/8v/zv/N/8j/xv+w/5r/ff9f/13/a/9//5P/pv+n/63/u//J/9T/1//f/97/1//S/83/xf/O/+H/7f/8//b/4f/k//P/BwAbADQASwBGADgAKgAWAAoAGgAjACkAPQBBAD0AVABdAF4ASAA0ACEAHQAnACgAJQAcABYADQAOABUAIQAdABsAFAANAAsADAATACEANQBEAEQAOwAgAAMA9f/w//L/AAAAAPT/6//m/9j/yf+8/7j/sv+r/6D/rP+4/6//nP+W/5r/lP+W/6r/yv/c/+X/4//t////CAAQABcAHQAjADEAOAA5ADwARwA/AEQAOwA1ADIANQA0AC0AKwAaAAsAEwAVAA0ADwAQABEAGQApAEcAUABSAEYAPQAwACoAMQAvABcACAAIABMAGQAaABsAIAAVABEAEwAAAOX/yf+u/7L/z//s//L/7v/0/+r/2//Q/8r/wv/G/7j/oP+a/6D/rP+7/8b/w//K/9z/5f/3/w8AHQANAAkAGwAcABkAHAAaAA8AEQAXADQARwA+ADgASABOAFAARQA6ADEAHwAUABUAGwAZABEAEAAHAAQA+//3//r/8//w/+P/4v/L/8D/vf+0/6r/qP+0/8z/6P/+/wAAAQD1/9r/wv+w/6//uf/P/9//5//h/8f/vf/E/+P/+v8GABIADAAKAAAABQASACYAMQAzADoARwBhAHEAhACVAJYAjQCCAHwAdgB+AHwAfACLAHwAbQBoAGMATAAwADUANwAyACkAJQAUAAcACAAGAAsABADn/9L/vv/A/8z/zf+8/7v/vf+r/5//oP+i/5v/oP+k/6P/of+X/6H/o/+V/43/lP+q/7f/tf/D/9D/0v/X/+D/6f/q//P//f/+//X//v8RABkAFgAWAA0A/f/z/wcAHAAbABwAIQApACIABQD9//r/+P/i/9b/1f/O/8v/z//V/8//yP+x/5P/hv97/2r/ZP9f/1H/Vf9s/2//e/+N/4//jv+V/5r/o/+6/8j/xf/L/8v/xv/P/+D/8v8BAAcAAwAYADQAMQAtAC4APABVAHIAiQCVAJ0AogCsALEAoACYAKMAowCbAKAAswDDANEAzADRANAA0ADKAMYAuwCvAKwAsQCqAJsAiQCIAIwAjQB9AGQAUAAyACcAHwAjACQAHAAdABQABwD0/+D/zf+y/6n/qf+5/8L/vv/D/8z/0P/C/8H/wf/D/8//1f/O/9f/5P/c/9D/yv/F/77/tv+k/4//fv+G/4j/jv+M/43/n/+0/7r/tv+p/5z/of+y/8f/2v/f/+f/1//V/8z/xP+v/5H/if+N/4j/mP+0/8H/xv/T/9P/6P///wUAAQDz//L//v8FABMAHwA0ADkANAAtACUAKgAqACoAGgARABcAJAApACQAKQAtAD4ASABFAD0APwA/AEoAXgBdAFEAUQBaAFUARQAvABYABgD+//D/5f/j/+n/6P/o/+v/6P/b/8//sv+g/6T/sv/L/9r/3P/s/wYAHQAnACcAMQAwACoAJgAfABcADAAYACsANAAqACMAIgAeABwAGQAjAD0AQgA+AC4AKgArADgARgA8ACkAHAATABkAFAAeADQAPgA0ABEAAwAGABMAJAAnACUANwBIAEAAOwBFAFgAYQBuAIQAhwBzAGcAfQCIAIQAcwBeAFoAUABIADgAGQAJAAIAAAD7////9v/z//T/7//t//f/BQD9//T/7v/g/93/1v/L/8r/xf+m/5j/l/+R/43/hP+B/3//e/+F/4L/fP9y/2D/R/8o/xz/Ff8U/xf/Dv8A//v+Av/z/u3+6/71/gL/7f7T/sH+wf7K/sT+w/7W/uP++f4Z/yz/NP8g/x7/MP8+/0X/Sv9g/3f/jv+b/6//y//e//D/+P8BABsALgBCAFsAdwCOAJ4AtADLAOcABQEPAR8BMQFDAVwBfAGTAZsBkwGKAYABdQFvAWgBYQFcAUUBQQFIATcBKQE5AUgBQAEgAQoB+ADnAM4AqQCUAIwAiQCGAHkAawBfAFEARAAyABwAEwACAPf/6//r/+r/0P+2/5n/iP+G/4b/gv99/3r/Yf9V/2P/Zf9e/1n/WP9f/2v/c/9//37/bv9l/2X/bv93/33/gP+O/6H/sv/S//L/AAD5/+r/4P/d/+r/+f8DAAwACQASABUADAAGABAAFwAeACUAHAAVAAsAAQAPAB0AMAA8ADcAHQAbACgAQwBdAHIAigCaAJMAhgB7AG8AbwByAHcAdgBeAGAAYgBUAFgAWQBVAFQAXABjAGMAYQBWAFAASQA6ACgADgD//+v/3v/l/+7/5P/U/8D/p/+K/3r/dv98/3f/gP+F/4v/lv+W/5L/lv+s/6//sP/D/8L/u/+x/53/j/98/1v/Sf9T/2X/X/9c/2P/Wf9N/0//VP9Y/1z/Zf9s/2D/b/+J/5X/qP/E/9X/y//G/8z/2f/k/+r/8/8DAPv/8f/1//b/+v/+//7/9f/m/9r/2f/b/+//CQAYACIAKQBAAEUAOAA+AE4AUwBUAFMAUQBaAF4AcACLAJ0AmwB/AGsAbgB/AI8AjQCWAKAAqACnAKcApACoAKcAmgCbAKgAsAC4ALUAoQCIAHAAXQBZAFEAMAAJAOz/2P/S/9b/1//Y/9n/3f/j//D/9//v/+X/2f/O/87/xf/E/7j/sv+x/7b/tv+5/7v/vf+6/7T/uv+7/7n/rf+l/6X/oP+w/8L/0f/X/9r/1//O/7z/uf+s/53/q/+v/6j/n/+r/6H/of+k/6r/wf+9/6f/lP+Q/33/df+M/5b/qv+7/8D/sf+t/63/of+a/5b/iv+N/6T/rv+0/73/xP/M/9n/8P8JACAAKQAzAEUAVgBeAHQAkACfAKkAtQCyAJ4AmQCdALAAvgDCANMA3ADYANAAyAC5AK4AqACbAIYAfgB1AGkAWABBAC0ADQD7/+z/7P/m/9X/yP+4/7H/tv/K/9P/1//T/9f/zv/A/73/s/+z/6D/nf+R/4f/fv9+/5b/rv+5/7v/vP+z/7f/xv/U/+T/6P/5/wIABAAHAAsAEgAbABUAFwAtACsAKwA0AEwAaQCEAJgAkACBAHYAbgB2AIYAfwBwAGMAYwBvAHYAjgCRAIMAdwCAAHUAWgBGADwAQABCAEAAMgAmAB8AIwAsAC4ALwAiACsALQBDAGIAbgBvAG0AbQBeAEwANAAiABcA///r/+P/1f/F/7v/vP/J/9z/7v/3//P/5f/K/7n/sf+n/6L/pP+e/5T/e/9n/13/Sf83/y3/JP8g/yj/K/8n/yL/J/8q/yT/Jv8O//j+8/72/v3+CP8G//T+3P7T/t3+9/4b/yT/Jv87/0r/Vf9O/17/f/+e/73/xv/O/+b/AAAUAC0ANQAzADEANQBEAE4AYAB7AIUAgwCCAH8AggCVAKgAqQCdAJkAmgChAKwArQCtALAAmwB/AGkAbgB+AIUAhACKAIoAgQCCAIoAjgCbAJsAkwCIAHkAawBjAGgAcwBoAFQATQBJAEMAPQBKAGAAXQBTAFEATwBDADIAJwAlACwAKAArAC4AJAAYABAACgAIAAcACAAOABoAGQARAA4AFQAZAB0ADwAEAAYAAgAAAAQAEAANAP7/+f///xAAFwAYAAIA8//4//3//f/7//n/6f/h/+7/5//e/+j/9v8FAA0AAgD+/wEACAALABYAIQAYABUAHgAaACEAHwALAAgADAAjAEAATwBRAFcAXgBTAEwATQBKADgAMQAlAA4ABwAFAAoACQAHAP3/5//K/7j/t/++/8X/xP/C/6v/kf+U/5f/m/+b/5//j/90/1j/Q/82/y//Lv86/z3/Q/9O/1D/SP8+/y//I/8n/zb/N/8o/yT/Nf88/0X/Qv87/zr/Qv9d/4T/qv/N/+//+f/+/wsADwASAB8AJgAtADYAOQA4ADMAKQAqADQARQBPAFwAVgBFAEEATABnAIUAgQBpAFsAUwBNAFMAYABvAGoAZABZAEkAQwBQAFsAUgBJAFAAUQBWAFcAVwBSAFIAUQBMAEcAOQA3ADAAMAA7ADsAMQAvACkAIQAUAAIA/f8CAA0AEwAYABoAEQAIAAUA///p/+r/+P8BAAMAGAAtADYAPgBFADgAMgA+ADwALQAhAAsAAAADAA8ADwAVAB0AEQAAAPj/+f8AAA4ACwANAAQACwAPAAQA9//s//H/+f8FABsAIwAbAAYA9f/w/+v/4v/k/+3/6v/g/9//5P/z/////v8IAB8AIgAkADcAMgAhABEADQAWABYAIgAiABsAHgAgABoACQADAA4AHgAfACEAHgAYABUA///k/97/2f/o/+7/9v/2//T/9v/1/+//8v/w/+X/1f/N/9T/1P/H/8v/0P/Z/97/1v/b/9r/4//s//3/AAALACMAJQAXABUAGQAeACQALgAfABYAGQAOABIAIQAzADMAJwAcACMALwAtADYAMgAtACEAEgAKAAkABADx/9//yv+7/7z/uP+//8L/xf+z/6v/pP+Z/5X/kf+C/3D/dP9v/2f/bv90/2r/X/9d/1v/X/9//5n/o/+r/6//pP+e/6n/q/+//8//0P/P/83/1P/W/87/0P/e//f/AAAPACEAJwAtADUAPQBBAEIAPAA1ADcAPAA3ADUAKAAnACQAJwAqACIAJgAeABoAHQAiAC4AKAAXAAsAEAASABoAIQAbABQACAAEAA0AFAAjACkAMQAyAB8AGQAbABcAHwA9AFQAWgBdAGIAbABoAGgAYQBYAE8ASAA/ADsAOgAuABkAAAD0//7/+/8LABgAGQAeABgAGAAfAC8AKQApACgAJwAqAB4ABwACAAQABgASABIAFQASAAgABwAOAB0ALAApACgAFgANABgAEAAOAAcA+//x////CwAgACoAJQAcABUAHAAcAAwACgANAAsA+v/k/9v/1v/e//D/+P/x//D/7//v//L////6//X/9v/x//r/5v/Y/8X/t/+q/6T/sf/G/8r/vP+5/83/6v/9/wkABQD7//3/+P/x//j/9P/4//X/6f/n/+z/9f/8/wsAGQAuADcAJgAjACUAIwAiACMAEgAEAAAA+P/9/wcA///z//X/BgAKAAIA/P8AAAgABwD9//z//P/7//v/9P/v/+D/z/+4/6//q/+p/6r/pv+d/5D/hf96/3H/gf+X/6n/t/+1/6//o/+U/6D/rf+u/6//s/+8/8D/1v/u/wAAGAAqAEMATwBJAE4AMQAMAAYABQD9/xQALQA4AD8AOQBLAGIAbgBwAF8AVQBQAE0AVQBSAFAATgBNADwAJAAcAB8AEgAJAAcAFAAbAA4ACwATAB0AGAAIAO7/0f/E/8b/2//y////CAAcACUAGgAPABkAKAAvADgAPQA3AD4ANAAWAAcACAARACEAMABEAEsAVQBFADQAMwApACQALwAvADUAOwA4ACgAEwALAAkADgAQABwAGQAbABwADgADAP3/9//x/+P/5P/i/9T/tP+k/6D/l/+a/7D/wv/H/9H/1v/X/97/5//1//P//P///wwAHQAbAAwA+P/i/9j/6//0//H/8v/z/+b/y/+2/6z/u//U/+r/AAAlADMAJwAfABEACwAYACEALQAuACoACADl/9r/7f8FAAoACwAEAPf/7v/o/+7/AgAIAP///P/6//r//P8NABAABgD4//L/9P/r/+v/6f/a/8T/uv+1/6b/oP+V/4j/fv+C/4r/g/+E/5L/rP/H/87/zv/I/8P/tv+2/7//y//b/9X/2f/l//f/AQAHACoAUABcAGIAaQBmAG8AeQCCAH4AeQBvAF4ATQBUAFUARwBLAFsAYABhAFoAVgBQAEcARABHAFEAUQA3AC4AKwA4AFsAZABeAFcAOgAqAC0AHwATABIACADx/+7/9P/p/97/4//c/8z/vf+1/7D/q/+f/6f/vv/J/9L/y/+7/7H/sv+8/8n/xP+4/6n/s/+9/73/4P/1//3/+P/n/93/4v/k/+X/8P/+//r/8f/u//T/+P/7/wIABQD9/wUADgApAEMATQBIAEAAQgBNAFcATwBKAE0ASwBLAEwAQQA1ACMAEgAIAA8ACQAAAPr/7f/w//7/BAACAPr/4f/H/8f/xP/U/97/zP/O/9f/5P/v/9v/yv/C/9f/8P/7//j/5P/c/83/zf/I/8H/sP+j/6P/p/+3/8v/2f/z//z/BgASACUAIgARAAEA6f/h/+H/7P/y/wAAAwAAAA8AKwBCAGMAbgBxAGsAbACHAIgAjQCVAJMAjAB8AHkAdABxAGEATwBNAFgAbQBpAGUAUQA6AC8AJgATAA0ADwAGAPH/4f/U/8H/sP+t/7T/sv+3/8L/u/+o/5r/nP+Z/5H/hP+A/4b/gv+J/4z/jP+K/5j/pP+j/6D/qf/D/+D/8P/3//n/+//4//n/AwASABIAGAAtAD8ASQBLAD4ARABFAEAASQA4ADEAKwAkACEAIwAhAC0AQQBGAEQAQAAyABkA+f/i/+H/5//n/93/zf/B/8L/z//b/+X/4v/C/7H/tP+0/7//yv/I/9D/2P/Z/+H/6v/v/+r/4//j/+X/7f/1//////8AAAcAFgAcABYAFAAcACgAMwA8AEYAUgBZAFYARwA3ACkAIgAaABgAHAAkACkAMgA7ADoAOgA7ADQAKgAdABEADQAAAOX/z//C/7P/tf/D/7z/uv+3/6r/mP+T/5P/lv+b/6X/r/+0/7f/yP/X/9n/2f/n/+//8//4/wAABQAHABgAIwAxACkAMAA2ADcALwArACQAJAAdACEAKwA8AEgAUwBpAHEAewCEAH8AbwBSAEEAOwA0ADkARQBQAEQAPQAvACAAGgAQAAIAAAD+//z/AAABAPr/7//0/+3/1//E/7v/yP/Z/+D/0P/G/7r/rf+r/7z/vf/G/9z/4v/d/8j/v//F/9T/1f/Y/+r/6v/d/9f/0//g/+H/2f/f/+P/6P/h/9v/5P/q/+3///8HAAAA7v/r//P/CwAnAEYASwBLAFMAVQBMAD4AOgA8ADkAMwAyADYAPABMAEEAJgAeABsAGwAPABAAHgAnAC8AMAAgABYACgD9/9//0v/I/7n/t//G/8//0f/S/8n/xf/G/8f/vP+p/6z/qf+o/6//rf+3/87/3P/j/+b/6f/k/97/4v/y//r/AwAJAAUAAwAGAA8AEgAWAC0ANgA0ADQAMAAsAC8AIgAUABIAGQAhACoALwA0ADIAMgAyACYAGgAYAB4AIAAkACsANwAvADYAPgA3ADoAOwBDAEkARQA+ADAALQAhABQACwAUACAAIAAOAAQA+//3/9//y/+9/63/sf+3/6n/k/+L/4//lv+U/43/kf+Z/5j/nv+m/7v/1f/Y/9n/z//H/77/vv/H/8z/wP+8/8f/1//o////DAANABwAKwA3ADsARQBEAD0ANwA7AEAASQBjAGMAXwBXAEoASABIAEYASgBGAEgAPgA1ACwANABDAE4ARQA3ACgAGwAWAB4AFgAIAAAA9P/j/87/vP+r/6//vP/S/93/3P/S/9n/yv+7/8P/1f/h/+b/2//L/7f/s/+9/8r/3//r/+j/5P/s//P/AAAAAAQACwAQACAAMABFAE4AVABWAFsAYgBdAF0AaABoAHIAdgB9AHcAagBtAG8AcAB1AGcARwAjAA8ADQANABEAGgAWAA0A/v/x//D/6//p/+X/4P/T/9H/0v/K/77/wv/R/9L/yv+9/7D/sP+w/7//0f/X/9L/u/+y/7T/uv+7/7f/q/+g/5z/nf+x/8D/xv/J/9H/2//e/9f/zf/J/9b/4//n/9j/y//C/8D/y//t/wsAHwAVAPr/7v/r/+v/7v/2/wQAAgD0//D/7f/z//X/7v/f/+f/5P/U/9T/0f/X/+v/5//b/+D/2v/V/9//9P8JABMAEwAaACUAOgBFAEwAVgBVAFAAUwBaAFMASABJAFgAYgBzAHMAXQBNAEIAPQBKAE0ASwA+ADMAIQAQAA0AIgAuADUAPgA7AD0AQAA9ADoAOABBAEMAOAA3ADQAPQBFADoAQABTAEUAKAAhACQAGgD+/9j/tv+w/6z/of+c/6P/pP+J/3D/eP+L/5n/mP+Y/5T/lf+b/57/ov+q/8H/1f/o/+z/7P/w//X/7f/r/+//9/8PAC4ANgA8AD8ANgArACMAGwAXABsAGQARAAoADAALAAcA/P/v/+X/3v/e/97/3P/R/8b/z//X/83/yP/G/8r/y//W/+j/AgAJAAAAAwD6/+P/0//P/9b/3P/g/+X/8//7//j/9v8CABkAKwAuACUAKwA8AEoAVgBIADQANgA8AD8AVABaAFUATQBGAEkATABJAEMAOwA7ADwALgAjABwACgADAA8AHgA1AEEARwBHADIAFgAEAAYACAAIABMAFwARAAoA/////wwAGQAqACcAFQALAAwADAAQAA8ACgAIABAAGQAfABIA/P/t/+b/4f/i/93/2//M/7v/uf+5/7b/uf+y/7H/vv+9/8D/u/+y/6z/mv+M/5T/nf+Z/5f/lP+X/6T/uP/R/9n/5P/r/+H/zP+2/6X/p/+t/7j/yf/S/8//yP/K/9j/8f8SABEADwAWAA0AAQD8//j/+f8EAA8AEQAYACUAMgAtACEAKAAzADMANAAxADMAOwA9AE0AWwBoAGkAUgAvACYAMQAtABwAEAADAAUAAwD//wEADgAUABIAAAD+//X/5f/X/8L/rv+v/7n/v/+5/7r/yv/Y/+D/6v/0/wQAAgADAAgACAAAAPT/7//s//n/BAAIABUAJwA/AFgAWgBbAFoAVQBhAFoAQAA5ADsAPgAyAC8ALgAzADoAQABCAEUATABJADoAMgAkABIABwABAPz/AAAJABgAEgADAP7/CgARAAQABAALAAAA9f/y/+b/1P/O/8H/vP+5/7L/r/+x/7f/tf+0/8T/zf/U/+r//f8NABMACwAMAA8ADwD9//P/7//Y/9H/4v/6/wcABQADAAsAHgA0AEoAVgBTAEkAQABMAE4ASABEAEMAQgA9AEEAPQAjABMABwACAAkAFgAeAAYAAAAIAAUABgANAB8AKAAvACwAHQARAAgA+P/s/+7/7P/o/+X/3v/d/+f/7v/m/9P/wv+0/5n/kP+b/5n/kP+J/5n/uf/H/8b/yP/R/9v/3v/U/9f/3P/d/+D/2f/O/87/w//G/9H/3v/s//T/8v/h/9D/0P/Q/8v/t/+i/47/if+W/6j/v/+//6//qf+q/7P/xP/E/7v/vv/D/9H/3P/X/+L/3//t//7/BAAHAAsAFQAVABIAHAAnADcARwBZAFwAWwBnAGsAaQBxAGMAVABWAFcAWABWAEQAQwBQAGUAfwCHAJIAmwCSAIoAhwCRAJYAjgCEAHoAcQBmAFwAXABlAG4AbwBeAFcASwA1ABkADgAEAO//3//W/9X/x//A/7j/qv+l/6D/lv+g/6r/sf+8/83/5v/z////+//4//3/BgADAAQABAACAPT/5//s/+P/4v/t//D/8//2/wAADAAQABAACQAGABUAHgAjABoAEgAWABwADAD3/+//8/8EAA8AGQASABYADgAOABUADAABAPf/6f/m/+3/+v/3//X//f8AAA0AEgAbACQAIQAaAP//5P/W/8n/u/+9/7//y//O/8n/xv+6/7f/tP+r/6r/q/+v/8X/zv/H/7L/vP/I/8v/1P/g/9//1f/D/7r/xv/Z/+j/9/8EAAUA/f/2//r//f///xIALQAvACQAFAALABIACAD6//b//v8DAAAACQAMAA8AEgArAD0APAAxACoAJwApAB8AHwAqACsAJwAfABIAAAAHAAcABQABAPT/8//z/wEAAADr/+T/6P/V/9T/5P/d/9D/z//Z/9r/2v/i/+n/8P///wEAFAA4AD8AOwAwAB8AEAAMAAsAAAD///D/zv/J/9H/zf/M/9D/y//U/+3/8v/8/w8AGwAjACsAOAA6ADIALQAkABkAEQAKAAkADgAXABwAHgAQAAwAJQAmACoANAAxACcAHAAIAAEABgAEAAIA5v/a/9f/0f/M/8v/xv/M/9D/1//d/9b/0v/S/+D/4//V/8r/y//O/8P/xP/A/7v/pv+U/5H/mP+e/5H/jv+Y/6z/u//T/97/4v/l//P/9v/2/wYAFgAiAC0AMABFAEEAQwA+AD0ATABfAF4AXwBqAGoAaABqAHoAmQCoAKsAoQCgAJwAqAC6AMIAyADNAM0A1gDfANoAyAC9AKwAoQCmAJsAkQCJAIkAhwByAFwATQA4ADAALQAvAC4AIAD9/9P/sf+c/5T/k/94/2P/Wf9W/1v/Yv9e/17/Yv9h/2v/Zf9l/1z/Wv9P/0r/Pf8w/yj/J/8x/z//Uv9e/2H/b/9x/3z/kf+j/7j/0f/G/77/vf/C/9D/0f/Y/9L/1P/V/9T/2v/n/+n/3f/f/9P/1//j/+r/3f/x/w8AHwAxAD8AQwBEAEcARQBKAF0AZgBlAFkAVwBVAGEAZwBjAFQAVABaAGsAewCPAIYAeABoAGQAYwBlAGYAVgBQAFoAYABvAG0AXwAPAPv/AgAAAAMAAgADAP///v///wAAAAD//wEAAQABAAIAAgAAAP//AAAAAAEAAQAAAAAAAgABAAEA//8AAAAAAAABAAAA//8AAAEAAAAAAAAAAAAAAAAA//8AAAAA/v/+////AgABAP///v8AAAEA//8BAP7//f/+/wAA/v/+//7/AAA=\" type=\"audio/wav\" />\n",
       "                    Your browser does not support the audio element.\n",
       "                </audio>\n",
       "              "
      ],
      "text/plain": [
       "<IPython.lib.display.Audio object>"
      ]
     },
     "execution_count": 13,
     "metadata": {},
     "output_type": "execute_result"
    }
   ],
   "source": [
    "#sample sounds\n",
    "import IPython.display as ipd\n",
    "import numpy as np\n",
    "import random\n",
    "\n",
    "rand_int = random.randint(0, len(speech_datasets[\"train\"]))\n",
    "print(speech_datasets[\"train\"][rand_int][\"target_text\"])\n",
    "ipd.Audio(data=np.asarray(speech_datasets[\"train\"][rand_int][\"speech\"]), autoplay=True, rate=16000)"
   ]
  },
  {
   "cell_type": "markdown",
   "metadata": {},
   "source": [
    "Then we prepare `input_values` using processor and labels using `target_text`."
   ]
  },
  {
   "cell_type": "code",
   "execution_count": 14,
   "metadata": {},
   "outputs": [],
   "source": [
    "def prepare_dataset(batch):\n",
    "    # check that all files have the correct sampling rate\n",
    "    assert (\n",
    "        len(set(batch[\"sampling_rate\"])) == 1\n",
    "    ), f\"Make sure all inputs have the same sampling rate of {processor.feature_extractor.sampling_rate}.\"\n",
    "\n",
    "    batch[\"input_values\"] = processor(batch[\"speech\"], sampling_rate=batch[\"sampling_rate\"][0]).input_values\n",
    "    \n",
    "    with processor.as_target_processor():\n",
    "        batch[\"labels\"] = processor(batch[\"target_text\"]).input_ids\n",
    "    return batch"
   ]
  },
  {
   "cell_type": "code",
   "execution_count": 15,
   "metadata": {},
   "outputs": [
    {
     "name": "stderr",
     "output_type": "stream",
     "text": [
      "Loading cached processed dataset at /root/.cache/huggingface/datasets/common_voice/th/7.0.0/14bf435a174687b310ed94f56abf0198f6cc7efb5a5d945c22c83113eab67701/cache-5ea281425e5c2dbd.arrow\n",
      "Loading cached processed dataset at /root/.cache/huggingface/datasets/common_voice/th/7.0.0/14bf435a174687b310ed94f56abf0198f6cc7efb5a5d945c22c83113eab67701/cache-0e0d3efc7a7b2ce0.arrow\n",
      "Loading cached processed dataset at /root/.cache/huggingface/datasets/common_voice/th/7.0.0/14bf435a174687b310ed94f56abf0198f6cc7efb5a5d945c22c83113eab67701/cache-90db8f9574eb9f18.arrow\n"
     ]
    }
   ],
   "source": [
    "prepared_datasets = speech_datasets.map(prepare_dataset, \n",
    "                                        remove_columns=speech_datasets.column_names[\"train\"], \n",
    "                                        batch_size=16,\n",
    "                                        batched=True)"
   ]
  },
  {
   "cell_type": "code",
   "execution_count": 31,
   "metadata": {},
   "outputs": [],
   "source": [
    "# credentials = pd.read_csv('../data/rootkey.csv',header=None)\n",
    "# aws_access_key_id = credentials.iloc[0,0].split('=')[-1]\n",
    "# aws_secret_access_key = credentials.iloc[1,0].split('=')[-1]\n",
    "# s3 = S3FileSystem(key=aws_access_key_id, secret=aws_secret_access_key)  \n",
    "# prepared_datasets.save_to_disk('s3://sagemaker-studio-g2rfihg7k9q/wav2vec2-large-xlsr-th/', fs=s3)  \n",
    "# !aws s3 ls --summarize --human-readable --recursive s3://sagemaker-studio-g2rfihg7k9q/wav2vec2-large-xlsr-th/"
   ]
  },
  {
   "cell_type": "code",
   "execution_count": null,
   "metadata": {},
   "outputs": [],
   "source": [
    "# credentials = pd.read_csv('../data/rootkey.csv',header=None)\n",
    "# aws_access_key_id = credentials.iloc[0,0].split('=')[-1]\n",
    "# aws_secret_access_key = credentials.iloc[1,0].split('=')[-1]\n",
    "# s3 = S3FileSystem(key=aws_access_key_id, secret=aws_secret_access_key)  \n",
    "# prepared_datasets = load_from_disk('s3://sagemaker-studio-g2rfihg7k9q/wav2vec2-large-xlsr-th/', fs=s3)"
   ]
  },
  {
   "cell_type": "code",
   "execution_count": 16,
   "metadata": {},
   "outputs": [
    {
     "data": {
      "text/plain": [
       "DatasetDict({\n",
       "    train: Dataset({\n",
       "        features: ['input_values', 'labels'],\n",
       "        num_rows: 23332\n",
       "    })\n",
       "    test: Dataset({\n",
       "        features: ['input_values', 'labels'],\n",
       "        num_rows: 9709\n",
       "    })\n",
       "    validation: Dataset({\n",
       "        features: ['input_values', 'labels'],\n",
       "        num_rows: 9711\n",
       "    })\n",
       "})"
      ]
     },
     "execution_count": 16,
     "metadata": {},
     "output_type": "execute_result"
    }
   ],
   "source": [
    "prepared_datasets"
   ]
  },
  {
   "cell_type": "markdown",
   "metadata": {},
   "source": [
    "## Training"
   ]
  },
  {
   "cell_type": "markdown",
   "metadata": {},
   "source": [
    "### Data Collator"
   ]
  },
  {
   "cell_type": "code",
   "execution_count": 17,
   "metadata": {},
   "outputs": [],
   "source": [
    "import torch\n",
    "\n",
    "from dataclasses import dataclass, field\n",
    "from typing import Any, Dict, List, Optional, Union\n",
    "\n",
    "@dataclass\n",
    "class DataCollatorCTCWithPadding:\n",
    "    \"\"\"\n",
    "    Data collator that will dynamically pad the inputs received.\n",
    "    Args:\n",
    "        processor (:class:`~transformers.Wav2Vec2Processor`)\n",
    "            The processor used for proccessing the data.\n",
    "        padding (:obj:`bool`, :obj:`str` or :class:`~transformers.tokenization_utils_base.PaddingStrategy`, `optional`, defaults to :obj:`True`):\n",
    "            Select a strategy to pad the returned sequences (according to the model's padding side and padding index)\n",
    "            among:\n",
    "            * :obj:`True` or :obj:`'longest'`: Pad to the longest sequence in the batch (or no padding if only a single\n",
    "              sequence if provided).\n",
    "            * :obj:`'max_length'`: Pad to a maximum length specified with the argument :obj:`max_length` or to the\n",
    "              maximum acceptable input length for the model if that argument is not provided.\n",
    "            * :obj:`False` or :obj:`'do_not_pad'` (default): No padding (i.e., can output a batch with sequences of\n",
    "              different lengths).\n",
    "        max_length (:obj:`int`, `optional`):\n",
    "            Maximum length of the ``input_values`` of the returned list and optionally padding length (see above).\n",
    "        max_length_labels (:obj:`int`, `optional`):\n",
    "            Maximum length of the ``labels`` returned list and optionally padding length (see above).\n",
    "        pad_to_multiple_of (:obj:`int`, `optional`):\n",
    "            If set will pad the sequence to a multiple of the provided value.\n",
    "            This is especially useful to enable the use of Tensor Cores on NVIDIA hardware with compute capability >=\n",
    "            7.5 (Volta).\n",
    "    \"\"\"\n",
    "\n",
    "    processor: Wav2Vec2Processor\n",
    "    padding: Union[bool, str] = True\n",
    "    max_length: Optional[int] = None\n",
    "    max_length_labels: Optional[int] = None\n",
    "    pad_to_multiple_of: Optional[int] = None\n",
    "    pad_to_multiple_of_labels: Optional[int] = None\n",
    "\n",
    "    def __call__(self, features: List[Dict[str, Union[List[int], torch.Tensor]]]) -> Dict[str, torch.Tensor]:\n",
    "        # split inputs and labels since they have to be of different lenghts and need\n",
    "        # different padding methods\n",
    "        input_features = [{\"input_values\": feature[\"input_values\"]} for feature in features]\n",
    "        label_features = [{\"input_ids\": feature[\"labels\"]} for feature in features]\n",
    "\n",
    "        batch = self.processor.pad(\n",
    "            input_features,\n",
    "            padding=self.padding,\n",
    "            max_length=self.max_length,\n",
    "            pad_to_multiple_of=self.pad_to_multiple_of,\n",
    "            return_tensors=\"pt\",\n",
    "        )\n",
    "        with self.processor.as_target_processor():\n",
    "            labels_batch = self.processor.pad(\n",
    "                label_features,\n",
    "                padding=self.padding,\n",
    "                max_length=self.max_length_labels,\n",
    "                pad_to_multiple_of=self.pad_to_multiple_of_labels,\n",
    "                return_tensors=\"pt\",\n",
    "            )\n",
    "\n",
    "        # replace padding with -100 to ignore loss correctly\n",
    "        labels = labels_batch[\"input_ids\"].masked_fill(labels_batch.attention_mask.ne(1), -100)\n",
    "\n",
    "        batch[\"labels\"] = labels\n",
    "\n",
    "        return batch"
   ]
  },
  {
   "cell_type": "code",
   "execution_count": 18,
   "metadata": {},
   "outputs": [],
   "source": [
    "data_collator = DataCollatorCTCWithPadding(processor=processor, padding=True)"
   ]
  },
  {
   "cell_type": "markdown",
   "metadata": {},
   "source": [
    "### Metric"
   ]
  },
  {
   "cell_type": "markdown",
   "metadata": {},
   "source": [
    "We use word error rate with space as word boundary. We created those spaces using `pythainlp.tokenize.word_tokenize` (2.3.1). We also use character error rate without word boundaries."
   ]
  },
  {
   "cell_type": "code",
   "execution_count": 55,
   "metadata": {},
   "outputs": [
    {
     "data": {
      "application/vnd.jupyter.widget-view+json": {
       "model_id": "57ec8593c8334c17a3e5068263ffb336",
       "version_major": 2,
       "version_minor": 0
      },
      "text/plain": [
       "Downloading:   0%|          | 0.00/1.95k [00:00<?, ?B/s]"
      ]
     },
     "metadata": {},
     "output_type": "display_data"
    }
   ],
   "source": [
    "wer_metric = load_metric(\"wer\")"
   ]
  },
  {
   "cell_type": "code",
   "execution_count": 56,
   "metadata": {},
   "outputs": [
    {
     "data": {
      "text/plain": [
       "0.5"
      ]
     },
     "execution_count": 56,
     "metadata": {},
     "output_type": "execute_result"
    }
   ],
   "source": [
    "wer_metric.compute(predictions=['สวัสดี ค่า ทุก โคน'],references=['สวัสดี ค่ะ ทุก คน'])"
   ]
  },
  {
   "cell_type": "code",
   "execution_count": 58,
   "metadata": {},
   "outputs": [
    {
     "data": {
      "application/vnd.jupyter.widget-view+json": {
       "model_id": "83cb9ed013c6478088bef34d86e3ff1d",
       "version_major": 2,
       "version_minor": 0
      },
      "text/plain": [
       "Downloading:   0%|          | 0.00/1.91k [00:00<?, ?B/s]"
      ]
     },
     "metadata": {},
     "output_type": "display_data"
    }
   ],
   "source": [
    "cer_metric = load_metric('cer')"
   ]
  },
  {
   "cell_type": "code",
   "execution_count": 62,
   "metadata": {},
   "outputs": [
    {
     "data": {
      "text/plain": [
       "0.11764705882352941"
      ]
     },
     "execution_count": 62,
     "metadata": {},
     "output_type": "execute_result"
    }
   ],
   "source": [
    "cer_metric.compute(predictions=['สวัสดี ค่า ทุก โคน'],references=['สวัสดี ค่ะ ทุก คน'])"
   ]
  },
  {
   "cell_type": "code",
   "execution_count": 63,
   "metadata": {},
   "outputs": [
    {
     "data": {
      "text/plain": [
       "0.14285714285714285"
      ]
     },
     "execution_count": 63,
     "metadata": {},
     "output_type": "execute_result"
    }
   ],
   "source": [
    "cer_metric.compute(predictions=['สวัสดีค่าทุกโคน'],references=['สวัสดีค่ะทุกคน'])"
   ]
  },
  {
   "cell_type": "code",
   "execution_count": 64,
   "metadata": {},
   "outputs": [],
   "source": [
    "def compute_metrics(pred):\n",
    "    pred_logits = pred.predictions\n",
    "    pred_ids = np.argmax(pred_logits, axis=-1)\n",
    "\n",
    "    pred.label_ids[pred.label_ids == -100] = processor.tokenizer.pad_token_id\n",
    "\n",
    "    pred_str = processor.batch_decode(pred_ids)\n",
    "    # we do not want to group tokens when computing the metrics\n",
    "    label_str = processor.batch_decode(pred.label_ids, group_tokens=False)\n",
    "\n",
    "    wer = wer_metric.compute(predictions=pred_str, references=label_str)\n",
    "\n",
    "    return {\"wer\": wer}"
   ]
  },
  {
   "cell_type": "markdown",
   "metadata": {},
   "source": [
    "### Model"
   ]
  },
  {
   "cell_type": "markdown",
   "metadata": {},
   "source": [
    "We use the pretrained `facebook/wav2vec2-large-xlsr-53`. The training script is `scripts/wav2vec_finetune.py`."
   ]
  },
  {
   "cell_type": "code",
   "execution_count": 22,
   "metadata": {},
   "outputs": [
    {
     "name": "stderr",
     "output_type": "stream",
     "text": [
      "Some weights of the model checkpoint at facebook/wav2vec2-large-xlsr-53 were not used when initializing Wav2Vec2ForCTC: ['project_hid.weight', 'quantizer.weight_proj.bias', 'quantizer.codevectors', 'project_hid.bias', 'project_q.bias', 'project_q.weight', 'quantizer.weight_proj.weight']\n",
      "- This IS expected if you are initializing Wav2Vec2ForCTC from the checkpoint of a model trained on another task or with another architecture (e.g. initializing a BertForSequenceClassification model from a BertForPreTraining model).\n",
      "- This IS NOT expected if you are initializing Wav2Vec2ForCTC from the checkpoint of a model that you expect to be exactly identical (initializing a BertForSequenceClassification model from a BertForSequenceClassification model).\n",
      "Some weights of Wav2Vec2ForCTC were not initialized from the model checkpoint at facebook/wav2vec2-large-xlsr-53 and are newly initialized: ['lm_head.weight', 'lm_head.bias']\n",
      "You should probably TRAIN this model on a down-stream task to be able to use it for predictions and inference.\n"
     ]
    }
   ],
   "source": [
    "model = Wav2Vec2ForCTC.from_pretrained(\n",
    "    \"facebook/wav2vec2-large-xlsr-53\",\n",
    "    attention_dropout=0.1,\n",
    "    hidden_dropout=0.1,\n",
    "    feat_proj_dropout=0.0,\n",
    "    mask_time_prob=0.05,\n",
    "    layerdrop=0.1,\n",
    "    gradient_checkpointing=True,\n",
    "    ctc_loss_reduction=\"mean\",\n",
    "    pad_token_id=processor.tokenizer.pad_token_id,\n",
    "    vocab_size=len(processor.tokenizer)\n",
    ")"
   ]
  },
  {
   "cell_type": "markdown",
   "metadata": {},
   "source": [
    "We do not finetune the feature extractor layer."
   ]
  },
  {
   "cell_type": "code",
   "execution_count": 23,
   "metadata": {},
   "outputs": [],
   "source": [
    "model.freeze_feature_extractor()"
   ]
  },
  {
   "cell_type": "code",
   "execution_count": 26,
   "metadata": {},
   "outputs": [],
   "source": [
    "training_args = TrainingArguments(\n",
    "    output_dir=\"../data/wav2vec2-large-xlsr-53-thai\",\n",
    "    group_by_length=True,\n",
    "    per_device_train_batch_size=32,\n",
    "    gradient_accumulation_steps=1,\n",
    "    per_device_eval_batch_size=16,\n",
    "    metric_for_best_model='wer',\n",
    "    evaluation_strategy=\"steps\",\n",
    "    eval_steps=1000,\n",
    "    logging_strategy=\"steps\",\n",
    "    logging_steps=1000,\n",
    "    save_strategy=\"steps\",\n",
    "    save_steps=1000,\n",
    "    num_train_epochs=100,\n",
    "    fp16=True,\n",
    "    learning_rate=1e-4,\n",
    "    warmup_steps=1000,\n",
    "    save_total_limit=3,\n",
    "    report_to=\"tensorboard\"\n",
    ")"
   ]
  },
  {
   "cell_type": "code",
   "execution_count": 27,
   "metadata": {},
   "outputs": [
    {
     "name": "stderr",
     "output_type": "stream",
     "text": [
      "Using amp fp16 backend\n"
     ]
    }
   ],
   "source": [
    "trainer = Trainer(\n",
    "    model=model,\n",
    "    data_collator=data_collator,\n",
    "    args=training_args,\n",
    "    compute_metrics=compute_metrics,\n",
    "    train_dataset=prepared_datasets[\"train\"],\n",
    "    eval_dataset=prepared_datasets[\"validation\"],\n",
    "    tokenizer=processor.feature_extractor,\n",
    ")"
   ]
  },
  {
   "cell_type": "code",
   "execution_count": 65,
   "metadata": {},
   "outputs": [],
   "source": [
    "trainer.train()"
   ]
  },
  {
   "cell_type": "markdown",
   "metadata": {},
   "source": [
    "## Inference and Evaluation"
   ]
  },
  {
   "cell_type": "markdown",
   "metadata": {},
   "source": [
    "We load the test split, re-splitted from the official Common Voice in order to 1) avoid data leakage from random sampling done on the official splits and 2) increase training set size according to [ekapolc/Thai_commonvoice_split](https://github.com/ekapolc/Thai_commonvoice_split)."
   ]
  },
  {
   "cell_type": "code",
   "execution_count": 4,
   "metadata": {},
   "outputs": [
    {
     "name": "stderr",
     "output_type": "stream",
     "text": [
      "Reusing dataset common_voice (/home/ec2-user/.cache/huggingface/datasets/common_voice/th/7.0.0/14bf435a174687b310ed94f56abf0198f6cc7efb5a5d945c22c83113eab67701)\n"
     ]
    },
    {
     "data": {
      "text/plain": [
       "Dataset({\n",
       "    features: ['path', 'sentence'],\n",
       "    num_rows: 2502\n",
       "})"
      ]
     },
     "execution_count": 4,
     "metadata": {},
     "output_type": "execute_result"
    }
   ],
   "source": [
    "test_dataset = load_dataset(\"../scripts/th_common_voice_70.py\", \"th\", split=\"test\")\n",
    "test_dataset"
   ]
  },
  {
   "cell_type": "markdown",
   "metadata": {},
   "source": [
    "Load pretrained model and processor to process the test dataset."
   ]
  },
  {
   "cell_type": "code",
   "execution_count": 69,
   "metadata": {},
   "outputs": [
    {
     "data": {
      "application/vnd.jupyter.widget-view+json": {
       "model_id": "80757d220924421aaf7d4d6fe8938b41",
       "version_major": 2,
       "version_minor": 0
      },
      "text/plain": [
       "Downloading:   0%|          | 0.00/215 [00:00<?, ?B/s]"
      ]
     },
     "metadata": {},
     "output_type": "display_data"
    },
    {
     "name": "stderr",
     "output_type": "stream",
     "text": [
      "Special tokens have been added in the vocabulary, make sure the associated word embeddings are fine-tuned or trained.\n"
     ]
    },
    {
     "data": {
      "application/vnd.jupyter.widget-view+json": {
       "model_id": "21e64489dcdc40f2958bd1da21588b3f",
       "version_major": 2,
       "version_minor": 0
      },
      "text/plain": [
       "Downloading:   0%|          | 0.00/1.84k [00:00<?, ?B/s]"
      ]
     },
     "metadata": {},
     "output_type": "display_data"
    },
    {
     "data": {
      "application/vnd.jupyter.widget-view+json": {
       "model_id": "6bb29d8bae5348058fbb648847a66c9f",
       "version_major": 2,
       "version_minor": 0
      },
      "text/plain": [
       "Downloading:   0%|          | 0.00/1.26G [00:00<?, ?B/s]"
      ]
     },
     "metadata": {},
     "output_type": "display_data"
    }
   ],
   "source": [
    "processor = Wav2Vec2Processor.from_pretrained(\"airesearch/wav2vec2-large-xlsr-53-th\")\n",
    "model = Wav2Vec2ForCTC.from_pretrained(\"airesearch/wav2vec2-large-xlsr-53-th\")"
   ]
  },
  {
   "cell_type": "code",
   "execution_count": 70,
   "metadata": {},
   "outputs": [
    {
     "data": {
      "application/vnd.jupyter.widget-view+json": {
       "model_id": "8982dbdfb17f49b5b93039cf3d58efb2",
       "version_major": 2,
       "version_minor": 0
      },
      "text/plain": [
       "  0%|          | 0/2502 [00:00<?, ?ex/s]"
      ]
     },
     "metadata": {},
     "output_type": "display_data"
    }
   ],
   "source": [
    "def speech_file_to_array_fn(batch, \n",
    "                            text_col=\"sentence\", \n",
    "                            fname_col=\"path\",\n",
    "                            resampling_to=16000):\n",
    "    speech_array, sampling_rate = torchaudio.load(batch[fname_col])\n",
    "    resampler=torchaudio.transforms.Resample(sampling_rate, resampling_to)\n",
    "    batch[\"speech\"] = resampler(speech_array)[0].numpy()\n",
    "    batch[\"sampling_rate\"] = resampling_to\n",
    "    batch[\"target_text\"] = batch[text_col]\n",
    "    return batch\n",
    "\n",
    "test_dataset = test_dataset.map(speech_file_to_array_fn)\n",
    "inputs = processor(test_dataset[\"speech\"][:2], sampling_rate=16_000, return_tensors=\"pt\", padding=True)"
   ]
  },
  {
   "cell_type": "markdown",
   "metadata": {},
   "source": [
    "### Infer a few examples"
   ]
  },
  {
   "cell_type": "code",
   "execution_count": 73,
   "metadata": {},
   "outputs": [
    {
     "name": "stdout",
     "output_type": "stream",
     "text": [
      "Prediction: ['และ เขา ก็ สัมผัส ดีบุก', 'คุณ สามารถ รับทราบ เมื่อ ข้อความ นี้ ถูก อ่าน แล้ว']\n",
      "Reference: ['และเขาก็สัมผัสดีบุก', 'คุณสามารถรับทราบเมื่อข้อความนี้ถูกอ่านแล้ว']\n"
     ]
    }
   ],
   "source": [
    "with torch.no_grad():\n",
    "    logits = model(inputs.input_values,).logits\n",
    "\n",
    "predicted_ids = torch.argmax(logits, dim=-1)\n",
    "\n",
    "print(\"Prediction:\", processor.batch_decode(predicted_ids))\n",
    "print(\"Reference:\", test_dataset[\"sentence\"][:2])"
   ]
  },
  {
   "cell_type": "markdown",
   "metadata": {},
   "source": [
    "### Evaluate on test set"
   ]
  },
  {
   "cell_type": "markdown",
   "metadata": {},
   "source": [
    "We evaluate the test set on WER with PyThaiNLP 2.3.1 word boundaries and CER without spaces."
   ]
  },
  {
   "cell_type": "code",
   "execution_count": 5,
   "metadata": {},
   "outputs": [],
   "source": [
    "def evaluate(batch):\n",
    "    device = \"cuda\" if torch.cuda.is_available() else \"cpu\"\n",
    "    inputs = processor(batch[\"speech\"], sampling_rate=16_000, return_tensors=\"pt\", padding=True)\n",
    "\n",
    "    with torch.no_grad():\n",
    "        logits = model(inputs.input_values.to(device),).logits\n",
    "\n",
    "    pred_ids = torch.argmax(logits, dim=-1)\n",
    "    batch[\"pred_sentence\"] = processor.batch_decode(pred_ids)\n",
    "    return batch\n",
    "\n",
    "wer_metric = load_metric(\"wer\")\n",
    "cer_metric = load_metric(\"cer\")"
   ]
  },
  {
   "cell_type": "code",
   "execution_count": 28,
   "metadata": {},
   "outputs": [],
   "source": [
    "# result = test_dataset.map(evaluate, batched=True, batch_size=8)\n",
    "# result_df = pd.DataFrame({'sentence':result['sentence'].replace(' ',''), \n",
    "#                            'pred_sentence_tok': result['pred_sentence'].replace(' ','')})\n",
    "# result_df['sentence_tok'] = result_df.sentence.map(lambda x: ' '.join(word_tokenize(x)))\n",
    "# result_df['pred_sentence'] = result_df.pred_sentence_tok.map(lambda x: ''.join(x.split()))\n",
    "# #change tokenization to fit pythainlp tokenization\n",
    "# result_df['pred_sentence_tok'] = result_df.pred_sentence.map(lambda x: ' '.join(word_tokenize(x)))\n",
    "\n",
    "# from pythainlp.spell import spell_sent\n",
    "\n",
    "# result_df['pred_sentence_tok_corrected'] = result_df['pred_sentence_tok']\\\n",
    "#     .map(lambda x: ' '.join(spell_sent(x.split(), engine='sympellpy')[0]))\n",
    "# result_df['pred_sentence_corrected'] = result_df['pred_sentence_tok_corrected']\\\n",
    "#     .map(lambda x: ''.join(x.split()))\n",
    "# result_df['pred_sentence_tok_corrected'] = result_df.pred_sentence_corrected.map(lambda x: ' '.join(word_tokenize(x)))\n",
    "\n",
    "# result_df.to_csv('artifacts/result_cv70.csv',index=False)"
   ]
  },
  {
   "cell_type": "code",
   "execution_count": 25,
   "metadata": {},
   "outputs": [
    {
     "data": {
      "text/html": [
       "<div>\n",
       "<style scoped>\n",
       "    .dataframe tbody tr th:only-of-type {\n",
       "        vertical-align: middle;\n",
       "    }\n",
       "\n",
       "    .dataframe tbody tr th {\n",
       "        vertical-align: top;\n",
       "    }\n",
       "\n",
       "    .dataframe thead th {\n",
       "        text-align: right;\n",
       "    }\n",
       "</style>\n",
       "<table border=\"1\" class=\"dataframe\">\n",
       "  <thead>\n",
       "    <tr style=\"text-align: right;\">\n",
       "      <th></th>\n",
       "      <th>sentence</th>\n",
       "      <th>pred_sentence_tok</th>\n",
       "      <th>sentence_tok</th>\n",
       "      <th>pred_sentence</th>\n",
       "      <th>pred_sentence_tok_corrected</th>\n",
       "      <th>pred_sentence_corrected</th>\n",
       "    </tr>\n",
       "  </thead>\n",
       "  <tbody>\n",
       "    <tr>\n",
       "      <th>0</th>\n",
       "      <td>และเขาก็สัมผัสดีบุก</td>\n",
       "      <td>และ เขา ก็ สัมผัส ดีบุก</td>\n",
       "      <td>และ เขา ก็ สัมผัส ดีบุก</td>\n",
       "      <td>และเขาก็สัมผัสดีบุก</td>\n",
       "      <td>และ เขา ก็ สัมผัส ดีบุก</td>\n",
       "      <td>และเขาก็สัมผัสดีบุก</td>\n",
       "    </tr>\n",
       "    <tr>\n",
       "      <th>1</th>\n",
       "      <td>คุณสามารถรับทราบเมื่อข้อความนี้ถูกอ่านแล้ว</td>\n",
       "      <td>คุณ สามารถ รับทราบ เมื่อ ป้อ ความ นี้ ถูก อ่าน...</td>\n",
       "      <td>คุณ สามารถ รับทราบ เมื่อ ข้อความ นี้ ถูก อ่าน ...</td>\n",
       "      <td>คุณสามารถรับทราบเมื่อป้อความนี้ถูกอ่านแล้ว</td>\n",
       "      <td>คุณ สามารถ รับทราบ เมื่อ ข้อความ นี้ ถูก อ่าน ...</td>\n",
       "      <td>คุณสามารถรับทราบเมื่อข้อความนี้ถูกอ่านแล้ว</td>\n",
       "    </tr>\n",
       "    <tr>\n",
       "      <th>2</th>\n",
       "      <td>คืนนี้ฉันต้องทำให้ได้เธอพูดกับตัวเองฉันต้องทำใ...</td>\n",
       "      <td>คืนนี้ ฉัน ต้อง ทำ ให้ได้ เธอ พูด กับ ตัวเอง ฉ...</td>\n",
       "      <td>คืนนี้ ฉัน ต้อง ทำ ให้ได้ เธอ พูด กับ ตัวเอง ฉ...</td>\n",
       "      <td>คืนนี้ฉันต้องทำให้ได้เธอพูดกับตัวเองฉันต้องทำใ...</td>\n",
       "      <td>วันนี้ ฉัน ต้อง ทำให้ได้ เธอ พูด กับ ตัวเอง ฉั...</td>\n",
       "      <td>วันนี้ฉันต้องทำให้ได้เธอพูดกับตัวเองฉันต้องทำใ...</td>\n",
       "    </tr>\n",
       "    <tr>\n",
       "      <th>3</th>\n",
       "      <td>การทำเช่นนี้จะทำให้แผ่นถ่ายภาพเกิดแสงฟลูออเรสเ...</td>\n",
       "      <td>การ ทำ เช่นนี้ จะ ทำให้ แผ่น ถ่ายภาพ เกิด แสง ...</td>\n",
       "      <td>การ ทำ เช่นนี้ จะ ทำให้ แผ่น ถ่ายภาพ เกิด แสง ...</td>\n",
       "      <td>การทำเช่นนี้จะทำให้แผ่นถ่ายภาพเกิดแสงปัวอเรสเซนซ์</td>\n",
       "      <td>การ ทำ เช่นนี้ จะ ทำให้ แผ่น ถ่ายภาพ เกิด แสง ...</td>\n",
       "      <td>การทำเช่นนี้จะทำให้แผ่นถ่ายภาพเกิดแสงปัวขอเรสเ...</td>\n",
       "    </tr>\n",
       "    <tr>\n",
       "      <th>4</th>\n",
       "      <td>ผู้ปกครองของฉันไม่สนใจความเห็นนี้อย่างละเอียดอ...</td>\n",
       "      <td>ผู้ปกครอง ของ ฉัน ไม่ สนใจ ความเห็น นี้ อย่าง ...</td>\n",
       "      <td>ผู้ปกครอง ของ ฉัน ไม่ สนใจ ความเห็น นี้ อย่าง ...</td>\n",
       "      <td>ผู้ปกครองของฉันไม่สนใจความเห็นนี้อย่างละเอียดอ...</td>\n",
       "      <td>ผู้ปกครอง ของ ฉัน ไม่ สนใจ ความเร็ว นี้ อย่าง ...</td>\n",
       "      <td>ผู้ปกครองของฉันไม่สนใจความเร็วนี้อย่างละเอียดอ...</td>\n",
       "    </tr>\n",
       "    <tr>\n",
       "      <th>...</th>\n",
       "      <td>...</td>\n",
       "      <td>...</td>\n",
       "      <td>...</td>\n",
       "      <td>...</td>\n",
       "      <td>...</td>\n",
       "      <td>...</td>\n",
       "    </tr>\n",
       "    <tr>\n",
       "      <th>2497</th>\n",
       "      <td>ใครสนใจไปเรียนได้ฟรีวันละชั่วโมงสัปดาห์เดียวก็จบ</td>\n",
       "      <td>ใคร สนใจ ไป เลียน ได้ ฟรี วัน ละ ชั่วโมง สัปดา...</td>\n",
       "      <td>ใคร สนใจ ไป เรียน ได้ ฟรี วัน ละ ชั่วโมง สัปดา...</td>\n",
       "      <td>ใครสนใจไปเลียนได้ฟรีวันละชั่วโมงสัปดาห์เดียวก็จบ</td>\n",
       "      <td>ใคร สนใจ ไป เลียน ได้ ฟรี วัน ละ ชั่วโมง สัปดา...</td>\n",
       "      <td>ใครสนใจไปเลียนได้ฟรีวันละชั่วโมงสัปดาห์เดียวก็จบ</td>\n",
       "    </tr>\n",
       "    <tr>\n",
       "      <th>2498</th>\n",
       "      <td>หรือในกรณีตั้งครรภ์เมื่ออายุเกิน</td>\n",
       "      <td>หรือ ใน กรณี ตั้งครรภ์ เมื่อ อายุ เกิน</td>\n",
       "      <td>หรือ ใน กรณี ตั้งครรภ์ เมื่อ อายุ เกิน</td>\n",
       "      <td>หรือในกรณีตั้งครรภ์เมื่ออายุเกิน</td>\n",
       "      <td>หรือ ใน กรณี ตั้งครรภ์ เมื่อ อายุ เกิน</td>\n",
       "      <td>หรือในกรณีตั้งครรภ์เมื่ออายุเกิน</td>\n",
       "    </tr>\n",
       "    <tr>\n",
       "      <th>2499</th>\n",
       "      <td>ก่อนสเต็ปนั้น</td>\n",
       "      <td>ก่อน จะ เต็จ นั้น</td>\n",
       "      <td>ก่อน สเต็ป นั้น</td>\n",
       "      <td>ก่อนจะเต็จนั้น</td>\n",
       "      <td>ก่อน จะ เต็ม นั้น</td>\n",
       "      <td>ก่อนจะเต็มนั้น</td>\n",
       "    </tr>\n",
       "    <tr>\n",
       "      <th>2500</th>\n",
       "      <td>ถ้าจะแบนมันต้องชัดว่าคำพูดจะนำไปสู่เหตุการณ์พว...</td>\n",
       "      <td>ถ้า จะ แบน มัน ต้อง ชัด ว่า คำพูด จะ นำไปสู่ เ...</td>\n",
       "      <td>ถ้า จะ แบน มัน ต้อง ชัด ว่า คำพูด จะ นำไปสู่ เ...</td>\n",
       "      <td>ถ้าจะแบนมันต้องชัดว่าคำพูดจะนำไปสู่เหตุการณ์พว...</td>\n",
       "      <td>ถ้า จะ แบน มัน ต้อง ชัด ว่า คำพูด จะ นำไปสู่ เ...</td>\n",
       "      <td>ถ้าจะแบนมันต้องชัดว่าคำพูดจะนำไปสู่เหตุการณ์พว...</td>\n",
       "    </tr>\n",
       "    <tr>\n",
       "      <th>2501</th>\n",
       "      <td>เขาก็เปิดดังเท่ากันน่ะ</td>\n",
       "      <td>เขา ก็ เปิด ดัง เท่ากัน น่ะ</td>\n",
       "      <td>เขา ก็ เปิด ดัง เท่ากัน น่ะ</td>\n",
       "      <td>เขาก็เปิดดังเท่ากันน่ะ</td>\n",
       "      <td>เขา ก็ เปิด ดัง เท่า กัน น่ะ</td>\n",
       "      <td>เขาก็เปิดดังเท่ากันน่ะ</td>\n",
       "    </tr>\n",
       "  </tbody>\n",
       "</table>\n",
       "<p>2502 rows × 6 columns</p>\n",
       "</div>"
      ],
      "text/plain": [
       "                                               sentence  \\\n",
       "0                                   และเขาก็สัมผัสดีบุก   \n",
       "1            คุณสามารถรับทราบเมื่อข้อความนี้ถูกอ่านแล้ว   \n",
       "2     คืนนี้ฉันต้องทำให้ได้เธอพูดกับตัวเองฉันต้องทำใ...   \n",
       "3     การทำเช่นนี้จะทำให้แผ่นถ่ายภาพเกิดแสงฟลูออเรสเ...   \n",
       "4     ผู้ปกครองของฉันไม่สนใจความเห็นนี้อย่างละเอียดอ...   \n",
       "...                                                 ...   \n",
       "2497   ใครสนใจไปเรียนได้ฟรีวันละชั่วโมงสัปดาห์เดียวก็จบ   \n",
       "2498                   หรือในกรณีตั้งครรภ์เมื่ออายุเกิน   \n",
       "2499                                      ก่อนสเต็ปนั้น   \n",
       "2500  ถ้าจะแบนมันต้องชัดว่าคำพูดจะนำไปสู่เหตุการณ์พว...   \n",
       "2501                             เขาก็เปิดดังเท่ากันน่ะ   \n",
       "\n",
       "                                      pred_sentence_tok  \\\n",
       "0                               และ เขา ก็ สัมผัส ดีบุก   \n",
       "1     คุณ สามารถ รับทราบ เมื่อ ป้อ ความ นี้ ถูก อ่าน...   \n",
       "2     คืนนี้ ฉัน ต้อง ทำ ให้ได้ เธอ พูด กับ ตัวเอง ฉ...   \n",
       "3     การ ทำ เช่นนี้ จะ ทำให้ แผ่น ถ่ายภาพ เกิด แสง ...   \n",
       "4     ผู้ปกครอง ของ ฉัน ไม่ สนใจ ความเห็น นี้ อย่าง ...   \n",
       "...                                                 ...   \n",
       "2497  ใคร สนใจ ไป เลียน ได้ ฟรี วัน ละ ชั่วโมง สัปดา...   \n",
       "2498             หรือ ใน กรณี ตั้งครรภ์ เมื่อ อายุ เกิน   \n",
       "2499                                  ก่อน จะ เต็จ นั้น   \n",
       "2500  ถ้า จะ แบน มัน ต้อง ชัด ว่า คำพูด จะ นำไปสู่ เ...   \n",
       "2501                        เขา ก็ เปิด ดัง เท่ากัน น่ะ   \n",
       "\n",
       "                                           sentence_tok  \\\n",
       "0                               และ เขา ก็ สัมผัส ดีบุก   \n",
       "1     คุณ สามารถ รับทราบ เมื่อ ข้อความ นี้ ถูก อ่าน ...   \n",
       "2     คืนนี้ ฉัน ต้อง ทำ ให้ได้ เธอ พูด กับ ตัวเอง ฉ...   \n",
       "3     การ ทำ เช่นนี้ จะ ทำให้ แผ่น ถ่ายภาพ เกิด แสง ...   \n",
       "4     ผู้ปกครอง ของ ฉัน ไม่ สนใจ ความเห็น นี้ อย่าง ...   \n",
       "...                                                 ...   \n",
       "2497  ใคร สนใจ ไป เรียน ได้ ฟรี วัน ละ ชั่วโมง สัปดา...   \n",
       "2498             หรือ ใน กรณี ตั้งครรภ์ เมื่อ อายุ เกิน   \n",
       "2499                                    ก่อน สเต็ป นั้น   \n",
       "2500  ถ้า จะ แบน มัน ต้อง ชัด ว่า คำพูด จะ นำไปสู่ เ...   \n",
       "2501                        เขา ก็ เปิด ดัง เท่ากัน น่ะ   \n",
       "\n",
       "                                          pred_sentence  \\\n",
       "0                                   และเขาก็สัมผัสดีบุก   \n",
       "1            คุณสามารถรับทราบเมื่อป้อความนี้ถูกอ่านแล้ว   \n",
       "2     คืนนี้ฉันต้องทำให้ได้เธอพูดกับตัวเองฉันต้องทำใ...   \n",
       "3     การทำเช่นนี้จะทำให้แผ่นถ่ายภาพเกิดแสงปัวอเรสเซนซ์   \n",
       "4     ผู้ปกครองของฉันไม่สนใจความเห็นนี้อย่างละเอียดอ...   \n",
       "...                                                 ...   \n",
       "2497   ใครสนใจไปเลียนได้ฟรีวันละชั่วโมงสัปดาห์เดียวก็จบ   \n",
       "2498                   หรือในกรณีตั้งครรภ์เมื่ออายุเกิน   \n",
       "2499                                     ก่อนจะเต็จนั้น   \n",
       "2500  ถ้าจะแบนมันต้องชัดว่าคำพูดจะนำไปสู่เหตุการณ์พว...   \n",
       "2501                             เขาก็เปิดดังเท่ากันน่ะ   \n",
       "\n",
       "                            pred_sentence_tok_corrected  \\\n",
       "0                               และ เขา ก็ สัมผัส ดีบุก   \n",
       "1     คุณ สามารถ รับทราบ เมื่อ ข้อความ นี้ ถูก อ่าน ...   \n",
       "2     วันนี้ ฉัน ต้อง ทำให้ได้ เธอ พูด กับ ตัวเอง ฉั...   \n",
       "3     การ ทำ เช่นนี้ จะ ทำให้ แผ่น ถ่ายภาพ เกิด แสง ...   \n",
       "4     ผู้ปกครอง ของ ฉัน ไม่ สนใจ ความเร็ว นี้ อย่าง ...   \n",
       "...                                                 ...   \n",
       "2497  ใคร สนใจ ไป เลียน ได้ ฟรี วัน ละ ชั่วโมง สัปดา...   \n",
       "2498             หรือ ใน กรณี ตั้งครรภ์ เมื่อ อายุ เกิน   \n",
       "2499                                  ก่อน จะ เต็ม นั้น   \n",
       "2500  ถ้า จะ แบน มัน ต้อง ชัด ว่า คำพูด จะ นำไปสู่ เ...   \n",
       "2501                       เขา ก็ เปิด ดัง เท่า กัน น่ะ   \n",
       "\n",
       "                                pred_sentence_corrected  \n",
       "0                                   และเขาก็สัมผัสดีบุก  \n",
       "1            คุณสามารถรับทราบเมื่อข้อความนี้ถูกอ่านแล้ว  \n",
       "2     วันนี้ฉันต้องทำให้ได้เธอพูดกับตัวเองฉันต้องทำใ...  \n",
       "3     การทำเช่นนี้จะทำให้แผ่นถ่ายภาพเกิดแสงปัวขอเรสเ...  \n",
       "4     ผู้ปกครองของฉันไม่สนใจความเร็วนี้อย่างละเอียดอ...  \n",
       "...                                                 ...  \n",
       "2497   ใครสนใจไปเลียนได้ฟรีวันละชั่วโมงสัปดาห์เดียวก็จบ  \n",
       "2498                   หรือในกรณีตั้งครรภ์เมื่ออายุเกิน  \n",
       "2499                                     ก่อนจะเต็มนั้น  \n",
       "2500  ถ้าจะแบนมันต้องชัดว่าคำพูดจะนำไปสู่เหตุการณ์พว...  \n",
       "2501                             เขาก็เปิดดังเท่ากันน่ะ  \n",
       "\n",
       "[2502 rows x 6 columns]"
      ]
     },
     "execution_count": 25,
     "metadata": {},
     "output_type": "execute_result"
    }
   ],
   "source": [
    "result_df = pd.read_csv('artifacts/result_cv70.csv')\n",
    "result_df"
   ]
  },
  {
   "cell_type": "code",
   "execution_count": 26,
   "metadata": {},
   "outputs": [
    {
     "data": {
      "text/plain": [
       "0.13634023935143483"
      ]
     },
     "execution_count": 26,
     "metadata": {},
     "output_type": "execute_result"
    }
   ],
   "source": [
    "#wer\n",
    "wer_metric.compute(predictions=result_df.pred_sentence_tok,references=result_df.sentence_tok)"
   ]
  },
  {
   "cell_type": "code",
   "execution_count": 27,
   "metadata": {},
   "outputs": [
    {
     "data": {
      "text/plain": [
       "0.028130193905817176"
      ]
     },
     "execution_count": 27,
     "metadata": {},
     "output_type": "execute_result"
    }
   ],
   "source": [
    "#cer\n",
    "cer_metric.compute(predictions=result_df.pred_sentence,references=result_df.sentence)"
   ]
  },
  {
   "cell_type": "markdown",
   "metadata": {},
   "source": [
    "We can further improve by spell correction using n-grams from [TNC](http://www.arts.chula.ac.th/ling/tnc/)."
   ]
  },
  {
   "cell_type": "code",
   "execution_count": 29,
   "metadata": {},
   "outputs": [],
   "source": [
    "# #install pre version of pythainlp to use; will be available in PyThaiNLP 3.0\n",
    "# %pip uninstall pythainlp --yes\n",
    "# %pip install --ignore-requires-python  https://github.com/PyThaiNLP/pythainlp/archive/dev.zip\n",
    "# %pip install symspellpy"
   ]
  },
  {
   "cell_type": "code",
   "execution_count": null,
   "metadata": {},
   "outputs": [],
   "source": [
    "from pythainlp.spell import spell_sent\n",
    "\n",
    "result_df['pred_sentence_tok_corrected'] = result_df['pred_sentence_tok']\\\n",
    "    .map(lambda x: ' '.join(spell_sent(x.split(), engine='sympellpy')[0]))\n",
    "result_df['pred_sentence_corrected'] = result_df['pred_sentence_tok_corrected']\\\n",
    "    .map(lambda x: ''.join(x.split()))\n",
    "result_df['pred_sentence_tok_corrected'] = result_df.pred_sentence_corrected.map(lambda x: ' '.join(word_tokenize(x)))\n",
    "\n",
    "result_df"
   ]
  },
  {
   "cell_type": "code",
   "execution_count": 29,
   "metadata": {},
   "outputs": [
    {
     "data": {
      "text/plain": [
       "0.1799639686012096"
      ]
     },
     "execution_count": 29,
     "metadata": {},
     "output_type": "execute_result"
    }
   ],
   "source": [
    "#wer\n",
    "wer_metric.compute(predictions=result_df.pred_sentence_tok_corrected,references=result_df.sentence_tok)"
   ]
  },
  {
   "cell_type": "code",
   "execution_count": 30,
   "metadata": {},
   "outputs": [
    {
     "data": {
      "text/plain": [
       "0.05225761772853186"
      ]
     },
     "execution_count": 30,
     "metadata": {},
     "output_type": "execute_result"
    }
   ],
   "source": [
    "#cer\n",
    "cer_metric.compute(predictions=result_df.pred_sentence_corrected,references=result_df.sentence)"
   ]
  },
  {
   "cell_type": "code",
   "execution_count": 48,
   "metadata": {},
   "outputs": [
    {
     "data": {
      "text/html": [
       "<div>\n",
       "<style scoped>\n",
       "    .dataframe tbody tr th:only-of-type {\n",
       "        vertical-align: middle;\n",
       "    }\n",
       "\n",
       "    .dataframe tbody tr th {\n",
       "        vertical-align: top;\n",
       "    }\n",
       "\n",
       "    .dataframe thead th {\n",
       "        text-align: right;\n",
       "    }\n",
       "</style>\n",
       "<table border=\"1\" class=\"dataframe\">\n",
       "  <thead>\n",
       "    <tr style=\"text-align: right;\">\n",
       "      <th></th>\n",
       "      <th>sentence</th>\n",
       "      <th>pred_sentence_tok</th>\n",
       "      <th>sentence_tok</th>\n",
       "      <th>pred_sentence</th>\n",
       "      <th>pred_sentence_tok_corrected</th>\n",
       "      <th>pred_sentence_corrected</th>\n",
       "    </tr>\n",
       "  </thead>\n",
       "  <tbody>\n",
       "    <tr>\n",
       "      <th>0</th>\n",
       "      <td>และเขาก็สัมผัสดีบุก</td>\n",
       "      <td>และ เขา ก็ สัมผัส ดีบุก</td>\n",
       "      <td>และ เขา ก็ สัมผัส ดีบุก</td>\n",
       "      <td>และเขาก็สัมผัสดีบุก</td>\n",
       "      <td>และ เขา ก็ สัมผัส ดีบุก</td>\n",
       "      <td>และเขาก็สัมผัสดีบุก</td>\n",
       "    </tr>\n",
       "    <tr>\n",
       "      <th>1</th>\n",
       "      <td>คุณสามารถรับทราบเมื่อข้อความนี้ถูกอ่านแล้ว</td>\n",
       "      <td>คุณ สามารถ รับทราบ เมื่อ ป้อความ นี้ ถูก อ่าน ...</td>\n",
       "      <td>คุณ สามารถ รับทราบ เมื่อ ข้อความ นี้ ถูก อ่าน ...</td>\n",
       "      <td>คุณสามารถรับทราบเมื่อป้อความนี้ถูกอ่านแล้ว</td>\n",
       "      <td>คุณ สามารถ รับทราบ เมื่อ ข้อความ นี้ ถูก อ่าน ...</td>\n",
       "      <td>คุณสามารถรับทราบเมื่อข้อความนี้ถูกอ่านแล้ว</td>\n",
       "    </tr>\n",
       "    <tr>\n",
       "      <th>2</th>\n",
       "      <td>คืนนี้ฉันต้องทำให้ได้ เธอพูดกับตัวเอง ฉันต้องท...</td>\n",
       "      <td>คืนนี้ ฉัน ต้อง ทำให้ได้   เธอ พูด กับ ตัวเอง ...</td>\n",
       "      <td>คืนนี้ ฉัน ต้อง ทำ ให้ได้   เธอ พูด กับ ตัวเอง...</td>\n",
       "      <td>คืนนี้ฉันต้องทำให้ได้เธอพูดกับตัวเองฉันต้องทำใ...</td>\n",
       "      <td>วันนี้ ฉัน ต้อง ทำให้ได้ เธอ พูด กับ ตัวเอง ฉั...</td>\n",
       "      <td>วันนี้ฉันต้องทำให้ได้เธอพูดกับตัวเองฉันต้องทำใ...</td>\n",
       "    </tr>\n",
       "    <tr>\n",
       "      <th>3</th>\n",
       "      <td>การทำเช่นนี้จะทำให้แผ่นถ่ายภาพเกิดแสงฟลูออเรสเ...</td>\n",
       "      <td>การ ทำ เช่นนี้ จะ ทำให้ แผ่น ถ่ายภาพ เกิด แสง ...</td>\n",
       "      <td>การ ทำ เช่นนี้ จะ ทำให้ แผ่น ถ่ายภาพ เกิด แสง ...</td>\n",
       "      <td>การทำเช่นนี้จะทำให้แผ่นถ่ายภาพเกิดแสงปัวอเรสเซนซ์</td>\n",
       "      <td>การ ทำ เช่นนี้ จะ ทำให้ แผ่น ถ่ายภาพ เกิด แสง ...</td>\n",
       "      <td>การทำเช่นนี้จะทำให้แผ่นถ่ายภาพเกิดแสงปัวขอเรสเ...</td>\n",
       "    </tr>\n",
       "    <tr>\n",
       "      <th>4</th>\n",
       "      <td>ผู้ปกครองของฉันไม่สนใจความเห็นนี้อย่างละเอียดอ...</td>\n",
       "      <td>ผู้ปกครอง ของ ฉัน ไม่ สนใจ ความเห็น นี้ อย่าง ...</td>\n",
       "      <td>ผู้ปกครอง ของ ฉัน ไม่ สนใจ ความเห็น นี้ อย่าง ...</td>\n",
       "      <td>ผู้ปกครองของฉันไม่สนใจความเห็นนี้อย่างละเอียดอ...</td>\n",
       "      <td>ผู้ปกครอง ของ ฉัน ไม่ สนใจ ความเร็ว นี้ อย่าง ...</td>\n",
       "      <td>ผู้ปกครองของฉันไม่สนใจความเร็วนี้อย่างละเอียดอ...</td>\n",
       "    </tr>\n",
       "    <tr>\n",
       "      <th>...</th>\n",
       "      <td>...</td>\n",
       "      <td>...</td>\n",
       "      <td>...</td>\n",
       "      <td>...</td>\n",
       "      <td>...</td>\n",
       "      <td>...</td>\n",
       "    </tr>\n",
       "    <tr>\n",
       "      <th>2497</th>\n",
       "      <td>ใครสนใจไปเรียนได้ ฟรี วันละชั่วโมง สัปดาห์เดีย...</td>\n",
       "      <td>ใคร สนใจ ไป เลียน ได้   ฟรี   วัน ละ ชั่วโมง  ...</td>\n",
       "      <td>ใคร สนใจ ไป เรียน ได้   ฟรี   วัน ละ ชั่วโมง  ...</td>\n",
       "      <td>ใครสนใจไปเลียนได้ฟรีวันละชั่วโมงสัปดาห์เดียวก็จบ</td>\n",
       "      <td>ใคร สนใจ ไป เลียน ได้ ฟรี วัน ละ ชั่วโมง สัปดา...</td>\n",
       "      <td>ใครสนใจไปเลียนได้ฟรีวันละชั่วโมงสัปดาห์เดียวก็จบ</td>\n",
       "    </tr>\n",
       "    <tr>\n",
       "      <th>2498</th>\n",
       "      <td>หรือในกรณีตั้งครรภ์เมื่ออายุเกิน</td>\n",
       "      <td>หรือ ใน กรณี ตั้งครรภ์ เมื่อ อายุ เกิน</td>\n",
       "      <td>หรือ ใน กรณี ตั้งครรภ์ เมื่อ อายุ เกิน</td>\n",
       "      <td>หรือในกรณีตั้งครรภ์เมื่ออายุเกิน</td>\n",
       "      <td>หรือ ใน กรณี ตั้งครรภ์ เมื่อ อายุ เกิน</td>\n",
       "      <td>หรือในกรณีตั้งครรภ์เมื่ออายุเกิน</td>\n",
       "    </tr>\n",
       "    <tr>\n",
       "      <th>2499</th>\n",
       "      <td>ก่อนสเต็ปนั้น</td>\n",
       "      <td>ก่อน จะ เต็จ นั้น</td>\n",
       "      <td>ก่อน สเต็ป นั้น</td>\n",
       "      <td>ก่อนจะเต็จนั้น</td>\n",
       "      <td>ก่อน จะ เต็ม นั้น</td>\n",
       "      <td>ก่อนจะเต็มนั้น</td>\n",
       "    </tr>\n",
       "    <tr>\n",
       "      <th>2500</th>\n",
       "      <td>ถ้าจะแบน มันต้องชัดว่าคำพูดจะนำไปสู่เหตุการณ์พ...</td>\n",
       "      <td>ถ้า จะ แบน มัน ต้อง ชัด ว่า คำพูด จะ นำไปสู่ เ...</td>\n",
       "      <td>ถ้า จะ แบน   มัน ต้อง ชัด ว่า คำพูด จะ นำไปสู่...</td>\n",
       "      <td>ถ้าจะแบนมันต้องชัดว่าคำพูดจะนำไปสู่เหตุการณ์พว...</td>\n",
       "      <td>ถ้า จะ แบน มัน ต้อง ชัด ว่า คำพูด จะ นำไปสู่ เ...</td>\n",
       "      <td>ถ้าจะแบนมันต้องชัดว่าคำพูดจะนำไปสู่เหตุการณ์พว...</td>\n",
       "    </tr>\n",
       "    <tr>\n",
       "      <th>2501</th>\n",
       "      <td>เขาก็เปิดดังเท่ากันน่ะ</td>\n",
       "      <td>เขา ก็ เปิด ดัง เท่า กัน น่ะ</td>\n",
       "      <td>เขา ก็ เปิด ดัง เท่ากัน น่ะ</td>\n",
       "      <td>เขาก็เปิดดังเท่ากันน่ะ</td>\n",
       "      <td>เขา ก็ เปิด ดัง เท่า กัน น่ะ</td>\n",
       "      <td>เขาก็เปิดดังเท่ากันน่ะ</td>\n",
       "    </tr>\n",
       "  </tbody>\n",
       "</table>\n",
       "<p>2502 rows × 6 columns</p>\n",
       "</div>"
      ],
      "text/plain": [
       "                                               sentence  \\\n",
       "0                                   และเขาก็สัมผัสดีบุก   \n",
       "1            คุณสามารถรับทราบเมื่อข้อความนี้ถูกอ่านแล้ว   \n",
       "2     คืนนี้ฉันต้องทำให้ได้ เธอพูดกับตัวเอง ฉันต้องท...   \n",
       "3     การทำเช่นนี้จะทำให้แผ่นถ่ายภาพเกิดแสงฟลูออเรสเ...   \n",
       "4     ผู้ปกครองของฉันไม่สนใจความเห็นนี้อย่างละเอียดอ...   \n",
       "...                                                 ...   \n",
       "2497  ใครสนใจไปเรียนได้ ฟรี วันละชั่วโมง สัปดาห์เดีย...   \n",
       "2498                   หรือในกรณีตั้งครรภ์เมื่ออายุเกิน   \n",
       "2499                                      ก่อนสเต็ปนั้น   \n",
       "2500  ถ้าจะแบน มันต้องชัดว่าคำพูดจะนำไปสู่เหตุการณ์พ...   \n",
       "2501                             เขาก็เปิดดังเท่ากันน่ะ   \n",
       "\n",
       "                                      pred_sentence_tok  \\\n",
       "0                               และ เขา ก็ สัมผัส ดีบุก   \n",
       "1     คุณ สามารถ รับทราบ เมื่อ ป้อความ นี้ ถูก อ่าน ...   \n",
       "2     คืนนี้ ฉัน ต้อง ทำให้ได้   เธอ พูด กับ ตัวเอง ...   \n",
       "3     การ ทำ เช่นนี้ จะ ทำให้ แผ่น ถ่ายภาพ เกิด แสง ...   \n",
       "4     ผู้ปกครอง ของ ฉัน ไม่ สนใจ ความเห็น นี้ อย่าง ...   \n",
       "...                                                 ...   \n",
       "2497  ใคร สนใจ ไป เลียน ได้   ฟรี   วัน ละ ชั่วโมง  ...   \n",
       "2498             หรือ ใน กรณี ตั้งครรภ์ เมื่อ อายุ เกิน   \n",
       "2499                                  ก่อน จะ เต็จ นั้น   \n",
       "2500  ถ้า จะ แบน มัน ต้อง ชัด ว่า คำพูด จะ นำไปสู่ เ...   \n",
       "2501                       เขา ก็ เปิด ดัง เท่า กัน น่ะ   \n",
       "\n",
       "                                           sentence_tok  \\\n",
       "0                               และ เขา ก็ สัมผัส ดีบุก   \n",
       "1     คุณ สามารถ รับทราบ เมื่อ ข้อความ นี้ ถูก อ่าน ...   \n",
       "2     คืนนี้ ฉัน ต้อง ทำ ให้ได้   เธอ พูด กับ ตัวเอง...   \n",
       "3     การ ทำ เช่นนี้ จะ ทำให้ แผ่น ถ่ายภาพ เกิด แสง ...   \n",
       "4     ผู้ปกครอง ของ ฉัน ไม่ สนใจ ความเห็น นี้ อย่าง ...   \n",
       "...                                                 ...   \n",
       "2497  ใคร สนใจ ไป เรียน ได้   ฟรี   วัน ละ ชั่วโมง  ...   \n",
       "2498             หรือ ใน กรณี ตั้งครรภ์ เมื่อ อายุ เกิน   \n",
       "2499                                    ก่อน สเต็ป นั้น   \n",
       "2500  ถ้า จะ แบน   มัน ต้อง ชัด ว่า คำพูด จะ นำไปสู่...   \n",
       "2501                        เขา ก็ เปิด ดัง เท่ากัน น่ะ   \n",
       "\n",
       "                                          pred_sentence  \\\n",
       "0                                   และเขาก็สัมผัสดีบุก   \n",
       "1            คุณสามารถรับทราบเมื่อป้อความนี้ถูกอ่านแล้ว   \n",
       "2     คืนนี้ฉันต้องทำให้ได้เธอพูดกับตัวเองฉันต้องทำใ...   \n",
       "3     การทำเช่นนี้จะทำให้แผ่นถ่ายภาพเกิดแสงปัวอเรสเซนซ์   \n",
       "4     ผู้ปกครองของฉันไม่สนใจความเห็นนี้อย่างละเอียดอ...   \n",
       "...                                                 ...   \n",
       "2497   ใครสนใจไปเลียนได้ฟรีวันละชั่วโมงสัปดาห์เดียวก็จบ   \n",
       "2498                   หรือในกรณีตั้งครรภ์เมื่ออายุเกิน   \n",
       "2499                                     ก่อนจะเต็จนั้น   \n",
       "2500  ถ้าจะแบนมันต้องชัดว่าคำพูดจะนำไปสู่เหตุการณ์พว...   \n",
       "2501                             เขาก็เปิดดังเท่ากันน่ะ   \n",
       "\n",
       "                            pred_sentence_tok_corrected  \\\n",
       "0                               และ เขา ก็ สัมผัส ดีบุก   \n",
       "1     คุณ สามารถ รับทราบ เมื่อ ข้อความ นี้ ถูก อ่าน ...   \n",
       "2     วันนี้ ฉัน ต้อง ทำให้ได้ เธอ พูด กับ ตัวเอง ฉั...   \n",
       "3     การ ทำ เช่นนี้ จะ ทำให้ แผ่น ถ่ายภาพ เกิด แสง ...   \n",
       "4     ผู้ปกครอง ของ ฉัน ไม่ สนใจ ความเร็ว นี้ อย่าง ...   \n",
       "...                                                 ...   \n",
       "2497  ใคร สนใจ ไป เลียน ได้ ฟรี วัน ละ ชั่วโมง สัปดา...   \n",
       "2498             หรือ ใน กรณี ตั้งครรภ์ เมื่อ อายุ เกิน   \n",
       "2499                                  ก่อน จะ เต็ม นั้น   \n",
       "2500  ถ้า จะ แบน มัน ต้อง ชัด ว่า คำพูด จะ นำไปสู่ เ...   \n",
       "2501                       เขา ก็ เปิด ดัง เท่า กัน น่ะ   \n",
       "\n",
       "                                pred_sentence_corrected  \n",
       "0                                   และเขาก็สัมผัสดีบุก  \n",
       "1            คุณสามารถรับทราบเมื่อข้อความนี้ถูกอ่านแล้ว  \n",
       "2     วันนี้ฉันต้องทำให้ได้เธอพูดกับตัวเองฉันต้องทำใ...  \n",
       "3     การทำเช่นนี้จะทำให้แผ่นถ่ายภาพเกิดแสงปัวขอเรสเ...  \n",
       "4     ผู้ปกครองของฉันไม่สนใจความเร็วนี้อย่างละเอียดอ...  \n",
       "...                                                 ...  \n",
       "2497   ใครสนใจไปเลียนได้ฟรีวันละชั่วโมงสัปดาห์เดียวก็จบ  \n",
       "2498                   หรือในกรณีตั้งครรภ์เมื่ออายุเกิน  \n",
       "2499                                     ก่อนจะเต็มนั้น  \n",
       "2500  ถ้าจะแบนมันต้องชัดว่าคำพูดจะนำไปสู่เหตุการณ์พว...  \n",
       "2501                             เขาก็เปิดดังเท่ากันน่ะ  \n",
       "\n",
       "[2502 rows x 6 columns]"
      ]
     },
     "execution_count": 48,
     "metadata": {},
     "output_type": "execute_result"
    }
   ],
   "source": [
    "result_df"
   ]
  },
  {
   "cell_type": "code",
   "execution_count": null,
   "metadata": {},
   "outputs": [],
   "source": []
  }
 ],
 "metadata": {
  "instance_type": "ml.g4dn.xlarge",
  "kernelspec": {
   "display_name": "conda_amazonei_pytorch_latest_p36",
   "language": "python",
   "name": "conda_amazonei_pytorch_latest_p36"
  },
  "language_info": {
   "codemirror_mode": {
    "name": "ipython",
    "version": 3
   },
   "file_extension": ".py",
   "mimetype": "text/x-python",
   "name": "python",
   "nbconvert_exporter": "python",
   "pygments_lexer": "ipython3",
   "version": "3.6.13"
  }
 },
 "nbformat": 4,
 "nbformat_minor": 4
}
